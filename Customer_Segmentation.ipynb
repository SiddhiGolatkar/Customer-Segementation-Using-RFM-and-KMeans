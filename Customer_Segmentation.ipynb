{
  "nbformat": 4,
  "nbformat_minor": 0,
  "metadata": {
    "colab": {
      "provenance": []
    },
    "kernelspec": {
      "name": "python3",
      "display_name": "Python 3"
    },
    "language_info": {
      "name": "python"
    }
  },
  "cells": [
    {
      "cell_type": "code",
      "source": [
        "# http://archive.ics.uci.edu/dataset/352/online+retail"
      ],
      "metadata": {
        "id": "aYzChgu1JPdb"
      },
      "execution_count": 1,
      "outputs": []
    },
    {
      "cell_type": "code",
      "execution_count": 2,
      "metadata": {
        "id": "hzdc_Rf5D7sj"
      },
      "outputs": [],
      "source": [
        "import numpy as np\n",
        "import pandas as pd\n",
        "import matplotlib.pyplot as plt"
      ]
    },
    {
      "cell_type": "code",
      "source": [
        "data = pd.read_csv(\"/content/drive/MyDrive/Kalpataru Group/Customer Segmentation/Online Retail.csv\",\n",
        "                     encoding ='unicode_escape', parse_dates = True)\n",
        "data.head()"
      ],
      "metadata": {
        "colab": {
          "base_uri": "https://localhost:8080/",
          "height": 206
        },
        "id": "OLVymM1yJAoH",
        "outputId": "540e3658-7539-4e39-fa94-64642464cc2a"
      },
      "execution_count": 3,
      "outputs": [
        {
          "output_type": "execute_result",
          "data": {
            "text/plain": [
              "  InvoiceNo StockCode                          Description  Quantity  \\\n",
              "0    536365    85123A   WHITE HANGING HEART T-LIGHT HOLDER         6   \n",
              "1    536365     71053                  WHITE METAL LANTERN         6   \n",
              "2    536365    84406B       CREAM CUPID HEARTS COAT HANGER         8   \n",
              "3    536365    84029G  KNITTED UNION FLAG HOT WATER BOTTLE         6   \n",
              "4    536365    84029E       RED WOOLLY HOTTIE WHITE HEART.         6   \n",
              "\n",
              "      InvoiceDate  UnitPrice  CustomerID         Country  \n",
              "0  12/1/2010 8:26       2.55     17850.0  United Kingdom  \n",
              "1  12/1/2010 8:26       3.39     17850.0  United Kingdom  \n",
              "2  12/1/2010 8:26       2.75     17850.0  United Kingdom  \n",
              "3  12/1/2010 8:26       3.39     17850.0  United Kingdom  \n",
              "4  12/1/2010 8:26       3.39     17850.0  United Kingdom  "
            ],
            "text/html": [
              "\n",
              "  <div id=\"df-8e56d60b-47cb-4a3f-802e-354e2d63cac1\">\n",
              "    <div class=\"colab-df-container\">\n",
              "      <div>\n",
              "<style scoped>\n",
              "    .dataframe tbody tr th:only-of-type {\n",
              "        vertical-align: middle;\n",
              "    }\n",
              "\n",
              "    .dataframe tbody tr th {\n",
              "        vertical-align: top;\n",
              "    }\n",
              "\n",
              "    .dataframe thead th {\n",
              "        text-align: right;\n",
              "    }\n",
              "</style>\n",
              "<table border=\"1\" class=\"dataframe\">\n",
              "  <thead>\n",
              "    <tr style=\"text-align: right;\">\n",
              "      <th></th>\n",
              "      <th>InvoiceNo</th>\n",
              "      <th>StockCode</th>\n",
              "      <th>Description</th>\n",
              "      <th>Quantity</th>\n",
              "      <th>InvoiceDate</th>\n",
              "      <th>UnitPrice</th>\n",
              "      <th>CustomerID</th>\n",
              "      <th>Country</th>\n",
              "    </tr>\n",
              "  </thead>\n",
              "  <tbody>\n",
              "    <tr>\n",
              "      <th>0</th>\n",
              "      <td>536365</td>\n",
              "      <td>85123A</td>\n",
              "      <td>WHITE HANGING HEART T-LIGHT HOLDER</td>\n",
              "      <td>6</td>\n",
              "      <td>12/1/2010 8:26</td>\n",
              "      <td>2.55</td>\n",
              "      <td>17850.0</td>\n",
              "      <td>United Kingdom</td>\n",
              "    </tr>\n",
              "    <tr>\n",
              "      <th>1</th>\n",
              "      <td>536365</td>\n",
              "      <td>71053</td>\n",
              "      <td>WHITE METAL LANTERN</td>\n",
              "      <td>6</td>\n",
              "      <td>12/1/2010 8:26</td>\n",
              "      <td>3.39</td>\n",
              "      <td>17850.0</td>\n",
              "      <td>United Kingdom</td>\n",
              "    </tr>\n",
              "    <tr>\n",
              "      <th>2</th>\n",
              "      <td>536365</td>\n",
              "      <td>84406B</td>\n",
              "      <td>CREAM CUPID HEARTS COAT HANGER</td>\n",
              "      <td>8</td>\n",
              "      <td>12/1/2010 8:26</td>\n",
              "      <td>2.75</td>\n",
              "      <td>17850.0</td>\n",
              "      <td>United Kingdom</td>\n",
              "    </tr>\n",
              "    <tr>\n",
              "      <th>3</th>\n",
              "      <td>536365</td>\n",
              "      <td>84029G</td>\n",
              "      <td>KNITTED UNION FLAG HOT WATER BOTTLE</td>\n",
              "      <td>6</td>\n",
              "      <td>12/1/2010 8:26</td>\n",
              "      <td>3.39</td>\n",
              "      <td>17850.0</td>\n",
              "      <td>United Kingdom</td>\n",
              "    </tr>\n",
              "    <tr>\n",
              "      <th>4</th>\n",
              "      <td>536365</td>\n",
              "      <td>84029E</td>\n",
              "      <td>RED WOOLLY HOTTIE WHITE HEART.</td>\n",
              "      <td>6</td>\n",
              "      <td>12/1/2010 8:26</td>\n",
              "      <td>3.39</td>\n",
              "      <td>17850.0</td>\n",
              "      <td>United Kingdom</td>\n",
              "    </tr>\n",
              "  </tbody>\n",
              "</table>\n",
              "</div>\n",
              "      <button class=\"colab-df-convert\" onclick=\"convertToInteractive('df-8e56d60b-47cb-4a3f-802e-354e2d63cac1')\"\n",
              "              title=\"Convert this dataframe to an interactive table.\"\n",
              "              style=\"display:none;\">\n",
              "        \n",
              "  <svg xmlns=\"http://www.w3.org/2000/svg\" height=\"24px\"viewBox=\"0 0 24 24\"\n",
              "       width=\"24px\">\n",
              "    <path d=\"M0 0h24v24H0V0z\" fill=\"none\"/>\n",
              "    <path d=\"M18.56 5.44l.94 2.06.94-2.06 2.06-.94-2.06-.94-.94-2.06-.94 2.06-2.06.94zm-11 1L8.5 8.5l.94-2.06 2.06-.94-2.06-.94L8.5 2.5l-.94 2.06-2.06.94zm10 10l.94 2.06.94-2.06 2.06-.94-2.06-.94-.94-2.06-.94 2.06-2.06.94z\"/><path d=\"M17.41 7.96l-1.37-1.37c-.4-.4-.92-.59-1.43-.59-.52 0-1.04.2-1.43.59L10.3 9.45l-7.72 7.72c-.78.78-.78 2.05 0 2.83L4 21.41c.39.39.9.59 1.41.59.51 0 1.02-.2 1.41-.59l7.78-7.78 2.81-2.81c.8-.78.8-2.07 0-2.86zM5.41 20L4 18.59l7.72-7.72 1.47 1.35L5.41 20z\"/>\n",
              "  </svg>\n",
              "      </button>\n",
              "      \n",
              "  <style>\n",
              "    .colab-df-container {\n",
              "      display:flex;\n",
              "      flex-wrap:wrap;\n",
              "      gap: 12px;\n",
              "    }\n",
              "\n",
              "    .colab-df-convert {\n",
              "      background-color: #E8F0FE;\n",
              "      border: none;\n",
              "      border-radius: 50%;\n",
              "      cursor: pointer;\n",
              "      display: none;\n",
              "      fill: #1967D2;\n",
              "      height: 32px;\n",
              "      padding: 0 0 0 0;\n",
              "      width: 32px;\n",
              "    }\n",
              "\n",
              "    .colab-df-convert:hover {\n",
              "      background-color: #E2EBFA;\n",
              "      box-shadow: 0px 1px 2px rgba(60, 64, 67, 0.3), 0px 1px 3px 1px rgba(60, 64, 67, 0.15);\n",
              "      fill: #174EA6;\n",
              "    }\n",
              "\n",
              "    [theme=dark] .colab-df-convert {\n",
              "      background-color: #3B4455;\n",
              "      fill: #D2E3FC;\n",
              "    }\n",
              "\n",
              "    [theme=dark] .colab-df-convert:hover {\n",
              "      background-color: #434B5C;\n",
              "      box-shadow: 0px 1px 3px 1px rgba(0, 0, 0, 0.15);\n",
              "      filter: drop-shadow(0px 1px 2px rgba(0, 0, 0, 0.3));\n",
              "      fill: #FFFFFF;\n",
              "    }\n",
              "  </style>\n",
              "\n",
              "      <script>\n",
              "        const buttonEl =\n",
              "          document.querySelector('#df-8e56d60b-47cb-4a3f-802e-354e2d63cac1 button.colab-df-convert');\n",
              "        buttonEl.style.display =\n",
              "          google.colab.kernel.accessAllowed ? 'block' : 'none';\n",
              "\n",
              "        async function convertToInteractive(key) {\n",
              "          const element = document.querySelector('#df-8e56d60b-47cb-4a3f-802e-354e2d63cac1');\n",
              "          const dataTable =\n",
              "            await google.colab.kernel.invokeFunction('convertToInteractive',\n",
              "                                                     [key], {});\n",
              "          if (!dataTable) return;\n",
              "\n",
              "          const docLinkHtml = 'Like what you see? Visit the ' +\n",
              "            '<a target=\"_blank\" href=https://colab.research.google.com/notebooks/data_table.ipynb>data table notebook</a>'\n",
              "            + ' to learn more about interactive tables.';\n",
              "          element.innerHTML = '';\n",
              "          dataTable['output_type'] = 'display_data';\n",
              "          await google.colab.output.renderOutput(dataTable, element);\n",
              "          const docLink = document.createElement('div');\n",
              "          docLink.innerHTML = docLinkHtml;\n",
              "          element.appendChild(docLink);\n",
              "        }\n",
              "      </script>\n",
              "    </div>\n",
              "  </div>\n",
              "  "
            ]
          },
          "metadata": {},
          "execution_count": 3
        }
      ]
    },
    {
      "cell_type": "code",
      "source": [
        "# Check the shape\n",
        "data.shape"
      ],
      "metadata": {
        "colab": {
          "base_uri": "https://localhost:8080/"
        },
        "id": "Z699E7SdJAlC",
        "outputId": "ebce2b3a-d0f0-412d-b421-878ca58eb2ea"
      },
      "execution_count": 4,
      "outputs": [
        {
          "output_type": "execute_result",
          "data": {
            "text/plain": [
              "(541909, 8)"
            ]
          },
          "metadata": {},
          "execution_count": 4
        }
      ]
    },
    {
      "cell_type": "code",
      "source": [
        "# Customer distribution by country\n",
        "\n",
        "country_customer_data = data[['Country', 'CustomerID']].drop_duplicates()"
      ],
      "metadata": {
        "id": "7wHSql3-JAgB"
      },
      "execution_count": 5,
      "outputs": []
    },
    {
      "cell_type": "code",
      "source": [
        "country_customer_data.groupby(['Country'])['CustomerID'].aggregate('count').reset_index().sort_values('CustomerID',\n",
        "                                                                                                      ascending = False)"
      ],
      "metadata": {
        "colab": {
          "base_uri": "https://localhost:8080/",
          "height": 1000
        },
        "id": "Lnag4-c8JAb3",
        "outputId": "1c2d9a82-6fab-419e-adde-02502b11d08b"
      },
      "execution_count": 6,
      "outputs": [
        {
          "output_type": "execute_result",
          "data": {
            "text/plain": [
              "                 Country  CustomerID\n",
              "36        United Kingdom        3950\n",
              "14               Germany          95\n",
              "13                France          87\n",
              "31                 Spain          31\n",
              "3                Belgium          25\n",
              "33           Switzerland          21\n",
              "27              Portugal          19\n",
              "19                 Italy          15\n",
              "12               Finland          12\n",
              "1                Austria          11\n",
              "25                Norway          10\n",
              "24           Netherlands           9\n",
              "0              Australia           9\n",
              "6        Channel Islands           9\n",
              "9                Denmark           9\n",
              "7                 Cyprus           8\n",
              "32                Sweden           8\n",
              "20                 Japan           8\n",
              "26                Poland           6\n",
              "34                   USA           4\n",
              "5                 Canada           4\n",
              "37           Unspecified           4\n",
              "18                Israel           4\n",
              "15                Greece           4\n",
              "10                  EIRE           3\n",
              "23                 Malta           2\n",
              "35  United Arab Emirates           2\n",
              "2                Bahrain           2\n",
              "22             Lithuania           1\n",
              "8         Czech Republic           1\n",
              "21               Lebanon           1\n",
              "28                   RSA           1\n",
              "29          Saudi Arabia           1\n",
              "30             Singapore           1\n",
              "17               Iceland           1\n",
              "4                 Brazil           1\n",
              "11    European Community           1\n",
              "16             Hong Kong           0"
            ],
            "text/html": [
              "\n",
              "  <div id=\"df-70f04ab5-e94f-4a69-a7e4-cabe8e1a385d\">\n",
              "    <div class=\"colab-df-container\">\n",
              "      <div>\n",
              "<style scoped>\n",
              "    .dataframe tbody tr th:only-of-type {\n",
              "        vertical-align: middle;\n",
              "    }\n",
              "\n",
              "    .dataframe tbody tr th {\n",
              "        vertical-align: top;\n",
              "    }\n",
              "\n",
              "    .dataframe thead th {\n",
              "        text-align: right;\n",
              "    }\n",
              "</style>\n",
              "<table border=\"1\" class=\"dataframe\">\n",
              "  <thead>\n",
              "    <tr style=\"text-align: right;\">\n",
              "      <th></th>\n",
              "      <th>Country</th>\n",
              "      <th>CustomerID</th>\n",
              "    </tr>\n",
              "  </thead>\n",
              "  <tbody>\n",
              "    <tr>\n",
              "      <th>36</th>\n",
              "      <td>United Kingdom</td>\n",
              "      <td>3950</td>\n",
              "    </tr>\n",
              "    <tr>\n",
              "      <th>14</th>\n",
              "      <td>Germany</td>\n",
              "      <td>95</td>\n",
              "    </tr>\n",
              "    <tr>\n",
              "      <th>13</th>\n",
              "      <td>France</td>\n",
              "      <td>87</td>\n",
              "    </tr>\n",
              "    <tr>\n",
              "      <th>31</th>\n",
              "      <td>Spain</td>\n",
              "      <td>31</td>\n",
              "    </tr>\n",
              "    <tr>\n",
              "      <th>3</th>\n",
              "      <td>Belgium</td>\n",
              "      <td>25</td>\n",
              "    </tr>\n",
              "    <tr>\n",
              "      <th>33</th>\n",
              "      <td>Switzerland</td>\n",
              "      <td>21</td>\n",
              "    </tr>\n",
              "    <tr>\n",
              "      <th>27</th>\n",
              "      <td>Portugal</td>\n",
              "      <td>19</td>\n",
              "    </tr>\n",
              "    <tr>\n",
              "      <th>19</th>\n",
              "      <td>Italy</td>\n",
              "      <td>15</td>\n",
              "    </tr>\n",
              "    <tr>\n",
              "      <th>12</th>\n",
              "      <td>Finland</td>\n",
              "      <td>12</td>\n",
              "    </tr>\n",
              "    <tr>\n",
              "      <th>1</th>\n",
              "      <td>Austria</td>\n",
              "      <td>11</td>\n",
              "    </tr>\n",
              "    <tr>\n",
              "      <th>25</th>\n",
              "      <td>Norway</td>\n",
              "      <td>10</td>\n",
              "    </tr>\n",
              "    <tr>\n",
              "      <th>24</th>\n",
              "      <td>Netherlands</td>\n",
              "      <td>9</td>\n",
              "    </tr>\n",
              "    <tr>\n",
              "      <th>0</th>\n",
              "      <td>Australia</td>\n",
              "      <td>9</td>\n",
              "    </tr>\n",
              "    <tr>\n",
              "      <th>6</th>\n",
              "      <td>Channel Islands</td>\n",
              "      <td>9</td>\n",
              "    </tr>\n",
              "    <tr>\n",
              "      <th>9</th>\n",
              "      <td>Denmark</td>\n",
              "      <td>9</td>\n",
              "    </tr>\n",
              "    <tr>\n",
              "      <th>7</th>\n",
              "      <td>Cyprus</td>\n",
              "      <td>8</td>\n",
              "    </tr>\n",
              "    <tr>\n",
              "      <th>32</th>\n",
              "      <td>Sweden</td>\n",
              "      <td>8</td>\n",
              "    </tr>\n",
              "    <tr>\n",
              "      <th>20</th>\n",
              "      <td>Japan</td>\n",
              "      <td>8</td>\n",
              "    </tr>\n",
              "    <tr>\n",
              "      <th>26</th>\n",
              "      <td>Poland</td>\n",
              "      <td>6</td>\n",
              "    </tr>\n",
              "    <tr>\n",
              "      <th>34</th>\n",
              "      <td>USA</td>\n",
              "      <td>4</td>\n",
              "    </tr>\n",
              "    <tr>\n",
              "      <th>5</th>\n",
              "      <td>Canada</td>\n",
              "      <td>4</td>\n",
              "    </tr>\n",
              "    <tr>\n",
              "      <th>37</th>\n",
              "      <td>Unspecified</td>\n",
              "      <td>4</td>\n",
              "    </tr>\n",
              "    <tr>\n",
              "      <th>18</th>\n",
              "      <td>Israel</td>\n",
              "      <td>4</td>\n",
              "    </tr>\n",
              "    <tr>\n",
              "      <th>15</th>\n",
              "      <td>Greece</td>\n",
              "      <td>4</td>\n",
              "    </tr>\n",
              "    <tr>\n",
              "      <th>10</th>\n",
              "      <td>EIRE</td>\n",
              "      <td>3</td>\n",
              "    </tr>\n",
              "    <tr>\n",
              "      <th>23</th>\n",
              "      <td>Malta</td>\n",
              "      <td>2</td>\n",
              "    </tr>\n",
              "    <tr>\n",
              "      <th>35</th>\n",
              "      <td>United Arab Emirates</td>\n",
              "      <td>2</td>\n",
              "    </tr>\n",
              "    <tr>\n",
              "      <th>2</th>\n",
              "      <td>Bahrain</td>\n",
              "      <td>2</td>\n",
              "    </tr>\n",
              "    <tr>\n",
              "      <th>22</th>\n",
              "      <td>Lithuania</td>\n",
              "      <td>1</td>\n",
              "    </tr>\n",
              "    <tr>\n",
              "      <th>8</th>\n",
              "      <td>Czech Republic</td>\n",
              "      <td>1</td>\n",
              "    </tr>\n",
              "    <tr>\n",
              "      <th>21</th>\n",
              "      <td>Lebanon</td>\n",
              "      <td>1</td>\n",
              "    </tr>\n",
              "    <tr>\n",
              "      <th>28</th>\n",
              "      <td>RSA</td>\n",
              "      <td>1</td>\n",
              "    </tr>\n",
              "    <tr>\n",
              "      <th>29</th>\n",
              "      <td>Saudi Arabia</td>\n",
              "      <td>1</td>\n",
              "    </tr>\n",
              "    <tr>\n",
              "      <th>30</th>\n",
              "      <td>Singapore</td>\n",
              "      <td>1</td>\n",
              "    </tr>\n",
              "    <tr>\n",
              "      <th>17</th>\n",
              "      <td>Iceland</td>\n",
              "      <td>1</td>\n",
              "    </tr>\n",
              "    <tr>\n",
              "      <th>4</th>\n",
              "      <td>Brazil</td>\n",
              "      <td>1</td>\n",
              "    </tr>\n",
              "    <tr>\n",
              "      <th>11</th>\n",
              "      <td>European Community</td>\n",
              "      <td>1</td>\n",
              "    </tr>\n",
              "    <tr>\n",
              "      <th>16</th>\n",
              "      <td>Hong Kong</td>\n",
              "      <td>0</td>\n",
              "    </tr>\n",
              "  </tbody>\n",
              "</table>\n",
              "</div>\n",
              "      <button class=\"colab-df-convert\" onclick=\"convertToInteractive('df-70f04ab5-e94f-4a69-a7e4-cabe8e1a385d')\"\n",
              "              title=\"Convert this dataframe to an interactive table.\"\n",
              "              style=\"display:none;\">\n",
              "        \n",
              "  <svg xmlns=\"http://www.w3.org/2000/svg\" height=\"24px\"viewBox=\"0 0 24 24\"\n",
              "       width=\"24px\">\n",
              "    <path d=\"M0 0h24v24H0V0z\" fill=\"none\"/>\n",
              "    <path d=\"M18.56 5.44l.94 2.06.94-2.06 2.06-.94-2.06-.94-.94-2.06-.94 2.06-2.06.94zm-11 1L8.5 8.5l.94-2.06 2.06-.94-2.06-.94L8.5 2.5l-.94 2.06-2.06.94zm10 10l.94 2.06.94-2.06 2.06-.94-2.06-.94-.94-2.06-.94 2.06-2.06.94z\"/><path d=\"M17.41 7.96l-1.37-1.37c-.4-.4-.92-.59-1.43-.59-.52 0-1.04.2-1.43.59L10.3 9.45l-7.72 7.72c-.78.78-.78 2.05 0 2.83L4 21.41c.39.39.9.59 1.41.59.51 0 1.02-.2 1.41-.59l7.78-7.78 2.81-2.81c.8-.78.8-2.07 0-2.86zM5.41 20L4 18.59l7.72-7.72 1.47 1.35L5.41 20z\"/>\n",
              "  </svg>\n",
              "      </button>\n",
              "      \n",
              "  <style>\n",
              "    .colab-df-container {\n",
              "      display:flex;\n",
              "      flex-wrap:wrap;\n",
              "      gap: 12px;\n",
              "    }\n",
              "\n",
              "    .colab-df-convert {\n",
              "      background-color: #E8F0FE;\n",
              "      border: none;\n",
              "      border-radius: 50%;\n",
              "      cursor: pointer;\n",
              "      display: none;\n",
              "      fill: #1967D2;\n",
              "      height: 32px;\n",
              "      padding: 0 0 0 0;\n",
              "      width: 32px;\n",
              "    }\n",
              "\n",
              "    .colab-df-convert:hover {\n",
              "      background-color: #E2EBFA;\n",
              "      box-shadow: 0px 1px 2px rgba(60, 64, 67, 0.3), 0px 1px 3px 1px rgba(60, 64, 67, 0.15);\n",
              "      fill: #174EA6;\n",
              "    }\n",
              "\n",
              "    [theme=dark] .colab-df-convert {\n",
              "      background-color: #3B4455;\n",
              "      fill: #D2E3FC;\n",
              "    }\n",
              "\n",
              "    [theme=dark] .colab-df-convert:hover {\n",
              "      background-color: #434B5C;\n",
              "      box-shadow: 0px 1px 3px 1px rgba(0, 0, 0, 0.15);\n",
              "      filter: drop-shadow(0px 1px 2px rgba(0, 0, 0, 0.3));\n",
              "      fill: #FFFFFF;\n",
              "    }\n",
              "  </style>\n",
              "\n",
              "      <script>\n",
              "        const buttonEl =\n",
              "          document.querySelector('#df-70f04ab5-e94f-4a69-a7e4-cabe8e1a385d button.colab-df-convert');\n",
              "        buttonEl.style.display =\n",
              "          google.colab.kernel.accessAllowed ? 'block' : 'none';\n",
              "\n",
              "        async function convertToInteractive(key) {\n",
              "          const element = document.querySelector('#df-70f04ab5-e94f-4a69-a7e4-cabe8e1a385d');\n",
              "          const dataTable =\n",
              "            await google.colab.kernel.invokeFunction('convertToInteractive',\n",
              "                                                     [key], {});\n",
              "          if (!dataTable) return;\n",
              "\n",
              "          const docLinkHtml = 'Like what you see? Visit the ' +\n",
              "            '<a target=\"_blank\" href=https://colab.research.google.com/notebooks/data_table.ipynb>data table notebook</a>'\n",
              "            + ' to learn more about interactive tables.';\n",
              "          element.innerHTML = '';\n",
              "          dataTable['output_type'] = 'display_data';\n",
              "          await google.colab.output.renderOutput(dataTable, element);\n",
              "          const docLink = document.createElement('div');\n",
              "          docLink.innerHTML = docLinkHtml;\n",
              "          element.appendChild(docLink);\n",
              "        }\n",
              "      </script>\n",
              "    </div>\n",
              "  </div>\n",
              "  "
            ]
          },
          "metadata": {},
          "execution_count": 6
        }
      ]
    },
    {
      "cell_type": "code",
      "source": [
        "# keeping only UK data\n",
        "data = data.query(\"Country == 'United Kingdom'\").reset_index(drop=True)"
      ],
      "metadata": {
        "id": "TaoUFDhrJAX3"
      },
      "execution_count": 7,
      "outputs": []
    },
    {
      "cell_type": "code",
      "source": [
        "# Check for missing values\n",
        "data.isnull().sum()"
      ],
      "metadata": {
        "colab": {
          "base_uri": "https://localhost:8080/"
        },
        "id": "md5wID2lJAUr",
        "outputId": "812e0a1b-ddca-44e3-edee-d982e7880a26"
      },
      "execution_count": 8,
      "outputs": [
        {
          "output_type": "execute_result",
          "data": {
            "text/plain": [
              "InvoiceNo           0\n",
              "StockCode           0\n",
              "Description      1454\n",
              "Quantity            0\n",
              "InvoiceDate         0\n",
              "UnitPrice           0\n",
              "CustomerID     133600\n",
              "Country             0\n",
              "dtype: int64"
            ]
          },
          "metadata": {},
          "execution_count": 8
        }
      ]
    },
    {
      "cell_type": "code",
      "source": [
        "data.shape"
      ],
      "metadata": {
        "id": "vowhnTdyEvS6",
        "colab": {
          "base_uri": "https://localhost:8080/"
        },
        "outputId": "10492140-74f8-40cb-9dee-ee037ee8c657"
      },
      "execution_count": 9,
      "outputs": [
        {
          "output_type": "execute_result",
          "data": {
            "text/plain": [
              "(495478, 8)"
            ]
          },
          "metadata": {},
          "execution_count": 9
        }
      ]
    },
    {
      "cell_type": "code",
      "source": [
        " # Remove missing values from CustomerID column\n",
        "\n",
        " data = data[pd.notnull(data['CustomerID'])]"
      ],
      "metadata": {
        "id": "ZfzINZuQlObx"
      },
      "execution_count": 10,
      "outputs": []
    },
    {
      "cell_type": "code",
      "source": [
        "495478 - 133600"
      ],
      "metadata": {
        "colab": {
          "base_uri": "https://localhost:8080/"
        },
        "id": "WMO5tgebFbs2",
        "outputId": "79f320b6-8081-4d73-8f82-80f0a77b7ad2"
      },
      "execution_count": 11,
      "outputs": [
        {
          "output_type": "execute_result",
          "data": {
            "text/plain": [
              "361878"
            ]
          },
          "metadata": {},
          "execution_count": 11
        }
      ]
    },
    {
      "cell_type": "code",
      "source": [
        "data.shape"
      ],
      "metadata": {
        "id": "GG_6AVN0ExEJ",
        "colab": {
          "base_uri": "https://localhost:8080/"
        },
        "outputId": "ba0a249a-f558-450c-efc0-b5da0d2a59e6"
      },
      "execution_count": 12,
      "outputs": [
        {
          "output_type": "execute_result",
          "data": {
            "text/plain": [
              "(361878, 8)"
            ]
          },
          "metadata": {},
          "execution_count": 12
        }
      ]
    },
    {
      "cell_type": "code",
      "source": [
        "# validate if there are any negative values in Quantity Column\n",
        "\n",
        "data.Quantity.min()"
      ],
      "metadata": {
        "colab": {
          "base_uri": "https://localhost:8080/"
        },
        "id": "dm44gstAoHa1",
        "outputId": "6c31d767-7cbc-426b-ea9f-910e9cfbb0f9"
      },
      "execution_count": 13,
      "outputs": [
        {
          "output_type": "execute_result",
          "data": {
            "text/plain": [
              "-80995"
            ]
          },
          "metadata": {},
          "execution_count": 13
        }
      ]
    },
    {
      "cell_type": "code",
      "source": [
        "len(data[data.Quantity <= 0])"
      ],
      "metadata": {
        "colab": {
          "base_uri": "https://localhost:8080/"
        },
        "id": "mHTMkXyWJASA",
        "outputId": "f5a83cc5-0b00-490c-d79c-9f073af68f1b"
      },
      "execution_count": 14,
      "outputs": [
        {
          "output_type": "execute_result",
          "data": {
            "text/plain": [
              "7533"
            ]
          },
          "metadata": {},
          "execution_count": 14
        }
      ]
    },
    {
      "cell_type": "code",
      "source": [
        "data.shape"
      ],
      "metadata": {
        "colab": {
          "base_uri": "https://localhost:8080/"
        },
        "id": "0-nECXCHpfl_",
        "outputId": "df058c98-762b-4150-fb82-50022b669936"
      },
      "execution_count": 15,
      "outputs": [
        {
          "output_type": "execute_result",
          "data": {
            "text/plain": [
              "(361878, 8)"
            ]
          },
          "metadata": {},
          "execution_count": 15
        }
      ]
    },
    {
      "cell_type": "code",
      "source": [
        "# filter out records with negative values\n",
        "data = data[data.Quantity > 0]"
      ],
      "metadata": {
        "id": "cZ8OmH2Epjqk"
      },
      "execution_count": 16,
      "outputs": []
    },
    {
      "cell_type": "code",
      "source": [
        "data.shape"
      ],
      "metadata": {
        "colab": {
          "base_uri": "https://localhost:8080/"
        },
        "id": "fhGjEXnBp7d8",
        "outputId": "3d3186dc-29ec-4413-e19d-9b76dad1513a"
      },
      "execution_count": 17,
      "outputs": [
        {
          "output_type": "execute_result",
          "data": {
            "text/plain": [
              "(354345, 8)"
            ]
          },
          "metadata": {},
          "execution_count": 17
        }
      ]
    },
    {
      "cell_type": "code",
      "source": [
        "361878 - 7533"
      ],
      "metadata": {
        "colab": {
          "base_uri": "https://localhost:8080/"
        },
        "id": "v5bl-2Wvp_iO",
        "outputId": "46fba24d-7f48-4124-98cc-4e805525a9e1"
      },
      "execution_count": 18,
      "outputs": [
        {
          "output_type": "execute_result",
          "data": {
            "text/plain": [
              "354345"
            ]
          },
          "metadata": {},
          "execution_count": 18
        }
      ]
    },
    {
      "cell_type": "code",
      "source": [
        "# validate if there are any negative values in UnitPrice Column\n",
        "data.UnitPrice.min()"
      ],
      "metadata": {
        "colab": {
          "base_uri": "https://localhost:8080/"
        },
        "id": "4OHvazAxpFpf",
        "outputId": "6944cc2d-9ab0-4b4a-e46e-a3dcd5874315"
      },
      "execution_count": 19,
      "outputs": [
        {
          "output_type": "execute_result",
          "data": {
            "text/plain": [
              "0.0"
            ]
          },
          "metadata": {},
          "execution_count": 19
        }
      ]
    },
    {
      "cell_type": "code",
      "source": [
        "len(data[data.UnitPrice <= 0])"
      ],
      "metadata": {
        "colab": {
          "base_uri": "https://localhost:8080/"
        },
        "id": "TBKTJ1A3pQoR",
        "outputId": "cede1ca4-d13a-4dd2-d00c-be9c4b598ac9"
      },
      "execution_count": 20,
      "outputs": [
        {
          "output_type": "execute_result",
          "data": {
            "text/plain": [
              "24"
            ]
          },
          "metadata": {},
          "execution_count": 20
        }
      ]
    },
    {
      "cell_type": "code",
      "source": [
        "data.info()"
      ],
      "metadata": {
        "colab": {
          "base_uri": "https://localhost:8080/"
        },
        "id": "-KZIooCDJAM9",
        "outputId": "e70afeea-17b0-4351-9abc-0ceb8e7b8c8b"
      },
      "execution_count": 21,
      "outputs": [
        {
          "output_type": "stream",
          "name": "stdout",
          "text": [
            "<class 'pandas.core.frame.DataFrame'>\n",
            "Int64Index: 354345 entries, 0 to 495477\n",
            "Data columns (total 8 columns):\n",
            " #   Column       Non-Null Count   Dtype  \n",
            "---  ------       --------------   -----  \n",
            " 0   InvoiceNo    354345 non-null  object \n",
            " 1   StockCode    354345 non-null  object \n",
            " 2   Description  354345 non-null  object \n",
            " 3   Quantity     354345 non-null  int64  \n",
            " 4   InvoiceDate  354345 non-null  object \n",
            " 5   UnitPrice    354345 non-null  float64\n",
            " 6   CustomerID   354345 non-null  float64\n",
            " 7   Country      354345 non-null  object \n",
            "dtypes: float64(2), int64(1), object(5)\n",
            "memory usage: 24.3+ MB\n"
          ]
        }
      ]
    },
    {
      "cell_type": "code",
      "source": [
        "# convert the string date field to datetime\n",
        "data['InvoiceDate'] = pd.to_datetime(data['InvoiceDate'])"
      ],
      "metadata": {
        "id": "HIl1WNe1o_vf"
      },
      "execution_count": 22,
      "outputs": []
    },
    {
      "cell_type": "code",
      "source": [
        "data.info()"
      ],
      "metadata": {
        "id": "pBltoukro_s-",
        "colab": {
          "base_uri": "https://localhost:8080/"
        },
        "outputId": "566130f2-8c00-4edb-f174-9ed677f764a1"
      },
      "execution_count": 23,
      "outputs": [
        {
          "output_type": "stream",
          "name": "stdout",
          "text": [
            "<class 'pandas.core.frame.DataFrame'>\n",
            "Int64Index: 354345 entries, 0 to 495477\n",
            "Data columns (total 8 columns):\n",
            " #   Column       Non-Null Count   Dtype         \n",
            "---  ------       --------------   -----         \n",
            " 0   InvoiceNo    354345 non-null  object        \n",
            " 1   StockCode    354345 non-null  object        \n",
            " 2   Description  354345 non-null  object        \n",
            " 3   Quantity     354345 non-null  int64         \n",
            " 4   InvoiceDate  354345 non-null  datetime64[ns]\n",
            " 5   UnitPrice    354345 non-null  float64       \n",
            " 6   CustomerID   354345 non-null  float64       \n",
            " 7   Country      354345 non-null  object        \n",
            "dtypes: datetime64[ns](1), float64(2), int64(1), object(4)\n",
            "memory usage: 24.3+ MB\n"
          ]
        }
      ]
    },
    {
      "cell_type": "code",
      "source": [
        "# Add new_column depicting total amount\n",
        "\n",
        "data['TotalAmount'] = data['Quantity'] * data['UnitPrice']"
      ],
      "metadata": {
        "id": "JoKI3AjQo_mP"
      },
      "execution_count": 24,
      "outputs": []
    },
    {
      "cell_type": "code",
      "source": [
        "data.shape"
      ],
      "metadata": {
        "id": "gefuxrTio_ir",
        "colab": {
          "base_uri": "https://localhost:8080/"
        },
        "outputId": "33a88ad5-a7f4-4a5a-a537-da1d6a923218"
      },
      "execution_count": 25,
      "outputs": [
        {
          "output_type": "execute_result",
          "data": {
            "text/plain": [
              "(354345, 9)"
            ]
          },
          "metadata": {},
          "execution_count": 25
        }
      ]
    },
    {
      "cell_type": "code",
      "source": [
        "data.CustomerID.nunique()"
      ],
      "metadata": {
        "id": "_bMXK4yyo_gP",
        "colab": {
          "base_uri": "https://localhost:8080/"
        },
        "outputId": "9c0adfa3-1c64-4bc4-985e-3a156e2f9e7a"
      },
      "execution_count": 26,
      "outputs": [
        {
          "output_type": "execute_result",
          "data": {
            "text/plain": [
              "3921"
            ]
          },
          "metadata": {},
          "execution_count": 26
        }
      ]
    },
    {
      "cell_type": "code",
      "source": [
        "data.StockCode.nunique()"
      ],
      "metadata": {
        "id": "mZrI6-g0o_dV",
        "colab": {
          "base_uri": "https://localhost:8080/"
        },
        "outputId": "ad7da93c-8210-47cf-a011-98368f42376e"
      },
      "execution_count": 27,
      "outputs": [
        {
          "output_type": "execute_result",
          "data": {
            "text/plain": [
              "3645"
            ]
          },
          "metadata": {},
          "execution_count": 27
        }
      ]
    },
    {
      "cell_type": "code",
      "source": [
        "# RFM Modelling - Recency, Frequency, Monetary"
      ],
      "metadata": {
        "id": "FugWlRuWo_ax"
      },
      "execution_count": 28,
      "outputs": []
    },
    {
      "cell_type": "code",
      "source": [
        "# Recency = Latest date - Last Invoice Data,\n",
        "# Frequency = Count of invoice no.of transactions,\n",
        "# Monetary = Sum of Total Amount for each customer"
      ],
      "metadata": {
        "id": "N4P-Ukwno_X_"
      },
      "execution_count": 29,
      "outputs": []
    },
    {
      "cell_type": "code",
      "source": [
        "data['InvoiceDate'].sort_values().tail()"
      ],
      "metadata": {
        "colab": {
          "base_uri": "https://localhost:8080/"
        },
        "id": "eRfXOY9QUjO5",
        "outputId": "5a457abf-875b-4529-bcca-eccdffb3cf78"
      },
      "execution_count": 30,
      "outputs": [
        {
          "output_type": "execute_result",
          "data": {
            "text/plain": [
              "495463   2011-12-09 12:31:00\n",
              "495476   2011-12-09 12:49:00\n",
              "495474   2011-12-09 12:49:00\n",
              "495475   2011-12-09 12:49:00\n",
              "495477   2011-12-09 12:49:00\n",
              "Name: InvoiceDate, dtype: datetime64[ns]"
            ]
          },
          "metadata": {},
          "execution_count": 30
        }
      ]
    },
    {
      "cell_type": "code",
      "source": [
        "data['InvoiceDate'].max()"
      ],
      "metadata": {
        "colab": {
          "base_uri": "https://localhost:8080/"
        },
        "id": "zu3-aD1EXThn",
        "outputId": "bbf5d345-889d-4c1f-d355-42e4e592cb9e"
      },
      "execution_count": 31,
      "outputs": [
        {
          "output_type": "execute_result",
          "data": {
            "text/plain": [
              "Timestamp('2011-12-09 12:49:00')"
            ]
          },
          "metadata": {},
          "execution_count": 31
        }
      ]
    },
    {
      "cell_type": "code",
      "source": [
        "data['InvoiceDate'].min()"
      ],
      "metadata": {
        "colab": {
          "base_uri": "https://localhost:8080/"
        },
        "id": "EHTLSTofgwXB",
        "outputId": "9f728962-b7a5-4c66-85ff-dd29be176b0d"
      },
      "execution_count": 32,
      "outputs": [
        {
          "output_type": "execute_result",
          "data": {
            "text/plain": [
              "Timestamp('2010-12-01 08:26:00')"
            ]
          },
          "metadata": {},
          "execution_count": 32
        }
      ]
    },
    {
      "cell_type": "code",
      "source": [
        "(data['InvoiceDate'].max() - data['InvoiceDate'].min()).days"
      ],
      "metadata": {
        "colab": {
          "base_uri": "https://localhost:8080/"
        },
        "id": "GffQ7EFAhqqs",
        "outputId": "18b90aaa-0ef3-40f1-fc60-b4541f6c7c50"
      },
      "execution_count": 33,
      "outputs": [
        {
          "output_type": "execute_result",
          "data": {
            "text/plain": [
              "373"
            ]
          },
          "metadata": {},
          "execution_count": 33
        }
      ]
    },
    {
      "cell_type": "code",
      "source": [
        "data.groupby(['CustomerID'])['InvoiceDate'].max().head()"
      ],
      "metadata": {
        "colab": {
          "base_uri": "https://localhost:8080/"
        },
        "id": "4w5mFLnaXeoE",
        "outputId": "f9346f92-0904-443a-c24e-c6d4d98318f9"
      },
      "execution_count": 34,
      "outputs": [
        {
          "output_type": "execute_result",
          "data": {
            "text/plain": [
              "CustomerID\n",
              "12346.0   2011-01-18 10:01:00\n",
              "12747.0   2011-12-07 14:34:00\n",
              "12748.0   2011-12-09 12:20:00\n",
              "12749.0   2011-12-06 09:56:00\n",
              "12820.0   2011-12-06 15:12:00\n",
              "Name: InvoiceDate, dtype: datetime64[ns]"
            ]
          },
          "metadata": {},
          "execution_count": 34
        }
      ]
    },
    {
      "cell_type": "code",
      "source": [
        "import datetime as dt\n",
        "\n",
        "# Set latest date 2011-12-10 as last invoice date was 2011-12-09.\n",
        "# This is to calculate the number of days from recent purchase\n",
        "\n",
        "Latest_Date = dt.datetime(2011,12,10)"
      ],
      "metadata": {
        "id": "rjvsMyQeo_Vy"
      },
      "execution_count": 35,
      "outputs": []
    },
    {
      "cell_type": "code",
      "source": [
        "# Create RFM modelling scores for each customer\n",
        "RFMScores = data.groupby('CustomerID').agg({'InvoiceDate' : lambda x : (Latest_Date - x.max()).days,\n",
        "                                            'InvoiceNo' : lambda x: len(x),\n",
        "                                            'TotalAmount' : lambda x: sum(x)})"
      ],
      "metadata": {
        "id": "jVuVTtBBo_TF"
      },
      "execution_count": 36,
      "outputs": []
    },
    {
      "cell_type": "code",
      "source": [
        "data.groupby(['CustomerID'])['TotalAmount'].sum().head()"
      ],
      "metadata": {
        "id": "1SDfGlNpo_Nf",
        "colab": {
          "base_uri": "https://localhost:8080/"
        },
        "outputId": "54504285-97ba-49eb-8d9c-8051b5c6d830"
      },
      "execution_count": 37,
      "outputs": [
        {
          "output_type": "execute_result",
          "data": {
            "text/plain": [
              "CustomerID\n",
              "12346.0    77183.60\n",
              "12747.0     4196.01\n",
              "12748.0    33719.73\n",
              "12749.0     4090.88\n",
              "12820.0      942.34\n",
              "Name: TotalAmount, dtype: float64"
            ]
          },
          "metadata": {},
          "execution_count": 37
        }
      ]
    },
    {
      "cell_type": "code",
      "source": [
        "RFMScores.head()"
      ],
      "metadata": {
        "id": "2l4Uzswjo_Lx",
        "colab": {
          "base_uri": "https://localhost:8080/",
          "height": 237
        },
        "outputId": "c383286f-ecb8-46fa-9d55-952907fd0a45"
      },
      "execution_count": 38,
      "outputs": [
        {
          "output_type": "execute_result",
          "data": {
            "text/plain": [
              "            InvoiceDate  InvoiceNo  TotalAmount\n",
              "CustomerID                                     \n",
              "12346.0             325          1     77183.60\n",
              "12747.0               2        103      4196.01\n",
              "12748.0               0       4596     33719.73\n",
              "12749.0               3        199      4090.88\n",
              "12820.0               3         59       942.34"
            ],
            "text/html": [
              "\n",
              "  <div id=\"df-34a63920-fae7-45cb-8dd6-24d87697e14b\">\n",
              "    <div class=\"colab-df-container\">\n",
              "      <div>\n",
              "<style scoped>\n",
              "    .dataframe tbody tr th:only-of-type {\n",
              "        vertical-align: middle;\n",
              "    }\n",
              "\n",
              "    .dataframe tbody tr th {\n",
              "        vertical-align: top;\n",
              "    }\n",
              "\n",
              "    .dataframe thead th {\n",
              "        text-align: right;\n",
              "    }\n",
              "</style>\n",
              "<table border=\"1\" class=\"dataframe\">\n",
              "  <thead>\n",
              "    <tr style=\"text-align: right;\">\n",
              "      <th></th>\n",
              "      <th>InvoiceDate</th>\n",
              "      <th>InvoiceNo</th>\n",
              "      <th>TotalAmount</th>\n",
              "    </tr>\n",
              "    <tr>\n",
              "      <th>CustomerID</th>\n",
              "      <th></th>\n",
              "      <th></th>\n",
              "      <th></th>\n",
              "    </tr>\n",
              "  </thead>\n",
              "  <tbody>\n",
              "    <tr>\n",
              "      <th>12346.0</th>\n",
              "      <td>325</td>\n",
              "      <td>1</td>\n",
              "      <td>77183.60</td>\n",
              "    </tr>\n",
              "    <tr>\n",
              "      <th>12747.0</th>\n",
              "      <td>2</td>\n",
              "      <td>103</td>\n",
              "      <td>4196.01</td>\n",
              "    </tr>\n",
              "    <tr>\n",
              "      <th>12748.0</th>\n",
              "      <td>0</td>\n",
              "      <td>4596</td>\n",
              "      <td>33719.73</td>\n",
              "    </tr>\n",
              "    <tr>\n",
              "      <th>12749.0</th>\n",
              "      <td>3</td>\n",
              "      <td>199</td>\n",
              "      <td>4090.88</td>\n",
              "    </tr>\n",
              "    <tr>\n",
              "      <th>12820.0</th>\n",
              "      <td>3</td>\n",
              "      <td>59</td>\n",
              "      <td>942.34</td>\n",
              "    </tr>\n",
              "  </tbody>\n",
              "</table>\n",
              "</div>\n",
              "      <button class=\"colab-df-convert\" onclick=\"convertToInteractive('df-34a63920-fae7-45cb-8dd6-24d87697e14b')\"\n",
              "              title=\"Convert this dataframe to an interactive table.\"\n",
              "              style=\"display:none;\">\n",
              "        \n",
              "  <svg xmlns=\"http://www.w3.org/2000/svg\" height=\"24px\"viewBox=\"0 0 24 24\"\n",
              "       width=\"24px\">\n",
              "    <path d=\"M0 0h24v24H0V0z\" fill=\"none\"/>\n",
              "    <path d=\"M18.56 5.44l.94 2.06.94-2.06 2.06-.94-2.06-.94-.94-2.06-.94 2.06-2.06.94zm-11 1L8.5 8.5l.94-2.06 2.06-.94-2.06-.94L8.5 2.5l-.94 2.06-2.06.94zm10 10l.94 2.06.94-2.06 2.06-.94-2.06-.94-.94-2.06-.94 2.06-2.06.94z\"/><path d=\"M17.41 7.96l-1.37-1.37c-.4-.4-.92-.59-1.43-.59-.52 0-1.04.2-1.43.59L10.3 9.45l-7.72 7.72c-.78.78-.78 2.05 0 2.83L4 21.41c.39.39.9.59 1.41.59.51 0 1.02-.2 1.41-.59l7.78-7.78 2.81-2.81c.8-.78.8-2.07 0-2.86zM5.41 20L4 18.59l7.72-7.72 1.47 1.35L5.41 20z\"/>\n",
              "  </svg>\n",
              "      </button>\n",
              "      \n",
              "  <style>\n",
              "    .colab-df-container {\n",
              "      display:flex;\n",
              "      flex-wrap:wrap;\n",
              "      gap: 12px;\n",
              "    }\n",
              "\n",
              "    .colab-df-convert {\n",
              "      background-color: #E8F0FE;\n",
              "      border: none;\n",
              "      border-radius: 50%;\n",
              "      cursor: pointer;\n",
              "      display: none;\n",
              "      fill: #1967D2;\n",
              "      height: 32px;\n",
              "      padding: 0 0 0 0;\n",
              "      width: 32px;\n",
              "    }\n",
              "\n",
              "    .colab-df-convert:hover {\n",
              "      background-color: #E2EBFA;\n",
              "      box-shadow: 0px 1px 2px rgba(60, 64, 67, 0.3), 0px 1px 3px 1px rgba(60, 64, 67, 0.15);\n",
              "      fill: #174EA6;\n",
              "    }\n",
              "\n",
              "    [theme=dark] .colab-df-convert {\n",
              "      background-color: #3B4455;\n",
              "      fill: #D2E3FC;\n",
              "    }\n",
              "\n",
              "    [theme=dark] .colab-df-convert:hover {\n",
              "      background-color: #434B5C;\n",
              "      box-shadow: 0px 1px 3px 1px rgba(0, 0, 0, 0.15);\n",
              "      filter: drop-shadow(0px 1px 2px rgba(0, 0, 0, 0.3));\n",
              "      fill: #FFFFFF;\n",
              "    }\n",
              "  </style>\n",
              "\n",
              "      <script>\n",
              "        const buttonEl =\n",
              "          document.querySelector('#df-34a63920-fae7-45cb-8dd6-24d87697e14b button.colab-df-convert');\n",
              "        buttonEl.style.display =\n",
              "          google.colab.kernel.accessAllowed ? 'block' : 'none';\n",
              "\n",
              "        async function convertToInteractive(key) {\n",
              "          const element = document.querySelector('#df-34a63920-fae7-45cb-8dd6-24d87697e14b');\n",
              "          const dataTable =\n",
              "            await google.colab.kernel.invokeFunction('convertToInteractive',\n",
              "                                                     [key], {});\n",
              "          if (!dataTable) return;\n",
              "\n",
              "          const docLinkHtml = 'Like what you see? Visit the ' +\n",
              "            '<a target=\"_blank\" href=https://colab.research.google.com/notebooks/data_table.ipynb>data table notebook</a>'\n",
              "            + ' to learn more about interactive tables.';\n",
              "          element.innerHTML = '';\n",
              "          dataTable['output_type'] = 'display_data';\n",
              "          await google.colab.output.renderOutput(dataTable, element);\n",
              "          const docLink = document.createElement('div');\n",
              "          docLink.innerHTML = docLinkHtml;\n",
              "          element.appendChild(docLink);\n",
              "        }\n",
              "      </script>\n",
              "    </div>\n",
              "  </div>\n",
              "  "
            ]
          },
          "metadata": {},
          "execution_count": 38
        }
      ]
    },
    {
      "cell_type": "code",
      "source": [
        "RFMScores.info()"
      ],
      "metadata": {
        "colab": {
          "base_uri": "https://localhost:8080/"
        },
        "id": "5EaOPxFqdGdd",
        "outputId": "bc819461-40a1-4f79-ea4c-10897b4c3731"
      },
      "execution_count": 39,
      "outputs": [
        {
          "output_type": "stream",
          "name": "stdout",
          "text": [
            "<class 'pandas.core.frame.DataFrame'>\n",
            "Float64Index: 3921 entries, 12346.0 to 18287.0\n",
            "Data columns (total 3 columns):\n",
            " #   Column       Non-Null Count  Dtype  \n",
            "---  ------       --------------  -----  \n",
            " 0   InvoiceDate  3921 non-null   int64  \n",
            " 1   InvoiceNo    3921 non-null   int64  \n",
            " 2   TotalAmount  3921 non-null   float64\n",
            "dtypes: float64(1), int64(2)\n",
            "memory usage: 122.5 KB\n"
          ]
        }
      ]
    },
    {
      "cell_type": "code",
      "source": [
        "  # Rename Column names to Recency, frequency and Monetary\n",
        "\n",
        "  RFMScores.rename(columns= {'InvoiceDate' : 'Recency',\n",
        "                             'InvoiceNo'   : 'Frequency',\n",
        "                             'TotalAmount' : 'Monetary'}, inplace = True)\n",
        "\n",
        "  RFMScores.head()"
      ],
      "metadata": {
        "id": "ejx0Mw89o_G7",
        "colab": {
          "base_uri": "https://localhost:8080/",
          "height": 237
        },
        "outputId": "83f27354-01ae-44bf-a8d7-5f9362edf194"
      },
      "execution_count": 40,
      "outputs": [
        {
          "output_type": "execute_result",
          "data": {
            "text/plain": [
              "            Recency  Frequency  Monetary\n",
              "CustomerID                              \n",
              "12346.0         325          1  77183.60\n",
              "12747.0           2        103   4196.01\n",
              "12748.0           0       4596  33719.73\n",
              "12749.0           3        199   4090.88\n",
              "12820.0           3         59    942.34"
            ],
            "text/html": [
              "\n",
              "  <div id=\"df-66ce70f8-aa78-41d7-b09c-b61e82afadf2\">\n",
              "    <div class=\"colab-df-container\">\n",
              "      <div>\n",
              "<style scoped>\n",
              "    .dataframe tbody tr th:only-of-type {\n",
              "        vertical-align: middle;\n",
              "    }\n",
              "\n",
              "    .dataframe tbody tr th {\n",
              "        vertical-align: top;\n",
              "    }\n",
              "\n",
              "    .dataframe thead th {\n",
              "        text-align: right;\n",
              "    }\n",
              "</style>\n",
              "<table border=\"1\" class=\"dataframe\">\n",
              "  <thead>\n",
              "    <tr style=\"text-align: right;\">\n",
              "      <th></th>\n",
              "      <th>Recency</th>\n",
              "      <th>Frequency</th>\n",
              "      <th>Monetary</th>\n",
              "    </tr>\n",
              "    <tr>\n",
              "      <th>CustomerID</th>\n",
              "      <th></th>\n",
              "      <th></th>\n",
              "      <th></th>\n",
              "    </tr>\n",
              "  </thead>\n",
              "  <tbody>\n",
              "    <tr>\n",
              "      <th>12346.0</th>\n",
              "      <td>325</td>\n",
              "      <td>1</td>\n",
              "      <td>77183.60</td>\n",
              "    </tr>\n",
              "    <tr>\n",
              "      <th>12747.0</th>\n",
              "      <td>2</td>\n",
              "      <td>103</td>\n",
              "      <td>4196.01</td>\n",
              "    </tr>\n",
              "    <tr>\n",
              "      <th>12748.0</th>\n",
              "      <td>0</td>\n",
              "      <td>4596</td>\n",
              "      <td>33719.73</td>\n",
              "    </tr>\n",
              "    <tr>\n",
              "      <th>12749.0</th>\n",
              "      <td>3</td>\n",
              "      <td>199</td>\n",
              "      <td>4090.88</td>\n",
              "    </tr>\n",
              "    <tr>\n",
              "      <th>12820.0</th>\n",
              "      <td>3</td>\n",
              "      <td>59</td>\n",
              "      <td>942.34</td>\n",
              "    </tr>\n",
              "  </tbody>\n",
              "</table>\n",
              "</div>\n",
              "      <button class=\"colab-df-convert\" onclick=\"convertToInteractive('df-66ce70f8-aa78-41d7-b09c-b61e82afadf2')\"\n",
              "              title=\"Convert this dataframe to an interactive table.\"\n",
              "              style=\"display:none;\">\n",
              "        \n",
              "  <svg xmlns=\"http://www.w3.org/2000/svg\" height=\"24px\"viewBox=\"0 0 24 24\"\n",
              "       width=\"24px\">\n",
              "    <path d=\"M0 0h24v24H0V0z\" fill=\"none\"/>\n",
              "    <path d=\"M18.56 5.44l.94 2.06.94-2.06 2.06-.94-2.06-.94-.94-2.06-.94 2.06-2.06.94zm-11 1L8.5 8.5l.94-2.06 2.06-.94-2.06-.94L8.5 2.5l-.94 2.06-2.06.94zm10 10l.94 2.06.94-2.06 2.06-.94-2.06-.94-.94-2.06-.94 2.06-2.06.94z\"/><path d=\"M17.41 7.96l-1.37-1.37c-.4-.4-.92-.59-1.43-.59-.52 0-1.04.2-1.43.59L10.3 9.45l-7.72 7.72c-.78.78-.78 2.05 0 2.83L4 21.41c.39.39.9.59 1.41.59.51 0 1.02-.2 1.41-.59l7.78-7.78 2.81-2.81c.8-.78.8-2.07 0-2.86zM5.41 20L4 18.59l7.72-7.72 1.47 1.35L5.41 20z\"/>\n",
              "  </svg>\n",
              "      </button>\n",
              "      \n",
              "  <style>\n",
              "    .colab-df-container {\n",
              "      display:flex;\n",
              "      flex-wrap:wrap;\n",
              "      gap: 12px;\n",
              "    }\n",
              "\n",
              "    .colab-df-convert {\n",
              "      background-color: #E8F0FE;\n",
              "      border: none;\n",
              "      border-radius: 50%;\n",
              "      cursor: pointer;\n",
              "      display: none;\n",
              "      fill: #1967D2;\n",
              "      height: 32px;\n",
              "      padding: 0 0 0 0;\n",
              "      width: 32px;\n",
              "    }\n",
              "\n",
              "    .colab-df-convert:hover {\n",
              "      background-color: #E2EBFA;\n",
              "      box-shadow: 0px 1px 2px rgba(60, 64, 67, 0.3), 0px 1px 3px 1px rgba(60, 64, 67, 0.15);\n",
              "      fill: #174EA6;\n",
              "    }\n",
              "\n",
              "    [theme=dark] .colab-df-convert {\n",
              "      background-color: #3B4455;\n",
              "      fill: #D2E3FC;\n",
              "    }\n",
              "\n",
              "    [theme=dark] .colab-df-convert:hover {\n",
              "      background-color: #434B5C;\n",
              "      box-shadow: 0px 1px 3px 1px rgba(0, 0, 0, 0.15);\n",
              "      filter: drop-shadow(0px 1px 2px rgba(0, 0, 0, 0.3));\n",
              "      fill: #FFFFFF;\n",
              "    }\n",
              "  </style>\n",
              "\n",
              "      <script>\n",
              "        const buttonEl =\n",
              "          document.querySelector('#df-66ce70f8-aa78-41d7-b09c-b61e82afadf2 button.colab-df-convert');\n",
              "        buttonEl.style.display =\n",
              "          google.colab.kernel.accessAllowed ? 'block' : 'none';\n",
              "\n",
              "        async function convertToInteractive(key) {\n",
              "          const element = document.querySelector('#df-66ce70f8-aa78-41d7-b09c-b61e82afadf2');\n",
              "          const dataTable =\n",
              "            await google.colab.kernel.invokeFunction('convertToInteractive',\n",
              "                                                     [key], {});\n",
              "          if (!dataTable) return;\n",
              "\n",
              "          const docLinkHtml = 'Like what you see? Visit the ' +\n",
              "            '<a target=\"_blank\" href=https://colab.research.google.com/notebooks/data_table.ipynb>data table notebook</a>'\n",
              "            + ' to learn more about interactive tables.';\n",
              "          element.innerHTML = '';\n",
              "          dataTable['output_type'] = 'display_data';\n",
              "          await google.colab.output.renderOutput(dataTable, element);\n",
              "          const docLink = document.createElement('div');\n",
              "          docLink.innerHTML = docLinkHtml;\n",
              "          element.appendChild(docLink);\n",
              "        }\n",
              "      </script>\n",
              "    </div>\n",
              "  </div>\n",
              "  "
            ]
          },
          "metadata": {},
          "execution_count": 40
        }
      ]
    },
    {
      "cell_type": "code",
      "source": [
        "  RFMScores.reset_index().head()"
      ],
      "metadata": {
        "id": "yS0yHM3Do_CT",
        "colab": {
          "base_uri": "https://localhost:8080/",
          "height": 206
        },
        "outputId": "97244fda-4a99-4ebd-d440-a8491ce9295f"
      },
      "execution_count": 41,
      "outputs": [
        {
          "output_type": "execute_result",
          "data": {
            "text/plain": [
              "   CustomerID  Recency  Frequency  Monetary\n",
              "0     12346.0      325          1  77183.60\n",
              "1     12747.0        2        103   4196.01\n",
              "2     12748.0        0       4596  33719.73\n",
              "3     12749.0        3        199   4090.88\n",
              "4     12820.0        3         59    942.34"
            ],
            "text/html": [
              "\n",
              "  <div id=\"df-7e9bbaa0-f85b-419a-abd1-0df166db1781\">\n",
              "    <div class=\"colab-df-container\">\n",
              "      <div>\n",
              "<style scoped>\n",
              "    .dataframe tbody tr th:only-of-type {\n",
              "        vertical-align: middle;\n",
              "    }\n",
              "\n",
              "    .dataframe tbody tr th {\n",
              "        vertical-align: top;\n",
              "    }\n",
              "\n",
              "    .dataframe thead th {\n",
              "        text-align: right;\n",
              "    }\n",
              "</style>\n",
              "<table border=\"1\" class=\"dataframe\">\n",
              "  <thead>\n",
              "    <tr style=\"text-align: right;\">\n",
              "      <th></th>\n",
              "      <th>CustomerID</th>\n",
              "      <th>Recency</th>\n",
              "      <th>Frequency</th>\n",
              "      <th>Monetary</th>\n",
              "    </tr>\n",
              "  </thead>\n",
              "  <tbody>\n",
              "    <tr>\n",
              "      <th>0</th>\n",
              "      <td>12346.0</td>\n",
              "      <td>325</td>\n",
              "      <td>1</td>\n",
              "      <td>77183.60</td>\n",
              "    </tr>\n",
              "    <tr>\n",
              "      <th>1</th>\n",
              "      <td>12747.0</td>\n",
              "      <td>2</td>\n",
              "      <td>103</td>\n",
              "      <td>4196.01</td>\n",
              "    </tr>\n",
              "    <tr>\n",
              "      <th>2</th>\n",
              "      <td>12748.0</td>\n",
              "      <td>0</td>\n",
              "      <td>4596</td>\n",
              "      <td>33719.73</td>\n",
              "    </tr>\n",
              "    <tr>\n",
              "      <th>3</th>\n",
              "      <td>12749.0</td>\n",
              "      <td>3</td>\n",
              "      <td>199</td>\n",
              "      <td>4090.88</td>\n",
              "    </tr>\n",
              "    <tr>\n",
              "      <th>4</th>\n",
              "      <td>12820.0</td>\n",
              "      <td>3</td>\n",
              "      <td>59</td>\n",
              "      <td>942.34</td>\n",
              "    </tr>\n",
              "  </tbody>\n",
              "</table>\n",
              "</div>\n",
              "      <button class=\"colab-df-convert\" onclick=\"convertToInteractive('df-7e9bbaa0-f85b-419a-abd1-0df166db1781')\"\n",
              "              title=\"Convert this dataframe to an interactive table.\"\n",
              "              style=\"display:none;\">\n",
              "        \n",
              "  <svg xmlns=\"http://www.w3.org/2000/svg\" height=\"24px\"viewBox=\"0 0 24 24\"\n",
              "       width=\"24px\">\n",
              "    <path d=\"M0 0h24v24H0V0z\" fill=\"none\"/>\n",
              "    <path d=\"M18.56 5.44l.94 2.06.94-2.06 2.06-.94-2.06-.94-.94-2.06-.94 2.06-2.06.94zm-11 1L8.5 8.5l.94-2.06 2.06-.94-2.06-.94L8.5 2.5l-.94 2.06-2.06.94zm10 10l.94 2.06.94-2.06 2.06-.94-2.06-.94-.94-2.06-.94 2.06-2.06.94z\"/><path d=\"M17.41 7.96l-1.37-1.37c-.4-.4-.92-.59-1.43-.59-.52 0-1.04.2-1.43.59L10.3 9.45l-7.72 7.72c-.78.78-.78 2.05 0 2.83L4 21.41c.39.39.9.59 1.41.59.51 0 1.02-.2 1.41-.59l7.78-7.78 2.81-2.81c.8-.78.8-2.07 0-2.86zM5.41 20L4 18.59l7.72-7.72 1.47 1.35L5.41 20z\"/>\n",
              "  </svg>\n",
              "      </button>\n",
              "      \n",
              "  <style>\n",
              "    .colab-df-container {\n",
              "      display:flex;\n",
              "      flex-wrap:wrap;\n",
              "      gap: 12px;\n",
              "    }\n",
              "\n",
              "    .colab-df-convert {\n",
              "      background-color: #E8F0FE;\n",
              "      border: none;\n",
              "      border-radius: 50%;\n",
              "      cursor: pointer;\n",
              "      display: none;\n",
              "      fill: #1967D2;\n",
              "      height: 32px;\n",
              "      padding: 0 0 0 0;\n",
              "      width: 32px;\n",
              "    }\n",
              "\n",
              "    .colab-df-convert:hover {\n",
              "      background-color: #E2EBFA;\n",
              "      box-shadow: 0px 1px 2px rgba(60, 64, 67, 0.3), 0px 1px 3px 1px rgba(60, 64, 67, 0.15);\n",
              "      fill: #174EA6;\n",
              "    }\n",
              "\n",
              "    [theme=dark] .colab-df-convert {\n",
              "      background-color: #3B4455;\n",
              "      fill: #D2E3FC;\n",
              "    }\n",
              "\n",
              "    [theme=dark] .colab-df-convert:hover {\n",
              "      background-color: #434B5C;\n",
              "      box-shadow: 0px 1px 3px 1px rgba(0, 0, 0, 0.15);\n",
              "      filter: drop-shadow(0px 1px 2px rgba(0, 0, 0, 0.3));\n",
              "      fill: #FFFFFF;\n",
              "    }\n",
              "  </style>\n",
              "\n",
              "      <script>\n",
              "        const buttonEl =\n",
              "          document.querySelector('#df-7e9bbaa0-f85b-419a-abd1-0df166db1781 button.colab-df-convert');\n",
              "        buttonEl.style.display =\n",
              "          google.colab.kernel.accessAllowed ? 'block' : 'none';\n",
              "\n",
              "        async function convertToInteractive(key) {\n",
              "          const element = document.querySelector('#df-7e9bbaa0-f85b-419a-abd1-0df166db1781');\n",
              "          const dataTable =\n",
              "            await google.colab.kernel.invokeFunction('convertToInteractive',\n",
              "                                                     [key], {});\n",
              "          if (!dataTable) return;\n",
              "\n",
              "          const docLinkHtml = 'Like what you see? Visit the ' +\n",
              "            '<a target=\"_blank\" href=https://colab.research.google.com/notebooks/data_table.ipynb>data table notebook</a>'\n",
              "            + ' to learn more about interactive tables.';\n",
              "          element.innerHTML = '';\n",
              "          dataTable['output_type'] = 'display_data';\n",
              "          await google.colab.output.renderOutput(dataTable, element);\n",
              "          const docLink = document.createElement('div');\n",
              "          docLink.innerHTML = docLinkHtml;\n",
              "          element.appendChild(docLink);\n",
              "        }\n",
              "      </script>\n",
              "    </div>\n",
              "  </div>\n",
              "  "
            ]
          },
          "metadata": {},
          "execution_count": 41
        }
      ]
    },
    {
      "cell_type": "code",
      "source": [
        "# Descriptive statistics (Recency)\n",
        "\n",
        "RFMScores.Recency.describe()"
      ],
      "metadata": {
        "colab": {
          "base_uri": "https://localhost:8080/"
        },
        "id": "yPhwRQ6UehVF",
        "outputId": "133428db-08cd-4cd6-c455-fac950f01281"
      },
      "execution_count": 42,
      "outputs": [
        {
          "output_type": "execute_result",
          "data": {
            "text/plain": [
              "count    3921.000000\n",
              "mean       91.722265\n",
              "std        99.528532\n",
              "min         0.000000\n",
              "25%        17.000000\n",
              "50%        50.000000\n",
              "75%       142.000000\n",
              "max       373.000000\n",
              "Name: Recency, dtype: float64"
            ]
          },
          "metadata": {},
          "execution_count": 42
        }
      ]
    },
    {
      "cell_type": "code",
      "source": [
        "# Recency distribution Plot\n",
        "\n",
        "import seaborn as sns\n",
        "\n",
        "x = RFMScores['Recency']\n",
        "\n",
        "ax = sns.distplot(x)"
      ],
      "metadata": {
        "colab": {
          "base_uri": "https://localhost:8080/",
          "height": 640
        },
        "id": "ZvhS9zkbehR0",
        "outputId": "0d5e9282-a1f0-4336-fc9a-9ffbb5a62e80"
      },
      "execution_count": 43,
      "outputs": [
        {
          "output_type": "stream",
          "name": "stderr",
          "text": [
            "<ipython-input-43-4055c2b14c85>:7: UserWarning: \n",
            "\n",
            "`distplot` is a deprecated function and will be removed in seaborn v0.14.0.\n",
            "\n",
            "Please adapt your code to use either `displot` (a figure-level function with\n",
            "similar flexibility) or `histplot` (an axes-level function for histograms).\n",
            "\n",
            "For a guide to updating your code to use the new functions, please see\n",
            "https://gist.github.com/mwaskom/de44147ed2974457ad6372750bbe5751\n",
            "\n",
            "  ax = sns.distplot(x)\n"
          ]
        },
        {
          "output_type": "display_data",
          "data": {
            "text/plain": [
              "<Figure size 640x480 with 1 Axes>"
            ],
            "image/png": "[encoded data removed]"
          },
          "metadata": {}
        }
      ]
    },
    {
      "cell_type": "code",
      "source": [
        "# Descriptive statistics (Frequency)\n",
        "\n",
        "RFMScores.Frequency.describe()"
      ],
      "metadata": {
        "colab": {
          "base_uri": "https://localhost:8080/"
        },
        "id": "r8cWB-krehOA",
        "outputId": "7def2a8e-9384-49be-dd10-cd9ee595a0ef"
      },
      "execution_count": 44,
      "outputs": [
        {
          "output_type": "execute_result",
          "data": {
            "text/plain": [
              "count    3921.000000\n",
              "mean       90.371079\n",
              "std       217.796155\n",
              "min         1.000000\n",
              "25%        17.000000\n",
              "50%        41.000000\n",
              "75%        99.000000\n",
              "max      7847.000000\n",
              "Name: Frequency, dtype: float64"
            ]
          },
          "metadata": {},
          "execution_count": 44
        }
      ]
    },
    {
      "cell_type": "code",
      "source": [
        "# Frequency Distribution plot, taking observations which have frequency less than 1000\n",
        "x = RFMScores.query('Frequency < 1000')['Frequency']\n",
        "\n",
        "ax = sns.distplot(x)"
      ],
      "metadata": {
        "colab": {
          "base_uri": "https://localhost:8080/",
          "height": 640
        },
        "id": "V57dMK9uehLH",
        "outputId": "8e251099-4702-4725-a85f-38acb950242a"
      },
      "execution_count": 45,
      "outputs": [
        {
          "output_type": "stream",
          "name": "stderr",
          "text": [
            "<ipython-input-45-7c87b585b8c3>:4: UserWarning: \n",
            "\n",
            "`distplot` is a deprecated function and will be removed in seaborn v0.14.0.\n",
            "\n",
            "Please adapt your code to use either `displot` (a figure-level function with\n",
            "similar flexibility) or `histplot` (an axes-level function for histograms).\n",
            "\n",
            "For a guide to updating your code to use the new functions, please see\n",
            "https://gist.github.com/mwaskom/de44147ed2974457ad6372750bbe5751\n",
            "\n",
            "  ax = sns.distplot(x)\n"
          ]
        },
        {
          "output_type": "display_data",
          "data": {
            "text/plain": [
              "<Figure size 640x480 with 1 Axes>"
            ],
            "image/png": "[encoded data removed]"
          },
          "metadata": {}
        }
      ]
    },
    {
      "cell_type": "code",
      "source": [
        "# Descriptive Statistics (Monetary)\n",
        "\n",
        "RFMScores.Monetary.describe()"
      ],
      "metadata": {
        "colab": {
          "base_uri": "https://localhost:8080/"
        },
        "id": "h6x1nE-QehHY",
        "outputId": "12b8fbcf-79ce-4ee9-b743-3923889a1a1b"
      },
      "execution_count": 46,
      "outputs": [
        {
          "output_type": "execute_result",
          "data": {
            "text/plain": [
              "count      3921.000000\n",
              "mean       1863.910113\n",
              "std        7481.922217\n",
              "min           0.000000\n",
              "25%         300.040000\n",
              "50%         651.820000\n",
              "75%        1575.890000\n",
              "max      259657.300000\n",
              "Name: Monetary, dtype: float64"
            ]
          },
          "metadata": {},
          "execution_count": 46
        }
      ]
    },
    {
      "cell_type": "code",
      "source": [
        "# Monetary distribution Plot, taking observations which have monetary value less than 10,000 pounds\n",
        "\n",
        "x = RFMScores.query('Monetary < 10000')['Monetary']\n",
        "ax = sns.distplot(x)"
      ],
      "metadata": {
        "colab": {
          "base_uri": "https://localhost:8080/",
          "height": 640
        },
        "id": "sHn5Xaj2ehEA",
        "outputId": "f512d9e9-ec96-431f-e379-458c26c04d35"
      },
      "execution_count": 47,
      "outputs": [
        {
          "output_type": "stream",
          "name": "stderr",
          "text": [
            "<ipython-input-47-673d68fd0016>:4: UserWarning: \n",
            "\n",
            "`distplot` is a deprecated function and will be removed in seaborn v0.14.0.\n",
            "\n",
            "Please adapt your code to use either `displot` (a figure-level function with\n",
            "similar flexibility) or `histplot` (an axes-level function for histograms).\n",
            "\n",
            "For a guide to updating your code to use the new functions, please see\n",
            "https://gist.github.com/mwaskom/de44147ed2974457ad6372750bbe5751\n",
            "\n",
            "  ax = sns.distplot(x)\n"
          ]
        },
        {
          "output_type": "display_data",
          "data": {
            "text/plain": [
              "<Figure size 640x480 with 1 Axes>"
            ],
            "image/png": "[encoded data removed]"
          },
          "metadata": {}
        }
      ]
    },
    {
      "cell_type": "code",
      "source": [
        "# Split into 4 segments using quantiles\n",
        "\n",
        "quantiles = RFMScores.quantile(q = [0.25, 0.5, 0.75])\n",
        "quantiles = quantiles.to_dict()"
      ],
      "metadata": {
        "id": "C8v88LEeehAj"
      },
      "execution_count": 48,
      "outputs": []
    },
    {
      "cell_type": "code",
      "source": [
        "quantiles"
      ],
      "metadata": {
        "colab": {
          "base_uri": "https://localhost:8080/"
        },
        "id": "T-8U-ezWeg8z",
        "outputId": "63c2e510-57a0-4145-e32b-897ed6994cc2"
      },
      "execution_count": 49,
      "outputs": [
        {
          "output_type": "execute_result",
          "data": {
            "text/plain": [
              "{'Recency': {0.25: 17.0, 0.5: 50.0, 0.75: 142.0},\n",
              " 'Frequency': {0.25: 17.0, 0.5: 41.0, 0.75: 99.0},\n",
              " 'Monetary': {0.25: 300.03999999999996,\n",
              "  0.5: 651.8200000000002,\n",
              "  0.75: 1575.8900000000003}}"
            ]
          },
          "metadata": {},
          "execution_count": 49
        }
      ]
    },
    {
      "cell_type": "code",
      "source": [
        "# Functions to create R, F and M segments\n",
        "\n",
        "def RScoring(x,p,d):\n",
        "  if x <= d[p][0.25]:\n",
        "    return 1\n",
        "  elif x <= d[p][0.50]:\n",
        "    return 2\n",
        "  elif x <= d[p][0.75]:\n",
        "    return 3\n",
        "  else:\n",
        "    return 4\n",
        "\n",
        "def FnMScoring(x,p,d):\n",
        "  if x <= d[p][0.25]:\n",
        "    return 4\n",
        "  elif x<= d[p][0.50]:\n",
        "    return 3\n",
        "  elif x<= d[p][0.75]:\n",
        "    return 2\n",
        "  else:\n",
        "    return 1\n"
      ],
      "metadata": {
        "id": "WYhrVUoXeg5i"
      },
      "execution_count": 50,
      "outputs": []
    },
    {
      "cell_type": "code",
      "source": [
        "# Calculate Add R, F and M segment value columns in the existing dataset to show R, F and M segment values\n",
        "\n",
        "RFMScores['R'] = RFMScores['Recency'].apply(RScoring, args = ('Recency', quantiles,))\n",
        "RFMScores['F'] = RFMScores['Frequency'].apply(FnMScoring, args = ('Frequency', quantiles,))\n",
        "RFMScores['M'] = RFMScores['Monetary'].apply(FnMScoring, args = ('Monetary', quantiles,))\n",
        "RFMScores.head()"
      ],
      "metadata": {
        "id": "XMN58R_rlrVF",
        "colab": {
          "base_uri": "https://localhost:8080/",
          "height": 237
        },
        "outputId": "c7a86399-9dd4-4030-c9d2-cd89ae91ef51"
      },
      "execution_count": 51,
      "outputs": [
        {
          "output_type": "execute_result",
          "data": {
            "text/plain": [
              "            Recency  Frequency  Monetary  R  F  M\n",
              "CustomerID                                       \n",
              "12346.0         325          1  77183.60  4  4  1\n",
              "12747.0           2        103   4196.01  1  1  1\n",
              "12748.0           0       4596  33719.73  1  1  1\n",
              "12749.0           3        199   4090.88  1  1  1\n",
              "12820.0           3         59    942.34  1  2  2"
            ],
            "text/html": [
              "\n",
              "  <div id=\"df-ce9096b6-828b-48f1-bd53-1cb8055c3eb3\">\n",
              "    <div class=\"colab-df-container\">\n",
              "      <div>\n",
              "<style scoped>\n",
              "    .dataframe tbody tr th:only-of-type {\n",
              "        vertical-align: middle;\n",
              "    }\n",
              "\n",
              "    .dataframe tbody tr th {\n",
              "        vertical-align: top;\n",
              "    }\n",
              "\n",
              "    .dataframe thead th {\n",
              "        text-align: right;\n",
              "    }\n",
              "</style>\n",
              "<table border=\"1\" class=\"dataframe\">\n",
              "  <thead>\n",
              "    <tr style=\"text-align: right;\">\n",
              "      <th></th>\n",
              "      <th>Recency</th>\n",
              "      <th>Frequency</th>\n",
              "      <th>Monetary</th>\n",
              "      <th>R</th>\n",
              "      <th>F</th>\n",
              "      <th>M</th>\n",
              "    </tr>\n",
              "    <tr>\n",
              "      <th>CustomerID</th>\n",
              "      <th></th>\n",
              "      <th></th>\n",
              "      <th></th>\n",
              "      <th></th>\n",
              "      <th></th>\n",
              "      <th></th>\n",
              "    </tr>\n",
              "  </thead>\n",
              "  <tbody>\n",
              "    <tr>\n",
              "      <th>12346.0</th>\n",
              "      <td>325</td>\n",
              "      <td>1</td>\n",
              "      <td>77183.60</td>\n",
              "      <td>4</td>\n",
              "      <td>4</td>\n",
              "      <td>1</td>\n",
              "    </tr>\n",
              "    <tr>\n",
              "      <th>12747.0</th>\n",
              "      <td>2</td>\n",
              "      <td>103</td>\n",
              "      <td>4196.01</td>\n",
              "      <td>1</td>\n",
              "      <td>1</td>\n",
              "      <td>1</td>\n",
              "    </tr>\n",
              "    <tr>\n",
              "      <th>12748.0</th>\n",
              "      <td>0</td>\n",
              "      <td>4596</td>\n",
              "      <td>33719.73</td>\n",
              "      <td>1</td>\n",
              "      <td>1</td>\n",
              "      <td>1</td>\n",
              "    </tr>\n",
              "    <tr>\n",
              "      <th>12749.0</th>\n",
              "      <td>3</td>\n",
              "      <td>199</td>\n",
              "      <td>4090.88</td>\n",
              "      <td>1</td>\n",
              "      <td>1</td>\n",
              "      <td>1</td>\n",
              "    </tr>\n",
              "    <tr>\n",
              "      <th>12820.0</th>\n",
              "      <td>3</td>\n",
              "      <td>59</td>\n",
              "      <td>942.34</td>\n",
              "      <td>1</td>\n",
              "      <td>2</td>\n",
              "      <td>2</td>\n",
              "    </tr>\n",
              "  </tbody>\n",
              "</table>\n",
              "</div>\n",
              "      <button class=\"colab-df-convert\" onclick=\"convertToInteractive('df-ce9096b6-828b-48f1-bd53-1cb8055c3eb3')\"\n",
              "              title=\"Convert this dataframe to an interactive table.\"\n",
              "              style=\"display:none;\">\n",
              "        \n",
              "  <svg xmlns=\"http://www.w3.org/2000/svg\" height=\"24px\"viewBox=\"0 0 24 24\"\n",
              "       width=\"24px\">\n",
              "    <path d=\"M0 0h24v24H0V0z\" fill=\"none\"/>\n",
              "    <path d=\"M18.56 5.44l.94 2.06.94-2.06 2.06-.94-2.06-.94-.94-2.06-.94 2.06-2.06.94zm-11 1L8.5 8.5l.94-2.06 2.06-.94-2.06-.94L8.5 2.5l-.94 2.06-2.06.94zm10 10l.94 2.06.94-2.06 2.06-.94-2.06-.94-.94-2.06-.94 2.06-2.06.94z\"/><path d=\"M17.41 7.96l-1.37-1.37c-.4-.4-.92-.59-1.43-.59-.52 0-1.04.2-1.43.59L10.3 9.45l-7.72 7.72c-.78.78-.78 2.05 0 2.83L4 21.41c.39.39.9.59 1.41.59.51 0 1.02-.2 1.41-.59l7.78-7.78 2.81-2.81c.8-.78.8-2.07 0-2.86zM5.41 20L4 18.59l7.72-7.72 1.47 1.35L5.41 20z\"/>\n",
              "  </svg>\n",
              "      </button>\n",
              "      \n",
              "  <style>\n",
              "    .colab-df-container {\n",
              "      display:flex;\n",
              "      flex-wrap:wrap;\n",
              "      gap: 12px;\n",
              "    }\n",
              "\n",
              "    .colab-df-convert {\n",
              "      background-color: #E8F0FE;\n",
              "      border: none;\n",
              "      border-radius: 50%;\n",
              "      cursor: pointer;\n",
              "      display: none;\n",
              "      fill: #1967D2;\n",
              "      height: 32px;\n",
              "      padding: 0 0 0 0;\n",
              "      width: 32px;\n",
              "    }\n",
              "\n",
              "    .colab-df-convert:hover {\n",
              "      background-color: #E2EBFA;\n",
              "      box-shadow: 0px 1px 2px rgba(60, 64, 67, 0.3), 0px 1px 3px 1px rgba(60, 64, 67, 0.15);\n",
              "      fill: #174EA6;\n",
              "    }\n",
              "\n",
              "    [theme=dark] .colab-df-convert {\n",
              "      background-color: #3B4455;\n",
              "      fill: #D2E3FC;\n",
              "    }\n",
              "\n",
              "    [theme=dark] .colab-df-convert:hover {\n",
              "      background-color: #434B5C;\n",
              "      box-shadow: 0px 1px 3px 1px rgba(0, 0, 0, 0.15);\n",
              "      filter: drop-shadow(0px 1px 2px rgba(0, 0, 0, 0.3));\n",
              "      fill: #FFFFFF;\n",
              "    }\n",
              "  </style>\n",
              "\n",
              "      <script>\n",
              "        const buttonEl =\n",
              "          document.querySelector('#df-ce9096b6-828b-48f1-bd53-1cb8055c3eb3 button.colab-df-convert');\n",
              "        buttonEl.style.display =\n",
              "          google.colab.kernel.accessAllowed ? 'block' : 'none';\n",
              "\n",
              "        async function convertToInteractive(key) {\n",
              "          const element = document.querySelector('#df-ce9096b6-828b-48f1-bd53-1cb8055c3eb3');\n",
              "          const dataTable =\n",
              "            await google.colab.kernel.invokeFunction('convertToInteractive',\n",
              "                                                     [key], {});\n",
              "          if (!dataTable) return;\n",
              "\n",
              "          const docLinkHtml = 'Like what you see? Visit the ' +\n",
              "            '<a target=\"_blank\" href=https://colab.research.google.com/notebooks/data_table.ipynb>data table notebook</a>'\n",
              "            + ' to learn more about interactive tables.';\n",
              "          element.innerHTML = '';\n",
              "          dataTable['output_type'] = 'display_data';\n",
              "          await google.colab.output.renderOutput(dataTable, element);\n",
              "          const docLink = document.createElement('div');\n",
              "          docLink.innerHTML = docLinkHtml;\n",
              "          element.appendChild(docLink);\n",
              "        }\n",
              "      </script>\n",
              "    </div>\n",
              "  </div>\n",
              "  "
            ]
          },
          "metadata": {},
          "execution_count": 51
        }
      ]
    },
    {
      "cell_type": "code",
      "source": [
        "# calculate and Add RFMGroup value column showing combined concatenated score of RFM\n",
        "\n",
        "RFMScores['RFMGroup'] = RFMScores.R.map(str) + RFMScores.F.map(str) + RFMScores.M.map(str)\n",
        "\n",
        "# Calculate and add RFMScore value column showing total sum of RFMGroup values\n",
        "RFMScores['RFMScore'] = RFMScores[['R', 'F', 'M']].sum(axis=1)\n",
        "\n",
        "RFMScores.head()"
      ],
      "metadata": {
        "id": "kqq97BEXlrRh",
        "colab": {
          "base_uri": "https://localhost:8080/",
          "height": 237
        },
        "outputId": "4b41df48-79c6-412c-9575-a04a6aaef031"
      },
      "execution_count": 52,
      "outputs": [
        {
          "output_type": "execute_result",
          "data": {
            "text/plain": [
              "            Recency  Frequency  Monetary  R  F  M RFMGroup  RFMScore\n",
              "CustomerID                                                          \n",
              "12346.0         325          1  77183.60  4  4  1      441         9\n",
              "12747.0           2        103   4196.01  1  1  1      111         3\n",
              "12748.0           0       4596  33719.73  1  1  1      111         3\n",
              "12749.0           3        199   4090.88  1  1  1      111         3\n",
              "12820.0           3         59    942.34  1  2  2      122         5"
            ],
            "text/html": [
              "\n",
              "  <div id=\"df-6fd7ac1d-c71a-48c3-97cf-7822e90a3648\">\n",
              "    <div class=\"colab-df-container\">\n",
              "      <div>\n",
              "<style scoped>\n",
              "    .dataframe tbody tr th:only-of-type {\n",
              "        vertical-align: middle;\n",
              "    }\n",
              "\n",
              "    .dataframe tbody tr th {\n",
              "        vertical-align: top;\n",
              "    }\n",
              "\n",
              "    .dataframe thead th {\n",
              "        text-align: right;\n",
              "    }\n",
              "</style>\n",
              "<table border=\"1\" class=\"dataframe\">\n",
              "  <thead>\n",
              "    <tr style=\"text-align: right;\">\n",
              "      <th></th>\n",
              "      <th>Recency</th>\n",
              "      <th>Frequency</th>\n",
              "      <th>Monetary</th>\n",
              "      <th>R</th>\n",
              "      <th>F</th>\n",
              "      <th>M</th>\n",
              "      <th>RFMGroup</th>\n",
              "      <th>RFMScore</th>\n",
              "    </tr>\n",
              "    <tr>\n",
              "      <th>CustomerID</th>\n",
              "      <th></th>\n",
              "      <th></th>\n",
              "      <th></th>\n",
              "      <th></th>\n",
              "      <th></th>\n",
              "      <th></th>\n",
              "      <th></th>\n",
              "      <th></th>\n",
              "    </tr>\n",
              "  </thead>\n",
              "  <tbody>\n",
              "    <tr>\n",
              "      <th>12346.0</th>\n",
              "      <td>325</td>\n",
              "      <td>1</td>\n",
              "      <td>77183.60</td>\n",
              "      <td>4</td>\n",
              "      <td>4</td>\n",
              "      <td>1</td>\n",
              "      <td>441</td>\n",
              "      <td>9</td>\n",
              "    </tr>\n",
              "    <tr>\n",
              "      <th>12747.0</th>\n",
              "      <td>2</td>\n",
              "      <td>103</td>\n",
              "      <td>4196.01</td>\n",
              "      <td>1</td>\n",
              "      <td>1</td>\n",
              "      <td>1</td>\n",
              "      <td>111</td>\n",
              "      <td>3</td>\n",
              "    </tr>\n",
              "    <tr>\n",
              "      <th>12748.0</th>\n",
              "      <td>0</td>\n",
              "      <td>4596</td>\n",
              "      <td>33719.73</td>\n",
              "      <td>1</td>\n",
              "      <td>1</td>\n",
              "      <td>1</td>\n",
              "      <td>111</td>\n",
              "      <td>3</td>\n",
              "    </tr>\n",
              "    <tr>\n",
              "      <th>12749.0</th>\n",
              "      <td>3</td>\n",
              "      <td>199</td>\n",
              "      <td>4090.88</td>\n",
              "      <td>1</td>\n",
              "      <td>1</td>\n",
              "      <td>1</td>\n",
              "      <td>111</td>\n",
              "      <td>3</td>\n",
              "    </tr>\n",
              "    <tr>\n",
              "      <th>12820.0</th>\n",
              "      <td>3</td>\n",
              "      <td>59</td>\n",
              "      <td>942.34</td>\n",
              "      <td>1</td>\n",
              "      <td>2</td>\n",
              "      <td>2</td>\n",
              "      <td>122</td>\n",
              "      <td>5</td>\n",
              "    </tr>\n",
              "  </tbody>\n",
              "</table>\n",
              "</div>\n",
              "      <button class=\"colab-df-convert\" onclick=\"convertToInteractive('df-6fd7ac1d-c71a-48c3-97cf-7822e90a3648')\"\n",
              "              title=\"Convert this dataframe to an interactive table.\"\n",
              "              style=\"display:none;\">\n",
              "        \n",
              "  <svg xmlns=\"http://www.w3.org/2000/svg\" height=\"24px\"viewBox=\"0 0 24 24\"\n",
              "       width=\"24px\">\n",
              "    <path d=\"M0 0h24v24H0V0z\" fill=\"none\"/>\n",
              "    <path d=\"M18.56 5.44l.94 2.06.94-2.06 2.06-.94-2.06-.94-.94-2.06-.94 2.06-2.06.94zm-11 1L8.5 8.5l.94-2.06 2.06-.94-2.06-.94L8.5 2.5l-.94 2.06-2.06.94zm10 10l.94 2.06.94-2.06 2.06-.94-2.06-.94-.94-2.06-.94 2.06-2.06.94z\"/><path d=\"M17.41 7.96l-1.37-1.37c-.4-.4-.92-.59-1.43-.59-.52 0-1.04.2-1.43.59L10.3 9.45l-7.72 7.72c-.78.78-.78 2.05 0 2.83L4 21.41c.39.39.9.59 1.41.59.51 0 1.02-.2 1.41-.59l7.78-7.78 2.81-2.81c.8-.78.8-2.07 0-2.86zM5.41 20L4 18.59l7.72-7.72 1.47 1.35L5.41 20z\"/>\n",
              "  </svg>\n",
              "      </button>\n",
              "      \n",
              "  <style>\n",
              "    .colab-df-container {\n",
              "      display:flex;\n",
              "      flex-wrap:wrap;\n",
              "      gap: 12px;\n",
              "    }\n",
              "\n",
              "    .colab-df-convert {\n",
              "      background-color: #E8F0FE;\n",
              "      border: none;\n",
              "      border-radius: 50%;\n",
              "      cursor: pointer;\n",
              "      display: none;\n",
              "      fill: #1967D2;\n",
              "      height: 32px;\n",
              "      padding: 0 0 0 0;\n",
              "      width: 32px;\n",
              "    }\n",
              "\n",
              "    .colab-df-convert:hover {\n",
              "      background-color: #E2EBFA;\n",
              "      box-shadow: 0px 1px 2px rgba(60, 64, 67, 0.3), 0px 1px 3px 1px rgba(60, 64, 67, 0.15);\n",
              "      fill: #174EA6;\n",
              "    }\n",
              "\n",
              "    [theme=dark] .colab-df-convert {\n",
              "      background-color: #3B4455;\n",
              "      fill: #D2E3FC;\n",
              "    }\n",
              "\n",
              "    [theme=dark] .colab-df-convert:hover {\n",
              "      background-color: #434B5C;\n",
              "      box-shadow: 0px 1px 3px 1px rgba(0, 0, 0, 0.15);\n",
              "      filter: drop-shadow(0px 1px 2px rgba(0, 0, 0, 0.3));\n",
              "      fill: #FFFFFF;\n",
              "    }\n",
              "  </style>\n",
              "\n",
              "      <script>\n",
              "        const buttonEl =\n",
              "          document.querySelector('#df-6fd7ac1d-c71a-48c3-97cf-7822e90a3648 button.colab-df-convert');\n",
              "        buttonEl.style.display =\n",
              "          google.colab.kernel.accessAllowed ? 'block' : 'none';\n",
              "\n",
              "        async function convertToInteractive(key) {\n",
              "          const element = document.querySelector('#df-6fd7ac1d-c71a-48c3-97cf-7822e90a3648');\n",
              "          const dataTable =\n",
              "            await google.colab.kernel.invokeFunction('convertToInteractive',\n",
              "                                                     [key], {});\n",
              "          if (!dataTable) return;\n",
              "\n",
              "          const docLinkHtml = 'Like what you see? Visit the ' +\n",
              "            '<a target=\"_blank\" href=https://colab.research.google.com/notebooks/data_table.ipynb>data table notebook</a>'\n",
              "            + ' to learn more about interactive tables.';\n",
              "          element.innerHTML = '';\n",
              "          dataTable['output_type'] = 'display_data';\n",
              "          await google.colab.output.renderOutput(dataTable, element);\n",
              "          const docLink = document.createElement('div');\n",
              "          docLink.innerHTML = docLinkHtml;\n",
              "          element.appendChild(docLink);\n",
              "        }\n",
              "      </script>\n",
              "    </div>\n",
              "  </div>\n",
              "  "
            ]
          },
          "metadata": {},
          "execution_count": 52
        }
      ]
    },
    {
      "cell_type": "code",
      "source": [
        "sorted(RFMScores.RFMScore.unique())"
      ],
      "metadata": {
        "colab": {
          "base_uri": "https://localhost:8080/"
        },
        "id": "ourcP-jnHZKe",
        "outputId": "e3ffd381-f804-46e1-8843-326dc55a0d66"
      },
      "execution_count": 53,
      "outputs": [
        {
          "output_type": "execute_result",
          "data": {
            "text/plain": [
              "[3, 4, 5, 6, 7, 8, 9, 10, 11, 12]"
            ]
          },
          "metadata": {},
          "execution_count": 53
        }
      ]
    },
    {
      "cell_type": "code",
      "source": [
        "# Assign Loyalty Level to each customer\n",
        "Loyalty_Level = ['Platinum', 'Gold', 'Silver', 'Bronze']\n",
        "score_cuts = pd.qcut(RFMScores.RFMScore, q = 4, labels = Loyalty_Level)\n",
        "RFMScores['RFM_Loyalty_Level'] = score_cuts.values\n",
        "RFMScores.reset_index().head()"
      ],
      "metadata": {
        "id": "QaMUze_alrNf",
        "colab": {
          "base_uri": "https://localhost:8080/",
          "height": 206
        },
        "outputId": "67780b71-3b1b-4a4c-b04b-738a887300f7"
      },
      "execution_count": 54,
      "outputs": [
        {
          "output_type": "execute_result",
          "data": {
            "text/plain": [
              "   CustomerID  Recency  Frequency  Monetary  R  F  M RFMGroup  RFMScore  \\\n",
              "0     12346.0      325          1  77183.60  4  4  1      441         9   \n",
              "1     12747.0        2        103   4196.01  1  1  1      111         3   \n",
              "2     12748.0        0       4596  33719.73  1  1  1      111         3   \n",
              "3     12749.0        3        199   4090.88  1  1  1      111         3   \n",
              "4     12820.0        3         59    942.34  1  2  2      122         5   \n",
              "\n",
              "  RFM_Loyalty_Level  \n",
              "0            Silver  \n",
              "1          Platinum  \n",
              "2          Platinum  \n",
              "3          Platinum  \n",
              "4          Platinum  "
            ],
            "text/html": [
              "\n",
              "  <div id=\"df-64697d48-aa60-4a37-8e7a-976fc40645f5\">\n",
              "    <div class=\"colab-df-container\">\n",
              "      <div>\n",
              "<style scoped>\n",
              "    .dataframe tbody tr th:only-of-type {\n",
              "        vertical-align: middle;\n",
              "    }\n",
              "\n",
              "    .dataframe tbody tr th {\n",
              "        vertical-align: top;\n",
              "    }\n",
              "\n",
              "    .dataframe thead th {\n",
              "        text-align: right;\n",
              "    }\n",
              "</style>\n",
              "<table border=\"1\" class=\"dataframe\">\n",
              "  <thead>\n",
              "    <tr style=\"text-align: right;\">\n",
              "      <th></th>\n",
              "      <th>CustomerID</th>\n",
              "      <th>Recency</th>\n",
              "      <th>Frequency</th>\n",
              "      <th>Monetary</th>\n",
              "      <th>R</th>\n",
              "      <th>F</th>\n",
              "      <th>M</th>\n",
              "      <th>RFMGroup</th>\n",
              "      <th>RFMScore</th>\n",
              "      <th>RFM_Loyalty_Level</th>\n",
              "    </tr>\n",
              "  </thead>\n",
              "  <tbody>\n",
              "    <tr>\n",
              "      <th>0</th>\n",
              "      <td>12346.0</td>\n",
              "      <td>325</td>\n",
              "      <td>1</td>\n",
              "      <td>77183.60</td>\n",
              "      <td>4</td>\n",
              "      <td>4</td>\n",
              "      <td>1</td>\n",
              "      <td>441</td>\n",
              "      <td>9</td>\n",
              "      <td>Silver</td>\n",
              "    </tr>\n",
              "    <tr>\n",
              "      <th>1</th>\n",
              "      <td>12747.0</td>\n",
              "      <td>2</td>\n",
              "      <td>103</td>\n",
              "      <td>4196.01</td>\n",
              "      <td>1</td>\n",
              "      <td>1</td>\n",
              "      <td>1</td>\n",
              "      <td>111</td>\n",
              "      <td>3</td>\n",
              "      <td>Platinum</td>\n",
              "    </tr>\n",
              "    <tr>\n",
              "      <th>2</th>\n",
              "      <td>12748.0</td>\n",
              "      <td>0</td>\n",
              "      <td>4596</td>\n",
              "      <td>33719.73</td>\n",
              "      <td>1</td>\n",
              "      <td>1</td>\n",
              "      <td>1</td>\n",
              "      <td>111</td>\n",
              "      <td>3</td>\n",
              "      <td>Platinum</td>\n",
              "    </tr>\n",
              "    <tr>\n",
              "      <th>3</th>\n",
              "      <td>12749.0</td>\n",
              "      <td>3</td>\n",
              "      <td>199</td>\n",
              "      <td>4090.88</td>\n",
              "      <td>1</td>\n",
              "      <td>1</td>\n",
              "      <td>1</td>\n",
              "      <td>111</td>\n",
              "      <td>3</td>\n",
              "      <td>Platinum</td>\n",
              "    </tr>\n",
              "    <tr>\n",
              "      <th>4</th>\n",
              "      <td>12820.0</td>\n",
              "      <td>3</td>\n",
              "      <td>59</td>\n",
              "      <td>942.34</td>\n",
              "      <td>1</td>\n",
              "      <td>2</td>\n",
              "      <td>2</td>\n",
              "      <td>122</td>\n",
              "      <td>5</td>\n",
              "      <td>Platinum</td>\n",
              "    </tr>\n",
              "  </tbody>\n",
              "</table>\n",
              "</div>\n",
              "      <button class=\"colab-df-convert\" onclick=\"convertToInteractive('df-64697d48-aa60-4a37-8e7a-976fc40645f5')\"\n",
              "              title=\"Convert this dataframe to an interactive table.\"\n",
              "              style=\"display:none;\">\n",
              "        \n",
              "  <svg xmlns=\"http://www.w3.org/2000/svg\" height=\"24px\"viewBox=\"0 0 24 24\"\n",
              "       width=\"24px\">\n",
              "    <path d=\"M0 0h24v24H0V0z\" fill=\"none\"/>\n",
              "    <path d=\"M18.56 5.44l.94 2.06.94-2.06 2.06-.94-2.06-.94-.94-2.06-.94 2.06-2.06.94zm-11 1L8.5 8.5l.94-2.06 2.06-.94-2.06-.94L8.5 2.5l-.94 2.06-2.06.94zm10 10l.94 2.06.94-2.06 2.06-.94-2.06-.94-.94-2.06-.94 2.06-2.06.94z\"/><path d=\"M17.41 7.96l-1.37-1.37c-.4-.4-.92-.59-1.43-.59-.52 0-1.04.2-1.43.59L10.3 9.45l-7.72 7.72c-.78.78-.78 2.05 0 2.83L4 21.41c.39.39.9.59 1.41.59.51 0 1.02-.2 1.41-.59l7.78-7.78 2.81-2.81c.8-.78.8-2.07 0-2.86zM5.41 20L4 18.59l7.72-7.72 1.47 1.35L5.41 20z\"/>\n",
              "  </svg>\n",
              "      </button>\n",
              "      \n",
              "  <style>\n",
              "    .colab-df-container {\n",
              "      display:flex;\n",
              "      flex-wrap:wrap;\n",
              "      gap: 12px;\n",
              "    }\n",
              "\n",
              "    .colab-df-convert {\n",
              "      background-color: #E8F0FE;\n",
              "      border: none;\n",
              "      border-radius: 50%;\n",
              "      cursor: pointer;\n",
              "      display: none;\n",
              "      fill: #1967D2;\n",
              "      height: 32px;\n",
              "      padding: 0 0 0 0;\n",
              "      width: 32px;\n",
              "    }\n",
              "\n",
              "    .colab-df-convert:hover {\n",
              "      background-color: #E2EBFA;\n",
              "      box-shadow: 0px 1px 2px rgba(60, 64, 67, 0.3), 0px 1px 3px 1px rgba(60, 64, 67, 0.15);\n",
              "      fill: #174EA6;\n",
              "    }\n",
              "\n",
              "    [theme=dark] .colab-df-convert {\n",
              "      background-color: #3B4455;\n",
              "      fill: #D2E3FC;\n",
              "    }\n",
              "\n",
              "    [theme=dark] .colab-df-convert:hover {\n",
              "      background-color: #434B5C;\n",
              "      box-shadow: 0px 1px 3px 1px rgba(0, 0, 0, 0.15);\n",
              "      filter: drop-shadow(0px 1px 2px rgba(0, 0, 0, 0.3));\n",
              "      fill: #FFFFFF;\n",
              "    }\n",
              "  </style>\n",
              "\n",
              "      <script>\n",
              "        const buttonEl =\n",
              "          document.querySelector('#df-64697d48-aa60-4a37-8e7a-976fc40645f5 button.colab-df-convert');\n",
              "        buttonEl.style.display =\n",
              "          google.colab.kernel.accessAllowed ? 'block' : 'none';\n",
              "\n",
              "        async function convertToInteractive(key) {\n",
              "          const element = document.querySelector('#df-64697d48-aa60-4a37-8e7a-976fc40645f5');\n",
              "          const dataTable =\n",
              "            await google.colab.kernel.invokeFunction('convertToInteractive',\n",
              "                                                     [key], {});\n",
              "          if (!dataTable) return;\n",
              "\n",
              "          const docLinkHtml = 'Like what you see? Visit the ' +\n",
              "            '<a target=\"_blank\" href=https://colab.research.google.com/notebooks/data_table.ipynb>data table notebook</a>'\n",
              "            + ' to learn more about interactive tables.';\n",
              "          element.innerHTML = '';\n",
              "          dataTable['output_type'] = 'display_data';\n",
              "          await google.colab.output.renderOutput(dataTable, element);\n",
              "          const docLink = document.createElement('div');\n",
              "          docLink.innerHTML = docLinkHtml;\n",
              "          element.appendChild(docLink);\n",
              "        }\n",
              "      </script>\n",
              "    </div>\n",
              "  </div>\n",
              "  "
            ]
          },
          "metadata": {},
          "execution_count": 54
        }
      ]
    },
    {
      "cell_type": "code",
      "source": [
        "# validate the data for RFMGroup = 111\n",
        "\n",
        "RFMScores[RFMScores['RFMGroup'] == '111'].sort_values('Monetary', ascending = False).head(5)"
      ],
      "metadata": {
        "id": "mlc6YsuylrIT",
        "colab": {
          "base_uri": "https://localhost:8080/",
          "height": 237
        },
        "outputId": "6d176302-29b1-42b7-a93a-aa7677b26456"
      },
      "execution_count": 55,
      "outputs": [
        {
          "output_type": "execute_result",
          "data": {
            "text/plain": [
              "            Recency  Frequency   Monetary  R  F  M RFMGroup  RFMScore  \\\n",
              "CustomerID                                                              \n",
              "18102.0           0        431  259657.30  1  1  1      111         3   \n",
              "17450.0           8        337  194550.79  1  1  1      111         3   \n",
              "17511.0           2        963   91062.38  1  1  1      111         3   \n",
              "16684.0           4        277   66653.56  1  1  1      111         3   \n",
              "14096.0           4       5111   65164.79  1  1  1      111         3   \n",
              "\n",
              "           RFM_Loyalty_Level  \n",
              "CustomerID                    \n",
              "18102.0             Platinum  \n",
              "17450.0             Platinum  \n",
              "17511.0             Platinum  \n",
              "16684.0             Platinum  \n",
              "14096.0             Platinum  "
            ],
            "text/html": [
              "\n",
              "  <div id=\"df-7f8aa59b-9452-4d26-9eb2-9596383a111a\">\n",
              "    <div class=\"colab-df-container\">\n",
              "      <div>\n",
              "<style scoped>\n",
              "    .dataframe tbody tr th:only-of-type {\n",
              "        vertical-align: middle;\n",
              "    }\n",
              "\n",
              "    .dataframe tbody tr th {\n",
              "        vertical-align: top;\n",
              "    }\n",
              "\n",
              "    .dataframe thead th {\n",
              "        text-align: right;\n",
              "    }\n",
              "</style>\n",
              "<table border=\"1\" class=\"dataframe\">\n",
              "  <thead>\n",
              "    <tr style=\"text-align: right;\">\n",
              "      <th></th>\n",
              "      <th>Recency</th>\n",
              "      <th>Frequency</th>\n",
              "      <th>Monetary</th>\n",
              "      <th>R</th>\n",
              "      <th>F</th>\n",
              "      <th>M</th>\n",
              "      <th>RFMGroup</th>\n",
              "      <th>RFMScore</th>\n",
              "      <th>RFM_Loyalty_Level</th>\n",
              "    </tr>\n",
              "    <tr>\n",
              "      <th>CustomerID</th>\n",
              "      <th></th>\n",
              "      <th></th>\n",
              "      <th></th>\n",
              "      <th></th>\n",
              "      <th></th>\n",
              "      <th></th>\n",
              "      <th></th>\n",
              "      <th></th>\n",
              "      <th></th>\n",
              "    </tr>\n",
              "  </thead>\n",
              "  <tbody>\n",
              "    <tr>\n",
              "      <th>18102.0</th>\n",
              "      <td>0</td>\n",
              "      <td>431</td>\n",
              "      <td>259657.30</td>\n",
              "      <td>1</td>\n",
              "      <td>1</td>\n",
              "      <td>1</td>\n",
              "      <td>111</td>\n",
              "      <td>3</td>\n",
              "      <td>Platinum</td>\n",
              "    </tr>\n",
              "    <tr>\n",
              "      <th>17450.0</th>\n",
              "      <td>8</td>\n",
              "      <td>337</td>\n",
              "      <td>194550.79</td>\n",
              "      <td>1</td>\n",
              "      <td>1</td>\n",
              "      <td>1</td>\n",
              "      <td>111</td>\n",
              "      <td>3</td>\n",
              "      <td>Platinum</td>\n",
              "    </tr>\n",
              "    <tr>\n",
              "      <th>17511.0</th>\n",
              "      <td>2</td>\n",
              "      <td>963</td>\n",
              "      <td>91062.38</td>\n",
              "      <td>1</td>\n",
              "      <td>1</td>\n",
              "      <td>1</td>\n",
              "      <td>111</td>\n",
              "      <td>3</td>\n",
              "      <td>Platinum</td>\n",
              "    </tr>\n",
              "    <tr>\n",
              "      <th>16684.0</th>\n",
              "      <td>4</td>\n",
              "      <td>277</td>\n",
              "      <td>66653.56</td>\n",
              "      <td>1</td>\n",
              "      <td>1</td>\n",
              "      <td>1</td>\n",
              "      <td>111</td>\n",
              "      <td>3</td>\n",
              "      <td>Platinum</td>\n",
              "    </tr>\n",
              "    <tr>\n",
              "      <th>14096.0</th>\n",
              "      <td>4</td>\n",
              "      <td>5111</td>\n",
              "      <td>65164.79</td>\n",
              "      <td>1</td>\n",
              "      <td>1</td>\n",
              "      <td>1</td>\n",
              "      <td>111</td>\n",
              "      <td>3</td>\n",
              "      <td>Platinum</td>\n",
              "    </tr>\n",
              "  </tbody>\n",
              "</table>\n",
              "</div>\n",
              "      <button class=\"colab-df-convert\" onclick=\"convertToInteractive('df-7f8aa59b-9452-4d26-9eb2-9596383a111a')\"\n",
              "              title=\"Convert this dataframe to an interactive table.\"\n",
              "              style=\"display:none;\">\n",
              "        \n",
              "  <svg xmlns=\"http://www.w3.org/2000/svg\" height=\"24px\"viewBox=\"0 0 24 24\"\n",
              "       width=\"24px\">\n",
              "    <path d=\"M0 0h24v24H0V0z\" fill=\"none\"/>\n",
              "    <path d=\"M18.56 5.44l.94 2.06.94-2.06 2.06-.94-2.06-.94-.94-2.06-.94 2.06-2.06.94zm-11 1L8.5 8.5l.94-2.06 2.06-.94-2.06-.94L8.5 2.5l-.94 2.06-2.06.94zm10 10l.94 2.06.94-2.06 2.06-.94-2.06-.94-.94-2.06-.94 2.06-2.06.94z\"/><path d=\"M17.41 7.96l-1.37-1.37c-.4-.4-.92-.59-1.43-.59-.52 0-1.04.2-1.43.59L10.3 9.45l-7.72 7.72c-.78.78-.78 2.05 0 2.83L4 21.41c.39.39.9.59 1.41.59.51 0 1.02-.2 1.41-.59l7.78-7.78 2.81-2.81c.8-.78.8-2.07 0-2.86zM5.41 20L4 18.59l7.72-7.72 1.47 1.35L5.41 20z\"/>\n",
              "  </svg>\n",
              "      </button>\n",
              "      \n",
              "  <style>\n",
              "    .colab-df-container {\n",
              "      display:flex;\n",
              "      flex-wrap:wrap;\n",
              "      gap: 12px;\n",
              "    }\n",
              "\n",
              "    .colab-df-convert {\n",
              "      background-color: #E8F0FE;\n",
              "      border: none;\n",
              "      border-radius: 50%;\n",
              "      cursor: pointer;\n",
              "      display: none;\n",
              "      fill: #1967D2;\n",
              "      height: 32px;\n",
              "      padding: 0 0 0 0;\n",
              "      width: 32px;\n",
              "    }\n",
              "\n",
              "    .colab-df-convert:hover {\n",
              "      background-color: #E2EBFA;\n",
              "      box-shadow: 0px 1px 2px rgba(60, 64, 67, 0.3), 0px 1px 3px 1px rgba(60, 64, 67, 0.15);\n",
              "      fill: #174EA6;\n",
              "    }\n",
              "\n",
              "    [theme=dark] .colab-df-convert {\n",
              "      background-color: #3B4455;\n",
              "      fill: #D2E3FC;\n",
              "    }\n",
              "\n",
              "    [theme=dark] .colab-df-convert:hover {\n",
              "      background-color: #434B5C;\n",
              "      box-shadow: 0px 1px 3px 1px rgba(0, 0, 0, 0.15);\n",
              "      filter: drop-shadow(0px 1px 2px rgba(0, 0, 0, 0.3));\n",
              "      fill: #FFFFFF;\n",
              "    }\n",
              "  </style>\n",
              "\n",
              "      <script>\n",
              "        const buttonEl =\n",
              "          document.querySelector('#df-7f8aa59b-9452-4d26-9eb2-9596383a111a button.colab-df-convert');\n",
              "        buttonEl.style.display =\n",
              "          google.colab.kernel.accessAllowed ? 'block' : 'none';\n",
              "\n",
              "        async function convertToInteractive(key) {\n",
              "          const element = document.querySelector('#df-7f8aa59b-9452-4d26-9eb2-9596383a111a');\n",
              "          const dataTable =\n",
              "            await google.colab.kernel.invokeFunction('convertToInteractive',\n",
              "                                                     [key], {});\n",
              "          if (!dataTable) return;\n",
              "\n",
              "          const docLinkHtml = 'Like what you see? Visit the ' +\n",
              "            '<a target=\"_blank\" href=https://colab.research.google.com/notebooks/data_table.ipynb>data table notebook</a>'\n",
              "            + ' to learn more about interactive tables.';\n",
              "          element.innerHTML = '';\n",
              "          dataTable['output_type'] = 'display_data';\n",
              "          await google.colab.output.renderOutput(dataTable, element);\n",
              "          const docLink = document.createElement('div');\n",
              "          docLink.innerHTML = docLinkHtml;\n",
              "          element.appendChild(docLink);\n",
              "        }\n",
              "      </script>\n",
              "    </div>\n",
              "  </div>\n",
              "  "
            ]
          },
          "metadata": {},
          "execution_count": 55
        }
      ]
    },
    {
      "cell_type": "code",
      "source": [
        "!pip install chart_studio"
      ],
      "metadata": {
        "colab": {
          "base_uri": "https://localhost:8080/"
        },
        "id": "8STxnUbusDOJ",
        "outputId": "c918dc54-c029-4836-dedd-c9f6ed8ea2a2"
      },
      "execution_count": 56,
      "outputs": [
        {
          "output_type": "stream",
          "name": "stdout",
          "text": [
            "Collecting chart_studio\n",
            "  Downloading chart_studio-1.1.0-py3-none-any.whl (64 kB)\n",
            "\u001b[?25l     \u001b[90m━━━━━━━━━━━━━━━━━━━━━━━━━━━━━━━━━━━━━━━━\u001b[0m \u001b[32m0.0/64.4 kB\u001b[0m \u001b[31m?\u001b[0m eta \u001b[36m-:--:--\u001b[0m\r\u001b[2K     \u001b[90m━━━━━━━━━━━━━━━━━━━━━━━━━━━━━━━━━━━━━━━━\u001b[0m \u001b[32m64.4/64.4 kB\u001b[0m \u001b[31m4.3 MB/s\u001b[0m eta \u001b[36m0:00:00\u001b[0m\n",
            "\u001b[?25hRequirement already satisfied: plotly in /usr/local/lib/python3.10/dist-packages (from chart_studio) (5.13.1)\n",
            "Requirement already satisfied: requests in /usr/local/lib/python3.10/dist-packages (from chart_studio) (2.27.1)\n",
            "Collecting retrying>=1.3.3 (from chart_studio)\n",
            "  Downloading retrying-1.3.4-py3-none-any.whl (11 kB)\n",
            "Requirement already satisfied: six in /usr/local/lib/python3.10/dist-packages (from chart_studio) (1.16.0)\n",
            "Requirement already satisfied: tenacity>=6.2.0 in /usr/local/lib/python3.10/dist-packages (from plotly->chart_studio) (8.2.2)\n",
            "Requirement already satisfied: urllib3<1.27,>=1.21.1 in /usr/local/lib/python3.10/dist-packages (from requests->chart_studio) (1.26.16)\n",
            "Requirement already satisfied: certifi>=2017.4.17 in /usr/local/lib/python3.10/dist-packages (from requests->chart_studio) (2023.5.7)\n",
            "Requirement already satisfied: charset-normalizer~=2.0.0 in /usr/local/lib/python3.10/dist-packages (from requests->chart_studio) (2.0.12)\n",
            "Requirement already satisfied: idna<4,>=2.5 in /usr/local/lib/python3.10/dist-packages (from requests->chart_studio) (3.4)\n",
            "Installing collected packages: retrying, chart_studio\n",
            "Successfully installed chart_studio-1.1.0 retrying-1.3.4\n"
          ]
        }
      ]
    },
    {
      "cell_type": "code",
      "source": [
        "import chart_studio as cs\n",
        "import plotly.offline as po\n",
        "import plotly.graph_objs as gobj\n",
        "\n",
        "# Recency vs Frequency\n",
        "\n",
        "graph = RFMScores.query(\"Monetary < 50000 and Frequency < 2000\")\n",
        "\n",
        "plot_data = [\n",
        "    gobj.Scatter(\n",
        "        x = graph.query(\"RFM_Loyalty_Level == 'Bronze'\")['Recency'],\n",
        "        y = graph.query(\"RFM_Loyalty_Level == 'Bronze'\")['Frequency'],\n",
        "        mode = 'markers',\n",
        "        name = 'Bronze',\n",
        "        marker = dict(size = 7,\n",
        "                      line = dict(width=1),\n",
        "        color = 'blue',\n",
        "        opacity = 0.8)\n",
        "    ),\n",
        "\n",
        "    gobj.Scatter(\n",
        "        x = graph.query(\"RFM_Loyalty_Level == 'Silver'\")['Recency'],\n",
        "        y = graph.query(\"RFM_Loyalty_Level == 'Silver'\")['Frequency'],\n",
        "        mode = 'markers',\n",
        "        name = 'Silver',\n",
        "        marker = dict(size = 9,\n",
        "                      line = dict(width=1),\n",
        "        color = 'green',\n",
        "        opacity = 0.5)\n",
        "    ),\n",
        "\n",
        "    gobj.Scatter(\n",
        "        x = graph.query(\"RFM_Loyalty_Level == 'Gold'\")['Recency'],\n",
        "        y = graph.query(\"RFM_Loyalty_Level == 'Gold'\")['Frequency'],\n",
        "        mode = 'markers',\n",
        "        name = 'Gold',\n",
        "        marker = dict(size = 11,\n",
        "                      line = dict(width=1),\n",
        "        color = 'red',\n",
        "        opacity = 0.9)\n",
        "    ),\n",
        "\n",
        "    gobj.Scatter(\n",
        "        x = graph.query(\"RFM_Loyalty_Level == 'Platinum'\")['Recency'],\n",
        "        y = graph.query(\"RFM_Loyalty_Level == 'Platinum'\")['Frequency'],\n",
        "        mode = 'markers',\n",
        "        name = 'Platinum',\n",
        "        marker = dict(size = 13,\n",
        "                      line = dict(width=1),\n",
        "        color = 'black',\n",
        "        opacity = 0.9)\n",
        "    )\n",
        "]"
      ],
      "metadata": {
        "id": "EcWGOaLblq6D"
      },
      "execution_count": 57,
      "outputs": []
    },
    {
      "cell_type": "code",
      "source": [
        "plot_layout = gobj.Layout(\n",
        "    yaxis = {'title' : \"Frequency\"},\n",
        "    xaxis = {'title' : \"Recency\"},\n",
        "    title = 'Segments')\n",
        "fig = gobj.Figure(data = plot_data, layout = plot_layout)\n",
        "po.iplot(fig)"
      ],
      "metadata": {
        "id": "sbaAXLd_wcIo",
        "colab": {
          "base_uri": "https://localhost:8080/",
          "height": 542
        },
        "outputId": "6231a444-9050-422b-b29e-02db37c04f8a"
      },
      "execution_count": 58,
      "outputs": [
        {
          "output_type": "display_data",
          "data": {
            "text/html": [
              "<html>\n",
              "<head><meta charset=\"utf-8\" /></head>\n",
              "<body>\n",
              "    <div>            <script src=\"https://cdnjs.cloudflare.com/ajax/libs/mathjax/2.7.5/MathJax.js?config=TeX-AMS-MML_SVG\"></script><script type=\"text/javascript\">if (window.MathJax && window.MathJax.Hub && window.MathJax.Hub.Config) {window.MathJax.Hub.Config({SVG: {font: \"STIX-Web\"}});}</script>                <script type=\"text/javascript\">window.PlotlyConfig = {MathJaxConfig: 'local'};</script>\n",
              "        <script src=\"https://cdn.plot.ly/plotly-2.18.2.min.js\"></script>                <div id=\"0cf56c84-daa6-4414-9da4-a3577eb35f72\" class=\"plotly-graph-div\" style=\"height:525px; width:100%;\"></div>            <script type=\"text/javascript\">                                    window.PLOTLYENV=window.PLOTLYENV || {};                                    if (document.getElementById(\"0cf56c84-daa6-4414-9da4-a3577eb35f72\")) {                    Plotly.newPlot(                        \"0cf56c84-daa6-4414-9da4-a3577eb35f72\",                        [{\"marker\":{\"color\":\"blue\",\"line\":{\"width\":1},\"opacity\":0.8,\"size\":7},\"mode\":\"markers\",\"name\":\"Bronze\",\"x\":[214,336,262,173,294,372,138,282,143,275,214,185,204,264,311,306,112,197,156,85,318,105,56,323,372,357,273,249,253,72,191,373,82,192,266,179,70,99,234,133,372,238,77,94,261,273,332,313,64,267,337,135,267,127,200,273,201,225,112,263,366,113,78,59,330,359,137,268,155,120,64,71,365,280,203,63,149,91,259,165,252,184,99,200,232,65,241,71,243,260,126,73,78,319,215,243,309,306,312,173,252,120,179,60,301,151,187,285,182,59,155,318,218,246,269,246,217,162,373,288,151,218,103,250,367,66,255,63,367,176,211,252,168,57,326,74,63,86,71,325,351,294,169,65,360,145,70,287,206,60,213,211,277,60,176,266,284,124,65,266,266,320,364,56,324,154,72,273,143,133,233,266,173,275,331,218,94,373,326,183,234,278,318,141,154,225,196,213,222,106,242,163,242,218,274,164,215,365,319,295,358,191,296,218,119,362,218,302,98,365,306,190,310,74,257,281,175,183,187,64,108,259,185,280,372,276,371,242,57,262,58,201,187,208,264,218,214,198,147,274,297,58,112,319,63,166,52,51,75,369,197,64,366,267,148,52,261,336,253,157,74,245,72,253,270,247,57,246,159,172,199,273,319,213,372,256,281,311,134,245,239,239,225,357,320,322,260,367,92,357,241,87,176,366,318,358,310,276,298,148,283,323,106,338,354,172,201,95,110,326,283,52,332,366,72,373,361,372,128,213,172,325,112,289,189,264,171,323,254,248,264,330,362,94,92,81,330,155,233,254,163,288,217,277,351,151,162,70,53,78,52,336,184,51,52,317,106,217,296,117,119,252,264,201,283,234,364,201,212,212,282,77,304,218,245,319,372,303,186,277,60,80,253,149,194,368,173,178,247,373,372,194,239,64,311,276,365,74,303,366,211,373,173,220,297,283,81,106,264,240,248,65,143,183,170,189,317,367,246,296,281,252,59,138,60,78,80,235,203,225,170,61,176,339,169,126,330,217,196,157,284,158,290,332,197,53,322,312,302,191,263,106,64,198,149,87,218,177,73,74,274,192,161,296,372,277,171,81,53,164,242,364,182,373,248,232,68,285,219,186,235,263,245,222,105,169,368,189,362,366,72,241,262,297,176,372,214,318,294,74,372,282,57,192,360,93,156,184,128,52,186,368,59,140,84,187,299,290,276,371,109,239,87,116,187,226,267,218,149,185,63,266,78,322,261,165,288,317,119,161,185,334,239,51,284,289,217,201,226,273,53,253,234,182,312,204,362,107,208,241,57,308,95,280,123,302,94,355,86,179,311,238,65,163,219,163,71,253,156,176,203,365,158,79,248,358,75,220,308,361,359,190,53,280,177,269,233,205,71,242,218,236,239,173,59,81,276,373,65,277,227,263,358,137,141,260,185,187,169,320,200,232,240,112,359,263,254,159,53,281,51,303,185,372,304,323,204,170,173,304,129,212,162,225,159,190,247,282,372,159,233,147,249,171,166,241,365,56,185,225,281,362,235,256,373,155,51,334,154,53,203,359,289,185,373,274,254,368,290,367,214,243,295,140,177,60,249,192,261,165,157,236,89,226,263,217,325,89,140,134,366,58,73,277,180],\"y\":[6,11,9,12,17,3,3,4,2,7,5,3,4,10,8,19,5,8,9,3,7,6,4,14,3,11,13,8,15,10,11,14,15,9,7,6,6,1,8,1,10,1,15,2,3,7,3,8,17,1,37,3,5,5,5,16,9,10,13,11,1,16,9,7,13,10,5,5,1,1,14,10,14,15,1,16,8,13,2,17,9,17,10,15,11,10,8,17,12,15,10,4,8,4,14,27,10,24,19,13,19,5,13,12,6,16,3,30,8,9,14,1,13,10,21,12,6,25,1,9,12,7,9,17,7,13,17,10,7,10,19,1,14,11,28,7,7,3,16,12,7,16,9,5,3,2,15,11,10,11,16,15,11,6,28,21,14,4,6,8,7,24,29,14,1,21,9,15,3,7,3,6,25,25,3,2,10,9,8,10,16,20,8,5,17,10,8,16,17,8,8,12,14,6,18,1,6,11,8,4,4,11,7,5,8,23,3,17,9,5,9,22,4,7,19,9,17,10,23,16,12,19,5,29,1,19,3,3,13,8,2,30,2,13,8,22,8,1,29,10,5,11,9,6,2,6,12,13,11,30,4,13,2,4,13,6,13,10,7,17,9,10,14,12,5,13,11,8,12,20,5,3,30,5,1,5,15,17,1,14,9,13,14,4,41,11,3,6,10,9,5,2,9,5,5,14,8,14,15,6,7,10,12,6,19,16,25,12,1,1,16,10,17,5,9,5,7,16,3,8,1,7,14,6,8,34,10,6,17,2,5,9,25,11,2,13,1,7,27,26,24,28,17,14,1,39,13,5,14,2,17,13,16,6,15,5,9,1,12,10,9,2,5,6,6,7,41,11,5,14,10,3,1,7,7,17,1,8,22,15,12,12,41,11,24,4,7,19,12,11,21,12,12,7,1,6,2,7,11,4,8,8,10,8,1,1,10,1,12,10,13,6,16,30,8,30,11,13,1,1,14,2,3,8,11,6,14,15,8,6,16,7,2,11,8,11,14,3,1,11,20,2,9,8,31,5,4,10,5,5,9,2,8,20,11,14,9,33,3,2,13,19,15,13,13,17,15,14,5,3,17,3,9,14,8,13,10,10,6,10,5,14,5,9,12,14,8,2,9,3,12,21,37,1,13,9,13,7,1,16,17,12,16,15,15,8,11,12,10,14,8,10,6,11,3,38,37,8,9,14,16,16,7,14,7,26,2,1,4,4,11,5,2,14,1,12,9,10,7,9,32,14,15,9,10,16,4,15,10,29,7,4,9,14,15,9,39,16,23,15,9,1,12,6,1,11,9,17,1,9,19,34,2,3,4,2,2,17,5,9,8,17,9,14,12,10,17,18,11,6,9,14,9,13,3,25,5,6,12,8,5,29,9,3,4,5,7,8,7,22,11,16,19,16,15,8,5,35,7,10,1,6,6,1,1,1,3,12,13,14,13,37,15,17,25,11,10,12,6,8,10,21,34,16,32,6,12,1,1,12,20,1,1,26,14,31,12,1,13,5,2,40,32,14,28,31,5,5,19,7,7,5,1,18,13,7,17,1,28,30,17,14,8,10,10,9,17,15,7,16,19,15,13,2,10,5,1,6,13,1,7,8,9,10,7],\"type\":\"scatter\"},{\"marker\":{\"color\":\"green\",\"line\":{\"width\":1},\"opacity\":0.5,\"size\":9},\"mode\":\"markers\",\"name\":\"Silver\",\"x\":[59,145,282,267,96,52,84,326,44,88,30,176,148,128,161,64,78,25,288,7,9,211,242,18,73,292,31,196,106,173,7,54,291,99,64,212,24,4,157,70,39,138,269,196,39,26,22,283,63,26,45,11,18,61,15,93,122,81,261,203,92,50,124,156,14,61,61,268,31,63,15,155,169,351,72,81,316,157,177,287,70,10,66,60,257,268,63,50,256,371,89,329,74,185,192,127,17,1,74,107,74,1,255,23,29,60,236,233,57,105,311,282,64,316,30,78,205,182,85,19,173,205,50,63,35,52,47,64,26,318,116,15,215,256,35,164,149,50,75,151,63,38,302,271,31,219,200,18,240,287,54,81,75,127,309,66,52,301,144,22,19,159,64,92,247,58,119,358,189,204,119,92,297,50,49,53,23,74,169,57,109,263,179,35,79,176,154,21,21,308,14,30,110,77,155,225,121,63,284,33,305,106,32,129,124,32,36,137,84,319,129,373,78,220,33,297,66,201,106,239,89,42,4,247,177,80,331,73,51,8,40,18,117,242,64,206,114,124,67,161,38,260,5,43,22,185,52,9,149,310,22,99,50,180,110,98,253,11,164,50,207,25,50,311,309,88,100,1,57,64,150,311,18,151,57,85,1,16,40,50,305,10,274,72,245,205,184,266,50,21,170,156,77,169,86,26,24,71,106,24,373,249,43,87,75,263,46,29,17,280,54,26,10,28,21,61,180,196,53,10,311,24,119,19,29,7,185,210,19,26,131,252,207,148,204,91,32,14,79,147,49,30,128,37,19,198,211,170,43,33,266,71,89,170,31,151,269,275,308,67,215,42,182,84,333,245,133,22,65,169,240,133,75,45,373,25,331,71,66,154,70,60,59,225,318,225,234,239,113,74,65,238,122,127,168,135,64,23,66,46,49,64,290,274,199,64,44,103,333,208,156,53,129,87,158,29,39,21,169,40,186,16,92,148,313,85,24,38,15,23,213,22,262,131,312,283,262,25,354,29,51,77,161,362,171,44,84,24,33,173,11,114,54,24,50,18,176,255,36,141,116,17,134,191,157,204,336,91,92,243,22,43,50,39,81,52,28,266,143,66,49,134,40,235,51,24,65,64,115,68,133,241,183,10,358,149,142,51,207,172,50,64,58,46,51,18,25,101,312,198,92,156,226,190,154,172,67,112,133,84,165,30,19,3,54,245,47,260,43,91,309,196,269,54,260,365,288,299,154,61,218,211,51,262,88,249,157,133,232,50,73,67,15,40,236,75,360,58,88,267,189,71,78,56,261,266,116,373,196,176,100,121,268,138,213,3,36,75,63,267,247,89,269,94,264,70,53,56,21,302,57,213,28,67,135,197,44,164,88,25,173,360,19,30,61,25,3,190,290,35,24,194,3,71,113,71,75,15,4,40,74,70,182,3,274,79,245,42,71,141,19,43,75,256,135,226,78,266,369,26,364,53,46,58,372,65,96,198,273,260,57,80,19,8,365,89,65,173,99,103,95,227,51,227,39,197,50,43,333,10,14,77,66,35,366,64,72,36,61,115,53,211,235,138,30,184,189,77,60,5,288,18,30,31,45,60,110,245,30,137,113,157,194,130,313,22,47,233,50,106,275,247,194,24,75,21,38,78,57,46,58,53,53,31,65,310,308,35,18,52,127,107,35,101,361,138,22,85,46,303,11,239,72,218,199,70,19,77,306,36,184,79,128,32,313,1,192,94,10,77,65,261,58,289,75,261,72,128,53,25,23,197,359,129,332,252,17,78,217,130,312,169,19,86,21,141,74,23,43,236,252,168,372,9,113,178,21,158,198,56,72,85,73,29,179,73,36,33,47,218,368,142,107,364,322,56,44,23,85,29,21,373,310,133,45,138,130,7,37,198,66,116,142,371,373,211,51,372,29,165,145,236,28,81,108,152,98,4,65,70,288,9,173,133,75,257,217,36,16,330,61,312,127,37,329,149,60,212,157,45,50,75,301,57,7,358,227,15,82,106,28,326,211,92,81,46,23,17,310,38,2,30,43,7],\"y\":[25,24,18,27,50,5,11,66,10,7,34,2,22,2,28,29,25,9,23,16,10,22,28,4,28,92,13,28,31,26,1,37,33,18,14,18,8,6,22,25,8,30,50,1,6,17,4,41,13,32,11,2,29,29,8,22,4,2,22,58,27,16,26,36,1,87,8,9,15,30,8,42,20,21,11,12,17,19,19,20,8,16,16,24,90,29,23,1,29,39,23,35,13,21,26,39,3,11,27,18,10,12,54,19,17,21,64,23,34,14,18,19,22,26,5,15,22,76,37,38,44,33,26,8,16,26,40,23,27,23,19,8,66,23,6,49,87,9,25,25,6,12,20,51,8,38,30,3,23,35,57,22,31,11,33,23,13,36,59,15,3,29,9,5,20,30,23,18,28,19,40,15,21,17,18,20,11,21,9,17,23,31,26,7,11,39,33,12,11,35,15,5,34,39,22,28,16,15,38,6,85,10,13,46,12,4,21,26,5,67,28,22,5,28,26,31,24,7,6,20,9,12,7,21,41,15,29,33,29,9,5,3,13,20,24,31,36,28,15,31,6,18,9,41,41,75,56,14,25,14,14,29,17,40,16,6,18,13,30,14,30,7,6,19,29,7,12,4,10,19,4,56,10,58,21,16,12,17,6,29,25,7,2,4,20,26,21,20,16,7,31,30,29,80,30,4,14,7,15,10,71,18,5,30,19,21,6,39,5,41,27,15,3,6,14,59,70,17,40,6,21,9,20,11,11,4,36,28,17,11,15,18,20,33,43,12,11,3,20,42,6,37,18,21,41,87,40,75,35,20,70,7,27,67,3,12,22,25,23,30,26,11,3,23,3,28,21,15,16,22,28,23,85,7,27,5,5,23,16,29,21,19,13,20,24,20,23,23,31,22,34,33,6,18,34,19,23,2,52,12,3,28,31,19,24,37,36,49,29,16,99,36,24,21,72,14,13,4,41,12,31,12,12,42,48,28,8,2,6,10,41,29,45,25,28,60,58,7,58,7,24,29,88,70,46,15,10,1,4,75,15,29,81,31,8,7,31,29,6,19,34,15,25,33,35,25,2,21,6,34,1,11,17,13,21,12,12,22,19,8,9,28,21,10,28,9,37,11,27,25,18,21,29,14,25,42,1,8,40,20,10,24,27,11,30,14,18,45,29,23,18,93,62,40,60,25,21,18,14,24,98,14,27,3,35,86,32,76,32,16,29,22,39,34,23,74,23,38,18,29,18,34,16,21,30,37,29,22,6,15,11,15,11,6,19,15,18,35,23,37,35,22,20,19,24,13,25,67,33,6,23,17,20,22,41,16,10,15,39,5,23,33,45,29,60,23,35,31,7,21,6,83,17,24,36,40,2,18,28,17,25,19,3,6,40,13,17,30,25,17,11,35,5,28,6,33,53,12,7,31,34,30,26,9,23,20,27,19,24,29,32,10,13,3,10,5,19,2,45,27,46,1,1,34,2,22,13,23,34,40,26,50,3,5,66,18,24,98,23,28,26,38,22,24,11,25,11,12,19,9,2,7,1,37,45,69,18,38,60,6,53,33,21,19,1,25,21,39,22,7,12,11,15,7,3,9,2,28,22,15,22,22,43,13,70,8,30,18,40,24,24,20,14,14,23,5,12,15,23,2,19,40,13,25,28,49,21,25,18,12,38,6,27,30,53,14,6,28,32,59,15,35,33,28,69,24,15,15,62,33,13,14,39,14,43,9,61,29,5,29,21,24,29,40,14,88,6,40,30,9,6,42,43,2,29,45,13,11,63,14,77,26,20,5,8,45,27,11,15,19,24,31,18,10,15,35,25,57,38,54,67,72,5,10,46,10,17,2,24,26,58,9,40,26,94,28,16,2,28,19,38,58,38,21,23,29,2,2,9,19,31,7,35,48,85,31,15,65,21,30,48,29,32,3,29,21,21,9,34,20,19,3,27,7,10,25,29,17,1,29,39,21,19,18,39,32,56,1,15,7,16,25,23,39,1,30,37,1,7,32,8,43,21,19,37,6,4,8,21,11,3,11,14,12],\"type\":\"scatter\"},{\"marker\":{\"color\":\"red\",\"line\":{\"width\":1},\"opacity\":0.9,\"size\":11},\"mode\":\"markers\",\"name\":\"Gold\",\"x\":[70,74,5,37,32,143,70,29,22,31,134,78,210,185,236,9,24,63,67,24,42,18,17,88,24,64,54,131,35,143,9,89,358,157,29,23,23,22,73,64,1,113,22,30,52,73,138,80,30,78,24,10,129,126,4,28,275,21,3,44,59,21,19,94,23,85,22,108,19,10,295,5,33,94,122,46,18,21,4,46,39,95,19,58,56,78,240,74,212,24,17,96,17,92,9,11,53,37,40,122,18,38,189,1,103,22,28,4,22,1,78,17,3,31,92,14,77,200,260,16,71,122,80,88,99,26,131,29,72,24,133,43,4,108,19,10,18,67,23,24,38,58,191,178,37,78,51,10,23,16,72,21,85,40,14,33,43,39,12,96,25,28,7,81,84,144,17,23,14,155,14,64,45,29,40,89,40,30,59,99,67,36,52,74,31,45,114,10,205,85,18,24,7,267,281,116,36,131,38,28,36,135,28,71,2,95,95,53,124,33,50,63,70,7,4,116,138,5,18,57,25,11,24,51,129,95,57,31,54,26,23,16,183,37,11,49,92,10,95,23,11,217,1,79,49,73,26,17,65,45,134,115,198,52,46,16,7,22,28,78,109,8,31,19,29,63,40,101,302,2,73,239,30,14,19,7,122,60,46,2,46,35,75,239,19,40,215,87,70,39,98,10,86,67,18,60,2,16,30,92,110,51,183,49,75,30,219,110,260,50,162,98,30,21,51,22,21,127,120,10,157,79,19,108,44,26,38,65,65,130,107,71,92,42,91,57,17,21,53,18,9,60,10,155,148,246,17,11,46,71,19,38,67,23,22,61,33,24,37,60,236,15,58,75,56,179,3,169,35,21,7,44,9,196,91,50,36,67,67,5,19,60,241,280,234,44,137,14,2,29,24,43,5,24,47,3,42,197,16,112,29,44,15,144,232,58,127,7,162,8,15,36,200,73,21,10,29,23,36,59,25,3,107,77,18,79,85,25,2,35,70,115,212,30,50,23,19,25,12,64,8,96,14,68,107,57,15,38,46,47,147,51,35,53,38,33,80,30,8,256,72,58,65,71,53,78,46,179,93,105,77,172,212,22,21,103,4,8,31,196,23,29,18,50,114,60,18,127,52,46,164,10,31,18,68,29,14,119,2,10,87,85,10,60,46,36,217,29,134,36,66,100,151,22,57,37,22,29,10,67,60,64,75,3,70,85,39,32,66,80,0,45,254,95,75,57,137,169,31,26,9,58,26,54,26,30,29,338,85,9,50,2,113,14,40,22,28,17,52,189,1,32,19,7,4,36,60,28,11,103,11,31,177,37,68,24,50,46,100,35,26,36,61,28,32,10,56,4,103,74,45,89,166,18,36,9,45,190,168,40,49,25,4,17,172,63,11,145,24,11,15,65,114,19,61,65,31,5,25,10,14,113,75,107,46,46,50,306,36,78,107,63,44,3,56,99,37,58,254,44,33,72,38,19,136,22,40,32,369,2,23,8,19,21,89,82,16,8,33,31,19,23,2,77,88,123,44,88,2,23,22,35,39,12,29,92,87,7,65,30,22,37,119,32,145,45,65,22,44,16,100,59,114,87,50,70,84,8,59,57,73,39,51,21,59,18,65,4,268,15,65,17,95,126,94,72,64,16,44,23,30,54,25,44,88,19,170,36,318,57,87,43,40,33,211,23,52,50,73,71,353,72,22,37,106,17,119,35,1,128,46,17,107,16,44,21,17,33,32,18,2,82,33,66,61,74,60,28,53,56,60,154,19,18,19,44,26,112,24,46,33,63,21,23,51,10,75,15,77,33,46,79,296,4,106,25,31,4,186,22,17,5,110,95,163,42,26,5,53,15,26,127,84,80,50,61,36,32,15,51,80,73,32,31,4,177,16,68,15,28,54,72,4,61,68,37,45,84,218,91,302,52,31,52,37,44,30,114,19,47,57,67,60,100,123,163,23,103,142,4,15,38,38,100,4,23,144,31,66,37,194,1,26,116,29,81,9,23,156,21,26,1,54,25,56,134,17,38,4,39,38,255,29,7,30,23,85,46,50,8,40,78,11,86,16,87,26,25,85,117,28,28,81,73,21,58,114,36,36,25,109,123,22,18,159,8,3,152,105,17,7,32,57,44,178,56,106,35,29,23,175,60,7,18,96,264,2,25,11,108,53,15,120,3,116,4,40,148,138,2,227,130,21,28,17,21,78,31,46,100,14,151,156,15,36,129,50,24,49,17,40,11,4,14,19,39,22,114,333,12,43,42,50,46,19,18,88,40,17,126,15,60,10,44,191,7,17,9,2,206,161,24,31,29,11,4,53,29,24,43,60,19,14,94,19,24,29,4,7,109,100,85,12,213,33,57,21,32,1,31,31,119,219,60,138,36,73,25,18,3,1,52,127,131,35,10,44,26,127,71,79,38,53,9,32,50,15,10,96,21,152,25,40,82,11,4,71,1,49,2,42,85,81,372,11,1,30,80,185,43,12,21,71,172,71,9,58,3,45,88,64,11,35,134,29,51,5,49,72,39,31,37,22,11,121,37,12,3,23,70,4,21,35,32,19,24,45,23,40,114,18,25,98,93,81,11,37,19,12,67,25,24,19,29,63,116,32,134,3,9,37,23,176,33,58,86,31,128,24,77,71,95,199,36,25,31,29,22,56,192,29,218,72,122,87,50,172,43,25,72],\"y\":[46,5,25,38,27,113,34,52,91,51,78,110,46,107,47,13,42,71,82,82,22,72,28,30,106,47,99,75,30,97,17,109,19,20,20,31,27,59,47,40,40,26,45,10,71,27,48,28,35,76,48,2,22,73,18,21,159,24,20,58,47,76,79,55,44,98,63,46,23,4,74,15,85,79,79,42,65,46,43,72,79,63,46,149,90,21,66,43,58,36,31,67,25,23,13,38,91,96,46,85,37,31,54,2,81,54,72,26,78,20,106,25,21,17,53,21,51,54,42,40,51,32,42,37,53,97,35,43,38,28,24,19,28,78,29,74,49,46,59,46,27,41,86,58,79,69,86,35,65,18,59,44,38,27,6,66,25,87,98,124,51,34,33,82,49,83,85,46,23,53,21,58,99,43,98,74,44,81,92,11,62,63,101,40,28,63,56,16,104,53,65,53,28,48,105,43,28,85,42,20,63,43,33,34,41,72,28,24,76,25,70,15,208,57,45,39,60,96,40,93,55,20,55,101,93,81,23,61,36,27,27,19,43,26,33,30,41,27,58,45,35,137,25,92,28,54,16,13,41,39,47,30,42,20,66,39,31,89,66,92,6,32,54,56,80,52,42,65,153,69,35,74,34,10,72,15,44,46,26,40,11,26,49,52,48,41,108,52,29,52,58,29,42,42,39,37,44,24,67,60,118,40,50,35,79,42,108,75,53,52,55,64,32,27,33,26,21,71,60,31,47,33,55,69,46,131,59,45,73,20,73,54,194,43,97,27,1,12,93,70,20,109,62,37,180,130,90,43,29,42,10,47,46,96,57,73,18,17,18,229,64,32,111,69,33,235,24,100,164,152,53,50,16,53,24,41,28,26,102,29,99,90,170,132,61,50,68,22,28,25,71,55,37,52,45,17,54,89,26,69,89,41,38,71,52,60,35,30,44,12,47,53,63,48,29,29,42,28,66,60,48,98,47,47,53,6,23,20,30,87,77,45,57,78,44,63,19,55,85,59,27,83,38,34,32,72,4,61,26,77,158,144,20,128,31,72,61,35,48,52,127,130,97,57,42,82,104,70,26,42,27,49,47,33,57,47,25,8,35,69,35,84,21,28,82,102,52,29,80,26,91,20,22,29,103,63,19,51,1,32,69,37,9,52,35,58,143,50,89,44,47,77,82,11,63,41,20,58,39,7,23,58,47,33,95,42,57,13,86,17,26,20,63,29,44,95,27,194,53,99,39,53,82,62,60,30,58,157,57,52,24,77,76,11,46,50,35,15,97,92,18,57,83,41,61,29,56,20,27,31,57,104,168,45,51,44,9,24,77,22,52,67,77,60,45,3,100,16,64,49,60,25,238,52,32,21,47,48,116,33,33,53,19,18,86,55,35,118,128,91,32,70,26,62,192,45,61,10,20,35,12,8,98,119,64,31,48,208,35,89,41,49,62,33,68,51,39,68,54,50,62,47,22,97,80,20,40,76,105,49,51,30,143,74,76,29,19,41,91,42,28,84,20,49,43,37,52,130,9,33,90,94,28,64,28,100,55,26,65,6,71,39,83,84,70,68,180,33,21,21,31,39,51,67,39,76,48,16,30,212,38,40,78,35,37,31,35,18,29,18,20,34,69,23,58,28,45,31,67,57,98,63,19,66,46,41,44,97,137,96,47,37,46,51,91,90,69,18,61,45,54,17,27,4,42,37,69,19,37,118,18,39,153,47,38,57,28,34,81,18,76,228,97,111,32,102,59,88,34,83,210,82,73,63,45,54,71,51,18,84,63,99,82,182,170,35,53,18,42,29,39,56,50,11,84,86,4,35,156,77,4,31,55,32,84,52,57,31,19,18,87,57,42,28,27,85,29,66,33,29,48,64,69,50,34,62,16,53,20,6,98,44,30,62,60,123,27,79,93,43,151,82,28,53,42,95,25,170,89,54,145,48,76,60,155,76,60,103,67,28,26,28,23,63,20,19,52,26,39,26,135,99,162,44,60,93,57,143,327,83,54,44,62,57,42,86,16,101,31,42,41,87,3,12,37,23,49,44,52,74,16,153,22,28,30,75,70,6,65,43,92,83,62,99,78,62,64,25,28,64,52,187,74,65,90,39,35,260,35,20,13,67,54,63,80,128,61,32,29,96,57,103,63,47,47,69,36,29,19,40,31,55,69,57,87,112,78,124,127,80,69,94,45,69,51,66,55,24,9,73,33,543,183,87,27,8,16,45,29,87,57,83,51,47,78,27,92,38,113,41,6,30,30,26,43,48,54,36,19,19,54,27,41,78,181,27,5,28,38,127,52,20,87,45,33,19,47,75,25,145,49,106,34,27,46,49,25,50,35,214,23,50,83,55,59,100,26,33,39,70,35,40,51,91,52,44,82,19,43,18,15,30,46,35,55,23,29,50,10,40,67,35,43,25,19,75,21,53,156,82,134,58,82,140,43,33,48,23,61,61,56,1,51,297,24,15,79,44,46,26,64,67,193,114,34,39,59,80,94,23,145,5,39,65,90,21,77,19,71,20,104,68,23,38,81,93,58,60,22,30,46,112,53,96,19,121,47,19,37,73,2,73,2,36,70,41,38,46,26,378,74,36,47,20,38,61,37,38,21,34,24,37,131,38,54,31,74,97,44,68,45,141,68,32,42,26,31,64,30,124,49,88,78,47,16,98,134,21,61,46],\"type\":\"scatter\"},{\"marker\":{\"color\":\"black\",\"line\":{\"width\":1},\"opacity\":0.9,\"size\":13},\"mode\":\"markers\",\"name\":\"Platinum\",\"x\":[2,3,3,2,2,59,33,2,4,65,7,26,3,8,11,39,23,2,4,138,8,9,4,35,21,2,17,15,16,30,2,8,5,1,9,8,7,3,0,3,4,4,11,9,1,10,53,16,4,11,8,31,14,14,12,0,1,3,11,8,32,1,1,31,0,11,89,4,56,10,16,84,29,14,49,8,36,16,26,7,14,11,10,3,9,30,10,19,60,3,4,12,18,1,11,2,17,1,23,7,4,7,1,37,66,5,36,38,82,45,67,9,17,33,60,31,30,11,1,1,11,40,64,0,10,5,14,16,26,26,17,7,10,1,1,45,17,7,17,3,8,1,59,1,33,33,2,1,66,73,5,40,12,10,25,15,11,108,5,1,12,24,23,5,24,33,16,9,16,43,9,2,1,17,2,31,26,5,3,32,15,49,24,5,16,3,2,11,2,2,64,33,0,12,9,1,30,5,32,16,5,58,8,1,18,7,123,2,22,53,21,3,2,10,7,1,28,72,79,57,1,17,21,2,7,5,7,18,31,39,29,4,19,12,42,3,15,10,43,9,18,7,2,40,26,16,0,1,23,4,9,3,4,4,2,7,12,16,5,51,3,22,3,3,10,1,2,1,1,3,8,19,59,8,40,10,30,2,1,4,10,105,53,11,3,1,42,28,26,42,22,43,8,7,1,64,9,8,3,23,8,11,1,7,3,17,8,71,88,8,46,44,10,17,16,16,45,31,8,32,10,10,2,2,4,33,10,1,3,10,0,23,7,9,8,0,0,18,5,66,29,103,18,26,7,42,26,19,3,47,17,17,11,17,31,19,2,25,24,2,60,9,28,24,5,3,10,19,10,7,3,95,3,12,5,18,15,19,11,15,4,1,32,23,4,52,24,4,1,8,17,8,28,10,3,16,31,25,25,7,30,4,1,32,10,1,11,15,14,10,9,1,10,1,8,16,3,4,11,9,4,8,2,51,16,2,1,47,39,40,3,17,89,53,43,63,21,58,78,12,10,3,8,12,9,7,7,23,11,21,2,3,29,59,10,9,35,72,115,15,12,8,11,3,9,4,4,15,9,19,9,25,23,4,12,25,40,8,37,9,7,10,18,18,17,9,30,17,14,7,25,50,14,2,8,4,17,9,1,3,1,8,18,1,1,3,25,1,1,10,51,66,1,10,44,66,31,9,16,15,7,4,58,43,4,25,50,2,50,12,31,4,25,40,8,40,8,14,4,9,16,1,33,84,64,19,33,8,12,1,9,1,19,15,1,30,95,32,21,2,8,15,22,11,33,12,64,40,2,18,22,21,8,25,9,7,77,12,22,2,7,4,120,23,15,11,8,9,10,43,4,15,4,105,25,18,88,73,18,24,9,8,0,33,2,140,35,40,9,32,35,16,14,18,16,12,2,39,10,88,9,32,46,26,43,1,0,23,22,16,49,73,70,11,17,4,4,15,40,12,8,5,14,63,1,1,16,9,19,3,0,16,4,8,31,15,24,17,17,39,17,24,22,2,12,8,36,29,12,47,8,3,37,3,3,46,16,46,5,40,16,9,16,3,56,23,11,42,7,17,45,9,29,17,3,3,8,42,49,8,1,10,8,50,15,100,22,31,2,4,3,1,29,44,24,9,8,66,16,45,17,9,2,21,5,31,21,9,25,64,5,14,28,7,24,11,32,3,1,7,4,9,11,17,37,18,8,4,2,1,12,36,44,17,2,29,5,7,1,99,2,28,19,33,7,63,3,8,49,21,52,1,2,19,2,10,108,66,0,15,4,4,17,15,31,0,29,17,22,58,16,17,22,9,23,16,2,33,2,47,1,8,8,0,19,3,9,18,23,14,17,26,46,38,78,29,11,86,4,17,7,3,30,33,10,2,10,3,29,1,11,23,8,14,2,10,1,31,8,36,42,22,22,4,67,12,30,15,1,7,16,4,5,29,4,28,49,12,80,3,5,8,52,12,21,3,0,8,3,12,88,17,3,10,0,4,28,2,11,2,32,2,96,29,12,28,28,17,17,33,35,7,28,4,2,50,15,10,33,29,5,5,15,16,15,1,22,21,31,28,32,5,7,11,28,35,26,40,4,24,15,12,12,2,1,42,60,26,9,31,3,8,11,14,10,24,1,8,15,17,17,29,3,14,8,17,0,12,23,40,23,8,7,0,126,4,1,16,2,29,11,16,8,0,2,36,2,1,43,22,16,16,3,0,1,57,28,15,17,1,1,1,1,14,8,7,50,8,0,60,2,73,3,23,2,40,7,53,22,5,14,18,5,36,1,11,25,10,17,25,66,42,15,50,1,1,4,1,10,16,7,30,38,16,30,3,4,22,37,96,16,15,3,3,2,19,11,3,5,0,1,19,17,8,12,24,26,22,22,37,16,4,12,14,5,42,26,4,5,3,59,12,30,2,3,3,31,4,11,8,5,21,37,24,15,35,74,32,35,11,4,7,21,5,26,23,8,45,2,11,7,1,10,8,29,15,17,7,12,12,15,14,9,4,15,4,71,1,2,4,3,44,11,9,71,2,9,7,39,24,2,3,42],\"y\":[103,199,59,91,56,175,123,314,420,103,314,538,154,116,63,91,75,24,50,107,50,720,45,84,82,129,62,120,116,215,23,63,79,180,238,95,151,305,76,64,61,339,404,89,219,110,176,458,131,99,43,172,136,403,69,425,112,358,1028,155,423,572,304,145,201,120,235,140,127,704,170,135,319,86,87,121,131,314,265,94,181,110,226,119,57,321,56,142,108,32,611,207,141,1677,187,211,440,316,187,59,81,107,62,87,124,476,75,108,268,134,119,166,60,128,158,172,152,51,155,478,304,104,127,157,67,101,167,195,71,443,63,382,99,302,260,109,422,48,42,162,44,115,141,436,172,223,296,179,109,136,175,176,341,126,83,174,87,128,166,247,226,201,59,71,146,188,146,79,96,166,108,470,195,57,39,90,197,134,336,102,60,104,196,191,321,342,142,117,368,135,119,177,197,115,31,349,137,76,46,74,174,206,110,76,139,33,307,115,336,104,165,178,65,142,59,110,118,149,122,148,117,49,45,160,20,152,626,149,338,111,107,351,234,84,121,155,86,208,171,84,243,250,143,235,209,488,210,1106,284,202,111,324,43,181,450,214,105,250,79,123,156,160,34,159,167,52,200,134,47,66,210,1204,149,327,165,240,65,265,259,579,87,102,112,108,59,100,193,67,175,115,159,112,141,111,78,106,111,143,156,280,47,101,237,100,61,62,143,105,180,117,87,101,123,259,162,90,129,118,524,140,186,286,350,87,182,103,107,590,124,206,222,224,144,382,55,51,293,258,970,240,72,281,144,144,120,193,194,624,164,107,799,316,68,101,203,291,972,216,62,519,330,76,72,114,399,366,48,113,216,74,423,127,270,123,330,383,197,102,55,86,20,92,134,122,152,172,106,199,237,49,126,253,168,573,74,102,42,258,421,327,71,130,210,115,335,347,415,196,139,357,339,237,278,501,147,202,194,60,59,235,102,135,1090,117,46,80,1141,385,235,255,121,67,108,138,145,130,388,143,127,58,99,144,71,124,73,498,55,116,96,355,69,165,170,138,312,198,160,216,115,1119,182,472,135,562,155,111,510,394,1502,453,206,78,143,71,114,276,237,121,155,54,440,145,108,101,100,100,197,45,79,106,127,84,73,68,217,67,343,271,55,125,710,110,93,91,212,310,142,42,110,166,117,125,99,49,78,110,350,111,53,41,274,47,139,88,204,103,194,192,243,225,519,551,114,94,132,117,36,302,84,85,73,50,153,122,192,292,306,55,329,382,219,286,97,98,188,86,154,297,125,512,68,213,164,160,308,178,214,185,178,163,672,108,228,256,259,702,115,899,113,53,323,215,150,123,103,410,47,43,423,185,155,167,484,119,90,78,155,114,202,110,78,166,78,171,237,117,214,288,53,937,69,302,72,173,88,93,293,411,141,180,43,83,267,206,75,133,263,301,133,72,123,115,273,167,138,140,645,191,142,546,147,461,128,120,129,86,116,74,150,249,267,155,115,60,98,98,183,122,35,176,65,97,113,270,140,552,506,103,218,385,212,139,145,182,235,160,46,101,1137,312,121,64,102,129,227,167,63,57,48,31,354,284,117,89,339,117,224,117,89,130,474,98,85,125,84,162,218,295,134,179,111,123,84,134,135,662,294,123,270,135,124,258,133,107,166,109,118,79,162,151,319,319,153,45,77,92,235,94,109,66,662,106,53,51,130,118,125,108,330,186,172,232,102,369,372,109,132,282,174,111,202,135,236,148,360,146,97,95,136,169,113,290,183,177,45,981,251,207,460,126,216,62,172,276,96,179,117,152,94,118,69,261,73,208,160,252,114,89,163,585,62,308,144,270,402,22,447,624,199,201,225,185,269,660,125,191,242,357,449,69,42,706,222,255,158,333,190,93,320,285,164,149,449,324,86,189,47,165,266,116,378,128,137,279,112,159,178,101,203,125,79,710,208,151,547,101,128,672,209,77,898,241,305,281,249,60,54,28,89,148,407,120,129,93,169,44,217,252,234,98,102,318,316,516,296,143,140,174,77,81,162,96,115,63,195,125,48,42,418,117,127,134,27,52,478,48,81,101,229,104,144,86,73,84,237,152,211,157,274,472,208,541,105,566,400,114,292,124,142,111,102,135,57,79,66,131,473,107,200,50,753,407,500,215,71,132,411,468,111,253,418,109,28,213,213,59,82,64,66,269,206,117,271,328,134,135,277,100,111,111,215,88,82,76,109,366,105,137,82,73,253,394,88,63,152,165,299,411,440,253,201,166,213,270,560,237,576,135,312,78,50,315,123,297,157,232,259,91,158,86,117,68,53,110,227,705,78,304,118,130,286,256,115,142,74,103,382,245,274,115,192,66,165,218,690,97,47,136,193,92,741,412,95,105,310,194,190,111,408,104,61,851,141,371,220,169,121,54,199,222,148,102,370,279,145,117,109,696,31,43,485,249,329,179,296,146,166,123,191,472,127,360,46,137,470,142,227,127,89,213,108,444,1279,364,196,70,159,43,221,140,80,189,90,119,71,159,200,134,114,272,271,242,164,86,104,61,104,175,118,42,166,756,70],\"type\":\"scatter\"}],                        {\"template\":{\"data\":{\"barpolar\":[{\"marker\":{\"line\":{\"color\":\"#E5ECF6\",\"width\":0.5},\"pattern\":{\"fillmode\":\"overlay\",\"size\":10,\"solidity\":0.2}},\"type\":\"barpolar\"}],\"bar\":[{\"error_x\":{\"color\":\"#2a3f5f\"},\"error_y\":{\"color\":\"#2a3f5f\"},\"marker\":{\"line\":{\"color\":\"#E5ECF6\",\"width\":0.5},\"pattern\":{\"fillmode\":\"overlay\",\"size\":10,\"solidity\":0.2}},\"type\":\"bar\"}],\"carpet\":[{\"aaxis\":{\"endlinecolor\":\"#2a3f5f\",\"gridcolor\":\"white\",\"linecolor\":\"white\",\"minorgridcolor\":\"white\",\"startlinecolor\":\"#2a3f5f\"},\"baxis\":{\"endlinecolor\":\"#2a3f5f\",\"gridcolor\":\"white\",\"linecolor\":\"white\",\"minorgridcolor\":\"white\",\"startlinecolor\":\"#2a3f5f\"},\"type\":\"carpet\"}],\"choropleth\":[{\"colorbar\":{\"outlinewidth\":0,\"ticks\":\"\"},\"type\":\"choropleth\"}],\"contourcarpet\":[{\"colorbar\":{\"outlinewidth\":0,\"ticks\":\"\"},\"type\":\"contourcarpet\"}],\"contour\":[{\"colorbar\":{\"outlinewidth\":0,\"ticks\":\"\"},\"colorscale\":[[0.0,\"#0d0887\"],[0.1111111111111111,\"#46039f\"],[0.2222222222222222,\"#7201a8\"],[0.3333333333333333,\"#9c179e\"],[0.4444444444444444,\"#bd3786\"],[0.5555555555555556,\"#d8576b\"],[0.6666666666666666,\"#ed7953\"],[0.7777777777777778,\"#fb9f3a\"],[0.8888888888888888,\"#fdca26\"],[1.0,\"#f0f921\"]],\"type\":\"contour\"}],\"heatmapgl\":[{\"colorbar\":{\"outlinewidth\":0,\"ticks\":\"\"},\"colorscale\":[[0.0,\"#0d0887\"],[0.1111111111111111,\"#46039f\"],[0.2222222222222222,\"#7201a8\"],[0.3333333333333333,\"#9c179e\"],[0.4444444444444444,\"#bd3786\"],[0.5555555555555556,\"#d8576b\"],[0.6666666666666666,\"#ed7953\"],[0.7777777777777778,\"#fb9f3a\"],[0.8888888888888888,\"#fdca26\"],[1.0,\"#f0f921\"]],\"type\":\"heatmapgl\"}],\"heatmap\":[{\"colorbar\":{\"outlinewidth\":0,\"ticks\":\"\"},\"colorscale\":[[0.0,\"#0d0887\"],[0.1111111111111111,\"#46039f\"],[0.2222222222222222,\"#7201a8\"],[0.3333333333333333,\"#9c179e\"],[0.4444444444444444,\"#bd3786\"],[0.5555555555555556,\"#d8576b\"],[0.6666666666666666,\"#ed7953\"],[0.7777777777777778,\"#fb9f3a\"],[0.8888888888888888,\"#fdca26\"],[1.0,\"#f0f921\"]],\"type\":\"heatmap\"}],\"histogram2dcontour\":[{\"colorbar\":{\"outlinewidth\":0,\"ticks\":\"\"},\"colorscale\":[[0.0,\"#0d0887\"],[0.1111111111111111,\"#46039f\"],[0.2222222222222222,\"#7201a8\"],[0.3333333333333333,\"#9c179e\"],[0.4444444444444444,\"#bd3786\"],[0.5555555555555556,\"#d8576b\"],[0.6666666666666666,\"#ed7953\"],[0.7777777777777778,\"#fb9f3a\"],[0.8888888888888888,\"#fdca26\"],[1.0,\"#f0f921\"]],\"type\":\"histogram2dcontour\"}],\"histogram2d\":[{\"colorbar\":{\"outlinewidth\":0,\"ticks\":\"\"},\"colorscale\":[[0.0,\"#0d0887\"],[0.1111111111111111,\"#46039f\"],[0.2222222222222222,\"#7201a8\"],[0.3333333333333333,\"#9c179e\"],[0.4444444444444444,\"#bd3786\"],[0.5555555555555556,\"#d8576b\"],[0.6666666666666666,\"#ed7953\"],[0.7777777777777778,\"#fb9f3a\"],[0.8888888888888888,\"#fdca26\"],[1.0,\"#f0f921\"]],\"type\":\"histogram2d\"}],\"histogram\":[{\"marker\":{\"pattern\":{\"fillmode\":\"overlay\",\"size\":10,\"solidity\":0.2}},\"type\":\"histogram\"}],\"mesh3d\":[{\"colorbar\":{\"outlinewidth\":0,\"ticks\":\"\"},\"type\":\"mesh3d\"}],\"parcoords\":[{\"line\":{\"colorbar\":{\"outlinewidth\":0,\"ticks\":\"\"}},\"type\":\"parcoords\"}],\"pie\":[{\"automargin\":true,\"type\":\"pie\"}],\"scatter3d\":[{\"line\":{\"colorbar\":{\"outlinewidth\":0,\"ticks\":\"\"}},\"marker\":{\"colorbar\":{\"outlinewidth\":0,\"ticks\":\"\"}},\"type\":\"scatter3d\"}],\"scattercarpet\":[{\"marker\":{\"colorbar\":{\"outlinewidth\":0,\"ticks\":\"\"}},\"type\":\"scattercarpet\"}],\"scattergeo\":[{\"marker\":{\"colorbar\":{\"outlinewidth\":0,\"ticks\":\"\"}},\"type\":\"scattergeo\"}],\"scattergl\":[{\"marker\":{\"colorbar\":{\"outlinewidth\":0,\"ticks\":\"\"}},\"type\":\"scattergl\"}],\"scattermapbox\":[{\"marker\":{\"colorbar\":{\"outlinewidth\":0,\"ticks\":\"\"}},\"type\":\"scattermapbox\"}],\"scatterpolargl\":[{\"marker\":{\"colorbar\":{\"outlinewidth\":0,\"ticks\":\"\"}},\"type\":\"scatterpolargl\"}],\"scatterpolar\":[{\"marker\":{\"colorbar\":{\"outlinewidth\":0,\"ticks\":\"\"}},\"type\":\"scatterpolar\"}],\"scatter\":[{\"fillpattern\":{\"fillmode\":\"overlay\",\"size\":10,\"solidity\":0.2},\"type\":\"scatter\"}],\"scatterternary\":[{\"marker\":{\"colorbar\":{\"outlinewidth\":0,\"ticks\":\"\"}},\"type\":\"scatterternary\"}],\"surface\":[{\"colorbar\":{\"outlinewidth\":0,\"ticks\":\"\"},\"colorscale\":[[0.0,\"#0d0887\"],[0.1111111111111111,\"#46039f\"],[0.2222222222222222,\"#7201a8\"],[0.3333333333333333,\"#9c179e\"],[0.4444444444444444,\"#bd3786\"],[0.5555555555555556,\"#d8576b\"],[0.6666666666666666,\"#ed7953\"],[0.7777777777777778,\"#fb9f3a\"],[0.8888888888888888,\"#fdca26\"],[1.0,\"#f0f921\"]],\"type\":\"surface\"}],\"table\":[{\"cells\":{\"fill\":{\"color\":\"#EBF0F8\"},\"line\":{\"color\":\"white\"}},\"header\":{\"fill\":{\"color\":\"#C8D4E3\"},\"line\":{\"color\":\"white\"}},\"type\":\"table\"}]},\"layout\":{\"annotationdefaults\":{\"arrowcolor\":\"#2a3f5f\",\"arrowhead\":0,\"arrowwidth\":1},\"autotypenumbers\":\"strict\",\"coloraxis\":{\"colorbar\":{\"outlinewidth\":0,\"ticks\":\"\"}},\"colorscale\":{\"diverging\":[[0,\"#8e0152\"],[0.1,\"#c51b7d\"],[0.2,\"#de77ae\"],[0.3,\"#f1b6da\"],[0.4,\"#fde0ef\"],[0.5,\"#f7f7f7\"],[0.6,\"#e6f5d0\"],[0.7,\"#b8e186\"],[0.8,\"#7fbc41\"],[0.9,\"#4d9221\"],[1,\"#276419\"]],\"sequential\":[[0.0,\"#0d0887\"],[0.1111111111111111,\"#46039f\"],[0.2222222222222222,\"#7201a8\"],[0.3333333333333333,\"#9c179e\"],[0.4444444444444444,\"#bd3786\"],[0.5555555555555556,\"#d8576b\"],[0.6666666666666666,\"#ed7953\"],[0.7777777777777778,\"#fb9f3a\"],[0.8888888888888888,\"#fdca26\"],[1.0,\"#f0f921\"]],\"sequentialminus\":[[0.0,\"#0d0887\"],[0.1111111111111111,\"#46039f\"],[0.2222222222222222,\"#7201a8\"],[0.3333333333333333,\"#9c179e\"],[0.4444444444444444,\"#bd3786\"],[0.5555555555555556,\"#d8576b\"],[0.6666666666666666,\"#ed7953\"],[0.7777777777777778,\"#fb9f3a\"],[0.8888888888888888,\"#fdca26\"],[1.0,\"#f0f921\"]]},\"colorway\":[\"#636efa\",\"#EF553B\",\"#00cc96\",\"#ab63fa\",\"#FFA15A\",\"#19d3f3\",\"#FF6692\",\"#B6E880\",\"#FF97FF\",\"#FECB52\"],\"font\":{\"color\":\"#2a3f5f\"},\"geo\":{\"bgcolor\":\"white\",\"lakecolor\":\"white\",\"landcolor\":\"#E5ECF6\",\"showlakes\":true,\"showland\":true,\"subunitcolor\":\"white\"},\"hoverlabel\":{\"align\":\"left\"},\"hovermode\":\"closest\",\"mapbox\":{\"style\":\"light\"},\"paper_bgcolor\":\"white\",\"plot_bgcolor\":\"#E5ECF6\",\"polar\":{\"angularaxis\":{\"gridcolor\":\"white\",\"linecolor\":\"white\",\"ticks\":\"\"},\"bgcolor\":\"#E5ECF6\",\"radialaxis\":{\"gridcolor\":\"white\",\"linecolor\":\"white\",\"ticks\":\"\"}},\"scene\":{\"xaxis\":{\"backgroundcolor\":\"#E5ECF6\",\"gridcolor\":\"white\",\"gridwidth\":2,\"linecolor\":\"white\",\"showbackground\":true,\"ticks\":\"\",\"zerolinecolor\":\"white\"},\"yaxis\":{\"backgroundcolor\":\"#E5ECF6\",\"gridcolor\":\"white\",\"gridwidth\":2,\"linecolor\":\"white\",\"showbackground\":true,\"ticks\":\"\",\"zerolinecolor\":\"white\"},\"zaxis\":{\"backgroundcolor\":\"#E5ECF6\",\"gridcolor\":\"white\",\"gridwidth\":2,\"linecolor\":\"white\",\"showbackground\":true,\"ticks\":\"\",\"zerolinecolor\":\"white\"}},\"shapedefaults\":{\"line\":{\"color\":\"#2a3f5f\"}},\"ternary\":{\"aaxis\":{\"gridcolor\":\"white\",\"linecolor\":\"white\",\"ticks\":\"\"},\"baxis\":{\"gridcolor\":\"white\",\"linecolor\":\"white\",\"ticks\":\"\"},\"bgcolor\":\"#E5ECF6\",\"caxis\":{\"gridcolor\":\"white\",\"linecolor\":\"white\",\"ticks\":\"\"}},\"title\":{\"x\":0.05},\"xaxis\":{\"automargin\":true,\"gridcolor\":\"white\",\"linecolor\":\"white\",\"ticks\":\"\",\"title\":{\"standoff\":15},\"zerolinecolor\":\"white\",\"zerolinewidth\":2},\"yaxis\":{\"automargin\":true,\"gridcolor\":\"white\",\"linecolor\":\"white\",\"ticks\":\"\",\"title\":{\"standoff\":15},\"zerolinecolor\":\"white\",\"zerolinewidth\":2}}},\"title\":{\"text\":\"Segments\"},\"xaxis\":{\"title\":{\"text\":\"Recency\"}},\"yaxis\":{\"title\":{\"text\":\"Frequency\"}}},                        {\"responsive\": true}                    ).then(function(){\n",
              "                            \n",
              "var gd = document.getElementById('0cf56c84-daa6-4414-9da4-a3577eb35f72');\n",
              "var x = new MutationObserver(function (mutations, observer) {{\n",
              "        var display = window.getComputedStyle(gd).display;\n",
              "        if (!display || display === 'none') {{\n",
              "            console.log([gd, 'removed!']);\n",
              "            Plotly.purge(gd);\n",
              "            observer.disconnect();\n",
              "        }}\n",
              "}});\n",
              "\n",
              "// Listen for the removal of the full notebook cells\n",
              "var notebookContainer = gd.closest('#notebook-container');\n",
              "if (notebookContainer) {{\n",
              "    x.observe(notebookContainer, {childList: true});\n",
              "}}\n",
              "\n",
              "// Listen for the clearing of the current output cell\n",
              "var outputEl = gd.closest('.output');\n",
              "if (outputEl) {{\n",
              "    x.observe(outputEl, {childList: true});\n",
              "}}\n",
              "\n",
              "                        })                };                            </script>        </div>\n",
              "</body>\n",
              "</html>"
            ]
          },
          "metadata": {}
        }
      ]
    },
    {
      "cell_type": "code",
      "source": [
        "# Frequency Vs Monetary\n",
        "\n",
        "graph = RFMScores.query(\"Monetary < 50000 and Frequency < 2000\")\n",
        "\n",
        "plot_data = [\n",
        "    gobj.Scatter(\n",
        "        x = graph.query(\"RFM_Loyalty_Level == 'Bronze'\")['Frequency'],\n",
        "        y = graph.query(\"RFM_Loyalty_Level == 'Bronze'\")['Monetary'],\n",
        "        mode = 'markers',\n",
        "        name = 'Bronze',\n",
        "        marker = dict(size = 7,\n",
        "                      line = dict(width=1),\n",
        "        color = 'blue',\n",
        "        opacity = 0.8)\n",
        "    ),\n",
        "\n",
        "    gobj.Scatter(\n",
        "        x = graph.query(\"RFM_Loyalty_Level == 'Silver'\")['Frequency'],\n",
        "        y = graph.query(\"RFM_Loyalty_Level == 'Silver'\")['Monetary'],\n",
        "        mode = 'markers',\n",
        "        name = 'silver',\n",
        "        marker = dict(size = 9,\n",
        "                      line = dict(width=1),\n",
        "        color = 'green',\n",
        "        opacity = 0.5)\n",
        "    ),\n",
        "\n",
        "    gobj.Scatter(\n",
        "        x = graph.query(\"RFM_Loyalty_Level == 'Gold'\")['Frequency'],\n",
        "        y = graph.query(\"RFM_Loyalty_Level == 'Gold'\")['Monetary'],\n",
        "        mode = 'markers',\n",
        "        name = 'Gold',\n",
        "        marker = dict(size = 11,\n",
        "                      line = dict(width=1),\n",
        "        color = 'red',\n",
        "        opacity = 0.9)\n",
        "    ),\n",
        "\n",
        "    gobj.Scatter(\n",
        "        x = graph.query(\"RFM_Loyalty_Level == 'Platinum'\")['Frequency'],\n",
        "        y = graph.query(\"RFM_Loyalty_Level == 'Platinum'\")['Monetary'],\n",
        "        mode = 'markers',\n",
        "        name = 'Platinum',\n",
        "        marker = dict(size = 13,\n",
        "                      line = dict(width=1),\n",
        "        color = 'black',\n",
        "        opacity = 0.9)\n",
        "    )\n",
        "]"
      ],
      "metadata": {
        "id": "gZkn7H9jwcEn"
      },
      "execution_count": 59,
      "outputs": []
    },
    {
      "cell_type": "code",
      "source": [
        "plot_layout = gobj.Layout(\n",
        "    yaxis = {'title' : \"Monetary\"},\n",
        "    xaxis = {'title' : \"Frequency\"},\n",
        "    title = 'Segments'\n",
        ")\n",
        "\n",
        "fig = gobj.Figure(data = plot_data, layout = plot_layout)\n",
        "po.iplot(fig)"
      ],
      "metadata": {
        "id": "1KKCPtmPwcCR",
        "colab": {
          "base_uri": "https://localhost:8080/",
          "height": 542
        },
        "outputId": "d23a530a-dee9-468d-c63d-75c944e0801d"
      },
      "execution_count": 60,
      "outputs": [
        {
          "output_type": "display_data",
          "data": {
            "text/html": [
              "<html>\n",
              "<head><meta charset=\"utf-8\" /></head>\n",
              "<body>\n",
              "    <div>            <script src=\"https://cdnjs.cloudflare.com/ajax/libs/mathjax/2.7.5/MathJax.js?config=TeX-AMS-MML_SVG\"></script><script type=\"text/javascript\">if (window.MathJax && window.MathJax.Hub && window.MathJax.Hub.Config) {window.MathJax.Hub.Config({SVG: {font: \"STIX-Web\"}});}</script>                <script type=\"text/javascript\">window.PlotlyConfig = {MathJaxConfig: 'local'};</script>\n",
              "        <script src=\"https://cdn.plot.ly/plotly-2.18.2.min.js\"></script>                <div id=\"bf58acfb-1064-41e2-96ef-cfe144e448e2\" class=\"plotly-graph-div\" style=\"height:525px; width:100%;\"></div>            <script type=\"text/javascript\">                                    window.PLOTLYENV=window.PLOTLYENV || {};                                    if (document.getElementById(\"bf58acfb-1064-41e2-96ef-cfe144e448e2\")) {                    Plotly.newPlot(                        \"bf58acfb-1064-41e2-96ef-cfe144e448e2\",                        [{\"marker\":{\"color\":\"blue\",\"line\":{\"width\":1},\"opacity\":0.8,\"size\":7},\"mode\":\"markers\",\"name\":\"Bronze\",\"x\":[6,11,9,12,17,3,3,4,2,7,5,3,4,10,8,19,5,8,9,3,7,6,4,14,3,11,13,8,15,10,11,14,15,9,7,6,6,1,8,1,10,1,15,2,3,7,3,8,17,1,37,3,5,5,5,16,9,10,13,11,1,16,9,7,13,10,5,5,1,1,14,10,14,15,1,16,8,13,2,17,9,17,10,15,11,10,8,17,12,15,10,4,8,4,14,27,10,24,19,13,19,5,13,12,6,16,3,30,8,9,14,1,13,10,21,12,6,25,1,9,12,7,9,17,7,13,17,10,7,10,19,1,14,11,28,7,7,3,16,12,7,16,9,5,3,2,15,11,10,11,16,15,11,6,28,21,14,4,6,8,7,24,29,14,1,21,9,15,3,7,3,6,25,25,3,2,10,9,8,10,16,20,8,5,17,10,8,16,17,8,8,12,14,6,18,1,6,11,8,4,4,11,7,5,8,23,3,17,9,5,9,22,4,7,19,9,17,10,23,16,12,19,5,29,1,19,3,3,13,8,2,30,2,13,8,22,8,1,29,10,5,11,9,6,2,6,12,13,11,30,4,13,2,4,13,6,13,10,7,17,9,10,14,12,5,13,11,8,12,20,5,3,30,5,1,5,15,17,1,14,9,13,14,4,41,11,3,6,10,9,5,2,9,5,5,14,8,14,15,6,7,10,12,6,19,16,25,12,1,1,16,10,17,5,9,5,7,16,3,8,1,7,14,6,8,34,10,6,17,2,5,9,25,11,2,13,1,7,27,26,24,28,17,14,1,39,13,5,14,2,17,13,16,6,15,5,9,1,12,10,9,2,5,6,6,7,41,11,5,14,10,3,1,7,7,17,1,8,22,15,12,12,41,11,24,4,7,19,12,11,21,12,12,7,1,6,2,7,11,4,8,8,10,8,1,1,10,1,12,10,13,6,16,30,8,30,11,13,1,1,14,2,3,8,11,6,14,15,8,6,16,7,2,11,8,11,14,3,1,11,20,2,9,8,31,5,4,10,5,5,9,2,8,20,11,14,9,33,3,2,13,19,15,13,13,17,15,14,5,3,17,3,9,14,8,13,10,10,6,10,5,14,5,9,12,14,8,2,9,3,12,21,37,1,13,9,13,7,1,16,17,12,16,15,15,8,11,12,10,14,8,10,6,11,3,38,37,8,9,14,16,16,7,14,7,26,2,1,4,4,11,5,2,14,1,12,9,10,7,9,32,14,15,9,10,16,4,15,10,29,7,4,9,14,15,9,39,16,23,15,9,1,12,6,1,11,9,17,1,9,19,34,2,3,4,2,2,17,5,9,8,17,9,14,12,10,17,18,11,6,9,14,9,13,3,25,5,6,12,8,5,29,9,3,4,5,7,8,7,22,11,16,19,16,15,8,5,35,7,10,1,6,6,1,1,1,3,12,13,14,13,37,15,17,25,11,10,12,6,8,10,21,34,16,32,6,12,1,1,12,20,1,1,26,14,31,12,1,13,5,2,40,32,14,28,31,5,5,19,7,7,5,1,18,13,7,17,1,28,30,17,14,8,10,10,9,17,15,7,16,19,15,13,2,10,5,1,6,13,1,7,8,9,10,7],\"y\":[92.72,293.0,215.05,134.1,311.54999999999995,38.1,147.12,374.0,343.2300000000001,298.0,354.12,331.0,216.5,138.68,117.85000000000001,108.07,135.95,144.8,39.24,211.32,120.94999999999999,149.05,81.57,229.47000000000003,50.550000000000004,190.54999999999998,516.4200000000001,183.4,307.53000000000003,248.61,346.98,205.85999999999999,115.46000000000002,228.8,177.14999999999998,58.08,74.4,207.35999999999999,101.18999999999998,76.5,350.05999999999995,30.599999999999998,259.16999999999996,64.0,77.3,109.80000000000001,110.94999999999999,112.75,282.45,71.4,236.01999999999995,60.7,333.74,62.64,163.20000000000002,108.21000000000001,257.7,160.95,270.40000000000003,200.29000000000002,590.0,138.97999999999996,137.75,93.66,201.19,201.2,87.4,142.5,63.75,15.0,233.76,134.96,308.28000000000003,222.99,59.8,221.05999999999995,159.85,296.64000000000004,590.0,356.98,151.5,307.90000000000003,165.0,300.95,184.64,140.34000000000003,313.79999999999995,216.84999999999997,110.97,251.20999999999998,205.09999999999997,152.20000000000002,122.75,91.80000000000001,141.86,239.49000000000004,117.99999999999999,142.40000000000003,219.51999999999998,177.34000000000003,257.22999999999996,252.1,189.47,84.65000000000002,186.39,232.60000000000005,59.5,67.23000000000002,72.0,172.25,308.58,99.5,252.06000000000003,228.83999999999997,138.28,306.55,199.85000000000002,300.03999999999996,79.6,296.24999999999994,282.6,306.72,178.7,127.84000000000002,230.4,195.54999999999995,277.07000000000005,256.38,112.6,189.5,271.24000000000007,85.0,388.5,216.16999999999996,201.16,145.67,122.69999999999999,117.24000000000001,243.56000000000003,155.93,172.24999999999997,307.4,158.85,90.6,101.99999999999999,80.7,190.25000000000009,264.7,357.9800000000001,200.14000000000001,311.3,635.6600000000001,328.8,104.82000000000002,147.20000000000005,141.41,154.98999999999998,260.25,92.46,183.59999999999997,152.55,265.85,182.24999999999997,161.0,76.32000000000001,216.20999999999998,144.2,386.53,90.0,115.8,157.2,118.75,289.36000000000007,122.53999999999999,197.65,185.39999999999998,151.73999999999998,161.00000000000003,146.85,213.70000000000002,280.55,136.77,302.58,120.0,333.97,112.32000000000002,134.04,426.6,383.45000000000005,120.0,183.85,311.65000000000003,309.52,134.7,282.92999999999995,51.0,90.6,174.4,155.00000000000003,100.5,76.55,617.05,142.4,67.94999999999999,156.75,122.7,265.2,470.35999999999996,89.06,63.0,131.9,119.93000000000002,113.64,234.34,215.7,137.10000000000002,340.93,251.20999999999998,275.28,174.37,241.09000000000003,171.8,103.25000000000001,218.05999999999992,35.400000000000006,237.35999999999996,39.75,406.08000000000004,225.84999999999997,114.55999999999999,96.12,243.21999999999994,52.0,112.80000000000001,172.9,188.60999999999996,109.12999999999998,179.0,187.91999999999996,268.58,89.2,255.90000000000003,139.26,200.10000000000002,6.2,131.45,173.74,157.7,193.39000000000004,155.42999999999998,271.85,272.06999999999994,48.800000000000004,62.85,309.4,125.79000000000002,327.24999999999994,135.9,125.65,616.1500000000001,277.79999999999995,310.05,290.82000000000005,58.49000000000001,126.70000000000002,206.21,279.94,102.11999999999998,156.91000000000003,170.04,135.93,121.17000000000002,215.78,370.79999999999995,106.2,88.19999999999999,306.94,319.5,244.8,266.4,139.04999999999998,178.96000000000006,259.45,158.16000000000003,162.99999999999997,135.75,40.5,87.5,193.64,316.58000000000004,101.79999999999998,96.6,305.75,403.25,585.0,322.0799999999999,154.41,197.0,321.05,98.45,317.15,178.95000000000002,156.50999999999996,119.30000000000001,290.51,113.12,180.93999999999997,205.3,52.0,165.0,204.5,208.75000000000003,252.42000000000004,201.59999999999997,158.03999999999996,115.65,418.9200000000001,326.0,168.0,596.85,500.0,107.45000000000002,288.17999999999995,94.0,349.1,267.17999999999995,190.53000000000003,97.7,383.34,594.0,113.5,155.17,179.10000000000002,234.60000000000002,91.32000000000001,52.83000000000001,250.0,121.0,267.03000000000003,229.32999999999993,110.92000000000003,127.85999999999999,90.12,217.2,134.55,258.8799999999998,127.1,199.8,240.68,48.480000000000004,216.39000000000001,104.76,298.48,112.46,223.36,309.8,138.14000000000001,76.32000000000001,173.05,193.75,254.1,136.8,211.5,143.10000000000002,133.25,150.3,203.1,218.25,85.0,294.11999999999995,162.3,34.8,79.2,253.04000000000002,104.9,206.98000000000002,15.0,118.95,160.71,149.64,181.09,168.31,263.54999999999995,179.17,222.05,56.25,191.93999999999997,264.62,123.10000000000001,369.50000000000006,127.08000000000003,207.15,416.8600000000001,145.35,35.8,325.1,181.0,104.35,314.1,307.82,101.39999999999999,256.44000000000005,137.9,134.8,122.39999999999999,79.2,217.16000000000003,17.0,320.62,185.05,336.96,108.38,195.74,161.38000000000002,135.75000000000003,232.21,249.0,289.35,175.2,76.32000000000001,348.2000000000001,37.4,73.2,197.90000000000003,215.83,159.0,242.35000000000002,304.25,255.11999999999998,314.22,114.56,152.94,46.95,168.3,142.5,233.22,226.37,404.40000000000003,207.50000000000003,214.80000000000004,109.95000000000002,101.10000000000001,53.5,153.9,211.76999999999998,109.36000000000001,94.36,177.5,167.25,133.56,241.06,284.55,287.4,188.89,311.92,266.97,208.36,151.42,136.0,74.9,223.95,139.35000000000002,100.97000000000001,363.7,248.10000000000002,162.70000000000005,290.35999999999996,228.06000000000003,119.62,339.3,379.72999999999996,173.7,105.84,233.45000000000002,463.95,225.14999999999995,213.5,145.05,75.66,129.49,151.85000000000002,226.21,129.45,217.9,231.10000000000002,214.06,123.24,39.12,135.4,129.75,225.57999999999996,112.75000000000001,292.46999999999997,3.75,323.00000000000006,207.5,239.4,106.83,34.0,245.94,311.24999999999994,110.38000000000001,243.83999999999997,309.53999999999996,479.3500000000001,128.5,197.22,199.15000000000003,180.85000000000002,281.42,124.57,375.69000000000005,173.76,207.73999999999998,13.3,276.72999999999996,289.7800000000001,113.44000000000001,391.5200000000001,230.25000000000003,167.61,416.64,117.35000000000001,234.17,110.55000000000001,201.19,251.51999999999998,179.0,295.0,154.82999999999998,146.87,234.24,118.80000000000001,301.99999999999994,25.5,163.29999999999998,116.19999999999997,157.02,138.32,345.29999999999995,298.89000000000004,157.09,579.0,124.88,158.68,224.90999999999997,59.9,306.13,203.95,262.62,204.24,226.85,113.5,149.89,382.50000000000006,171.45,283.28,239.99999999999997,63.440000000000005,246.04000000000008,187.82999999999998,550.8000000000001,82.75,96.8,175.2,307.02000000000004,243.36,193.63999999999996,228.96,110.75,178.21999999999997,168.4,65.4,508.8,203.86999999999995,32.65,100.8,388.45000000000005,186.42,120.9,131.7,249.85999999999999,289.96000000000004,194.36999999999995,374.57,271.04999999999995,272.21999999999997,288.59999999999997,153.94,145.0,422.70000000000005,296.70000000000005,223.36,164.39999999999998,76.5,170.75,103.3,157.9,226.75,185.64999999999998,143.45999999999998,175.27,116.01,571.2,81.44,75.75000000000001,108.5,101.55000000000001,133.06,117.54999999999998,205.7,298.10999999999996,290.40000000000003,200.47,283.12000000000006,154.95000000000002,152.39999999999998,267.08000000000004,137.45,153.0,326.4,139.35,110.25000000000001,71.4,80.64,15.0,56.4,188.01999999999998,131.94000000000003,225.9,298.4,205.48000000000002,311.26,208.96999999999997,148.21,330.9,155.89999999999998,237.61,178.51999999999998,133.35000000000002,111.35,203.87,203.85999999999993,112.25000000000004,155.79999999999998,112.19999999999999,72.9,207.50000000000003,244.08,99.14000000000003,149.58,358.56000000000006,12.75,73.78,228.2,136.04,300.91999999999996,20.8,198.57,93.35,76.1,169.46999999999997,257.34000000000003,174.79999999999998,102.79,187.29000000000005,38.45,73.5,70.02,165.04999999999998,172.29000000000002,74.4,101.69999999999999,247.44,489.6,101.33999999999999,271.0,76.32000000000001,220.1,181.11999999999998,111.14999999999999,112.55,152.65,160.35,302.46000000000004,202.65000000000003,304.25,284.46,207.79999999999998,243.76000000000005,160.42000000000002,232.48000000000002,299.34000000000003,305.28000000000003,158.95000000000002,93.75,440.0,103.3,149.48,25.5,168.6,110.38,173.89999999999998,180.6,80.82],\"type\":\"scatter\"},{\"marker\":{\"color\":\"green\",\"line\":{\"width\":1},\"opacity\":0.5,\"size\":9},\"mode\":\"markers\",\"name\":\"silver\",\"x\":[25,24,18,27,50,5,11,66,10,7,34,2,22,2,28,29,25,9,23,16,10,22,28,4,28,92,13,28,31,26,1,37,33,18,14,18,8,6,22,25,8,30,50,1,6,17,4,41,13,32,11,2,29,29,8,22,4,2,22,58,27,16,26,36,1,87,8,9,15,30,8,42,20,21,11,12,17,19,19,20,8,16,16,24,90,29,23,1,29,39,23,35,13,21,26,39,3,11,27,18,10,12,54,19,17,21,64,23,34,14,18,19,22,26,5,15,22,76,37,38,44,33,26,8,16,26,40,23,27,23,19,8,66,23,6,49,87,9,25,25,6,12,20,51,8,38,30,3,23,35,57,22,31,11,33,23,13,36,59,15,3,29,9,5,20,30,23,18,28,19,40,15,21,17,18,20,11,21,9,17,23,31,26,7,11,39,33,12,11,35,15,5,34,39,22,28,16,15,38,6,85,10,13,46,12,4,21,26,5,67,28,22,5,28,26,31,24,7,6,20,9,12,7,21,41,15,29,33,29,9,5,3,13,20,24,31,36,28,15,31,6,18,9,41,41,75,56,14,25,14,14,29,17,40,16,6,18,13,30,14,30,7,6,19,29,7,12,4,10,19,4,56,10,58,21,16,12,17,6,29,25,7,2,4,20,26,21,20,16,7,31,30,29,80,30,4,14,7,15,10,71,18,5,30,19,21,6,39,5,41,27,15,3,6,14,59,70,17,40,6,21,9,20,11,11,4,36,28,17,11,15,18,20,33,43,12,11,3,20,42,6,37,18,21,41,87,40,75,35,20,70,7,27,67,3,12,22,25,23,30,26,11,3,23,3,28,21,15,16,22,28,23,85,7,27,5,5,23,16,29,21,19,13,20,24,20,23,23,31,22,34,33,6,18,34,19,23,2,52,12,3,28,31,19,24,37,36,49,29,16,99,36,24,21,72,14,13,4,41,12,31,12,12,42,48,28,8,2,6,10,41,29,45,25,28,60,58,7,58,7,24,29,88,70,46,15,10,1,4,75,15,29,81,31,8,7,31,29,6,19,34,15,25,33,35,25,2,21,6,34,1,11,17,13,21,12,12,22,19,8,9,28,21,10,28,9,37,11,27,25,18,21,29,14,25,42,1,8,40,20,10,24,27,11,30,14,18,45,29,23,18,93,62,40,60,25,21,18,14,24,98,14,27,3,35,86,32,76,32,16,29,22,39,34,23,74,23,38,18,29,18,34,16,21,30,37,29,22,6,15,11,15,11,6,19,15,18,35,23,37,35,22,20,19,24,13,25,67,33,6,23,17,20,22,41,16,10,15,39,5,23,33,45,29,60,23,35,31,7,21,6,83,17,24,36,40,2,18,28,17,25,19,3,6,40,13,17,30,25,17,11,35,5,28,6,33,53,12,7,31,34,30,26,9,23,20,27,19,24,29,32,10,13,3,10,5,19,2,45,27,46,1,1,34,2,22,13,23,34,40,26,50,3,5,66,18,24,98,23,28,26,38,22,24,11,25,11,12,19,9,2,7,1,37,45,69,18,38,60,6,53,33,21,19,1,25,21,39,22,7,12,11,15,7,3,9,2,28,22,15,22,22,43,13,70,8,30,18,40,24,24,20,14,14,23,5,12,15,23,2,19,40,13,25,28,49,21,25,18,12,38,6,27,30,53,14,6,28,32,59,15,35,33,28,69,24,15,15,62,33,13,14,39,14,43,9,61,29,5,29,21,24,29,40,14,88,6,40,30,9,6,42,43,2,29,45,13,11,63,14,77,26,20,5,8,45,27,11,15,19,24,31,18,10,15,35,25,57,38,54,67,72,5,10,46,10,17,2,24,26,58,9,40,26,94,28,16,2,28,19,38,58,38,21,23,29,2,2,9,19,31,7,35,48,85,31,15,65,21,30,48,29,32,3,29,21,21,9,34,20,19,3,27,7,10,25,29,17,1,29,39,21,19,18,39,32,56,1,15,7,16,25,23,39,1,30,37,1,7,32,8,43,21,19,37,6,4,8,21,11,3,11,14,12],\"y\":[397.11999999999995,417.37999999999994,312.38,354.09000000000003,135.17999999999995,521.2,380.64000000000004,599.9699999999998,573.22,309.05000000000007,188.14,750.0,363.65,594.0,405.38,176.97,415.8,114.14,462.95000000000005,266.39000000000004,160.18,738.6,390.53999999999996,97.5,558.7,535.32,409.50000000000006,455.8799999999999,534.8500000000001,513.7,204.0,642.77,560.4700000000001,305.28,656.6800000000002,348.15000000000003,271.4,220.09999999999997,416.08000000000004,477.83,243.94,501.14000000000004,283.7299999999999,3096.0,618.52,228.91,91.8,417.19999999999993,712.88,116.01000000000002,121.17999999999999,114.60000000000001,260.68,117.88000000000001,250.26000000000002,353.47999999999996,533.98,358.0,329.56,600.07,121.74000000000001,430.5,465.6799999999999,1030.3999999999999,0.0,292.3199999999999,557.6200000000001,944.1,276.56000000000006,590.93,258.4,361.10999999999996,371.89000000000004,300.4199999999999,567.36,675.3,1308.48,487.02,353.43,389.50000000000006,341.36,247.31999999999996,373.94,397.9800000000001,609.9500000000002,439.03000000000003,439.55999999999995,56.160000000000004,623.4,754.8700000000003,378.64,534.5700000000002,544.0799999999999,307.72,457.3400000000001,621.2300000000002,75.0,252.48999999999998,572.4509999999999,213.55000000000004,534.24,196.88999999999996,283.71,291.88,183.44,422.64,229.58999999999997,454.24,575.4000000000001,449.52,316.26,348.04999999999995,295.93,458.52000000000004,125.80000000000001,307.76,483.8000000000001,270.79000000000013,631.3400000000001,240.22000000000006,192.85000000000005,1384.25,294.4,712.4,247.95999999999995,396.96999999999997,180.1700000000001,428.88999999999993,164.34,417.6900000000001,213.85,122.64000000000001,354.7999999999999,346.6000000000001,94.2,379.65000000000003,305.0199999999998,218.55,349.70000000000016,486.82000000000005,910.0,151.3,330.78999999999996,296.87999999999994,180.48000000000002,610.5899999999999,339.59999999999997,216.9,350.75,741.26,286.78999999999996,344.99999999999994,309.04,1516.0,558.3199999999997,324.79999999999995,924.5999999999999,1140.35,385.64,209.49000000000004,52.199999999999996,384.7999999999999,312.98,1255.0,305.78000000000003,501.56,389.6,540.45,506.8000000000001,349.54999999999995,605.63,416.9,821.1,311.15999999999997,272.04,351.13000000000005,223.85000000000002,348.99,842.6500000000001,337.3399999999999,608.7899999999998,922.0999999999997,376.58,71.66,561.57,674.4499999999998,322.96,230.22,169.55,664.54,196.79,76.8,473.02,505.18000000000006,631.9000000000001,440.0,327.7,467.65999999999997,626.6499999999999,152.2,409.9299999999999,725.6400000000001,151.04,122.46999999999997,375.09999999999997,45.599999999999994,147.34999999999997,194.9,419.58000000000004,483.85999999999996,605.6399999999999,311.81000000000006,483.4,446.62000000000006,134.46,576.9,452.89,1011.9999999999998,335.52,328.1599999999999,1070.48,169.48000000000002,89.94,632.4,683.17,490.86,492.6499999999999,437.96000000000004,559.9700000000001,176.63,166.2,43.2,640.14,310.26,508.58,477.7900000000001,605.0600000000002,462.65999999999997,415.2,588.2199999999999,108.97999999999999,409.57,163.62,225.77000000000012,161.20000000000002,257.67999999999995,202.6800000000001,202.11,574.7,1063.0,490.22,387.52,363.34000000000003,483.25,434.34,529.62,316.24999999999994,279.05,636.5100000000001,321.91999999999996,463.38000000000005,139.56,123.79999999999998,538.8100000000001,475.3699999999999,356.85,455.59000000000003,270.6,355.5600000000001,388.2499999999999,652.8,289.2399999999999,186.23000000000002,165.07000000000005,324.14000000000004,788.3800000000001,227.39,138.6,114.11,157.05,393.3299999999999,213.96000000000004,660.0,601.5600000000001,394.43999999999994,412.78,320.58,344.9000000000001,443.6,110.46,693.8100000000001,597.09,114.18000000000002,291.04999999999984,285.73999999999995,107.95,195.24999999999997,498.95,628.3799999999999,160.19,313.48999999999995,328.2,389.63999999999993,563.15,420.5,300.52,278.3,254.10999999999996,192.60000000000002,386.1499999999999,447.67999999999995,289.99,77.4,197.64000000000001,228.99,193.1399999999999,321.4299999999999,2139.76,197.13,102.44999999999999,325.75,475.79999999999995,645.6500000000001,170.32000000000002,266.76,52.2,710.2800000000001,519.68,255.4,589.7,765.3199999999999,364.80000000000007,369.2,554.38,468.77,307.48,223.88,100.9,311.69000000000005,499.6799999999999,463.8,147.59,114.77000000000002,114.39,213.26999999999998,296.7499999999999,334.54,429.8699999999999,260.16999999999996,125.58000000000003,265.9999999999999,518.28,252.72999999999996,180.35000000000002,537.0,735.6600000000001,343.62,1489.5,381.32000000000005,480.71,457.80999999999995,219.39,39916.5,410.48,876.0,484.95,358.8199999999999,184.19,406.53000000000003,330.11,623.5,520.8,296.41999999999996,401.4000000000001,487.75,106.56,1289.5,224.14000000000007,689.4799999999999,622.8499999999999,310.62000000000006,499.32,1268.6999999999998,331.18,328.34999999999997,755.7500000000001,409.4000000000001,429.6,612.0600000000001,316.68,631.57,514.1500000000001,356.0,300.36000000000007,623.1600000000001,254.82000000000002,393.74000000000007,408.8,135.31000000000003,255.89999999999998,240.55,496.4399999999999,574.02,310.47,327.97,570.5,267.13,162.2899999999999,311.71,1028.56,351.6699999999999,173.97000000000003,406.0899999999999,364.5,473.80999999999983,277.05000000000007,427.92999999999995,446.94000000000005,642.41,316.88,394.14000000000004,231.86,716.2,626.7699999999999,572.8099999999998,508.8000000000001,135.86,43.5,93.78,171.19,533.2999999999998,149.29000000000005,200.16000000000003,156.57999999999998,494.64000000000004,447.2200000000001,237.07000000000002,161.64,216.76,126.14,467.50999999999993,454.10999999999984,233.81000000000006,147.09000000000003,492.35999999999996,62.43,412.00999999999993,440.0,148.44,536.3999999999999,213.30000000000004,85.13000000000002,292.7199999999999,279.77,173.15999999999997,186.01000000000002,455.30000000000007,478.53,195.15,301.03,588.1300000000001,243.55,425.31999999999994,664.0000000000002,447.63999999999993,657.3499999999999,816.0,337.74,877.4399999999999,560.67,30.0,306.45000000000005,386.43,301.32000000000005,323.69,352.70000000000005,191.04000000000002,409.9800000000001,356.7,449.12000000000006,154.88000000000002,196.87999999999997,149.30999999999995,44534.3,458.57,205.25,583.75,315.05999999999995,621.83,270.8,241.62000000000003,1047.1100000000001,475.28000000000003,246.3,351.3,610.0100000000001,451.42,415.82,1303.9099999999999,532.94,137.37,391.97999999999996,355.56,130.74,110.80000000000001,297.0,68.84,230.52999999999994,501.39,516.3599999999999,379.34999999999997,446.8699999999998,524.52,334.23,167.49999999999997,336.03000000000003,426.63000000000017,404.58,337.43999999999994,371.01,430.93999999999977,168.12,158.03000000000003,41.989999999999995,427.07000000000005,407.49999999999994,211.87999999999994,628.2800000000001,236.09000000000006,934.62,331.24000000000007,437.69999999999993,855.0200000000001,362.06000000000006,335.32000000000005,372.0900000000001,584.3199999999999,436.17999999999995,315.06000000000006,302.36,611.88,612.7800000000001,307.78,517.5499999999998,620.4,535.3400000000001,734.1299999999999,375.0,856.6000000000001,331.95,305.5400000000001,338.7100000000001,215.47999999999996,215.08,314.45,400.681,365.27000000000004,592.9,547.02,914.9300000000002,542.03,536.68,432.19999999999993,414.2,389.44000000000005,752.4300000000002,411.7000000000001,357.94999999999993,559.8699999999999,810.6000000000001,566.3799999999999,302.25,301.90000000000003,361.2199999999999,632.2700000000001,274.15000000000003,151.05,322.41,395.79999999999995,676.2,362.95000000000005,584.4999999999999,221.19000000000005,303.93,299.59999999999997,443.0500000000001,151.83,262.20000000000005,126.25,302.69999999999993,300.85,642.81,184.26000000000002,381.2,259.0099999999998,707.6899999999998,6.9,316.11,544.3,331.0,404.30000000000007,365.45,90.30000000000001,101.7,484.32000000000016,215.08,244.41,455.25,787.15,285.89,281.84999999999997,865.5999999999999,124.2,451.43999999999977,313.61999999999995,459.2399999999999,181.08999999999997,250.15,90.04000000000002,244.79999999999995,482.47,618.59,506.18999999999994,178.96000000000004,333.08000000000004,322.8,487.51,290.65999999999997,518.4200000000001,601.2699999999999,118.98,183.70000000000002,422.59999999999997,1276.0,657.9,1998.0,301.71999999999997,901.2,623.7500000000002,155.23999999999998,272.81999999999994,417.59999999999997,464.9,223.92,2002.4,369.34,316.61999999999995,611.8500000000001,1145.6,380.3899999999999,171.59,226.35000000000005,107.6,80.8,414.88000000000005,305.62,332.29999999999995,460.58999999999986,288.42,417.06000000000006,497.61000000000007,358.37999999999994,341.70000000000005,413.46000000000004,251.87,588.8500000000001,214.32000000000002,193.44,332.40999999999997,144.91,35.400000000000006,680.02,432.0,194.88,145.93000000000004,219.13999999999996,379.14000000000004,208.45999999999995,169.79000000000005,543.0500000000001,161.94,816.7299999999999,406.48000000000013,435.02,20.8,518.67,319.0199999999999,344.33,384.06,126.12,702.0,195.36,270.90000000000003,71.0,95.85,357.77,716.0,433.53,112.40000000000003,449.7299999999999,339.44,642.0199999999999,247.14,498.47999999999996,538.37,287.62,248.60999999999999,307.46,259.34999999999997,424.99999999999994,380.5,465.32,1689.5,213.77999999999997,329.34000000000003,293.1,206.33999999999997,317.76,239.91999999999996,144.0,444.74,342.63,384.08,114.23,354.15,426.78999999999985,393.48999999999995,190.88,178.26,1253.3600000000001,317.61999999999995,763.64,111.98000000000002,498.42,250.03999999999994,644.3,363.9,494.24999999999994,160.56999999999994,365.84999999999985,127.85999999999999,312.22999999999996,446.18,495.7699999999999,400.09999999999985,203.2,336.40000000000003,1259.56,457.91,281.62000000000006,771.8499999999999,507.8399999999999,524.9200000000002,265.76000000000005,403.30000000000007,216.3,517.5300000000002,622.4299999999998,137.0,511.82,414.04,396.87000000000006,376.63999999999993,622.88,302.2,605.5799999999999,513.2,208.65,546.8100000000001,98.42000000000002,148.86,267.16000000000014,306.84,1487.6,344.13999999999993,215.72000000000003,161.67000000000002,394.72,309.36,329.6,218.52000000000004,503.59999999999985,285.56,621.6600000000001,166.07999999999998,196.0,551.0400000000001,184.39999999999998,239.41,338.95000000000005,417.95000000000005,885.1899999999998,303.97,168.24,355.11,674.5199999999999,287.59,371.87999999999994,1143.2699999999995,245.81,283.4699999999997,278.74,1117.9,106.1,350.3899999999999,512.31,36.55999999999999,35.400000000000006,110.21,605.8,252.79999999999998,329.65,428.1799999999999,458.91999999999985,602.0900000000005,244.10000000000002,97.99999999999997,256.32,152.06,110.38000000000001,191.66999999999993,243.2799999999999,311.01000000000005,397.29,212.54000000000005,145.79,304.56,77.50000000000001,176.68,557.3,111.67999999999998,508.4599999999999,102.82999999999998,123.07000000000002,277.34999999999997,582.5899999999999,337.04,353.18999999999994,288.14,811.4499999999999,152.68000000000006,630.84,166.42000000000002,523.0,122.13999999999996,389.78000000000003,115.30999999999999,230.64999999999995,97.97000000000004,300.02000000000004,363.65,170.16,720.5200000000001,814.0,318.0,453.0,336.13,343.45,90.47999999999999,689.95,167.66999999999996,580.05,168.31000000000003,113.48000000000002,430.6999999999999,673.1000000000001,206.83000000000007,931.4999999999999,1019.52,179.33999999999997,612.08,371.62000000000006,530.1500000000002,638.0600000000002,104.0,476.34999999999997,632.07,49.8,973.8399999999999,163.8,139.10000000000002,248.41999999999993,662.08,443.0,592.97,422.58000000000004,596.0999999999999,95.34,349.27000000000004,283.15000000000003,204.0,175.92000000000002,335.8599999999999,178.04999999999998],\"type\":\"scatter\"},{\"marker\":{\"color\":\"red\",\"line\":{\"width\":1},\"opacity\":0.9,\"size\":11},\"mode\":\"markers\",\"name\":\"Gold\",\"x\":[46,5,25,38,27,113,34,52,91,51,78,110,46,107,47,13,42,71,82,82,22,72,28,30,106,47,99,75,30,97,17,109,19,20,20,31,27,59,47,40,40,26,45,10,71,27,48,28,35,76,48,2,22,73,18,21,159,24,20,58,47,76,79,55,44,98,63,46,23,4,74,15,85,79,79,42,65,46,43,72,79,63,46,149,90,21,66,43,58,36,31,67,25,23,13,38,91,96,46,85,37,31,54,2,81,54,72,26,78,20,106,25,21,17,53,21,51,54,42,40,51,32,42,37,53,97,35,43,38,28,24,19,28,78,29,74,49,46,59,46,27,41,86,58,79,69,86,35,65,18,59,44,38,27,6,66,25,87,98,124,51,34,33,82,49,83,85,46,23,53,21,58,99,43,98,74,44,81,92,11,62,63,101,40,28,63,56,16,104,53,65,53,28,48,105,43,28,85,42,20,63,43,33,34,41,72,28,24,76,25,70,15,208,57,45,39,60,96,40,93,55,20,55,101,93,81,23,61,36,27,27,19,43,26,33,30,41,27,58,45,35,137,25,92,28,54,16,13,41,39,47,30,42,20,66,39,31,89,66,92,6,32,54,56,80,52,42,65,153,69,35,74,34,10,72,15,44,46,26,40,11,26,49,52,48,41,108,52,29,52,58,29,42,42,39,37,44,24,67,60,118,40,50,35,79,42,108,75,53,52,55,64,32,27,33,26,21,71,60,31,47,33,55,69,46,131,59,45,73,20,73,54,194,43,97,27,1,12,93,70,20,109,62,37,180,130,90,43,29,42,10,47,46,96,57,73,18,17,18,229,64,32,111,69,33,235,24,100,164,152,53,50,16,53,24,41,28,26,102,29,99,90,170,132,61,50,68,22,28,25,71,55,37,52,45,17,54,89,26,69,89,41,38,71,52,60,35,30,44,12,47,53,63,48,29,29,42,28,66,60,48,98,47,47,53,6,23,20,30,87,77,45,57,78,44,63,19,55,85,59,27,83,38,34,32,72,4,61,26,77,158,144,20,128,31,72,61,35,48,52,127,130,97,57,42,82,104,70,26,42,27,49,47,33,57,47,25,8,35,69,35,84,21,28,82,102,52,29,80,26,91,20,22,29,103,63,19,51,1,32,69,37,9,52,35,58,143,50,89,44,47,77,82,11,63,41,20,58,39,7,23,58,47,33,95,42,57,13,86,17,26,20,63,29,44,95,27,194,53,99,39,53,82,62,60,30,58,157,57,52,24,77,76,11,46,50,35,15,97,92,18,57,83,41,61,29,56,20,27,31,57,104,168,45,51,44,9,24,77,22,52,67,77,60,45,3,100,16,64,49,60,25,238,52,32,21,47,48,116,33,33,53,19,18,86,55,35,118,128,91,32,70,26,62,192,45,61,10,20,35,12,8,98,119,64,31,48,208,35,89,41,49,62,33,68,51,39,68,54,50,62,47,22,97,80,20,40,76,105,49,51,30,143,74,76,29,19,41,91,42,28,84,20,49,43,37,52,130,9,33,90,94,28,64,28,100,55,26,65,6,71,39,83,84,70,68,180,33,21,21,31,39,51,67,39,76,48,16,30,212,38,40,78,35,37,31,35,18,29,18,20,34,69,23,58,28,45,31,67,57,98,63,19,66,46,41,44,97,137,96,47,37,46,51,91,90,69,18,61,45,54,17,27,4,42,37,69,19,37,118,18,39,153,47,38,57,28,34,81,18,76,228,97,111,32,102,59,88,34,83,210,82,73,63,45,54,71,51,18,84,63,99,82,182,170,35,53,18,42,29,39,56,50,11,84,86,4,35,156,77,4,31,55,32,84,52,57,31,19,18,87,57,42,28,27,85,29,66,33,29,48,64,69,50,34,62,16,53,20,6,98,44,30,62,60,123,27,79,93,43,151,82,28,53,42,95,25,170,89,54,145,48,76,60,155,76,60,103,67,28,26,28,23,63,20,19,52,26,39,26,135,99,162,44,60,93,57,143,327,83,54,44,62,57,42,86,16,101,31,42,41,87,3,12,37,23,49,44,52,74,16,153,22,28,30,75,70,6,65,43,92,83,62,99,78,62,64,25,28,64,52,187,74,65,90,39,35,260,35,20,13,67,54,63,80,128,61,32,29,96,57,103,63,47,47,69,36,29,19,40,31,55,69,57,87,112,78,124,127,80,69,94,45,69,51,66,55,24,9,73,33,543,183,87,27,8,16,45,29,87,57,83,51,47,78,27,92,38,113,41,6,30,30,26,43,48,54,36,19,19,54,27,41,78,181,27,5,28,38,127,52,20,87,45,33,19,47,75,25,145,49,106,34,27,46,49,25,50,35,214,23,50,83,55,59,100,26,33,39,70,35,40,51,91,52,44,82,19,43,18,15,30,46,35,55,23,29,50,10,40,67,35,43,25,19,75,21,53,156,82,134,58,82,140,43,33,48,23,61,61,56,1,51,297,24,15,79,44,46,26,64,67,193,114,34,39,59,80,94,23,145,5,39,65,90,21,77,19,71,20,104,68,23,38,81,93,58,60,22,30,46,112,53,96,19,121,47,19,37,73,2,73,2,36,70,41,38,46,26,378,74,36,47,20,38,61,37,38,21,34,24,37,131,38,54,31,74,97,44,68,45,141,68,32,42,26,31,64,30,124,49,88,78,47,16,98,134,21,61,46],\"y\":[948.8799999999999,1759.5,430.15,6814.640000000001,383.03000000000003,2726.769999999999,1118.99,325.9599999999999,871.5399999999998,1050.8899999999999,1957.1,1324.5000000000007,1106.4000000000003,1607.0600000000009,854.9899999999999,1463.0399999999995,703.4700000000001,1175.2199999999996,1378.4,380.46999999999997,372.79999999999995,509.57999999999976,164.23000000000002,933.7000000000003,607.5299999999999,11581.8,913.5400000000001,683.9000000000001,604.51,1603.9900000000002,329.84999999999997,771.9099999999996,1660.9,7374.900000000001,372.21999999999997,503.76,414.75999999999993,1226.89,789.8899999999996,689.9000000000001,975.3599999999998,6912.0,661.32,1247.5,1010.1799999999997,921.8800000000002,881.07,908.46,629.31,1214.41,470.80000000000007,344.0,919.61,3613.6300000000006,303.75,345.82,7832.469999999998,1927.3200000000002,1098.48,1531.6200000000003,786.5400000000001,984.9099999999996,1197.8099999999995,922.3900000000002,1073.2999999999997,1793.58,962.3900000000001,423.71999999999997,307.0899999999999,712.8000000000001,1257.8700000000003,486.22,971.76,1201.0600000000004,1688.2899999999995,1021.4799999999999,791.3300000000002,468.4099999999999,353.65000000000003,492.8400000000001,1575.8900000000003,911.9400000000002,870.09,1223.8999999999999,1520.5800000000004,819.29,847.4100000000001,605.1200000000001,1031.0699999999997,744.8500000000003,700.7300000000001,663.6500000000001,501.12,711.41,399.51,698.5799999999999,2107.6600000000008,217.3799999999999,542.73,814.8600000000001,1132.1399999999999,578.9399999999999,873.7399999999998,360.0,618.0899999999998,1385.51,1132.0300000000002,598.57,1555.3199999999993,640.76,1548.7000000000003,199.48,787.85,789.0,1140.9299999999996,350.9,795.12,860.1200000000002,775.8499999999999,979.1199999999999,743.5300000000003,674.7,768.2400000000001,778.6499999999997,1019.7600000000003,572.5599999999997,677.1000000000001,1360.9899999999998,1544.1299999999997,1003.0600000000001,1390.5,712.5000000000001,640.83,1624.2099999999998,582.6,218.46999999999994,679.45,1269.0999999999995,1129.14,1058.34,1445.0000000000002,674.6800000000002,1431.7800000000009,1238.4699999999998,1454.579999999999,1122.4099999999999,1215.82,653.3299999999999,1166.7700000000002,292.0,891.1200000000002,1389.4100000000003,659.4399999999998,680.1800000000001,628.78,210.30999999999983,1280.85,291.4099999999999,626.9899999999999,682.41,918.1999999999998,584.0600000000001,174.37000000000003,1799.3299999999988,777.5300000000001,1749.0200000000004,373.74999999999994,732.0699999999997,467.03999999999996,781.0300000000002,379.65000000000003,1117.1300000000003,693.3200000000002,280.53999999999996,678.0099999999996,1171.8000000000002,544.18,747.7800000000003,1638.4700000000003,3070.42,1071.0300000000002,949.1199999999999,810.4999999999998,1033.3400000000001,519.44,1095.08,932.9700000000004,382.13999999999993,1573.2000000000007,897.7600000000001,396.9199999999999,1488.3200000000004,711.8600000000001,806.4100000000004,1079.3399999999997,799.8999999999999,524.14,2375.4100000000008,1079.6600000000003,333.4800000000001,1016.1399999999999,752.5999999999998,491.86,668.43,1341.5999999999997,1156.36,948.2499999999998,1647.2599999999998,1186.2800000000002,659.41,1070.65,1714.9599999999998,1521.7600000000002,360.01,348.79999999999995,688.8600000000002,4599.420000000001,632.0000000000001,957.6600000000001,412.0499999999998,834.57,361.62,865.0600000000005,1537.95,1595.4799999999996,2651.46,1090.14,1015.2900000000002,1281.53,632.97,564.62,388.52000000000004,740.9499999999997,332.63999999999993,626.4499999999999,1212.8400000000001,678.2499999999999,464.56999999999994,1237.5300000000002,568.5499999999998,745.0600000000001,3251.071,439.92,598.1999999999999,413.59,869.8700000000001,920.5100000000001,320.46000000000004,1266.0799999999997,2043.08,529.73,962.1899999999999,695.6099999999999,917.34,1421.6100000000004,642.8000000000001,584.0699999999998,651.8200000000002,1428.0200000000002,1560.379999999999,1659.75,1308.61,746.3600000000001,225.35999999999993,1353.7400000000002,374.69999999999993,499.41999999999996,1049.3700000000003,934.5200000000001,194.42,5976.79,1266.2300000000002,597.9100000000001,692.85,1382.7400000000002,706.1300000000001,709.7099999999996,637.5000000000001,415.81999999999994,915.1300000000002,3742.2,658.6400000000001,621.2900000000002,1345.6200000000003,432.88000000000017,507.66000000000014,1110.52,2445.9100000000008,1631.7700000000002,574.8399999999999,363.78999999999996,450.84000000000003,559.4100000000001,853.3900000000001,701.3999999999999,747.4399999999999,161.02999999999997,466.70000000000005,1004.3799999999997,991.13,1050.1200000000001,1547.2,925.71,1462.7200000000007,3144.8599999999997,890.3400000000005,1693.4499999999996,1474.0600000000006,969.06,1163.4499999999998,1516.2399999999998,1119.7399999999998,595.2500000000001,1910.0100000000004,2093.3199999999997,866.3099999999998,668.5600000000002,889.9300000000002,1021.5800000000002,133.50000000000006,1078.96,701.23,912.1800000000002,3717.349999999999,348.1,626.07,1247.6899999999998,1043.46,487.99,1475.8100000000002,2157.7299999999996,2059.45,1105.0699999999986,770.0300000000002,1496.9800000000005,813.11,322.08,1372.8,1420.2000000000005,1163.2300000000005,375.35,662.5900000000001,264.44000000000005,1837.9199999999996,2103.059999999999,1058.6200000000008,598.7599999999999,461.19000000000005,547.6600000000001,925.8499999999998,1309.6000000000001,165.75000000000003,1064.2800000000002,1383.1799999999994,276.41999999999996,1055.35,330.45,974.54,364.22,620.0399999999998,932.8499999999997,537.48,1461.6499999999999,1080.7600000000004,1530.3600000000006,1653.4200000000017,168.63,1042.2599999999995,570.4599999999998,617.9900000000001,379.82999999999987,221.97000000000003,553.44,899.63,671.96,1006.9799999999998,609.8500000000001,830.76,654.5999999999998,247.14999999999998,637.89,1835.7000000000003,1269.9900000000002,411.5300000000001,765.55,371.7,591.5500000000001,318.1699999999999,1126.37,917.07,867.3800000000001,329.6799999999999,663.8100000000003,718.08,380.0199999999999,1164.55,1314.4499999999998,1448.2099999999994,1099.98,1220.2600000000002,1415.7499999999995,638.0500000000001,738.9599999999998,1484.0599999999995,876.4199999999997,1011.9,730.8599999999999,679.4399999999998,845.5500000000002,353.2699999999999,554.65,778.5,1110.3399999999997,657.8,507.2900000000001,1127.7100000000003,697.55,511.34999999999985,1311.3800000000006,1173.1199999999997,841.2000000000002,522.3799999999997,1465.3200000000002,706.1900000000002,761.5900000000001,1862.0,655.7499999999999,332.66,434.3500000000001,1227.4300000000005,1268.9799999999998,1610.1499999999996,977.77,1316.0700000000004,749.0999999999998,1101.9699999999996,371.2,289.82,336.16999999999985,695.42,221.26999999999992,598.9999999999999,191.3199999999999,1592.06,1314.45,790.8599999999997,326.4,233.23000000000005,546.2,490.52,1246.3199999999995,502.08999999999975,308.94000000000005,423.0399999999996,496.21,377.01,469.0,1066.1499999999996,627.13,4959.0999999999985,465.55,705.4899999999997,384.04999999999984,987.8599999999999,893.59,1744.7600000000004,553.3599999999998,1109.5300000000007,982.0699999999997,748.8700000000002,773.0300000000002,880.8500000000004,895.61,504.7999999999999,1160.07,1370.5999999999997,248.07999999999996,317.53,703.3599999999998,1027.44,996.1,1567.4799999999998,340.11000000000007,457.71999999999997,1633.779999999999,1471.0000000000007,977.9300000000002,982.4199999999998,2354.2500000000005,498.74,1327.1600000000008,301.28999999999996,329.25,304.4699999999999,843.0499999999997,406.76,411.40999999999997,1044.3200000000004,3861.0,1079.61,1236.5400000000002,653.2399999999999,420.29999999999995,894.41,734.94,1219.4,2247.5099999999998,1071.9899999999998,2515.8400000000006,740.7800000000001,890.8499999999999,1810.77,1506.1200000000001,1717.36,721.9399999999998,615.1399999999999,486.69,939.7800000000003,641.94,4507.01,694.4000000000002,1174.3499999999997,924.8500000000001,312.62,2748.3100000000004,679.6799999999998,1049.6999999999998,714.96,574.0699999999998,2020.52,563.94,393.54,777.02,913.1900000000004,602.5100000000001,1877.5899999999992,2007.4,3703.2899999999995,510.7099999999999,1358.8800000000003,774.8999999999999,950.3599999999996,397.3499999999998,383.67999999999995,974.52,429.84,538.73,1048.8500000000006,334.53000000000014,524.88,538.55,469.47999999999985,371.56,1771.2,1441.4199999999996,1134.28,659.4599999999999,1262.2,3610.9600000000005,1000.2700000000002,343.49999999999994,398.84,807.5699999999997,538.46,575.63,436.05999999999995,437.22999999999985,473.65,800.5900000000001,1375.7100000000003,650.43,607.45,702.2500000000001,940.6700000000002,348.5999999999999,682.9100000000001,913.6800000000002,388.58,1406.5900000000004,324.57,761.74,1198.23,2920.1600000000003,1093.68,776.8510000000002,336.40000000000003,1553.18,1293.0300000000002,1534.26,675.8000000000001,1186.35,724.76,812.9999999999998,612.0099999999998,646.3000000000001,922.5300000000002,748.5000000000001,1024.0999999999997,2242.0100000000007,684.34,657.23,1426.1599999999999,239.76000000000002,309.6499999999999,696.6799999999996,1060.56,330.8799999999998,1118.8100000000004,598.7300000000001,507.0799999999998,415.2500000000001,1120.8800000000003,1339.45,1094.59,532.9599999999995,714.4200000000001,1086.9200000000003,635.6800000000001,345.4600000000001,220.84999999999997,965.6099999999999,2207.4,884.1400000000002,699.0800000000002,1063.9499999999998,784.5799999999999,903.9000000000001,3734.970000000001,515.7699999999999,1391.9799999999998,1801.14,2100.6000000000004,570.96,885.4699999999999,1654.31,636.14,576.0,801.7599999999999,836.7899999999998,954.0899999999996,1048.4900000000002,1224.0600000000004,389.27,238.85000000000002,712.2399999999997,1936.3200000000002,895.1300000000002,354.0899999999999,343.28,396.47999999999996,351.1099999999999,164.67999999999998,639.89,1107.4600000000003,6115.009999999999,1708.2400000000002,364.7199999999999,708.2200000000001,806.5699999999998,428.88999999999993,470.7600000000001,418.8299999999999,666.0999999999999,1098.7800000000002,2398.8599999999997,1142.42,792.11,1060.6799999999994,12393.7,478.7800000000001,992.7099999999999,1415.2899999999997,408.90000000000003,251.23999999999992,439.66,548.9399999999999,758.9199999999994,471.7799999999999,1313.5500000000006,3166.4,1197.2700000000002,773.9900000000004,1340.7000000000003,1511.9499999999996,783.8999999999999,664.85,1459.8600000000008,852.15,326.24000000000007,1352.0000000000002,1317.6200000000003,1121.39,817.86,2005.6300000000003,731.8999999999999,1290.7,842.5,423.36,1309.14,867.1099999999998,684.42,656.2500000000001,3506.5400000000013,618.0900000000001,709.3800000000002,635.41,725.1800000000001,280.52000000000004,1829.04,656.6899999999999,1025.4400000000005,822.4800000000001,1140.21,1009.5500000000001,1037.5899999999997,6617.650000000001,1158.7900000000002,529.41,981.8600000000001,405.71000000000004,761.38,537.06,394.38,664.2600000000001,2262.62,690.34,1062.7499999999998,864.86,846.7200000000007,1295.3000000000004,1010.5999999999999,990.8799999999998,867.3099999999996,409.09999999999974,1522.7499999999998,1413.660000000001,1800.0700000000006,1035.45,861.8899999999998,667.6499999999999,1141.2399999999996,2062.06,598.1999999999998,2560.0,706.5700000000002,616.26,1341.6499999999999,328.15,326.74999999999994,428.6799999999998,594.24,251.91,549.0699999999998,370.47999999999996,575.4100000000001,1116.4699999999996,494.44000000000005,658.88,734.7699999999996,327.3,497.42999999999984,1320.5600000000004,367.92999999999984,473.0299999999997,1780.5900000000001,668.3599999999996,555.8899999999999,317.20000000000016,1382.07,1555.3400000000006,1486.9000000000003,1705.8000000000004,408.57,163.07,214.64999999999998,210.34999999999985,1051.3999999999999,972.2299999999999,346.12,654.6700000000003,230.51000000000002,1841.1800000000005,1422.4,650.4300000000004,762.39,300.83,769.2899999999995,220.61999999999998,363.65,498.79999999999995,731.5,1351.6300000000003,826.5299999999999,400.86,1431.9300000000005,484.37999999999977,777.6,874.5899999999999,1046.5700000000004,1244.5900000000001,6748.8,593.75,548.97,922.12,5719.819999999999,837.1,841.4099999999997,511.12000000000006,1077.74,614.66,1421.6900000000003,1009.5999999999999,663.6099999999998,936.0799999999999,330.0299999999999,360.1600000000003,528.0799999999999,1187.6599999999999,500.42000000000013,813.4800000000002,810.5699999999999,417.72999999999985,1154.4700000000003,1257.5099999999998,688.33,833.7799999999996,1267.6499999999999,570.1299999999998,306.71999999999997,1692.27,319.61000000000007,1770.3400000000004,1027.9999999999998,324.24,482.0099999999998,531.35,656.6300000000001,3029.870000000001,1161.5299999999993,589.15,781.0200000000003,743.11,603.7499999999998,650.51,836.0600000000001,623.93,1764.7199999999998,1496.8300000000004,1501.3799999999997,478.08999999999986,770.1000000000006,661.5200000000001,388.2799999999999,425.18999999999994,597.4799999999999,1619.7300000000002,536.99,801.4899999999996,1121.59,547.0699999999999,460.64,775.1800000000001,325.90999999999997,1264.1899999999998,342.45,328.4,747.81,502.8,705.1199999999998,429.84,1578.6700000000005,525.5399999999997,508.8099999999997,1706.88,373.24,579.7700000000002,621.6800000000001,576.2600000000003,2596.4499999999994,846.7499999999998,380.55000000000007,563.2299999999998,950.93,262.68,1178.56,1277.7500000000014,308.74,507.04999999999995,439.4300000000001,650.4100000000002,357.20999999999987,1078.9600000000005,1873.2,1133.25,1456.96,484.82000000000005,1493.73,1412.9399999999996,889.9300000000001,586.3299999999998,920.0999999999998,890.2899999999997,380.35,1030.1399999999999,745.5200000000001,1267.3199999999997,1081.5700000000002,948.48,1100.9,925.3499999999999,413.75000000000006,1356.3300000000004,1179.8899999999999,5232.23,1461.1399999999996,859.3500000000003,312.13999999999993,841.08,378.2000000000001,290.1600000000001,1405.7799999999995,1566.65,1324.159999999999,971.74,665.7800000000004,837.4999999999999,606.91,1004.7499999999999,749.78,251.69999999999996,319.0,1266.9699999999993,835.7800000000004,1443.6900000000003,711.79,796.0300000000002,384.3999999999999,1699.3000000000004,1013.01,692.2200000000001,1564.5600000000002,1069.12,335.13,939.32,318.76000000000005,3638.4100000000003,421.5200000000001,550.0600000000001,314.69,1135.0399999999997,954.8999999999997,282.18999999999994,318.65000000000003,384.52,353.8599999999999,272.44000000000005,298.40999999999997,603.3699999999998,562.8999999999997,310.63999999999993,1065.3500000000001,1703.4100000000003,153.92000000000004,556.9499999999997,131.78000000000006,197.6300000000001,1384.8500000000001,2328.8399999999997,2600.34,1200.6199999999997,523.11,2027.8700000000033,781.3600000000001,537.74,587.15,1740.0,1393.06,388.1399999999999,488.2,423.8899999999998,646.9200000000001,404.66,199.29000000000002,261.11000000000007,784.11,7330.800000000001,696.4099999999999,653.3799999999999,2200.42,778.9399999999999,778.0,463.4600000000001,598.8300000000002,698.4100000000003,759.1699999999995,365.76000000000005,303.16,541.53,486.71999999999997,1737.6999999999998,316.49999999999994,675.6899999999999,763.2800000000003,1125.0700000000002,710.2900000000002,497.56000000000006,1138.0,689.0999999999999,558.9599999999999,2997.0300000000007,1145.84,308.48,639.0199999999998,723.2099999999998,652.7400000000001,1195.8999999999999,939.37,897.6200000000003,578.9,645.9599999999999,930.41,483.25999999999993,541.4599999999999,854.9500000000002,167.61999999999998,454.0099999999999,380.59999999999997,448.89999999999986,1242.3000000000002,1133.0700000000004,1240.2000000000003,993.1799999999995,388.7900000000001,2044.3700000000003,193.42000000000007,390.0699999999999,1379.8999999999999,527.05,528.33,1324.8399999999997,547.06,712.2900000000002,1008.3899999999999,1797.5,868.49,1207.5600000000002,1674.69,595.42,604.64,728.1599999999999,347.74999999999994,1992.1100000000006,740.9399999999999,765.34,798.7399999999999,385.1,522.91,1195.94,3276.4,1033.0000000000002,1240.11,692.1899999999998,700.63,377.4399999999999,712.78,818.8200000000002,271.20000000000005,182.76999999999998,1225.4100000000003,658.5699999999999,1865.1899999999994,323.03999999999996,697.9000000000002,1285.0399999999997,546.0399999999998,387.6799999999999,3704.869999999999,398.7,155.3700000000001,350.63999999999993,338.80000000000007,2033.1,901.2000000000003,5391.210000000009,114.34,1418.0300000000002,1197.1000000000004,1859.1600000000005,683.4600000000003,379.45000000000005,190.18999999999997,726.0500000000001,1119.8100000000004,566.5999999999999,800.24,366.23,411.6,336.4299999999999,341.2799999999999,1304.04,826.5200000000003,843.0,1740.4799999999998,408.36,1331.5699999999997,704.25,389.8399999999999,4106.4400000000005,482.2,1008.5400000000003,471.6999999999999,1098.43,634.9499999999999,201.11999999999998,678.4900000000001,382.05999999999995,417.23,249.71999999999989,444.68,2116.19,120.03,422.8800000000001,730.4000000000001,405.6199999999999,357.20000000000005,559.5099999999996,189.39999999999995,306.46,396.3300000000001,3877.520000000002,1231.5,703.3699999999997,4055.7199999999993,2106.52,3017.2999999999993,223.65,754.6400000000002,236.3,352.69,1418.0300000000013,320.71999999999997,589.4399999999999,348.7299999999999,681.9100000000001,784.3299999999998,1000.1599999999997,566.5800000000002,653.3499999999999,399.18999999999994,453.4000000000001,399.65000000000003,1384.86,1169.94,980.3100000000002,1231.3099999999997,2106.84,1341.4199999999994,1590.8099999999997,382.79999999999995,1090.24,957.9699999999999,689.1300000000003,1396.9900000000007,517.36,600.07,481.75,621.75,1041.6100000000001,779.9,2083.2700000000013,882.24,1561.6099999999997,2232.49,804.02,4314.719999999999,526.6699999999996,2643.2000000000003,324.23999999999995,1213.16,801.5100000000001],\"type\":\"scatter\"},{\"marker\":{\"color\":\"black\",\"line\":{\"width\":1},\"opacity\":0.9,\"size\":13},\"mode\":\"markers\",\"name\":\"Platinum\",\"x\":[103,199,59,91,56,175,123,314,420,103,314,538,154,116,63,91,75,24,50,107,50,720,45,84,82,129,62,120,116,215,23,63,79,180,238,95,151,305,76,64,61,339,404,89,219,110,176,458,131,99,43,172,136,403,69,425,112,358,1028,155,423,572,304,145,201,120,235,140,127,704,170,135,319,86,87,121,131,314,265,94,181,110,226,119,57,321,56,142,108,32,611,207,141,1677,187,211,440,316,187,59,81,107,62,87,124,476,75,108,268,134,119,166,60,128,158,172,152,51,155,478,304,104,127,157,67,101,167,195,71,443,63,382,99,302,260,109,422,48,42,162,44,115,141,436,172,223,296,179,109,136,175,176,341,126,83,174,87,128,166,247,226,201,59,71,146,188,146,79,96,166,108,470,195,57,39,90,197,134,336,102,60,104,196,191,321,342,142,117,368,135,119,177,197,115,31,349,137,76,46,74,174,206,110,76,139,33,307,115,336,104,165,178,65,142,59,110,118,149,122,148,117,49,45,160,20,152,626,149,338,111,107,351,234,84,121,155,86,208,171,84,243,250,143,235,209,488,210,1106,284,202,111,324,43,181,450,214,105,250,79,123,156,160,34,159,167,52,200,134,47,66,210,1204,149,327,165,240,65,265,259,579,87,102,112,108,59,100,193,67,175,115,159,112,141,111,78,106,111,143,156,280,47,101,237,100,61,62,143,105,180,117,87,101,123,259,162,90,129,118,524,140,186,286,350,87,182,103,107,590,124,206,222,224,144,382,55,51,293,258,970,240,72,281,144,144,120,193,194,624,164,107,799,316,68,101,203,291,972,216,62,519,330,76,72,114,399,366,48,113,216,74,423,127,270,123,330,383,197,102,55,86,20,92,134,122,152,172,106,199,237,49,126,253,168,573,74,102,42,258,421,327,71,130,210,115,335,347,415,196,139,357,339,237,278,501,147,202,194,60,59,235,102,135,1090,117,46,80,1141,385,235,255,121,67,108,138,145,130,388,143,127,58,99,144,71,124,73,498,55,116,96,355,69,165,170,138,312,198,160,216,115,1119,182,472,135,562,155,111,510,394,1502,453,206,78,143,71,114,276,237,121,155,54,440,145,108,101,100,100,197,45,79,106,127,84,73,68,217,67,343,271,55,125,710,110,93,91,212,310,142,42,110,166,117,125,99,49,78,110,350,111,53,41,274,47,139,88,204,103,194,192,243,225,519,551,114,94,132,117,36,302,84,85,73,50,153,122,192,292,306,55,329,382,219,286,97,98,188,86,154,297,125,512,68,213,164,160,308,178,214,185,178,163,672,108,228,256,259,702,115,899,113,53,323,215,150,123,103,410,47,43,423,185,155,167,484,119,90,78,155,114,202,110,78,166,78,171,237,117,214,288,53,937,69,302,72,173,88,93,293,411,141,180,43,83,267,206,75,133,263,301,133,72,123,115,273,167,138,140,645,191,142,546,147,461,128,120,129,86,116,74,150,249,267,155,115,60,98,98,183,122,35,176,65,97,113,270,140,552,506,103,218,385,212,139,145,182,235,160,46,101,1137,312,121,64,102,129,227,167,63,57,48,31,354,284,117,89,339,117,224,117,89,130,474,98,85,125,84,162,218,295,134,179,111,123,84,134,135,662,294,123,270,135,124,258,133,107,166,109,118,79,162,151,319,319,153,45,77,92,235,94,109,66,662,106,53,51,130,118,125,108,330,186,172,232,102,369,372,109,132,282,174,111,202,135,236,148,360,146,97,95,136,169,113,290,183,177,45,981,251,207,460,126,216,62,172,276,96,179,117,152,94,118,69,261,73,208,160,252,114,89,163,585,62,308,144,270,402,22,447,624,199,201,225,185,269,660,125,191,242,357,449,69,42,706,222,255,158,333,190,93,320,285,164,149,449,324,86,189,47,165,266,116,378,128,137,279,112,159,178,101,203,125,79,710,208,151,547,101,128,672,209,77,898,241,305,281,249,60,54,28,89,148,407,120,129,93,169,44,217,252,234,98,102,318,316,516,296,143,140,174,77,81,162,96,115,63,195,125,48,42,418,117,127,134,27,52,478,48,81,101,229,104,144,86,73,84,237,152,211,157,274,472,208,541,105,566,400,114,292,124,142,111,102,135,57,79,66,131,473,107,200,50,753,407,500,215,71,132,411,468,111,253,418,109,28,213,213,59,82,64,66,269,206,117,271,328,134,135,277,100,111,111,215,88,82,76,109,366,105,137,82,73,253,394,88,63,152,165,299,411,440,253,201,166,213,270,560,237,576,135,312,78,50,315,123,297,157,232,259,91,158,86,117,68,53,110,227,705,78,304,118,130,286,256,115,142,74,103,382,245,274,115,192,66,165,218,690,97,47,136,193,92,741,412,95,105,310,194,190,111,408,104,61,851,141,371,220,169,121,54,199,222,148,102,370,279,145,117,109,696,31,43,485,249,329,179,296,146,166,123,191,472,127,360,46,137,470,142,227,127,89,213,108,444,1279,364,196,70,159,43,221,140,80,189,90,119,71,159,200,134,114,272,271,242,164,86,104,61,104,175,118,42,166,756,70],\"y\":[4196.010000000001,4090.880000000001,942.3399999999999,1474.7199999999993,1018.7100000000003,2612.8599999999988,683.1299999999994,5591.420000000003,4022.3499999999967,1702.26,2179.9300000000007,4036.819999999996,1535.7700000000007,17654.539999999997,2919.809999999999,2178.67,3075.0400000000013,1662.3,2483.6299999999997,3006.1500000000005,1335.1899999999998,16587.09000000002,694.0499999999998,2062.6999999999994,42055.95999999999,2160.6999999999994,1063.9000000000005,1504.2700000000004,2064.95,4167.220000000001,1843.0,1064.0700000000004,1387.7900000000004,4757.159999999999,4017.5400000000027,1856.6299999999997,452.23999999999995,11189.909999999996,1239.38,6924.109999999996,974.42,9818.820000000012,5655.91,1661.8400000000008,4810.9400000000005,3466.2799999999997,3346.2800000000016,7277.699999999997,2616.38,799.4800000000001,676.9900000000001,3237.540000000001,1835.9099999999994,5836.86,1119.4900000000005,4436.119999999994,729.2700000000001,12627.94,28337.38000000005,8910.82,6010.419999999994,28882.440000000013,6424.090000000001,1488.6700000000012,12245.960000000003,2294.7800000000007,3866.3299999999977,2099.6399999999994,2607.6099999999997,3650.409999999999,5064.940000000003,2388.7499999999995,3707.120000000001,1676.0599999999997,1741.2199999999991,1437.8500000000006,1319.19,2817.0300000000007,5725.470000000003,3957.7800000000016,1701.2900000000009,1797.78,3401.239999999997,9817.120000000003,869.4599999999999,5891.609999999999,1197.4199999999998,788.0799999999998,2155.9499999999994,6463.840000000002,2806.9700000000007,1357.6000000000015,1987.3000000000009,7454.069999999956,3834.26,4521.490000000001,3214.6899999999996,5346.23,2709.1200000000003,2089.8500000000004,2000.8599999999992,1456.7899999999993,775.9400000000002,5977.730000000001,2273.679999999999,10845.549999999988,7121.949999999994,3627.769999999998,3536.819999999998,10736.47999999999,2543.720000000002,3090.7399999999984,992.5000000000002,2225.3700000000013,3312.2500000000005,3639.3100000000004,4151.929999999999,797.96,2520.0199999999995,28117.039999999983,6127.429999999998,1851.0799999999995,2626.3000000000006,3641.3199999999974,1006.8000000000001,3809.89,3408.0599999999995,3539.370000000002,2043.7200000000003,2976.149999999999,1766.7199999999998,9646.570000000002,1083.71,5704.970000000001,2531.579999999998,1804.5599999999993,8968.309999999996,2044.8699999999997,1159.11,2479.159999999999,979.7200000000001,1791.5599999999984,2128.42,1093.6500000000003,3964.8800000000006,2287.5100000000007,5870.080000000015,3448.2899999999986,3740.070000000001,4149.2800000000025,605.0599999999998,874.7099999999997,2092.32,6717.340000000001,1687.5999999999988,2478.949999999998,1981.9199999999994,2037.0800000000008,697.04,5153.669999999998,1131.8800000000006,1610.460000000001,7792.36,2031.7800000000002,2121.27,1575.1600000000003,2624.260000000001,1678.1200000000001,1836.34,2707.329999999999,2639.1700000000037,6363.589999999984,3722.4200000000014,827.83,3119.4400000000014,2504.1299999999987,2265.119999999999,2308.0599999999986,6328.050000000004,1445.0100000000002,1041.68,1980.5600000000004,2885.2399999999975,731.8999999999999,3131.020000000001,2161.3500000000013,5189.519999999995,3190.550000000001,17220.360000000008,2796.5099999999993,2634.450000000001,1132.13,25977.15999999998,911.9999999999992,2462.7899999999995,37153.84999999998,2635.7900000000004,1747.66,1698.9399999999998,2202.99,691.7299999999999,3385.619999999999,8109.5199999999995,1245.9000000000003,2209.360000000001,3192.54,3104.9500000000035,2770.9400000000005,6403.250000000004,1786.7900000000004,3219.7700000000004,17159.519999999993,1191.1299999999999,2674.479999999998,787.6000000000001,1883.8099999999995,2593.0699999999993,2867.2,2369.5499999999984,2580.909999999999,1838.8500000000001,839.1400000000002,5112.96,2427.3199999999974,3515.6800000000003,1026.4200000000003,9053.940000000002,2758.26,2526.2799999999993,1871.81,2603.43,7060.130000000006,4147.960000000001,855.9699999999999,3466.36,2313.140000000001,1393.6899999999996,3901.8100000000036,4582.639999999999,2874.7200000000007,2360.0899999999997,17286.859999999997,2975.5900000000006,3614.9199999999996,652.8199999999993,5681.719999999997,15610.389999999989,8214.64999999998,6217.960000000002,6140.419999999998,10464.85,1438.820000000003,942.2599999999998,1018.4299999999998,4448.539999999997,4076.910000000003,442.8499999999999,3104.1700000000005,1360.2800000000002,2703.23,5683.149999999999,2915.1499999999974,1840.4200000000005,2780.1499999999996,2740.4300000000017,1123.86,3586.030000000001,4690.31,982.3800000000005,935.0499999999996,4190.999999999999,4693.00999999999,3222.3000000000006,1620.93,719.7799999999997,4748.519999999998,2054.3599999999997,4654.079999999998,4684.760000000001,11349.519999999986,2073.4300000000003,1905.8400000000001,2241.1000000000004,1789.7200000000005,1839.3,2004.9800000000002,3432.7999999999993,2232.19,3350.9600000000014,2048.0700000000006,775.4600000000004,2380.8500000000017,2588.769999999999,1904.0500000000002,2879.7000000000003,3099.72,12669.979999999996,2618.230000000001,3729.3400000000042,4628.749999999998,911.2599999999999,2314.6499999999996,3883.249999999998,4871.9299999999985,1046.5599999999993,1305.3299999999997,3965.6199999999953,1858.9599999999998,2995.7200000000007,2352.530000000001,1611.5899999999995,2481.129999999999,1530.749999999999,5014.840000000004,2552.2100000000005,1614.9100000000008,2182.2799999999984,2128.23,9261.520000000006,1770.5600000000013,3212.8400000000015,4652.8200000000015,3507.710000000001,2612.960000000001,4051.4799999999987,1474.3200000000004,2606.53,5900.279999999999,1937.2500000000002,1058.0600000000002,4263.64,4481.670000000001,1244.8300000000004,2255.5099999999984,2357.6800000000003,1712.8900000000008,1039.5800000000008,907.0999999999999,3062.3999999999983,2004.0200000000004,2272.4000000000015,1936.8400000000013,2068.150000000001,1196.3300000000002,2383.2400000000002,1957.3200000000004,815.32,2470.6699999999996,3543.2600000000016,673.2599999999995,5905.639999999987,2012.1700000000012,1314.8099999999997,2102.0899999999997,1867.6800000000007,4332.199999999996,8508.81999999996,2925.910000000001,1949.7200000000007,4447.049999999999,2864.190000000005,996.26,3630.330000000001,2024.4500000000005,2578.0900000000024,4007.539999999999,765.6200000000001,859.27,2381.040000000002,2237.7700000000013,5074.769999999998,3099.1200000000017,2832.840000000001,859.7100000000011,1052.5500000000004,1601.1400000000008,1447.140000000001,1740.6000000000001,883.1500000000002,16569.5,1785.1499999999999,1788.36,889.2499999999999,2791.2699999999995,959.0100000000001,2984.4900000000025,2125.079999999999,1417.2899999999997,1947.5499999999997,1932.23,848.22,2529.930000000001,771.1700000000003,9241.200000000004,1736.3999999999994,604.7499999999999,2548.24,28754.11,1236.2800000000013,5630.869999999997,2114.3299999999995,2078.95,1250.7600000000014,2235.2999999999997,2549.369999999999,3292.139999999998,1546.9099999999999,4921.040000000007,606.1300000000002,2868.7999999999965,2666.36,1602.1300000000008,1158.3,2005.0600000000063,2702.49,9585.909999999998,6065.69,3902.28,1400.3400000000004,5010.279999999999,1625.9699999999993,2473.37,10674.750000000007,2538.299999999999,745.0600000000001,1319.9099999999996,8022.489999999978,4339.739999999999,2741.169999999997,2087.879999999999,2226.9099999999985,1720.3000000000004,1649.5000000000011,3295.7599999999993,2824.6899999999996,3189.8099999999995,7930.539999999996,2836.6899999999982,2759.8300000000004,1353.739999999999,14389.900000000007,2953.590000000002,725.7,1485.5400000000006,1237.8500000000004,11138.710000000006,1366.38,1303.5199999999995,1421.2900000000004,2810.63,1025.4399999999998,3501.0999999999976,5900.250000000002,8099.489999999998,7044.680000000002,1487.8000000000013,1116.5699999999993,1931.4200000000028,1641.7599999999998,6316.569999999991,1261.7799999999997,1914.8200000000024,905.0399999999995,6802.759999999989,1661.3300000000006,668.14,2586.670000000001,4308.609999999999,19914.439999999966,7700.229999999997,5213.770000000001,1782.0900000000004,1391.6100000000001,697.79,302.09999999999997,2124.9900000000025,1337.7200000000007,303.0899999999999,3158.1300000000006,1043.4099999999999,9743.110000000022,2420.8400000000024,4597.019999999998,2298.930000000001,1422.5200000000002,3609.330000000001,2760.5599999999977,1352.7500000000002,1551.7800000000002,2199.309999999999,11528.480000000001,3447.4,1387.99,1286.7000000000005,6580.440000000007,1194.7300000000005,5314.469999999995,4745.69,961.4899999999999,1936.0700000000006,18641.010000000017,1624.0499999999997,2206.9500000000003,4777.180000000001,16225.390000000009,7616.529999999996,1827.7999999999984,870.12,1661.44,5756.890000000001,1778.9599999999994,3386.7100000000005,1412.320000000001,780.59,1706.57,1756.4400000000007,6688.460000000006,10484.989999999996,918.1999999999996,2379.49,2507.070000000002,716.5700000000003,2332.149999999999,2306.519999999999,7943.22,4668.300000000002,3672.86,4799.900000000001,5070.3499999999985,1960.110000000001,2766.499999999999,8347.199999999992,2314.32,2386.05,2415.9100000000003,1233.3599999999997,1690.26,5955.709999999999,1535.5299999999997,2183.54,1345.5299999999997,815.7699999999999,1056.44,3450.8400000000015,3984.3199999999993,1447.39,1483.1399999999999,1041.4800000000002,1122.5300000000007,3236.909999999999,1418.2600000000016,1388.370000000001,7354.62,11054.960000000003,3594.3099999999995,2575.0,3100.0900000000015,2001.800000000005,1299.230000000001,13316.399999999992,1131.5600000000004,10384.93,979.2600000000004,909.2300000000001,14758.219999999998,4139.460000000002,1942.4500000000012,3000.2000000000007,825.9200000000002,2429.779999999999,3995.2299999999973,1502.3500000000001,2007.4399999999994,1580.9300000000032,3546.709999999995,4954.839999999991,1693.26,4805.169999999989,1400.4399999999998,758.2899999999998,4165.52,2552.86,3679.9700000000003,725.1099999999999,1771.78,6776.559999999997,1297.8700000000003,1591.4500000000003,10399.739999999989,3709.5600000000018,2870.2400000000002,3285.310000000001,12515.659999999982,1887.2000000000005,1600.86,2657.1300000000006,2881.0200000000013,2446.6,3435.7599999999998,781.2799999999999,1333.6800000000003,2993.099999999999,6479.399999999998,2736.4600000000005,1542.14,2293.6199999999994,945.5799999999999,3364.2399999999984,1072.3600000000001,5045.609999999998,2222.56,5178.960000000001,1205.12,4812.419999999996,784.4600000000004,974.0399999999995,2465.479999999999,2637.3800000000024,2364.2500000000023,3279.9700000000003,2614.7400000000007,2328.9700000000003,4932.2000000000035,948.0500000000001,1612.6900000000003,2711.5599999999995,4206.389999999997,5528.479999999997,2218.6199999999994,1945.3300000000004,1905.45,1836.0900000000008,2233.749999999999,33643.08,3711.7699999999995,2974.6499999999974,16387.570000000003,1438.8500000000008,977.2099999999992,3165.360000000001,832.88,3812.6399999999985,360.9299999999999,4405.879999999999,493.28,1388.8799999999999,363.8799999999999,5126.76,1567.6900000000014,967.4499999999998,1232.1799999999996,1528.0900000000006,2495.870000000001,955.2400000000001,1765.509999999999,1659.3799999999999,4416.260000000002,845.6399999999999,4199.85,3442.15,1054.7299999999996,3408.4799999999987,1475.02,2837.6700000000005,1451.2800000000004,2797.5699999999983,3089.969999999999,2735.3700000000003,615.389999999999,1701.939999999998,3362.7100000000023,37130.6,662.3799999999999,705.3899999999996,1508.7600000000014,3786.239999999999,851.0100000000001,719.81,8816.399999999987,1111.7899999999993,2263.12,1153.6199999999992,1521.8700000000001,2234.729999999999,2806.9000000000005,981.5099999999999,1078.2299999999998,1842.1400000000003,1429.6399999999999,3204.16,1337.4800000000016,1667.9700000000018,6287.770000000002,1880.22,14589.039999999997,2424.939999999999,3799.4899999999957,2053.019999999999,1824.2300000000002,3122.0400000000013,5575.559999999998,3787.600000000001,1822.9700000000003,1885.0499999999995,1418.3199999999993,10254.180000000002,4006.9400000000032,6911.439999999999,5180.52,1080.6199999999992,1863.4699999999993,21086.299999999996,3084.6800000000017,1096.32,3718.800000000001,2607.8700000000067,3603.210000000001,3683.8599999999983,2619.91,5203.51,746.8299999999999,5447.000000000003,1429.2399999999998,1509.5800000000004,1570.8099999999993,823.9699999999996,2248.9900000000002,1328.5500000000004,5360.63,2938.9100000000008,3110.9600000000046,3844.22,1593.2000000000003,26626.8,1971.8700000000003,887.6500000000001,1469.4500000000005,6675.709999999997,2027.499999999999,1750.9199999999994,3512.5299999999997,896.6600000000001,707.0399999999997,1540.4200000000005,804.4899999999994,1553.66,987.0100000000007,2157.400000000001,3046.2100000000014,4098.319999999999,2126.9300000000017,2028.8800000000017,675.2700000000002,34684.400000000016,1908.2500000000002,1522.2500000000005,798.3499999999997,3640.669999999999,616.79,2158.3700000000003,3482.7400000000002,814.7199999999996,1314.6800000000003,1603.4600000000007,1871.5000000000025,2494.4600000000005,684.4100000000003,1599.5200000000002,2965.690000000001,950.2599999999999,1627.1300000000006,9418.470000000007,13027.450000000008,1095.5600000000006,1388.81,4154.639999999994,2298.9699999999984,3313.79,8338.490000000013,3738.4000000000005,4113.679999999999,813.5200000000001,3347.7100000000014,5493.460000000006,2647.5900000000015,4413.100000000002,2188.0499999999997,2883.1000000000004,1680.7199999999998,6773.970000000001,1212.6600000000005,3794.519999999997,8625.800000000001,933.6199999999995,1374.8700000000003,4095.9000000000024,8134.94,1592.12,3109.990000000001,3062.8299999999986,1260.8600000000001,5076.550000000002,5398.300000000002,14034.989999999989,2483.04,1651.0299999999995,3645.4299999999957,6923.130000000008,3858.379999999999,1790.4200000000008,4730.81,1382.0200000000013,1054.6699999999996,7239.919999999984,2300.559999999999,2238.0900000000006,1304.7599999999993,7194.300000000006,6697.660000000009,1515.8999999999992,789.79,2799.250000000002,5580.599999999999,2246.8100000000013,1695.660000000002,10629.719999999988,2279.9,1545.6199999999997,1721.7800000000022,1222.7100000000012,1201.4900000000002,914.69,1692.9799999999998,6509.100000000003,1604.7500000000005,3349.57,1106.5299999999997,3170.9800000000014,16594.34999999998,1869.8200000000004,10196.570000000007,825.4199999999997,2812.3399999999997,7123.619999999998,2095.53,853.7199999999998,1519.0800000000004,471.50999999999965,809.7000000000002,1281.5599999999997,887.1100000000005,3754.2699999999986,3102.4300000000003,981.6500000000001,1510.060000000002,2575.380000000001,1068.8199999999997,7247.60999999998,2847.599999999998,1295.3900000000006,4604.2199999999875,2736.3800000000015,3049.880000000001,1920.5900000000017,4345.500000000007,1286.27,2085.0800000000004,2154.9700000000003,1852.0000000000005,1931.2499999999998,4481.349999999996,5464.120000000001,1625.0500000000004,1614.31,3989.5700000000006,781.7800000000001,1842.5599999999995,8694.26,1272.6100000000013,1044.3800000000003,1735.1799999999998,5659.980000000006,3228.8399999999992,3095.0399999999995,4552.140000000004,2709.7000000000007,2429.0300000000007,1446.09,834.1200000000002,2003.8500000000008,2949.7500000000014,2050.079999999999,1991.009999999999,2043.950000000001,3827.760000000002,1777.7800000000007,1022.1300000000003,1621.7299999999998,10815.429999999995,885.04,808.6199999999997,2463.170000000001,4892.240000000001,1139.7299999999998,10668.469999999988,984.5699999999998,1714.5900000000001,1538.88,3518.0299999999993,1715.4599999999996,2467.350000000001,3766.5999999999985,3347.309999999999,2474.23,2095.1300000000015,3563.8499999999995,2317.220000000001,2781.2299999999977,1960.7200000000003,3198.2500000000027,1906.0900000000015,3174.3200000000024,916.1300000000002,3744.65,8676.849999999997,2148.6299999999997,1652.580000000002,1064.1100000000001,1419.7300000000012,944.4100000000004,525.2399999999998,1875.1100000000006,669.1100000000001,1135.6299999999999,8631.310000000003,2527.92,6292.259999999996,700.8599999999999,921.0700000000006,990.2300000000002,6643.929999999995,12353.289999999999,2676.559999999999,1159.5200000000011,1286.0700000000002,585.7900000000002,4481.179999999996,4801.559999999999,1912.6700000000008,1342.6800000000012,4100.919999999995,20275.60999999999,2686.42,31833.680000000015,2129.9600000000023,2633.85,1031.41,1214.7199999999996,1258.0600000000002,6893.420000000002,4226.57,1979.37,5037.259999999998,17256.850000000002,2373.8200000000006,2248.560000000001,2520.8599999999997,1721.3999999999999,657.3,757.4599999999996,1896.410000000002,1870.9699999999996,1255.5900000000006,2092.3199999999997,3558.8700000000003,6115.140000000001,2924.990000000001,768.0800000000002,1844.0200000000002,1070.71,3628.5000000000014,2385.0000000000023,1952.4499999999998,1122.3799999999997,901.2100000000007,4331.48,1498.5100000000014,3622.679999999998,11045.039999999988,2404.170000000001,1479.22,2225.9700000000007,3927.3399999999997,2827.929999999999,5102.969999999997,1112.2200000000005,3984.2199999999993,2048.4499999999994,4559.15,971.5800000000002,843.4799999999997,2047.0000000000011,1814.1200000000008,2361.9700000000034,2895.6399999999994,3945.000000000001,4867.7199999999975,2638.9400000000023,2999.460000000001,1802.9099999999999,2055.5099999999993,3406.7200000000003,1572.7100000000005,3178.17,1629.1200000000017,20374.27999999997,1387.6800000000005,16363.229999999998,2474.3300000000004,3191.5299999999993,5739.460000000007,4757.950000000001,2285.7100000000014,2534.64,1824.3700000000001,1823.5199999999993,10504.489999999994,5655.990000000002,5396.040000000004,2424.039999999999,3439.0800000000004,1060.25,2876.010000000001,5298.479999999997,13110.019999999991,1879.0500000000002,2791.3500000000004,2322.3999999999996,1797.5699999999997,1772.259999999999,5605.289999999994,3456.7000000000025,834.9899999999998,2273.1800000000003,3997.979999999999,665.86,1965.5500000000013,780.4300000000003,3055.9299999999967,1199.01,5411.910000000001,7837.72999999999,732.1600000000001,1770.8800000000026,1995.460000000001,1593.3800000000008,2779.2999999999997,26879.039999999997,5155.659999999998,2100.8,3159.9999999999995,597.5000000000002,10526.319999999998,1894.3500000000017,671.7699999999994,717.4499999999994,899.6099999999999,4204.0999999999885,2962.5000000000005,4301.22,2332.7200000000007,1296.4400000000012,2622.569999999998,740.7899999999995,4488.810000000001,757.71,1970.6700000000023,1483.56,668.1100000000002,4183.389999999995,2088.599999999999,6784.1900000000005,2119.4099999999994,2392.830000000001,2036.6700000000003,2611.750000000001,2633.009999999999,3651.969999999997,9068.260000000002,911.1500000000001,2697.7999999999997,8052.969999999997,5653.819999999971,1826.2100000000016,1142.989999999999,1059.3900000000003,8438.339999999997,2888.750000000001,2861.5500000000006,734.94,1618.6899999999998,7561.68,1793.1700000000008,1843.75,2001.04,5425.560000000004,1993.7,2621.379999999999,2069.7700000000004,6484.540000000004,5509.12,5228.050000000004,7276.900000000001,2810.199999999999,1796.48,987.0999999999998,2073.090000000001,2567.0599999999995,2337.6300000000006,2338.600000000001,3078.5800000000004,2094.880000000003,1837.2799999999997],\"type\":\"scatter\"}],                        {\"template\":{\"data\":{\"barpolar\":[{\"marker\":{\"line\":{\"color\":\"#E5ECF6\",\"width\":0.5},\"pattern\":{\"fillmode\":\"overlay\",\"size\":10,\"solidity\":0.2}},\"type\":\"barpolar\"}],\"bar\":[{\"error_x\":{\"color\":\"#2a3f5f\"},\"error_y\":{\"color\":\"#2a3f5f\"},\"marker\":{\"line\":{\"color\":\"#E5ECF6\",\"width\":0.5},\"pattern\":{\"fillmode\":\"overlay\",\"size\":10,\"solidity\":0.2}},\"type\":\"bar\"}],\"carpet\":[{\"aaxis\":{\"endlinecolor\":\"#2a3f5f\",\"gridcolor\":\"white\",\"linecolor\":\"white\",\"minorgridcolor\":\"white\",\"startlinecolor\":\"#2a3f5f\"},\"baxis\":{\"endlinecolor\":\"#2a3f5f\",\"gridcolor\":\"white\",\"linecolor\":\"white\",\"minorgridcolor\":\"white\",\"startlinecolor\":\"#2a3f5f\"},\"type\":\"carpet\"}],\"choropleth\":[{\"colorbar\":{\"outlinewidth\":0,\"ticks\":\"\"},\"type\":\"choropleth\"}],\"contourcarpet\":[{\"colorbar\":{\"outlinewidth\":0,\"ticks\":\"\"},\"type\":\"contourcarpet\"}],\"contour\":[{\"colorbar\":{\"outlinewidth\":0,\"ticks\":\"\"},\"colorscale\":[[0.0,\"#0d0887\"],[0.1111111111111111,\"#46039f\"],[0.2222222222222222,\"#7201a8\"],[0.3333333333333333,\"#9c179e\"],[0.4444444444444444,\"#bd3786\"],[0.5555555555555556,\"#d8576b\"],[0.6666666666666666,\"#ed7953\"],[0.7777777777777778,\"#fb9f3a\"],[0.8888888888888888,\"#fdca26\"],[1.0,\"#f0f921\"]],\"type\":\"contour\"}],\"heatmapgl\":[{\"colorbar\":{\"outlinewidth\":0,\"ticks\":\"\"},\"colorscale\":[[0.0,\"#0d0887\"],[0.1111111111111111,\"#46039f\"],[0.2222222222222222,\"#7201a8\"],[0.3333333333333333,\"#9c179e\"],[0.4444444444444444,\"#bd3786\"],[0.5555555555555556,\"#d8576b\"],[0.6666666666666666,\"#ed7953\"],[0.7777777777777778,\"#fb9f3a\"],[0.8888888888888888,\"#fdca26\"],[1.0,\"#f0f921\"]],\"type\":\"heatmapgl\"}],\"heatmap\":[{\"colorbar\":{\"outlinewidth\":0,\"ticks\":\"\"},\"colorscale\":[[0.0,\"#0d0887\"],[0.1111111111111111,\"#46039f\"],[0.2222222222222222,\"#7201a8\"],[0.3333333333333333,\"#9c179e\"],[0.4444444444444444,\"#bd3786\"],[0.5555555555555556,\"#d8576b\"],[0.6666666666666666,\"#ed7953\"],[0.7777777777777778,\"#fb9f3a\"],[0.8888888888888888,\"#fdca26\"],[1.0,\"#f0f921\"]],\"type\":\"heatmap\"}],\"histogram2dcontour\":[{\"colorbar\":{\"outlinewidth\":0,\"ticks\":\"\"},\"colorscale\":[[0.0,\"#0d0887\"],[0.1111111111111111,\"#46039f\"],[0.2222222222222222,\"#7201a8\"],[0.3333333333333333,\"#9c179e\"],[0.4444444444444444,\"#bd3786\"],[0.5555555555555556,\"#d8576b\"],[0.6666666666666666,\"#ed7953\"],[0.7777777777777778,\"#fb9f3a\"],[0.8888888888888888,\"#fdca26\"],[1.0,\"#f0f921\"]],\"type\":\"histogram2dcontour\"}],\"histogram2d\":[{\"colorbar\":{\"outlinewidth\":0,\"ticks\":\"\"},\"colorscale\":[[0.0,\"#0d0887\"],[0.1111111111111111,\"#46039f\"],[0.2222222222222222,\"#7201a8\"],[0.3333333333333333,\"#9c179e\"],[0.4444444444444444,\"#bd3786\"],[0.5555555555555556,\"#d8576b\"],[0.6666666666666666,\"#ed7953\"],[0.7777777777777778,\"#fb9f3a\"],[0.8888888888888888,\"#fdca26\"],[1.0,\"#f0f921\"]],\"type\":\"histogram2d\"}],\"histogram\":[{\"marker\":{\"pattern\":{\"fillmode\":\"overlay\",\"size\":10,\"solidity\":0.2}},\"type\":\"histogram\"}],\"mesh3d\":[{\"colorbar\":{\"outlinewidth\":0,\"ticks\":\"\"},\"type\":\"mesh3d\"}],\"parcoords\":[{\"line\":{\"colorbar\":{\"outlinewidth\":0,\"ticks\":\"\"}},\"type\":\"parcoords\"}],\"pie\":[{\"automargin\":true,\"type\":\"pie\"}],\"scatter3d\":[{\"line\":{\"colorbar\":{\"outlinewidth\":0,\"ticks\":\"\"}},\"marker\":{\"colorbar\":{\"outlinewidth\":0,\"ticks\":\"\"}},\"type\":\"scatter3d\"}],\"scattercarpet\":[{\"marker\":{\"colorbar\":{\"outlinewidth\":0,\"ticks\":\"\"}},\"type\":\"scattercarpet\"}],\"scattergeo\":[{\"marker\":{\"colorbar\":{\"outlinewidth\":0,\"ticks\":\"\"}},\"type\":\"scattergeo\"}],\"scattergl\":[{\"marker\":{\"colorbar\":{\"outlinewidth\":0,\"ticks\":\"\"}},\"type\":\"scattergl\"}],\"scattermapbox\":[{\"marker\":{\"colorbar\":{\"outlinewidth\":0,\"ticks\":\"\"}},\"type\":\"scattermapbox\"}],\"scatterpolargl\":[{\"marker\":{\"colorbar\":{\"outlinewidth\":0,\"ticks\":\"\"}},\"type\":\"scatterpolargl\"}],\"scatterpolar\":[{\"marker\":{\"colorbar\":{\"outlinewidth\":0,\"ticks\":\"\"}},\"type\":\"scatterpolar\"}],\"scatter\":[{\"fillpattern\":{\"fillmode\":\"overlay\",\"size\":10,\"solidity\":0.2},\"type\":\"scatter\"}],\"scatterternary\":[{\"marker\":{\"colorbar\":{\"outlinewidth\":0,\"ticks\":\"\"}},\"type\":\"scatterternary\"}],\"surface\":[{\"colorbar\":{\"outlinewidth\":0,\"ticks\":\"\"},\"colorscale\":[[0.0,\"#0d0887\"],[0.1111111111111111,\"#46039f\"],[0.2222222222222222,\"#7201a8\"],[0.3333333333333333,\"#9c179e\"],[0.4444444444444444,\"#bd3786\"],[0.5555555555555556,\"#d8576b\"],[0.6666666666666666,\"#ed7953\"],[0.7777777777777778,\"#fb9f3a\"],[0.8888888888888888,\"#fdca26\"],[1.0,\"#f0f921\"]],\"type\":\"surface\"}],\"table\":[{\"cells\":{\"fill\":{\"color\":\"#EBF0F8\"},\"line\":{\"color\":\"white\"}},\"header\":{\"fill\":{\"color\":\"#C8D4E3\"},\"line\":{\"color\":\"white\"}},\"type\":\"table\"}]},\"layout\":{\"annotationdefaults\":{\"arrowcolor\":\"#2a3f5f\",\"arrowhead\":0,\"arrowwidth\":1},\"autotypenumbers\":\"strict\",\"coloraxis\":{\"colorbar\":{\"outlinewidth\":0,\"ticks\":\"\"}},\"colorscale\":{\"diverging\":[[0,\"#8e0152\"],[0.1,\"#c51b7d\"],[0.2,\"#de77ae\"],[0.3,\"#f1b6da\"],[0.4,\"#fde0ef\"],[0.5,\"#f7f7f7\"],[0.6,\"#e6f5d0\"],[0.7,\"#b8e186\"],[0.8,\"#7fbc41\"],[0.9,\"#4d9221\"],[1,\"#276419\"]],\"sequential\":[[0.0,\"#0d0887\"],[0.1111111111111111,\"#46039f\"],[0.2222222222222222,\"#7201a8\"],[0.3333333333333333,\"#9c179e\"],[0.4444444444444444,\"#bd3786\"],[0.5555555555555556,\"#d8576b\"],[0.6666666666666666,\"#ed7953\"],[0.7777777777777778,\"#fb9f3a\"],[0.8888888888888888,\"#fdca26\"],[1.0,\"#f0f921\"]],\"sequentialminus\":[[0.0,\"#0d0887\"],[0.1111111111111111,\"#46039f\"],[0.2222222222222222,\"#7201a8\"],[0.3333333333333333,\"#9c179e\"],[0.4444444444444444,\"#bd3786\"],[0.5555555555555556,\"#d8576b\"],[0.6666666666666666,\"#ed7953\"],[0.7777777777777778,\"#fb9f3a\"],[0.8888888888888888,\"#fdca26\"],[1.0,\"#f0f921\"]]},\"colorway\":[\"#636efa\",\"#EF553B\",\"#00cc96\",\"#ab63fa\",\"#FFA15A\",\"#19d3f3\",\"#FF6692\",\"#B6E880\",\"#FF97FF\",\"#FECB52\"],\"font\":{\"color\":\"#2a3f5f\"},\"geo\":{\"bgcolor\":\"white\",\"lakecolor\":\"white\",\"landcolor\":\"#E5ECF6\",\"showlakes\":true,\"showland\":true,\"subunitcolor\":\"white\"},\"hoverlabel\":{\"align\":\"left\"},\"hovermode\":\"closest\",\"mapbox\":{\"style\":\"light\"},\"paper_bgcolor\":\"white\",\"plot_bgcolor\":\"#E5ECF6\",\"polar\":{\"angularaxis\":{\"gridcolor\":\"white\",\"linecolor\":\"white\",\"ticks\":\"\"},\"bgcolor\":\"#E5ECF6\",\"radialaxis\":{\"gridcolor\":\"white\",\"linecolor\":\"white\",\"ticks\":\"\"}},\"scene\":{\"xaxis\":{\"backgroundcolor\":\"#E5ECF6\",\"gridcolor\":\"white\",\"gridwidth\":2,\"linecolor\":\"white\",\"showbackground\":true,\"ticks\":\"\",\"zerolinecolor\":\"white\"},\"yaxis\":{\"backgroundcolor\":\"#E5ECF6\",\"gridcolor\":\"white\",\"gridwidth\":2,\"linecolor\":\"white\",\"showbackground\":true,\"ticks\":\"\",\"zerolinecolor\":\"white\"},\"zaxis\":{\"backgroundcolor\":\"#E5ECF6\",\"gridcolor\":\"white\",\"gridwidth\":2,\"linecolor\":\"white\",\"showbackground\":true,\"ticks\":\"\",\"zerolinecolor\":\"white\"}},\"shapedefaults\":{\"line\":{\"color\":\"#2a3f5f\"}},\"ternary\":{\"aaxis\":{\"gridcolor\":\"white\",\"linecolor\":\"white\",\"ticks\":\"\"},\"baxis\":{\"gridcolor\":\"white\",\"linecolor\":\"white\",\"ticks\":\"\"},\"bgcolor\":\"#E5ECF6\",\"caxis\":{\"gridcolor\":\"white\",\"linecolor\":\"white\",\"ticks\":\"\"}},\"title\":{\"x\":0.05},\"xaxis\":{\"automargin\":true,\"gridcolor\":\"white\",\"linecolor\":\"white\",\"ticks\":\"\",\"title\":{\"standoff\":15},\"zerolinecolor\":\"white\",\"zerolinewidth\":2},\"yaxis\":{\"automargin\":true,\"gridcolor\":\"white\",\"linecolor\":\"white\",\"ticks\":\"\",\"title\":{\"standoff\":15},\"zerolinecolor\":\"white\",\"zerolinewidth\":2}}},\"title\":{\"text\":\"Segments\"},\"xaxis\":{\"title\":{\"text\":\"Frequency\"}},\"yaxis\":{\"title\":{\"text\":\"Monetary\"}}},                        {\"responsive\": true}                    ).then(function(){\n",
              "                            \n",
              "var gd = document.getElementById('bf58acfb-1064-41e2-96ef-cfe144e448e2');\n",
              "var x = new MutationObserver(function (mutations, observer) {{\n",
              "        var display = window.getComputedStyle(gd).display;\n",
              "        if (!display || display === 'none') {{\n",
              "            console.log([gd, 'removed!']);\n",
              "            Plotly.purge(gd);\n",
              "            observer.disconnect();\n",
              "        }}\n",
              "}});\n",
              "\n",
              "// Listen for the removal of the full notebook cells\n",
              "var notebookContainer = gd.closest('#notebook-container');\n",
              "if (notebookContainer) {{\n",
              "    x.observe(notebookContainer, {childList: true});\n",
              "}}\n",
              "\n",
              "// Listen for the clearing of the current output cell\n",
              "var outputEl = gd.closest('.output');\n",
              "if (outputEl) {{\n",
              "    x.observe(outputEl, {childList: true});\n",
              "}}\n",
              "\n",
              "                        })                };                            </script>        </div>\n",
              "</body>\n",
              "</html>"
            ]
          },
          "metadata": {}
        }
      ]
    },
    {
      "cell_type": "code",
      "source": [
        "# Recency Vs Monetary\n",
        "\n",
        "graph = RFMScores.query(\"Monetary < 50000 and Frequency < 2000\")\n",
        "\n",
        "plot_data = [\n",
        "    gobj.Scatter(\n",
        "        x = graph.query(\"RFM_Loyalty_Level == 'Bronze'\")['Recency'],\n",
        "        y = graph.query(\"RFM_Loyalty_Level == 'Bronze'\")['Monetary'],\n",
        "        mode = 'markers',\n",
        "        name = 'Bronze',\n",
        "        marker = dict(size = 7,\n",
        "                      line = dict(width = 1),\n",
        "        color = 'blue',\n",
        "        opacity = 0.8)\n",
        "    ),\n",
        "\n",
        "    gobj.Scatter(\n",
        "        x = graph.query(\"RFM_Loyalty_Level == 'Silver'\")['Recency'],\n",
        "        y = graph.query(\"RFM_Loyalty_Level == 'Silver'\")['Monetary'],\n",
        "        mode = 'markers',\n",
        "        name = 'Silver',\n",
        "        marker = dict(size = 9,\n",
        "                      line = dict(width=1),\n",
        "                      color = 'green',\n",
        "                      opacity = 0.5)\n",
        "    ),\n",
        "\n",
        "    gobj.Scatter(\n",
        "        x = graph.query(\"RFM_Loyalty_Level == 'Gold'\")['Recency'],\n",
        "        y = graph.query(\"RFM_Loyalty_Level == 'Gold'\")['Monetary'],\n",
        "        mode = 'markers',\n",
        "        name = 'Gold',\n",
        "        marker = dict(size = 11,\n",
        "                      line = dict(width=1),\n",
        "                      color = 'red',\n",
        "                      opacity = 0.9)\n",
        "    ),\n",
        "\n",
        "    gobj.Scatter(\n",
        "        x = graph.query(\"RFM_Loyalty_Level == 'Platinum'\")['Recency'],\n",
        "        y = graph.query(\"RFM_Loyalty_Level == 'Platinum'\")['Monetary'],\n",
        "        mode = 'markers',\n",
        "        name = 'Platinum',\n",
        "        marker = dict(size = 13,\n",
        "                      line = dict(width=1),\n",
        "                      color = 'black',\n",
        "                      opacity = 0.9)\n",
        "    )\n",
        "]"
      ],
      "metadata": {
        "id": "dKPMJ2Mzwb-z"
      },
      "execution_count": 61,
      "outputs": []
    },
    {
      "cell_type": "code",
      "source": [
        "plot_layout = gobj.Layout(\n",
        "    yaxis = {'title' : \"Monetary\"},\n",
        "    xaxis = {'title' : \"Recency\"},\n",
        "    title = 'Segments')\n",
        "\n",
        "fig = gobj.Figure(data = plot_data, layout = plot_layout)\n",
        "po.iplot(fig)"
      ],
      "metadata": {
        "id": "ZUpRYLCxwb5n",
        "colab": {
          "base_uri": "https://localhost:8080/",
          "height": 542
        },
        "outputId": "3b57cdb6-fc47-4f5b-cf74-3ce10816cb70"
      },
      "execution_count": 62,
      "outputs": [
        {
          "output_type": "display_data",
          "data": {
            "text/html": [
              "<html>\n",
              "<head><meta charset=\"utf-8\" /></head>\n",
              "<body>\n",
              "    <div>            <script src=\"https://cdnjs.cloudflare.com/ajax/libs/mathjax/2.7.5/MathJax.js?config=TeX-AMS-MML_SVG\"></script><script type=\"text/javascript\">if (window.MathJax && window.MathJax.Hub && window.MathJax.Hub.Config) {window.MathJax.Hub.Config({SVG: {font: \"STIX-Web\"}});}</script>                <script type=\"text/javascript\">window.PlotlyConfig = {MathJaxConfig: 'local'};</script>\n",
              "        <script src=\"https://cdn.plot.ly/plotly-2.18.2.min.js\"></script>                <div id=\"0762b663-0405-4aa7-bd59-55ee1c50be69\" class=\"plotly-graph-div\" style=\"height:525px; width:100%;\"></div>            <script type=\"text/javascript\">                                    window.PLOTLYENV=window.PLOTLYENV || {};                                    if (document.getElementById(\"0762b663-0405-4aa7-bd59-55ee1c50be69\")) {                    Plotly.newPlot(                        \"0762b663-0405-4aa7-bd59-55ee1c50be69\",                        [{\"marker\":{\"color\":\"blue\",\"line\":{\"width\":1},\"opacity\":0.8,\"size\":7},\"mode\":\"markers\",\"name\":\"Bronze\",\"x\":[214,336,262,173,294,372,138,282,143,275,214,185,204,264,311,306,112,197,156,85,318,105,56,323,372,357,273,249,253,72,191,373,82,192,266,179,70,99,234,133,372,238,77,94,261,273,332,313,64,267,337,135,267,127,200,273,201,225,112,263,366,113,78,59,330,359,137,268,155,120,64,71,365,280,203,63,149,91,259,165,252,184,99,200,232,65,241,71,243,260,126,73,78,319,215,243,309,306,312,173,252,120,179,60,301,151,187,285,182,59,155,318,218,246,269,246,217,162,373,288,151,218,103,250,367,66,255,63,367,176,211,252,168,57,326,74,63,86,71,325,351,294,169,65,360,145,70,287,206,60,213,211,277,60,176,266,284,124,65,266,266,320,364,56,324,154,72,273,143,133,233,266,173,275,331,218,94,373,326,183,234,278,318,141,154,225,196,213,222,106,242,163,242,218,274,164,215,365,319,295,358,191,296,218,119,362,218,302,98,365,306,190,310,74,257,281,175,183,187,64,108,259,185,280,372,276,371,242,57,262,58,201,187,208,264,218,214,198,147,274,297,58,112,319,63,166,52,51,75,369,197,64,366,267,148,52,261,336,253,157,74,245,72,253,270,247,57,246,159,172,199,273,319,213,372,256,281,311,134,245,239,239,225,357,320,322,260,367,92,357,241,87,176,366,318,358,310,276,298,148,283,323,106,338,354,172,201,95,110,326,283,52,332,366,72,373,361,372,128,213,172,325,112,289,189,264,171,323,254,248,264,330,362,94,92,81,330,155,233,254,163,288,217,277,351,151,162,70,53,78,52,336,184,51,52,317,106,217,296,117,119,252,264,201,283,234,364,201,212,212,282,77,304,218,245,319,372,303,186,277,60,80,253,149,194,368,173,178,247,373,372,194,239,64,311,276,365,74,303,366,211,373,173,220,297,283,81,106,264,240,248,65,143,183,170,189,317,367,246,296,281,252,59,138,60,78,80,235,203,225,170,61,176,339,169,126,330,217,196,157,284,158,290,332,197,53,322,312,302,191,263,106,64,198,149,87,218,177,73,74,274,192,161,296,372,277,171,81,53,164,242,364,182,373,248,232,68,285,219,186,235,263,245,222,105,169,368,189,362,366,72,241,262,297,176,372,214,318,294,74,372,282,57,192,360,93,156,184,128,52,186,368,59,140,84,187,299,290,276,371,109,239,87,116,187,226,267,218,149,185,63,266,78,322,261,165,288,317,119,161,185,334,239,51,284,289,217,201,226,273,53,253,234,182,312,204,362,107,208,241,57,308,95,280,123,302,94,355,86,179,311,238,65,163,219,163,71,253,156,176,203,365,158,79,248,358,75,220,308,361,359,190,53,280,177,269,233,205,71,242,218,236,239,173,59,81,276,373,65,277,227,263,358,137,141,260,185,187,169,320,200,232,240,112,359,263,254,159,53,281,51,303,185,372,304,323,204,170,173,304,129,212,162,225,159,190,247,282,372,159,233,147,249,171,166,241,365,56,185,225,281,362,235,256,373,155,51,334,154,53,203,359,289,185,373,274,254,368,290,367,214,243,295,140,177,60,249,192,261,165,157,236,89,226,263,217,325,89,140,134,366,58,73,277,180],\"y\":[92.72,293.0,215.05,134.1,311.54999999999995,38.1,147.12,374.0,343.2300000000001,298.0,354.12,331.0,216.5,138.68,117.85000000000001,108.07,135.95,144.8,39.24,211.32,120.94999999999999,149.05,81.57,229.47000000000003,50.550000000000004,190.54999999999998,516.4200000000001,183.4,307.53000000000003,248.61,346.98,205.85999999999999,115.46000000000002,228.8,177.14999999999998,58.08,74.4,207.35999999999999,101.18999999999998,76.5,350.05999999999995,30.599999999999998,259.16999999999996,64.0,77.3,109.80000000000001,110.94999999999999,112.75,282.45,71.4,236.01999999999995,60.7,333.74,62.64,163.20000000000002,108.21000000000001,257.7,160.95,270.40000000000003,200.29000000000002,590.0,138.97999999999996,137.75,93.66,201.19,201.2,87.4,142.5,63.75,15.0,233.76,134.96,308.28000000000003,222.99,59.8,221.05999999999995,159.85,296.64000000000004,590.0,356.98,151.5,307.90000000000003,165.0,300.95,184.64,140.34000000000003,313.79999999999995,216.84999999999997,110.97,251.20999999999998,205.09999999999997,152.20000000000002,122.75,91.80000000000001,141.86,239.49000000000004,117.99999999999999,142.40000000000003,219.51999999999998,177.34000000000003,257.22999999999996,252.1,189.47,84.65000000000002,186.39,232.60000000000005,59.5,67.23000000000002,72.0,172.25,308.58,99.5,252.06000000000003,228.83999999999997,138.28,306.55,199.85000000000002,300.03999999999996,79.6,296.24999999999994,282.6,306.72,178.7,127.84000000000002,230.4,195.54999999999995,277.07000000000005,256.38,112.6,189.5,271.24000000000007,85.0,388.5,216.16999999999996,201.16,145.67,122.69999999999999,117.24000000000001,243.56000000000003,155.93,172.24999999999997,307.4,158.85,90.6,101.99999999999999,80.7,190.25000000000009,264.7,357.9800000000001,200.14000000000001,311.3,635.6600000000001,328.8,104.82000000000002,147.20000000000005,141.41,154.98999999999998,260.25,92.46,183.59999999999997,152.55,265.85,182.24999999999997,161.0,76.32000000000001,216.20999999999998,144.2,386.53,90.0,115.8,157.2,118.75,289.36000000000007,122.53999999999999,197.65,185.39999999999998,151.73999999999998,161.00000000000003,146.85,213.70000000000002,280.55,136.77,302.58,120.0,333.97,112.32000000000002,134.04,426.6,383.45000000000005,120.0,183.85,311.65000000000003,309.52,134.7,282.92999999999995,51.0,90.6,174.4,155.00000000000003,100.5,76.55,617.05,142.4,67.94999999999999,156.75,122.7,265.2,470.35999999999996,89.06,63.0,131.9,119.93000000000002,113.64,234.34,215.7,137.10000000000002,340.93,251.20999999999998,275.28,174.37,241.09000000000003,171.8,103.25000000000001,218.05999999999992,35.400000000000006,237.35999999999996,39.75,406.08000000000004,225.84999999999997,114.55999999999999,96.12,243.21999999999994,52.0,112.80000000000001,172.9,188.60999999999996,109.12999999999998,179.0,187.91999999999996,268.58,89.2,255.90000000000003,139.26,200.10000000000002,6.2,131.45,173.74,157.7,193.39000000000004,155.42999999999998,271.85,272.06999999999994,48.800000000000004,62.85,309.4,125.79000000000002,327.24999999999994,135.9,125.65,616.1500000000001,277.79999999999995,310.05,290.82000000000005,58.49000000000001,126.70000000000002,206.21,279.94,102.11999999999998,156.91000000000003,170.04,135.93,121.17000000000002,215.78,370.79999999999995,106.2,88.19999999999999,306.94,319.5,244.8,266.4,139.04999999999998,178.96000000000006,259.45,158.16000000000003,162.99999999999997,135.75,40.5,87.5,193.64,316.58000000000004,101.79999999999998,96.6,305.75,403.25,585.0,322.0799999999999,154.41,197.0,321.05,98.45,317.15,178.95000000000002,156.50999999999996,119.30000000000001,290.51,113.12,180.93999999999997,205.3,52.0,165.0,204.5,208.75000000000003,252.42000000000004,201.59999999999997,158.03999999999996,115.65,418.9200000000001,326.0,168.0,596.85,500.0,107.45000000000002,288.17999999999995,94.0,349.1,267.17999999999995,190.53000000000003,97.7,383.34,594.0,113.5,155.17,179.10000000000002,234.60000000000002,91.32000000000001,52.83000000000001,250.0,121.0,267.03000000000003,229.32999999999993,110.92000000000003,127.85999999999999,90.12,217.2,134.55,258.8799999999998,127.1,199.8,240.68,48.480000000000004,216.39000000000001,104.76,298.48,112.46,223.36,309.8,138.14000000000001,76.32000000000001,173.05,193.75,254.1,136.8,211.5,143.10000000000002,133.25,150.3,203.1,218.25,85.0,294.11999999999995,162.3,34.8,79.2,253.04000000000002,104.9,206.98000000000002,15.0,118.95,160.71,149.64,181.09,168.31,263.54999999999995,179.17,222.05,56.25,191.93999999999997,264.62,123.10000000000001,369.50000000000006,127.08000000000003,207.15,416.8600000000001,145.35,35.8,325.1,181.0,104.35,314.1,307.82,101.39999999999999,256.44000000000005,137.9,134.8,122.39999999999999,79.2,217.16000000000003,17.0,320.62,185.05,336.96,108.38,195.74,161.38000000000002,135.75000000000003,232.21,249.0,289.35,175.2,76.32000000000001,348.2000000000001,37.4,73.2,197.90000000000003,215.83,159.0,242.35000000000002,304.25,255.11999999999998,314.22,114.56,152.94,46.95,168.3,142.5,233.22,226.37,404.40000000000003,207.50000000000003,214.80000000000004,109.95000000000002,101.10000000000001,53.5,153.9,211.76999999999998,109.36000000000001,94.36,177.5,167.25,133.56,241.06,284.55,287.4,188.89,311.92,266.97,208.36,151.42,136.0,74.9,223.95,139.35000000000002,100.97000000000001,363.7,248.10000000000002,162.70000000000005,290.35999999999996,228.06000000000003,119.62,339.3,379.72999999999996,173.7,105.84,233.45000000000002,463.95,225.14999999999995,213.5,145.05,75.66,129.49,151.85000000000002,226.21,129.45,217.9,231.10000000000002,214.06,123.24,39.12,135.4,129.75,225.57999999999996,112.75000000000001,292.46999999999997,3.75,323.00000000000006,207.5,239.4,106.83,34.0,245.94,311.24999999999994,110.38000000000001,243.83999999999997,309.53999999999996,479.3500000000001,128.5,197.22,199.15000000000003,180.85000000000002,281.42,124.57,375.69000000000005,173.76,207.73999999999998,13.3,276.72999999999996,289.7800000000001,113.44000000000001,391.5200000000001,230.25000000000003,167.61,416.64,117.35000000000001,234.17,110.55000000000001,201.19,251.51999999999998,179.0,295.0,154.82999999999998,146.87,234.24,118.80000000000001,301.99999999999994,25.5,163.29999999999998,116.19999999999997,157.02,138.32,345.29999999999995,298.89000000000004,157.09,579.0,124.88,158.68,224.90999999999997,59.9,306.13,203.95,262.62,204.24,226.85,113.5,149.89,382.50000000000006,171.45,283.28,239.99999999999997,63.440000000000005,246.04000000000008,187.82999999999998,550.8000000000001,82.75,96.8,175.2,307.02000000000004,243.36,193.63999999999996,228.96,110.75,178.21999999999997,168.4,65.4,508.8,203.86999999999995,32.65,100.8,388.45000000000005,186.42,120.9,131.7,249.85999999999999,289.96000000000004,194.36999999999995,374.57,271.04999999999995,272.21999999999997,288.59999999999997,153.94,145.0,422.70000000000005,296.70000000000005,223.36,164.39999999999998,76.5,170.75,103.3,157.9,226.75,185.64999999999998,143.45999999999998,175.27,116.01,571.2,81.44,75.75000000000001,108.5,101.55000000000001,133.06,117.54999999999998,205.7,298.10999999999996,290.40000000000003,200.47,283.12000000000006,154.95000000000002,152.39999999999998,267.08000000000004,137.45,153.0,326.4,139.35,110.25000000000001,71.4,80.64,15.0,56.4,188.01999999999998,131.94000000000003,225.9,298.4,205.48000000000002,311.26,208.96999999999997,148.21,330.9,155.89999999999998,237.61,178.51999999999998,133.35000000000002,111.35,203.87,203.85999999999993,112.25000000000004,155.79999999999998,112.19999999999999,72.9,207.50000000000003,244.08,99.14000000000003,149.58,358.56000000000006,12.75,73.78,228.2,136.04,300.91999999999996,20.8,198.57,93.35,76.1,169.46999999999997,257.34000000000003,174.79999999999998,102.79,187.29000000000005,38.45,73.5,70.02,165.04999999999998,172.29000000000002,74.4,101.69999999999999,247.44,489.6,101.33999999999999,271.0,76.32000000000001,220.1,181.11999999999998,111.14999999999999,112.55,152.65,160.35,302.46000000000004,202.65000000000003,304.25,284.46,207.79999999999998,243.76000000000005,160.42000000000002,232.48000000000002,299.34000000000003,305.28000000000003,158.95000000000002,93.75,440.0,103.3,149.48,25.5,168.6,110.38,173.89999999999998,180.6,80.82],\"type\":\"scatter\"},{\"marker\":{\"color\":\"green\",\"line\":{\"width\":1},\"opacity\":0.5,\"size\":9},\"mode\":\"markers\",\"name\":\"Silver\",\"x\":[59,145,282,267,96,52,84,326,44,88,30,176,148,128,161,64,78,25,288,7,9,211,242,18,73,292,31,196,106,173,7,54,291,99,64,212,24,4,157,70,39,138,269,196,39,26,22,283,63,26,45,11,18,61,15,93,122,81,261,203,92,50,124,156,14,61,61,268,31,63,15,155,169,351,72,81,316,157,177,287,70,10,66,60,257,268,63,50,256,371,89,329,74,185,192,127,17,1,74,107,74,1,255,23,29,60,236,233,57,105,311,282,64,316,30,78,205,182,85,19,173,205,50,63,35,52,47,64,26,318,116,15,215,256,35,164,149,50,75,151,63,38,302,271,31,219,200,18,240,287,54,81,75,127,309,66,52,301,144,22,19,159,64,92,247,58,119,358,189,204,119,92,297,50,49,53,23,74,169,57,109,263,179,35,79,176,154,21,21,308,14,30,110,77,155,225,121,63,284,33,305,106,32,129,124,32,36,137,84,319,129,373,78,220,33,297,66,201,106,239,89,42,4,247,177,80,331,73,51,8,40,18,117,242,64,206,114,124,67,161,38,260,5,43,22,185,52,9,149,310,22,99,50,180,110,98,253,11,164,50,207,25,50,311,309,88,100,1,57,64,150,311,18,151,57,85,1,16,40,50,305,10,274,72,245,205,184,266,50,21,170,156,77,169,86,26,24,71,106,24,373,249,43,87,75,263,46,29,17,280,54,26,10,28,21,61,180,196,53,10,311,24,119,19,29,7,185,210,19,26,131,252,207,148,204,91,32,14,79,147,49,30,128,37,19,198,211,170,43,33,266,71,89,170,31,151,269,275,308,67,215,42,182,84,333,245,133,22,65,169,240,133,75,45,373,25,331,71,66,154,70,60,59,225,318,225,234,239,113,74,65,238,122,127,168,135,64,23,66,46,49,64,290,274,199,64,44,103,333,208,156,53,129,87,158,29,39,21,169,40,186,16,92,148,313,85,24,38,15,23,213,22,262,131,312,283,262,25,354,29,51,77,161,362,171,44,84,24,33,173,11,114,54,24,50,18,176,255,36,141,116,17,134,191,157,204,336,91,92,243,22,43,50,39,81,52,28,266,143,66,49,134,40,235,51,24,65,64,115,68,133,241,183,10,358,149,142,51,207,172,50,64,58,46,51,18,25,101,312,198,92,156,226,190,154,172,67,112,133,84,165,30,19,3,54,245,47,260,43,91,309,196,269,54,260,365,288,299,154,61,218,211,51,262,88,249,157,133,232,50,73,67,15,40,236,75,360,58,88,267,189,71,78,56,261,266,116,373,196,176,100,121,268,138,213,3,36,75,63,267,247,89,269,94,264,70,53,56,21,302,57,213,28,67,135,197,44,164,88,25,173,360,19,30,61,25,3,190,290,35,24,194,3,71,113,71,75,15,4,40,74,70,182,3,274,79,245,42,71,141,19,43,75,256,135,226,78,266,369,26,364,53,46,58,372,65,96,198,273,260,57,80,19,8,365,89,65,173,99,103,95,227,51,227,39,197,50,43,333,10,14,77,66,35,366,64,72,36,61,115,53,211,235,138,30,184,189,77,60,5,288,18,30,31,45,60,110,245,30,137,113,157,194,130,313,22,47,233,50,106,275,247,194,24,75,21,38,78,57,46,58,53,53,31,65,310,308,35,18,52,127,107,35,101,361,138,22,85,46,303,11,239,72,218,199,70,19,77,306,36,184,79,128,32,313,1,192,94,10,77,65,261,58,289,75,261,72,128,53,25,23,197,359,129,332,252,17,78,217,130,312,169,19,86,21,141,74,23,43,236,252,168,372,9,113,178,21,158,198,56,72,85,73,29,179,73,36,33,47,218,368,142,107,364,322,56,44,23,85,29,21,373,310,133,45,138,130,7,37,198,66,116,142,371,373,211,51,372,29,165,145,236,28,81,108,152,98,4,65,70,288,9,173,133,75,257,217,36,16,330,61,312,127,37,329,149,60,212,157,45,50,75,301,57,7,358,227,15,82,106,28,326,211,92,81,46,23,17,310,38,2,30,43,7],\"y\":[397.11999999999995,417.37999999999994,312.38,354.09000000000003,135.17999999999995,521.2,380.64000000000004,599.9699999999998,573.22,309.05000000000007,188.14,750.0,363.65,594.0,405.38,176.97,415.8,114.14,462.95000000000005,266.39000000000004,160.18,738.6,390.53999999999996,97.5,558.7,535.32,409.50000000000006,455.8799999999999,534.8500000000001,513.7,204.0,642.77,560.4700000000001,305.28,656.6800000000002,348.15000000000003,271.4,220.09999999999997,416.08000000000004,477.83,243.94,501.14000000000004,283.7299999999999,3096.0,618.52,228.91,91.8,417.19999999999993,712.88,116.01000000000002,121.17999999999999,114.60000000000001,260.68,117.88000000000001,250.26000000000002,353.47999999999996,533.98,358.0,329.56,600.07,121.74000000000001,430.5,465.6799999999999,1030.3999999999999,0.0,292.3199999999999,557.6200000000001,944.1,276.56000000000006,590.93,258.4,361.10999999999996,371.89000000000004,300.4199999999999,567.36,675.3,1308.48,487.02,353.43,389.50000000000006,341.36,247.31999999999996,373.94,397.9800000000001,609.9500000000002,439.03000000000003,439.55999999999995,56.160000000000004,623.4,754.8700000000003,378.64,534.5700000000002,544.0799999999999,307.72,457.3400000000001,621.2300000000002,75.0,252.48999999999998,572.4509999999999,213.55000000000004,534.24,196.88999999999996,283.71,291.88,183.44,422.64,229.58999999999997,454.24,575.4000000000001,449.52,316.26,348.04999999999995,295.93,458.52000000000004,125.80000000000001,307.76,483.8000000000001,270.79000000000013,631.3400000000001,240.22000000000006,192.85000000000005,1384.25,294.4,712.4,247.95999999999995,396.96999999999997,180.1700000000001,428.88999999999993,164.34,417.6900000000001,213.85,122.64000000000001,354.7999999999999,346.6000000000001,94.2,379.65000000000003,305.0199999999998,218.55,349.70000000000016,486.82000000000005,910.0,151.3,330.78999999999996,296.87999999999994,180.48000000000002,610.5899999999999,339.59999999999997,216.9,350.75,741.26,286.78999999999996,344.99999999999994,309.04,1516.0,558.3199999999997,324.79999999999995,924.5999999999999,1140.35,385.64,209.49000000000004,52.199999999999996,384.7999999999999,312.98,1255.0,305.78000000000003,501.56,389.6,540.45,506.8000000000001,349.54999999999995,605.63,416.9,821.1,311.15999999999997,272.04,351.13000000000005,223.85000000000002,348.99,842.6500000000001,337.3399999999999,608.7899999999998,922.0999999999997,376.58,71.66,561.57,674.4499999999998,322.96,230.22,169.55,664.54,196.79,76.8,473.02,505.18000000000006,631.9000000000001,440.0,327.7,467.65999999999997,626.6499999999999,152.2,409.9299999999999,725.6400000000001,151.04,122.46999999999997,375.09999999999997,45.599999999999994,147.34999999999997,194.9,419.58000000000004,483.85999999999996,605.6399999999999,311.81000000000006,483.4,446.62000000000006,134.46,576.9,452.89,1011.9999999999998,335.52,328.1599999999999,1070.48,169.48000000000002,89.94,632.4,683.17,490.86,492.6499999999999,437.96000000000004,559.9700000000001,176.63,166.2,43.2,640.14,310.26,508.58,477.7900000000001,605.0600000000002,462.65999999999997,415.2,588.2199999999999,108.97999999999999,409.57,163.62,225.77000000000012,161.20000000000002,257.67999999999995,202.6800000000001,202.11,574.7,1063.0,490.22,387.52,363.34000000000003,483.25,434.34,529.62,316.24999999999994,279.05,636.5100000000001,321.91999999999996,463.38000000000005,139.56,123.79999999999998,538.8100000000001,475.3699999999999,356.85,455.59000000000003,270.6,355.5600000000001,388.2499999999999,652.8,289.2399999999999,186.23000000000002,165.07000000000005,324.14000000000004,788.3800000000001,227.39,138.6,114.11,157.05,393.3299999999999,213.96000000000004,660.0,601.5600000000001,394.43999999999994,412.78,320.58,344.9000000000001,443.6,110.46,693.8100000000001,597.09,114.18000000000002,291.04999999999984,285.73999999999995,107.95,195.24999999999997,498.95,628.3799999999999,160.19,313.48999999999995,328.2,389.63999999999993,563.15,420.5,300.52,278.3,254.10999999999996,192.60000000000002,386.1499999999999,447.67999999999995,289.99,77.4,197.64000000000001,228.99,193.1399999999999,321.4299999999999,2139.76,197.13,102.44999999999999,325.75,475.79999999999995,645.6500000000001,170.32000000000002,266.76,52.2,710.2800000000001,519.68,255.4,589.7,765.3199999999999,364.80000000000007,369.2,554.38,468.77,307.48,223.88,100.9,311.69000000000005,499.6799999999999,463.8,147.59,114.77000000000002,114.39,213.26999999999998,296.7499999999999,334.54,429.8699999999999,260.16999999999996,125.58000000000003,265.9999999999999,518.28,252.72999999999996,180.35000000000002,537.0,735.6600000000001,343.62,1489.5,381.32000000000005,480.71,457.80999999999995,219.39,39916.5,410.48,876.0,484.95,358.8199999999999,184.19,406.53000000000003,330.11,623.5,520.8,296.41999999999996,401.4000000000001,487.75,106.56,1289.5,224.14000000000007,689.4799999999999,622.8499999999999,310.62000000000006,499.32,1268.6999999999998,331.18,328.34999999999997,755.7500000000001,409.4000000000001,429.6,612.0600000000001,316.68,631.57,514.1500000000001,356.0,300.36000000000007,623.1600000000001,254.82000000000002,393.74000000000007,408.8,135.31000000000003,255.89999999999998,240.55,496.4399999999999,574.02,310.47,327.97,570.5,267.13,162.2899999999999,311.71,1028.56,351.6699999999999,173.97000000000003,406.0899999999999,364.5,473.80999999999983,277.05000000000007,427.92999999999995,446.94000000000005,642.41,316.88,394.14000000000004,231.86,716.2,626.7699999999999,572.8099999999998,508.8000000000001,135.86,43.5,93.78,171.19,533.2999999999998,149.29000000000005,200.16000000000003,156.57999999999998,494.64000000000004,447.2200000000001,237.07000000000002,161.64,216.76,126.14,467.50999999999993,454.10999999999984,233.81000000000006,147.09000000000003,492.35999999999996,62.43,412.00999999999993,440.0,148.44,536.3999999999999,213.30000000000004,85.13000000000002,292.7199999999999,279.77,173.15999999999997,186.01000000000002,455.30000000000007,478.53,195.15,301.03,588.1300000000001,243.55,425.31999999999994,664.0000000000002,447.63999999999993,657.3499999999999,816.0,337.74,877.4399999999999,560.67,30.0,306.45000000000005,386.43,301.32000000000005,323.69,352.70000000000005,191.04000000000002,409.9800000000001,356.7,449.12000000000006,154.88000000000002,196.87999999999997,149.30999999999995,44534.3,458.57,205.25,583.75,315.05999999999995,621.83,270.8,241.62000000000003,1047.1100000000001,475.28000000000003,246.3,351.3,610.0100000000001,451.42,415.82,1303.9099999999999,532.94,137.37,391.97999999999996,355.56,130.74,110.80000000000001,297.0,68.84,230.52999999999994,501.39,516.3599999999999,379.34999999999997,446.8699999999998,524.52,334.23,167.49999999999997,336.03000000000003,426.63000000000017,404.58,337.43999999999994,371.01,430.93999999999977,168.12,158.03000000000003,41.989999999999995,427.07000000000005,407.49999999999994,211.87999999999994,628.2800000000001,236.09000000000006,934.62,331.24000000000007,437.69999999999993,855.0200000000001,362.06000000000006,335.32000000000005,372.0900000000001,584.3199999999999,436.17999999999995,315.06000000000006,302.36,611.88,612.7800000000001,307.78,517.5499999999998,620.4,535.3400000000001,734.1299999999999,375.0,856.6000000000001,331.95,305.5400000000001,338.7100000000001,215.47999999999996,215.08,314.45,400.681,365.27000000000004,592.9,547.02,914.9300000000002,542.03,536.68,432.19999999999993,414.2,389.44000000000005,752.4300000000002,411.7000000000001,357.94999999999993,559.8699999999999,810.6000000000001,566.3799999999999,302.25,301.90000000000003,361.2199999999999,632.2700000000001,274.15000000000003,151.05,322.41,395.79999999999995,676.2,362.95000000000005,584.4999999999999,221.19000000000005,303.93,299.59999999999997,443.0500000000001,151.83,262.20000000000005,126.25,302.69999999999993,300.85,642.81,184.26000000000002,381.2,259.0099999999998,707.6899999999998,6.9,316.11,544.3,331.0,404.30000000000007,365.45,90.30000000000001,101.7,484.32000000000016,215.08,244.41,455.25,787.15,285.89,281.84999999999997,865.5999999999999,124.2,451.43999999999977,313.61999999999995,459.2399999999999,181.08999999999997,250.15,90.04000000000002,244.79999999999995,482.47,618.59,506.18999999999994,178.96000000000004,333.08000000000004,322.8,487.51,290.65999999999997,518.4200000000001,601.2699999999999,118.98,183.70000000000002,422.59999999999997,1276.0,657.9,1998.0,301.71999999999997,901.2,623.7500000000002,155.23999999999998,272.81999999999994,417.59999999999997,464.9,223.92,2002.4,369.34,316.61999999999995,611.8500000000001,1145.6,380.3899999999999,171.59,226.35000000000005,107.6,80.8,414.88000000000005,305.62,332.29999999999995,460.58999999999986,288.42,417.06000000000006,497.61000000000007,358.37999999999994,341.70000000000005,413.46000000000004,251.87,588.8500000000001,214.32000000000002,193.44,332.40999999999997,144.91,35.400000000000006,680.02,432.0,194.88,145.93000000000004,219.13999999999996,379.14000000000004,208.45999999999995,169.79000000000005,543.0500000000001,161.94,816.7299999999999,406.48000000000013,435.02,20.8,518.67,319.0199999999999,344.33,384.06,126.12,702.0,195.36,270.90000000000003,71.0,95.85,357.77,716.0,433.53,112.40000000000003,449.7299999999999,339.44,642.0199999999999,247.14,498.47999999999996,538.37,287.62,248.60999999999999,307.46,259.34999999999997,424.99999999999994,380.5,465.32,1689.5,213.77999999999997,329.34000000000003,293.1,206.33999999999997,317.76,239.91999999999996,144.0,444.74,342.63,384.08,114.23,354.15,426.78999999999985,393.48999999999995,190.88,178.26,1253.3600000000001,317.61999999999995,763.64,111.98000000000002,498.42,250.03999999999994,644.3,363.9,494.24999999999994,160.56999999999994,365.84999999999985,127.85999999999999,312.22999999999996,446.18,495.7699999999999,400.09999999999985,203.2,336.40000000000003,1259.56,457.91,281.62000000000006,771.8499999999999,507.8399999999999,524.9200000000002,265.76000000000005,403.30000000000007,216.3,517.5300000000002,622.4299999999998,137.0,511.82,414.04,396.87000000000006,376.63999999999993,622.88,302.2,605.5799999999999,513.2,208.65,546.8100000000001,98.42000000000002,148.86,267.16000000000014,306.84,1487.6,344.13999999999993,215.72000000000003,161.67000000000002,394.72,309.36,329.6,218.52000000000004,503.59999999999985,285.56,621.6600000000001,166.07999999999998,196.0,551.0400000000001,184.39999999999998,239.41,338.95000000000005,417.95000000000005,885.1899999999998,303.97,168.24,355.11,674.5199999999999,287.59,371.87999999999994,1143.2699999999995,245.81,283.4699999999997,278.74,1117.9,106.1,350.3899999999999,512.31,36.55999999999999,35.400000000000006,110.21,605.8,252.79999999999998,329.65,428.1799999999999,458.91999999999985,602.0900000000005,244.10000000000002,97.99999999999997,256.32,152.06,110.38000000000001,191.66999999999993,243.2799999999999,311.01000000000005,397.29,212.54000000000005,145.79,304.56,77.50000000000001,176.68,557.3,111.67999999999998,508.4599999999999,102.82999999999998,123.07000000000002,277.34999999999997,582.5899999999999,337.04,353.18999999999994,288.14,811.4499999999999,152.68000000000006,630.84,166.42000000000002,523.0,122.13999999999996,389.78000000000003,115.30999999999999,230.64999999999995,97.97000000000004,300.02000000000004,363.65,170.16,720.5200000000001,814.0,318.0,453.0,336.13,343.45,90.47999999999999,689.95,167.66999999999996,580.05,168.31000000000003,113.48000000000002,430.6999999999999,673.1000000000001,206.83000000000007,931.4999999999999,1019.52,179.33999999999997,612.08,371.62000000000006,530.1500000000002,638.0600000000002,104.0,476.34999999999997,632.07,49.8,973.8399999999999,163.8,139.10000000000002,248.41999999999993,662.08,443.0,592.97,422.58000000000004,596.0999999999999,95.34,349.27000000000004,283.15000000000003,204.0,175.92000000000002,335.8599999999999,178.04999999999998],\"type\":\"scatter\"},{\"marker\":{\"color\":\"red\",\"line\":{\"width\":1},\"opacity\":0.9,\"size\":11},\"mode\":\"markers\",\"name\":\"Gold\",\"x\":[70,74,5,37,32,143,70,29,22,31,134,78,210,185,236,9,24,63,67,24,42,18,17,88,24,64,54,131,35,143,9,89,358,157,29,23,23,22,73,64,1,113,22,30,52,73,138,80,30,78,24,10,129,126,4,28,275,21,3,44,59,21,19,94,23,85,22,108,19,10,295,5,33,94,122,46,18,21,4,46,39,95,19,58,56,78,240,74,212,24,17,96,17,92,9,11,53,37,40,122,18,38,189,1,103,22,28,4,22,1,78,17,3,31,92,14,77,200,260,16,71,122,80,88,99,26,131,29,72,24,133,43,4,108,19,10,18,67,23,24,38,58,191,178,37,78,51,10,23,16,72,21,85,40,14,33,43,39,12,96,25,28,7,81,84,144,17,23,14,155,14,64,45,29,40,89,40,30,59,99,67,36,52,74,31,45,114,10,205,85,18,24,7,267,281,116,36,131,38,28,36,135,28,71,2,95,95,53,124,33,50,63,70,7,4,116,138,5,18,57,25,11,24,51,129,95,57,31,54,26,23,16,183,37,11,49,92,10,95,23,11,217,1,79,49,73,26,17,65,45,134,115,198,52,46,16,7,22,28,78,109,8,31,19,29,63,40,101,302,2,73,239,30,14,19,7,122,60,46,2,46,35,75,239,19,40,215,87,70,39,98,10,86,67,18,60,2,16,30,92,110,51,183,49,75,30,219,110,260,50,162,98,30,21,51,22,21,127,120,10,157,79,19,108,44,26,38,65,65,130,107,71,92,42,91,57,17,21,53,18,9,60,10,155,148,246,17,11,46,71,19,38,67,23,22,61,33,24,37,60,236,15,58,75,56,179,3,169,35,21,7,44,9,196,91,50,36,67,67,5,19,60,241,280,234,44,137,14,2,29,24,43,5,24,47,3,42,197,16,112,29,44,15,144,232,58,127,7,162,8,15,36,200,73,21,10,29,23,36,59,25,3,107,77,18,79,85,25,2,35,70,115,212,30,50,23,19,25,12,64,8,96,14,68,107,57,15,38,46,47,147,51,35,53,38,33,80,30,8,256,72,58,65,71,53,78,46,179,93,105,77,172,212,22,21,103,4,8,31,196,23,29,18,50,114,60,18,127,52,46,164,10,31,18,68,29,14,119,2,10,87,85,10,60,46,36,217,29,134,36,66,100,151,22,57,37,22,29,10,67,60,64,75,3,70,85,39,32,66,80,0,45,254,95,75,57,137,169,31,26,9,58,26,54,26,30,29,338,85,9,50,2,113,14,40,22,28,17,52,189,1,32,19,7,4,36,60,28,11,103,11,31,177,37,68,24,50,46,100,35,26,36,61,28,32,10,56,4,103,74,45,89,166,18,36,9,45,190,168,40,49,25,4,17,172,63,11,145,24,11,15,65,114,19,61,65,31,5,25,10,14,113,75,107,46,46,50,306,36,78,107,63,44,3,56,99,37,58,254,44,33,72,38,19,136,22,40,32,369,2,23,8,19,21,89,82,16,8,33,31,19,23,2,77,88,123,44,88,2,23,22,35,39,12,29,92,87,7,65,30,22,37,119,32,145,45,65,22,44,16,100,59,114,87,50,70,84,8,59,57,73,39,51,21,59,18,65,4,268,15,65,17,95,126,94,72,64,16,44,23,30,54,25,44,88,19,170,36,318,57,87,43,40,33,211,23,52,50,73,71,353,72,22,37,106,17,119,35,1,128,46,17,107,16,44,21,17,33,32,18,2,82,33,66,61,74,60,28,53,56,60,154,19,18,19,44,26,112,24,46,33,63,21,23,51,10,75,15,77,33,46,79,296,4,106,25,31,4,186,22,17,5,110,95,163,42,26,5,53,15,26,127,84,80,50,61,36,32,15,51,80,73,32,31,4,177,16,68,15,28,54,72,4,61,68,37,45,84,218,91,302,52,31,52,37,44,30,114,19,47,57,67,60,100,123,163,23,103,142,4,15,38,38,100,4,23,144,31,66,37,194,1,26,116,29,81,9,23,156,21,26,1,54,25,56,134,17,38,4,39,38,255,29,7,30,23,85,46,50,8,40,78,11,86,16,87,26,25,85,117,28,28,81,73,21,58,114,36,36,25,109,123,22,18,159,8,3,152,105,17,7,32,57,44,178,56,106,35,29,23,175,60,7,18,96,264,2,25,11,108,53,15,120,3,116,4,40,148,138,2,227,130,21,28,17,21,78,31,46,100,14,151,156,15,36,129,50,24,49,17,40,11,4,14,19,39,22,114,333,12,43,42,50,46,19,18,88,40,17,126,15,60,10,44,191,7,17,9,2,206,161,24,31,29,11,4,53,29,24,43,60,19,14,94,19,24,29,4,7,109,100,85,12,213,33,57,21,32,1,31,31,119,219,60,138,36,73,25,18,3,1,52,127,131,35,10,44,26,127,71,79,38,53,9,32,50,15,10,96,21,152,25,40,82,11,4,71,1,49,2,42,85,81,372,11,1,30,80,185,43,12,21,71,172,71,9,58,3,45,88,64,11,35,134,29,51,5,49,72,39,31,37,22,11,121,37,12,3,23,70,4,21,35,32,19,24,45,23,40,114,18,25,98,93,81,11,37,19,12,67,25,24,19,29,63,116,32,134,3,9,37,23,176,33,58,86,31,128,24,77,71,95,199,36,25,31,29,22,56,192,29,218,72,122,87,50,172,43,25,72],\"y\":[948.8799999999999,1759.5,430.15,6814.640000000001,383.03000000000003,2726.769999999999,1118.99,325.9599999999999,871.5399999999998,1050.8899999999999,1957.1,1324.5000000000007,1106.4000000000003,1607.0600000000009,854.9899999999999,1463.0399999999995,703.4700000000001,1175.2199999999996,1378.4,380.46999999999997,372.79999999999995,509.57999999999976,164.23000000000002,933.7000000000003,607.5299999999999,11581.8,913.5400000000001,683.9000000000001,604.51,1603.9900000000002,329.84999999999997,771.9099999999996,1660.9,7374.900000000001,372.21999999999997,503.76,414.75999999999993,1226.89,789.8899999999996,689.9000000000001,975.3599999999998,6912.0,661.32,1247.5,1010.1799999999997,921.8800000000002,881.07,908.46,629.31,1214.41,470.80000000000007,344.0,919.61,3613.6300000000006,303.75,345.82,7832.469999999998,1927.3200000000002,1098.48,1531.6200000000003,786.5400000000001,984.9099999999996,1197.8099999999995,922.3900000000002,1073.2999999999997,1793.58,962.3900000000001,423.71999999999997,307.0899999999999,712.8000000000001,1257.8700000000003,486.22,971.76,1201.0600000000004,1688.2899999999995,1021.4799999999999,791.3300000000002,468.4099999999999,353.65000000000003,492.8400000000001,1575.8900000000003,911.9400000000002,870.09,1223.8999999999999,1520.5800000000004,819.29,847.4100000000001,605.1200000000001,1031.0699999999997,744.8500000000003,700.7300000000001,663.6500000000001,501.12,711.41,399.51,698.5799999999999,2107.6600000000008,217.3799999999999,542.73,814.8600000000001,1132.1399999999999,578.9399999999999,873.7399999999998,360.0,618.0899999999998,1385.51,1132.0300000000002,598.57,1555.3199999999993,640.76,1548.7000000000003,199.48,787.85,789.0,1140.9299999999996,350.9,795.12,860.1200000000002,775.8499999999999,979.1199999999999,743.5300000000003,674.7,768.2400000000001,778.6499999999997,1019.7600000000003,572.5599999999997,677.1000000000001,1360.9899999999998,1544.1299999999997,1003.0600000000001,1390.5,712.5000000000001,640.83,1624.2099999999998,582.6,218.46999999999994,679.45,1269.0999999999995,1129.14,1058.34,1445.0000000000002,674.6800000000002,1431.7800000000009,1238.4699999999998,1454.579999999999,1122.4099999999999,1215.82,653.3299999999999,1166.7700000000002,292.0,891.1200000000002,1389.4100000000003,659.4399999999998,680.1800000000001,628.78,210.30999999999983,1280.85,291.4099999999999,626.9899999999999,682.41,918.1999999999998,584.0600000000001,174.37000000000003,1799.3299999999988,777.5300000000001,1749.0200000000004,373.74999999999994,732.0699999999997,467.03999999999996,781.0300000000002,379.65000000000003,1117.1300000000003,693.3200000000002,280.53999999999996,678.0099999999996,1171.8000000000002,544.18,747.7800000000003,1638.4700000000003,3070.42,1071.0300000000002,949.1199999999999,810.4999999999998,1033.3400000000001,519.44,1095.08,932.9700000000004,382.13999999999993,1573.2000000000007,897.7600000000001,396.9199999999999,1488.3200000000004,711.8600000000001,806.4100000000004,1079.3399999999997,799.8999999999999,524.14,2375.4100000000008,1079.6600000000003,333.4800000000001,1016.1399999999999,752.5999999999998,491.86,668.43,1341.5999999999997,1156.36,948.2499999999998,1647.2599999999998,1186.2800000000002,659.41,1070.65,1714.9599999999998,1521.7600000000002,360.01,348.79999999999995,688.8600000000002,4599.420000000001,632.0000000000001,957.6600000000001,412.0499999999998,834.57,361.62,865.0600000000005,1537.95,1595.4799999999996,2651.46,1090.14,1015.2900000000002,1281.53,632.97,564.62,388.52000000000004,740.9499999999997,332.63999999999993,626.4499999999999,1212.8400000000001,678.2499999999999,464.56999999999994,1237.5300000000002,568.5499999999998,745.0600000000001,3251.071,439.92,598.1999999999999,413.59,869.8700000000001,920.5100000000001,320.46000000000004,1266.0799999999997,2043.08,529.73,962.1899999999999,695.6099999999999,917.34,1421.6100000000004,642.8000000000001,584.0699999999998,651.8200000000002,1428.0200000000002,1560.379999999999,1659.75,1308.61,746.3600000000001,225.35999999999993,1353.7400000000002,374.69999999999993,499.41999999999996,1049.3700000000003,934.5200000000001,194.42,5976.79,1266.2300000000002,597.9100000000001,692.85,1382.7400000000002,706.1300000000001,709.7099999999996,637.5000000000001,415.81999999999994,915.1300000000002,3742.2,658.6400000000001,621.2900000000002,1345.6200000000003,432.88000000000017,507.66000000000014,1110.52,2445.9100000000008,1631.7700000000002,574.8399999999999,363.78999999999996,450.84000000000003,559.4100000000001,853.3900000000001,701.3999999999999,747.4399999999999,161.02999999999997,466.70000000000005,1004.3799999999997,991.13,1050.1200000000001,1547.2,925.71,1462.7200000000007,3144.8599999999997,890.3400000000005,1693.4499999999996,1474.0600000000006,969.06,1163.4499999999998,1516.2399999999998,1119.7399999999998,595.2500000000001,1910.0100000000004,2093.3199999999997,866.3099999999998,668.5600000000002,889.9300000000002,1021.5800000000002,133.50000000000006,1078.96,701.23,912.1800000000002,3717.349999999999,348.1,626.07,1247.6899999999998,1043.46,487.99,1475.8100000000002,2157.7299999999996,2059.45,1105.0699999999986,770.0300000000002,1496.9800000000005,813.11,322.08,1372.8,1420.2000000000005,1163.2300000000005,375.35,662.5900000000001,264.44000000000005,1837.9199999999996,2103.059999999999,1058.6200000000008,598.7599999999999,461.19000000000005,547.6600000000001,925.8499999999998,1309.6000000000001,165.75000000000003,1064.2800000000002,1383.1799999999994,276.41999999999996,1055.35,330.45,974.54,364.22,620.0399999999998,932.8499999999997,537.48,1461.6499999999999,1080.7600000000004,1530.3600000000006,1653.4200000000017,168.63,1042.2599999999995,570.4599999999998,617.9900000000001,379.82999999999987,221.97000000000003,553.44,899.63,671.96,1006.9799999999998,609.8500000000001,830.76,654.5999999999998,247.14999999999998,637.89,1835.7000000000003,1269.9900000000002,411.5300000000001,765.55,371.7,591.5500000000001,318.1699999999999,1126.37,917.07,867.3800000000001,329.6799999999999,663.8100000000003,718.08,380.0199999999999,1164.55,1314.4499999999998,1448.2099999999994,1099.98,1220.2600000000002,1415.7499999999995,638.0500000000001,738.9599999999998,1484.0599999999995,876.4199999999997,1011.9,730.8599999999999,679.4399999999998,845.5500000000002,353.2699999999999,554.65,778.5,1110.3399999999997,657.8,507.2900000000001,1127.7100000000003,697.55,511.34999999999985,1311.3800000000006,1173.1199999999997,841.2000000000002,522.3799999999997,1465.3200000000002,706.1900000000002,761.5900000000001,1862.0,655.7499999999999,332.66,434.3500000000001,1227.4300000000005,1268.9799999999998,1610.1499999999996,977.77,1316.0700000000004,749.0999999999998,1101.9699999999996,371.2,289.82,336.16999999999985,695.42,221.26999999999992,598.9999999999999,191.3199999999999,1592.06,1314.45,790.8599999999997,326.4,233.23000000000005,546.2,490.52,1246.3199999999995,502.08999999999975,308.94000000000005,423.0399999999996,496.21,377.01,469.0,1066.1499999999996,627.13,4959.0999999999985,465.55,705.4899999999997,384.04999999999984,987.8599999999999,893.59,1744.7600000000004,553.3599999999998,1109.5300000000007,982.0699999999997,748.8700000000002,773.0300000000002,880.8500000000004,895.61,504.7999999999999,1160.07,1370.5999999999997,248.07999999999996,317.53,703.3599999999998,1027.44,996.1,1567.4799999999998,340.11000000000007,457.71999999999997,1633.779999999999,1471.0000000000007,977.9300000000002,982.4199999999998,2354.2500000000005,498.74,1327.1600000000008,301.28999999999996,329.25,304.4699999999999,843.0499999999997,406.76,411.40999999999997,1044.3200000000004,3861.0,1079.61,1236.5400000000002,653.2399999999999,420.29999999999995,894.41,734.94,1219.4,2247.5099999999998,1071.9899999999998,2515.8400000000006,740.7800000000001,890.8499999999999,1810.77,1506.1200000000001,1717.36,721.9399999999998,615.1399999999999,486.69,939.7800000000003,641.94,4507.01,694.4000000000002,1174.3499999999997,924.8500000000001,312.62,2748.3100000000004,679.6799999999998,1049.6999999999998,714.96,574.0699999999998,2020.52,563.94,393.54,777.02,913.1900000000004,602.5100000000001,1877.5899999999992,2007.4,3703.2899999999995,510.7099999999999,1358.8800000000003,774.8999999999999,950.3599999999996,397.3499999999998,383.67999999999995,974.52,429.84,538.73,1048.8500000000006,334.53000000000014,524.88,538.55,469.47999999999985,371.56,1771.2,1441.4199999999996,1134.28,659.4599999999999,1262.2,3610.9600000000005,1000.2700000000002,343.49999999999994,398.84,807.5699999999997,538.46,575.63,436.05999999999995,437.22999999999985,473.65,800.5900000000001,1375.7100000000003,650.43,607.45,702.2500000000001,940.6700000000002,348.5999999999999,682.9100000000001,913.6800000000002,388.58,1406.5900000000004,324.57,761.74,1198.23,2920.1600000000003,1093.68,776.8510000000002,336.40000000000003,1553.18,1293.0300000000002,1534.26,675.8000000000001,1186.35,724.76,812.9999999999998,612.0099999999998,646.3000000000001,922.5300000000002,748.5000000000001,1024.0999999999997,2242.0100000000007,684.34,657.23,1426.1599999999999,239.76000000000002,309.6499999999999,696.6799999999996,1060.56,330.8799999999998,1118.8100000000004,598.7300000000001,507.0799999999998,415.2500000000001,1120.8800000000003,1339.45,1094.59,532.9599999999995,714.4200000000001,1086.9200000000003,635.6800000000001,345.4600000000001,220.84999999999997,965.6099999999999,2207.4,884.1400000000002,699.0800000000002,1063.9499999999998,784.5799999999999,903.9000000000001,3734.970000000001,515.7699999999999,1391.9799999999998,1801.14,2100.6000000000004,570.96,885.4699999999999,1654.31,636.14,576.0,801.7599999999999,836.7899999999998,954.0899999999996,1048.4900000000002,1224.0600000000004,389.27,238.85000000000002,712.2399999999997,1936.3200000000002,895.1300000000002,354.0899999999999,343.28,396.47999999999996,351.1099999999999,164.67999999999998,639.89,1107.4600000000003,6115.009999999999,1708.2400000000002,364.7199999999999,708.2200000000001,806.5699999999998,428.88999999999993,470.7600000000001,418.8299999999999,666.0999999999999,1098.7800000000002,2398.8599999999997,1142.42,792.11,1060.6799999999994,12393.7,478.7800000000001,992.7099999999999,1415.2899999999997,408.90000000000003,251.23999999999992,439.66,548.9399999999999,758.9199999999994,471.7799999999999,1313.5500000000006,3166.4,1197.2700000000002,773.9900000000004,1340.7000000000003,1511.9499999999996,783.8999999999999,664.85,1459.8600000000008,852.15,326.24000000000007,1352.0000000000002,1317.6200000000003,1121.39,817.86,2005.6300000000003,731.8999999999999,1290.7,842.5,423.36,1309.14,867.1099999999998,684.42,656.2500000000001,3506.5400000000013,618.0900000000001,709.3800000000002,635.41,725.1800000000001,280.52000000000004,1829.04,656.6899999999999,1025.4400000000005,822.4800000000001,1140.21,1009.5500000000001,1037.5899999999997,6617.650000000001,1158.7900000000002,529.41,981.8600000000001,405.71000000000004,761.38,537.06,394.38,664.2600000000001,2262.62,690.34,1062.7499999999998,864.86,846.7200000000007,1295.3000000000004,1010.5999999999999,990.8799999999998,867.3099999999996,409.09999999999974,1522.7499999999998,1413.660000000001,1800.0700000000006,1035.45,861.8899999999998,667.6499999999999,1141.2399999999996,2062.06,598.1999999999998,2560.0,706.5700000000002,616.26,1341.6499999999999,328.15,326.74999999999994,428.6799999999998,594.24,251.91,549.0699999999998,370.47999999999996,575.4100000000001,1116.4699999999996,494.44000000000005,658.88,734.7699999999996,327.3,497.42999999999984,1320.5600000000004,367.92999999999984,473.0299999999997,1780.5900000000001,668.3599999999996,555.8899999999999,317.20000000000016,1382.07,1555.3400000000006,1486.9000000000003,1705.8000000000004,408.57,163.07,214.64999999999998,210.34999999999985,1051.3999999999999,972.2299999999999,346.12,654.6700000000003,230.51000000000002,1841.1800000000005,1422.4,650.4300000000004,762.39,300.83,769.2899999999995,220.61999999999998,363.65,498.79999999999995,731.5,1351.6300000000003,826.5299999999999,400.86,1431.9300000000005,484.37999999999977,777.6,874.5899999999999,1046.5700000000004,1244.5900000000001,6748.8,593.75,548.97,922.12,5719.819999999999,837.1,841.4099999999997,511.12000000000006,1077.74,614.66,1421.6900000000003,1009.5999999999999,663.6099999999998,936.0799999999999,330.0299999999999,360.1600000000003,528.0799999999999,1187.6599999999999,500.42000000000013,813.4800000000002,810.5699999999999,417.72999999999985,1154.4700000000003,1257.5099999999998,688.33,833.7799999999996,1267.6499999999999,570.1299999999998,306.71999999999997,1692.27,319.61000000000007,1770.3400000000004,1027.9999999999998,324.24,482.0099999999998,531.35,656.6300000000001,3029.870000000001,1161.5299999999993,589.15,781.0200000000003,743.11,603.7499999999998,650.51,836.0600000000001,623.93,1764.7199999999998,1496.8300000000004,1501.3799999999997,478.08999999999986,770.1000000000006,661.5200000000001,388.2799999999999,425.18999999999994,597.4799999999999,1619.7300000000002,536.99,801.4899999999996,1121.59,547.0699999999999,460.64,775.1800000000001,325.90999999999997,1264.1899999999998,342.45,328.4,747.81,502.8,705.1199999999998,429.84,1578.6700000000005,525.5399999999997,508.8099999999997,1706.88,373.24,579.7700000000002,621.6800000000001,576.2600000000003,2596.4499999999994,846.7499999999998,380.55000000000007,563.2299999999998,950.93,262.68,1178.56,1277.7500000000014,308.74,507.04999999999995,439.4300000000001,650.4100000000002,357.20999999999987,1078.9600000000005,1873.2,1133.25,1456.96,484.82000000000005,1493.73,1412.9399999999996,889.9300000000001,586.3299999999998,920.0999999999998,890.2899999999997,380.35,1030.1399999999999,745.5200000000001,1267.3199999999997,1081.5700000000002,948.48,1100.9,925.3499999999999,413.75000000000006,1356.3300000000004,1179.8899999999999,5232.23,1461.1399999999996,859.3500000000003,312.13999999999993,841.08,378.2000000000001,290.1600000000001,1405.7799999999995,1566.65,1324.159999999999,971.74,665.7800000000004,837.4999999999999,606.91,1004.7499999999999,749.78,251.69999999999996,319.0,1266.9699999999993,835.7800000000004,1443.6900000000003,711.79,796.0300000000002,384.3999999999999,1699.3000000000004,1013.01,692.2200000000001,1564.5600000000002,1069.12,335.13,939.32,318.76000000000005,3638.4100000000003,421.5200000000001,550.0600000000001,314.69,1135.0399999999997,954.8999999999997,282.18999999999994,318.65000000000003,384.52,353.8599999999999,272.44000000000005,298.40999999999997,603.3699999999998,562.8999999999997,310.63999999999993,1065.3500000000001,1703.4100000000003,153.92000000000004,556.9499999999997,131.78000000000006,197.6300000000001,1384.8500000000001,2328.8399999999997,2600.34,1200.6199999999997,523.11,2027.8700000000033,781.3600000000001,537.74,587.15,1740.0,1393.06,388.1399999999999,488.2,423.8899999999998,646.9200000000001,404.66,199.29000000000002,261.11000000000007,784.11,7330.800000000001,696.4099999999999,653.3799999999999,2200.42,778.9399999999999,778.0,463.4600000000001,598.8300000000002,698.4100000000003,759.1699999999995,365.76000000000005,303.16,541.53,486.71999999999997,1737.6999999999998,316.49999999999994,675.6899999999999,763.2800000000003,1125.0700000000002,710.2900000000002,497.56000000000006,1138.0,689.0999999999999,558.9599999999999,2997.0300000000007,1145.84,308.48,639.0199999999998,723.2099999999998,652.7400000000001,1195.8999999999999,939.37,897.6200000000003,578.9,645.9599999999999,930.41,483.25999999999993,541.4599999999999,854.9500000000002,167.61999999999998,454.0099999999999,380.59999999999997,448.89999999999986,1242.3000000000002,1133.0700000000004,1240.2000000000003,993.1799999999995,388.7900000000001,2044.3700000000003,193.42000000000007,390.0699999999999,1379.8999999999999,527.05,528.33,1324.8399999999997,547.06,712.2900000000002,1008.3899999999999,1797.5,868.49,1207.5600000000002,1674.69,595.42,604.64,728.1599999999999,347.74999999999994,1992.1100000000006,740.9399999999999,765.34,798.7399999999999,385.1,522.91,1195.94,3276.4,1033.0000000000002,1240.11,692.1899999999998,700.63,377.4399999999999,712.78,818.8200000000002,271.20000000000005,182.76999999999998,1225.4100000000003,658.5699999999999,1865.1899999999994,323.03999999999996,697.9000000000002,1285.0399999999997,546.0399999999998,387.6799999999999,3704.869999999999,398.7,155.3700000000001,350.63999999999993,338.80000000000007,2033.1,901.2000000000003,5391.210000000009,114.34,1418.0300000000002,1197.1000000000004,1859.1600000000005,683.4600000000003,379.45000000000005,190.18999999999997,726.0500000000001,1119.8100000000004,566.5999999999999,800.24,366.23,411.6,336.4299999999999,341.2799999999999,1304.04,826.5200000000003,843.0,1740.4799999999998,408.36,1331.5699999999997,704.25,389.8399999999999,4106.4400000000005,482.2,1008.5400000000003,471.6999999999999,1098.43,634.9499999999999,201.11999999999998,678.4900000000001,382.05999999999995,417.23,249.71999999999989,444.68,2116.19,120.03,422.8800000000001,730.4000000000001,405.6199999999999,357.20000000000005,559.5099999999996,189.39999999999995,306.46,396.3300000000001,3877.520000000002,1231.5,703.3699999999997,4055.7199999999993,2106.52,3017.2999999999993,223.65,754.6400000000002,236.3,352.69,1418.0300000000013,320.71999999999997,589.4399999999999,348.7299999999999,681.9100000000001,784.3299999999998,1000.1599999999997,566.5800000000002,653.3499999999999,399.18999999999994,453.4000000000001,399.65000000000003,1384.86,1169.94,980.3100000000002,1231.3099999999997,2106.84,1341.4199999999994,1590.8099999999997,382.79999999999995,1090.24,957.9699999999999,689.1300000000003,1396.9900000000007,517.36,600.07,481.75,621.75,1041.6100000000001,779.9,2083.2700000000013,882.24,1561.6099999999997,2232.49,804.02,4314.719999999999,526.6699999999996,2643.2000000000003,324.23999999999995,1213.16,801.5100000000001],\"type\":\"scatter\"},{\"marker\":{\"color\":\"black\",\"line\":{\"width\":1},\"opacity\":0.9,\"size\":13},\"mode\":\"markers\",\"name\":\"Platinum\",\"x\":[2,3,3,2,2,59,33,2,4,65,7,26,3,8,11,39,23,2,4,138,8,9,4,35,21,2,17,15,16,30,2,8,5,1,9,8,7,3,0,3,4,4,11,9,1,10,53,16,4,11,8,31,14,14,12,0,1,3,11,8,32,1,1,31,0,11,89,4,56,10,16,84,29,14,49,8,36,16,26,7,14,11,10,3,9,30,10,19,60,3,4,12,18,1,11,2,17,1,23,7,4,7,1,37,66,5,36,38,82,45,67,9,17,33,60,31,30,11,1,1,11,40,64,0,10,5,14,16,26,26,17,7,10,1,1,45,17,7,17,3,8,1,59,1,33,33,2,1,66,73,5,40,12,10,25,15,11,108,5,1,12,24,23,5,24,33,16,9,16,43,9,2,1,17,2,31,26,5,3,32,15,49,24,5,16,3,2,11,2,2,64,33,0,12,9,1,30,5,32,16,5,58,8,1,18,7,123,2,22,53,21,3,2,10,7,1,28,72,79,57,1,17,21,2,7,5,7,18,31,39,29,4,19,12,42,3,15,10,43,9,18,7,2,40,26,16,0,1,23,4,9,3,4,4,2,7,12,16,5,51,3,22,3,3,10,1,2,1,1,3,8,19,59,8,40,10,30,2,1,4,10,105,53,11,3,1,42,28,26,42,22,43,8,7,1,64,9,8,3,23,8,11,1,7,3,17,8,71,88,8,46,44,10,17,16,16,45,31,8,32,10,10,2,2,4,33,10,1,3,10,0,23,7,9,8,0,0,18,5,66,29,103,18,26,7,42,26,19,3,47,17,17,11,17,31,19,2,25,24,2,60,9,28,24,5,3,10,19,10,7,3,95,3,12,5,18,15,19,11,15,4,1,32,23,4,52,24,4,1,8,17,8,28,10,3,16,31,25,25,7,30,4,1,32,10,1,11,15,14,10,9,1,10,1,8,16,3,4,11,9,4,8,2,51,16,2,1,47,39,40,3,17,89,53,43,63,21,58,78,12,10,3,8,12,9,7,7,23,11,21,2,3,29,59,10,9,35,72,115,15,12,8,11,3,9,4,4,15,9,19,9,25,23,4,12,25,40,8,37,9,7,10,18,18,17,9,30,17,14,7,25,50,14,2,8,4,17,9,1,3,1,8,18,1,1,3,25,1,1,10,51,66,1,10,44,66,31,9,16,15,7,4,58,43,4,25,50,2,50,12,31,4,25,40,8,40,8,14,4,9,16,1,33,84,64,19,33,8,12,1,9,1,19,15,1,30,95,32,21,2,8,15,22,11,33,12,64,40,2,18,22,21,8,25,9,7,77,12,22,2,7,4,120,23,15,11,8,9,10,43,4,15,4,105,25,18,88,73,18,24,9,8,0,33,2,140,35,40,9,32,35,16,14,18,16,12,2,39,10,88,9,32,46,26,43,1,0,23,22,16,49,73,70,11,17,4,4,15,40,12,8,5,14,63,1,1,16,9,19,3,0,16,4,8,31,15,24,17,17,39,17,24,22,2,12,8,36,29,12,47,8,3,37,3,3,46,16,46,5,40,16,9,16,3,56,23,11,42,7,17,45,9,29,17,3,3,8,42,49,8,1,10,8,50,15,100,22,31,2,4,3,1,29,44,24,9,8,66,16,45,17,9,2,21,5,31,21,9,25,64,5,14,28,7,24,11,32,3,1,7,4,9,11,17,37,18,8,4,2,1,12,36,44,17,2,29,5,7,1,99,2,28,19,33,7,63,3,8,49,21,52,1,2,19,2,10,108,66,0,15,4,4,17,15,31,0,29,17,22,58,16,17,22,9,23,16,2,33,2,47,1,8,8,0,19,3,9,18,23,14,17,26,46,38,78,29,11,86,4,17,7,3,30,33,10,2,10,3,29,1,11,23,8,14,2,10,1,31,8,36,42,22,22,4,67,12,30,15,1,7,16,4,5,29,4,28,49,12,80,3,5,8,52,12,21,3,0,8,3,12,88,17,3,10,0,4,28,2,11,2,32,2,96,29,12,28,28,17,17,33,35,7,28,4,2,50,15,10,33,29,5,5,15,16,15,1,22,21,31,28,32,5,7,11,28,35,26,40,4,24,15,12,12,2,1,42,60,26,9,31,3,8,11,14,10,24,1,8,15,17,17,29,3,14,8,17,0,12,23,40,23,8,7,0,126,4,1,16,2,29,11,16,8,0,2,36,2,1,43,22,16,16,3,0,1,57,28,15,17,1,1,1,1,14,8,7,50,8,0,60,2,73,3,23,2,40,7,53,22,5,14,18,5,36,1,11,25,10,17,25,66,42,15,50,1,1,4,1,10,16,7,30,38,16,30,3,4,22,37,96,16,15,3,3,2,19,11,3,5,0,1,19,17,8,12,24,26,22,22,37,16,4,12,14,5,42,26,4,5,3,59,12,30,2,3,3,31,4,11,8,5,21,37,24,15,35,74,32,35,11,4,7,21,5,26,23,8,45,2,11,7,1,10,8,29,15,17,7,12,12,15,14,9,4,15,4,71,1,2,4,3,44,11,9,71,2,9,7,39,24,2,3,42],\"y\":[4196.010000000001,4090.880000000001,942.3399999999999,1474.7199999999993,1018.7100000000003,2612.8599999999988,683.1299999999994,5591.420000000003,4022.3499999999967,1702.26,2179.9300000000007,4036.819999999996,1535.7700000000007,17654.539999999997,2919.809999999999,2178.67,3075.0400000000013,1662.3,2483.6299999999997,3006.1500000000005,1335.1899999999998,16587.09000000002,694.0499999999998,2062.6999999999994,42055.95999999999,2160.6999999999994,1063.9000000000005,1504.2700000000004,2064.95,4167.220000000001,1843.0,1064.0700000000004,1387.7900000000004,4757.159999999999,4017.5400000000027,1856.6299999999997,452.23999999999995,11189.909999999996,1239.38,6924.109999999996,974.42,9818.820000000012,5655.91,1661.8400000000008,4810.9400000000005,3466.2799999999997,3346.2800000000016,7277.699999999997,2616.38,799.4800000000001,676.9900000000001,3237.540000000001,1835.9099999999994,5836.86,1119.4900000000005,4436.119999999994,729.2700000000001,12627.94,28337.38000000005,8910.82,6010.419999999994,28882.440000000013,6424.090000000001,1488.6700000000012,12245.960000000003,2294.7800000000007,3866.3299999999977,2099.6399999999994,2607.6099999999997,3650.409999999999,5064.940000000003,2388.7499999999995,3707.120000000001,1676.0599999999997,1741.2199999999991,1437.8500000000006,1319.19,2817.0300000000007,5725.470000000003,3957.7800000000016,1701.2900000000009,1797.78,3401.239999999997,9817.120000000003,869.4599999999999,5891.609999999999,1197.4199999999998,788.0799999999998,2155.9499999999994,6463.840000000002,2806.9700000000007,1357.6000000000015,1987.3000000000009,7454.069999999956,3834.26,4521.490000000001,3214.6899999999996,5346.23,2709.1200000000003,2089.8500000000004,2000.8599999999992,1456.7899999999993,775.9400000000002,5977.730000000001,2273.679999999999,10845.549999999988,7121.949999999994,3627.769999999998,3536.819999999998,10736.47999999999,2543.720000000002,3090.7399999999984,992.5000000000002,2225.3700000000013,3312.2500000000005,3639.3100000000004,4151.929999999999,797.96,2520.0199999999995,28117.039999999983,6127.429999999998,1851.0799999999995,2626.3000000000006,3641.3199999999974,1006.8000000000001,3809.89,3408.0599999999995,3539.370000000002,2043.7200000000003,2976.149999999999,1766.7199999999998,9646.570000000002,1083.71,5704.970000000001,2531.579999999998,1804.5599999999993,8968.309999999996,2044.8699999999997,1159.11,2479.159999999999,979.7200000000001,1791.5599999999984,2128.42,1093.6500000000003,3964.8800000000006,2287.5100000000007,5870.080000000015,3448.2899999999986,3740.070000000001,4149.2800000000025,605.0599999999998,874.7099999999997,2092.32,6717.340000000001,1687.5999999999988,2478.949999999998,1981.9199999999994,2037.0800000000008,697.04,5153.669999999998,1131.8800000000006,1610.460000000001,7792.36,2031.7800000000002,2121.27,1575.1600000000003,2624.260000000001,1678.1200000000001,1836.34,2707.329999999999,2639.1700000000037,6363.589999999984,3722.4200000000014,827.83,3119.4400000000014,2504.1299999999987,2265.119999999999,2308.0599999999986,6328.050000000004,1445.0100000000002,1041.68,1980.5600000000004,2885.2399999999975,731.8999999999999,3131.020000000001,2161.3500000000013,5189.519999999995,3190.550000000001,17220.360000000008,2796.5099999999993,2634.450000000001,1132.13,25977.15999999998,911.9999999999992,2462.7899999999995,37153.84999999998,2635.7900000000004,1747.66,1698.9399999999998,2202.99,691.7299999999999,3385.619999999999,8109.5199999999995,1245.9000000000003,2209.360000000001,3192.54,3104.9500000000035,2770.9400000000005,6403.250000000004,1786.7900000000004,3219.7700000000004,17159.519999999993,1191.1299999999999,2674.479999999998,787.6000000000001,1883.8099999999995,2593.0699999999993,2867.2,2369.5499999999984,2580.909999999999,1838.8500000000001,839.1400000000002,5112.96,2427.3199999999974,3515.6800000000003,1026.4200000000003,9053.940000000002,2758.26,2526.2799999999993,1871.81,2603.43,7060.130000000006,4147.960000000001,855.9699999999999,3466.36,2313.140000000001,1393.6899999999996,3901.8100000000036,4582.639999999999,2874.7200000000007,2360.0899999999997,17286.859999999997,2975.5900000000006,3614.9199999999996,652.8199999999993,5681.719999999997,15610.389999999989,8214.64999999998,6217.960000000002,6140.419999999998,10464.85,1438.820000000003,942.2599999999998,1018.4299999999998,4448.539999999997,4076.910000000003,442.8499999999999,3104.1700000000005,1360.2800000000002,2703.23,5683.149999999999,2915.1499999999974,1840.4200000000005,2780.1499999999996,2740.4300000000017,1123.86,3586.030000000001,4690.31,982.3800000000005,935.0499999999996,4190.999999999999,4693.00999999999,3222.3000000000006,1620.93,719.7799999999997,4748.519999999998,2054.3599999999997,4654.079999999998,4684.760000000001,11349.519999999986,2073.4300000000003,1905.8400000000001,2241.1000000000004,1789.7200000000005,1839.3,2004.9800000000002,3432.7999999999993,2232.19,3350.9600000000014,2048.0700000000006,775.4600000000004,2380.8500000000017,2588.769999999999,1904.0500000000002,2879.7000000000003,3099.72,12669.979999999996,2618.230000000001,3729.3400000000042,4628.749999999998,911.2599999999999,2314.6499999999996,3883.249999999998,4871.9299999999985,1046.5599999999993,1305.3299999999997,3965.6199999999953,1858.9599999999998,2995.7200000000007,2352.530000000001,1611.5899999999995,2481.129999999999,1530.749999999999,5014.840000000004,2552.2100000000005,1614.9100000000008,2182.2799999999984,2128.23,9261.520000000006,1770.5600000000013,3212.8400000000015,4652.8200000000015,3507.710000000001,2612.960000000001,4051.4799999999987,1474.3200000000004,2606.53,5900.279999999999,1937.2500000000002,1058.0600000000002,4263.64,4481.670000000001,1244.8300000000004,2255.5099999999984,2357.6800000000003,1712.8900000000008,1039.5800000000008,907.0999999999999,3062.3999999999983,2004.0200000000004,2272.4000000000015,1936.8400000000013,2068.150000000001,1196.3300000000002,2383.2400000000002,1957.3200000000004,815.32,2470.6699999999996,3543.2600000000016,673.2599999999995,5905.639999999987,2012.1700000000012,1314.8099999999997,2102.0899999999997,1867.6800000000007,4332.199999999996,8508.81999999996,2925.910000000001,1949.7200000000007,4447.049999999999,2864.190000000005,996.26,3630.330000000001,2024.4500000000005,2578.0900000000024,4007.539999999999,765.6200000000001,859.27,2381.040000000002,2237.7700000000013,5074.769999999998,3099.1200000000017,2832.840000000001,859.7100000000011,1052.5500000000004,1601.1400000000008,1447.140000000001,1740.6000000000001,883.1500000000002,16569.5,1785.1499999999999,1788.36,889.2499999999999,2791.2699999999995,959.0100000000001,2984.4900000000025,2125.079999999999,1417.2899999999997,1947.5499999999997,1932.23,848.22,2529.930000000001,771.1700000000003,9241.200000000004,1736.3999999999994,604.7499999999999,2548.24,28754.11,1236.2800000000013,5630.869999999997,2114.3299999999995,2078.95,1250.7600000000014,2235.2999999999997,2549.369999999999,3292.139999999998,1546.9099999999999,4921.040000000007,606.1300000000002,2868.7999999999965,2666.36,1602.1300000000008,1158.3,2005.0600000000063,2702.49,9585.909999999998,6065.69,3902.28,1400.3400000000004,5010.279999999999,1625.9699999999993,2473.37,10674.750000000007,2538.299999999999,745.0600000000001,1319.9099999999996,8022.489999999978,4339.739999999999,2741.169999999997,2087.879999999999,2226.9099999999985,1720.3000000000004,1649.5000000000011,3295.7599999999993,2824.6899999999996,3189.8099999999995,7930.539999999996,2836.6899999999982,2759.8300000000004,1353.739999999999,14389.900000000007,2953.590000000002,725.7,1485.5400000000006,1237.8500000000004,11138.710000000006,1366.38,1303.5199999999995,1421.2900000000004,2810.63,1025.4399999999998,3501.0999999999976,5900.250000000002,8099.489999999998,7044.680000000002,1487.8000000000013,1116.5699999999993,1931.4200000000028,1641.7599999999998,6316.569999999991,1261.7799999999997,1914.8200000000024,905.0399999999995,6802.759999999989,1661.3300000000006,668.14,2586.670000000001,4308.609999999999,19914.439999999966,7700.229999999997,5213.770000000001,1782.0900000000004,1391.6100000000001,697.79,302.09999999999997,2124.9900000000025,1337.7200000000007,303.0899999999999,3158.1300000000006,1043.4099999999999,9743.110000000022,2420.8400000000024,4597.019999999998,2298.930000000001,1422.5200000000002,3609.330000000001,2760.5599999999977,1352.7500000000002,1551.7800000000002,2199.309999999999,11528.480000000001,3447.4,1387.99,1286.7000000000005,6580.440000000007,1194.7300000000005,5314.469999999995,4745.69,961.4899999999999,1936.0700000000006,18641.010000000017,1624.0499999999997,2206.9500000000003,4777.180000000001,16225.390000000009,7616.529999999996,1827.7999999999984,870.12,1661.44,5756.890000000001,1778.9599999999994,3386.7100000000005,1412.320000000001,780.59,1706.57,1756.4400000000007,6688.460000000006,10484.989999999996,918.1999999999996,2379.49,2507.070000000002,716.5700000000003,2332.149999999999,2306.519999999999,7943.22,4668.300000000002,3672.86,4799.900000000001,5070.3499999999985,1960.110000000001,2766.499999999999,8347.199999999992,2314.32,2386.05,2415.9100000000003,1233.3599999999997,1690.26,5955.709999999999,1535.5299999999997,2183.54,1345.5299999999997,815.7699999999999,1056.44,3450.8400000000015,3984.3199999999993,1447.39,1483.1399999999999,1041.4800000000002,1122.5300000000007,3236.909999999999,1418.2600000000016,1388.370000000001,7354.62,11054.960000000003,3594.3099999999995,2575.0,3100.0900000000015,2001.800000000005,1299.230000000001,13316.399999999992,1131.5600000000004,10384.93,979.2600000000004,909.2300000000001,14758.219999999998,4139.460000000002,1942.4500000000012,3000.2000000000007,825.9200000000002,2429.779999999999,3995.2299999999973,1502.3500000000001,2007.4399999999994,1580.9300000000032,3546.709999999995,4954.839999999991,1693.26,4805.169999999989,1400.4399999999998,758.2899999999998,4165.52,2552.86,3679.9700000000003,725.1099999999999,1771.78,6776.559999999997,1297.8700000000003,1591.4500000000003,10399.739999999989,3709.5600000000018,2870.2400000000002,3285.310000000001,12515.659999999982,1887.2000000000005,1600.86,2657.1300000000006,2881.0200000000013,2446.6,3435.7599999999998,781.2799999999999,1333.6800000000003,2993.099999999999,6479.399999999998,2736.4600000000005,1542.14,2293.6199999999994,945.5799999999999,3364.2399999999984,1072.3600000000001,5045.609999999998,2222.56,5178.960000000001,1205.12,4812.419999999996,784.4600000000004,974.0399999999995,2465.479999999999,2637.3800000000024,2364.2500000000023,3279.9700000000003,2614.7400000000007,2328.9700000000003,4932.2000000000035,948.0500000000001,1612.6900000000003,2711.5599999999995,4206.389999999997,5528.479999999997,2218.6199999999994,1945.3300000000004,1905.45,1836.0900000000008,2233.749999999999,33643.08,3711.7699999999995,2974.6499999999974,16387.570000000003,1438.8500000000008,977.2099999999992,3165.360000000001,832.88,3812.6399999999985,360.9299999999999,4405.879999999999,493.28,1388.8799999999999,363.8799999999999,5126.76,1567.6900000000014,967.4499999999998,1232.1799999999996,1528.0900000000006,2495.870000000001,955.2400000000001,1765.509999999999,1659.3799999999999,4416.260000000002,845.6399999999999,4199.85,3442.15,1054.7299999999996,3408.4799999999987,1475.02,2837.6700000000005,1451.2800000000004,2797.5699999999983,3089.969999999999,2735.3700000000003,615.389999999999,1701.939999999998,3362.7100000000023,37130.6,662.3799999999999,705.3899999999996,1508.7600000000014,3786.239999999999,851.0100000000001,719.81,8816.399999999987,1111.7899999999993,2263.12,1153.6199999999992,1521.8700000000001,2234.729999999999,2806.9000000000005,981.5099999999999,1078.2299999999998,1842.1400000000003,1429.6399999999999,3204.16,1337.4800000000016,1667.9700000000018,6287.770000000002,1880.22,14589.039999999997,2424.939999999999,3799.4899999999957,2053.019999999999,1824.2300000000002,3122.0400000000013,5575.559999999998,3787.600000000001,1822.9700000000003,1885.0499999999995,1418.3199999999993,10254.180000000002,4006.9400000000032,6911.439999999999,5180.52,1080.6199999999992,1863.4699999999993,21086.299999999996,3084.6800000000017,1096.32,3718.800000000001,2607.8700000000067,3603.210000000001,3683.8599999999983,2619.91,5203.51,746.8299999999999,5447.000000000003,1429.2399999999998,1509.5800000000004,1570.8099999999993,823.9699999999996,2248.9900000000002,1328.5500000000004,5360.63,2938.9100000000008,3110.9600000000046,3844.22,1593.2000000000003,26626.8,1971.8700000000003,887.6500000000001,1469.4500000000005,6675.709999999997,2027.499999999999,1750.9199999999994,3512.5299999999997,896.6600000000001,707.0399999999997,1540.4200000000005,804.4899999999994,1553.66,987.0100000000007,2157.400000000001,3046.2100000000014,4098.319999999999,2126.9300000000017,2028.8800000000017,675.2700000000002,34684.400000000016,1908.2500000000002,1522.2500000000005,798.3499999999997,3640.669999999999,616.79,2158.3700000000003,3482.7400000000002,814.7199999999996,1314.6800000000003,1603.4600000000007,1871.5000000000025,2494.4600000000005,684.4100000000003,1599.5200000000002,2965.690000000001,950.2599999999999,1627.1300000000006,9418.470000000007,13027.450000000008,1095.5600000000006,1388.81,4154.639999999994,2298.9699999999984,3313.79,8338.490000000013,3738.4000000000005,4113.679999999999,813.5200000000001,3347.7100000000014,5493.460000000006,2647.5900000000015,4413.100000000002,2188.0499999999997,2883.1000000000004,1680.7199999999998,6773.970000000001,1212.6600000000005,3794.519999999997,8625.800000000001,933.6199999999995,1374.8700000000003,4095.9000000000024,8134.94,1592.12,3109.990000000001,3062.8299999999986,1260.8600000000001,5076.550000000002,5398.300000000002,14034.989999999989,2483.04,1651.0299999999995,3645.4299999999957,6923.130000000008,3858.379999999999,1790.4200000000008,4730.81,1382.0200000000013,1054.6699999999996,7239.919999999984,2300.559999999999,2238.0900000000006,1304.7599999999993,7194.300000000006,6697.660000000009,1515.8999999999992,789.79,2799.250000000002,5580.599999999999,2246.8100000000013,1695.660000000002,10629.719999999988,2279.9,1545.6199999999997,1721.7800000000022,1222.7100000000012,1201.4900000000002,914.69,1692.9799999999998,6509.100000000003,1604.7500000000005,3349.57,1106.5299999999997,3170.9800000000014,16594.34999999998,1869.8200000000004,10196.570000000007,825.4199999999997,2812.3399999999997,7123.619999999998,2095.53,853.7199999999998,1519.0800000000004,471.50999999999965,809.7000000000002,1281.5599999999997,887.1100000000005,3754.2699999999986,3102.4300000000003,981.6500000000001,1510.060000000002,2575.380000000001,1068.8199999999997,7247.60999999998,2847.599999999998,1295.3900000000006,4604.2199999999875,2736.3800000000015,3049.880000000001,1920.5900000000017,4345.500000000007,1286.27,2085.0800000000004,2154.9700000000003,1852.0000000000005,1931.2499999999998,4481.349999999996,5464.120000000001,1625.0500000000004,1614.31,3989.5700000000006,781.7800000000001,1842.5599999999995,8694.26,1272.6100000000013,1044.3800000000003,1735.1799999999998,5659.980000000006,3228.8399999999992,3095.0399999999995,4552.140000000004,2709.7000000000007,2429.0300000000007,1446.09,834.1200000000002,2003.8500000000008,2949.7500000000014,2050.079999999999,1991.009999999999,2043.950000000001,3827.760000000002,1777.7800000000007,1022.1300000000003,1621.7299999999998,10815.429999999995,885.04,808.6199999999997,2463.170000000001,4892.240000000001,1139.7299999999998,10668.469999999988,984.5699999999998,1714.5900000000001,1538.88,3518.0299999999993,1715.4599999999996,2467.350000000001,3766.5999999999985,3347.309999999999,2474.23,2095.1300000000015,3563.8499999999995,2317.220000000001,2781.2299999999977,1960.7200000000003,3198.2500000000027,1906.0900000000015,3174.3200000000024,916.1300000000002,3744.65,8676.849999999997,2148.6299999999997,1652.580000000002,1064.1100000000001,1419.7300000000012,944.4100000000004,525.2399999999998,1875.1100000000006,669.1100000000001,1135.6299999999999,8631.310000000003,2527.92,6292.259999999996,700.8599999999999,921.0700000000006,990.2300000000002,6643.929999999995,12353.289999999999,2676.559999999999,1159.5200000000011,1286.0700000000002,585.7900000000002,4481.179999999996,4801.559999999999,1912.6700000000008,1342.6800000000012,4100.919999999995,20275.60999999999,2686.42,31833.680000000015,2129.9600000000023,2633.85,1031.41,1214.7199999999996,1258.0600000000002,6893.420000000002,4226.57,1979.37,5037.259999999998,17256.850000000002,2373.8200000000006,2248.560000000001,2520.8599999999997,1721.3999999999999,657.3,757.4599999999996,1896.410000000002,1870.9699999999996,1255.5900000000006,2092.3199999999997,3558.8700000000003,6115.140000000001,2924.990000000001,768.0800000000002,1844.0200000000002,1070.71,3628.5000000000014,2385.0000000000023,1952.4499999999998,1122.3799999999997,901.2100000000007,4331.48,1498.5100000000014,3622.679999999998,11045.039999999988,2404.170000000001,1479.22,2225.9700000000007,3927.3399999999997,2827.929999999999,5102.969999999997,1112.2200000000005,3984.2199999999993,2048.4499999999994,4559.15,971.5800000000002,843.4799999999997,2047.0000000000011,1814.1200000000008,2361.9700000000034,2895.6399999999994,3945.000000000001,4867.7199999999975,2638.9400000000023,2999.460000000001,1802.9099999999999,2055.5099999999993,3406.7200000000003,1572.7100000000005,3178.17,1629.1200000000017,20374.27999999997,1387.6800000000005,16363.229999999998,2474.3300000000004,3191.5299999999993,5739.460000000007,4757.950000000001,2285.7100000000014,2534.64,1824.3700000000001,1823.5199999999993,10504.489999999994,5655.990000000002,5396.040000000004,2424.039999999999,3439.0800000000004,1060.25,2876.010000000001,5298.479999999997,13110.019999999991,1879.0500000000002,2791.3500000000004,2322.3999999999996,1797.5699999999997,1772.259999999999,5605.289999999994,3456.7000000000025,834.9899999999998,2273.1800000000003,3997.979999999999,665.86,1965.5500000000013,780.4300000000003,3055.9299999999967,1199.01,5411.910000000001,7837.72999999999,732.1600000000001,1770.8800000000026,1995.460000000001,1593.3800000000008,2779.2999999999997,26879.039999999997,5155.659999999998,2100.8,3159.9999999999995,597.5000000000002,10526.319999999998,1894.3500000000017,671.7699999999994,717.4499999999994,899.6099999999999,4204.0999999999885,2962.5000000000005,4301.22,2332.7200000000007,1296.4400000000012,2622.569999999998,740.7899999999995,4488.810000000001,757.71,1970.6700000000023,1483.56,668.1100000000002,4183.389999999995,2088.599999999999,6784.1900000000005,2119.4099999999994,2392.830000000001,2036.6700000000003,2611.750000000001,2633.009999999999,3651.969999999997,9068.260000000002,911.1500000000001,2697.7999999999997,8052.969999999997,5653.819999999971,1826.2100000000016,1142.989999999999,1059.3900000000003,8438.339999999997,2888.750000000001,2861.5500000000006,734.94,1618.6899999999998,7561.68,1793.1700000000008,1843.75,2001.04,5425.560000000004,1993.7,2621.379999999999,2069.7700000000004,6484.540000000004,5509.12,5228.050000000004,7276.900000000001,2810.199999999999,1796.48,987.0999999999998,2073.090000000001,2567.0599999999995,2337.6300000000006,2338.600000000001,3078.5800000000004,2094.880000000003,1837.2799999999997],\"type\":\"scatter\"}],                        {\"template\":{\"data\":{\"barpolar\":[{\"marker\":{\"line\":{\"color\":\"#E5ECF6\",\"width\":0.5},\"pattern\":{\"fillmode\":\"overlay\",\"size\":10,\"solidity\":0.2}},\"type\":\"barpolar\"}],\"bar\":[{\"error_x\":{\"color\":\"#2a3f5f\"},\"error_y\":{\"color\":\"#2a3f5f\"},\"marker\":{\"line\":{\"color\":\"#E5ECF6\",\"width\":0.5},\"pattern\":{\"fillmode\":\"overlay\",\"size\":10,\"solidity\":0.2}},\"type\":\"bar\"}],\"carpet\":[{\"aaxis\":{\"endlinecolor\":\"#2a3f5f\",\"gridcolor\":\"white\",\"linecolor\":\"white\",\"minorgridcolor\":\"white\",\"startlinecolor\":\"#2a3f5f\"},\"baxis\":{\"endlinecolor\":\"#2a3f5f\",\"gridcolor\":\"white\",\"linecolor\":\"white\",\"minorgridcolor\":\"white\",\"startlinecolor\":\"#2a3f5f\"},\"type\":\"carpet\"}],\"choropleth\":[{\"colorbar\":{\"outlinewidth\":0,\"ticks\":\"\"},\"type\":\"choropleth\"}],\"contourcarpet\":[{\"colorbar\":{\"outlinewidth\":0,\"ticks\":\"\"},\"type\":\"contourcarpet\"}],\"contour\":[{\"colorbar\":{\"outlinewidth\":0,\"ticks\":\"\"},\"colorscale\":[[0.0,\"#0d0887\"],[0.1111111111111111,\"#46039f\"],[0.2222222222222222,\"#7201a8\"],[0.3333333333333333,\"#9c179e\"],[0.4444444444444444,\"#bd3786\"],[0.5555555555555556,\"#d8576b\"],[0.6666666666666666,\"#ed7953\"],[0.7777777777777778,\"#fb9f3a\"],[0.8888888888888888,\"#fdca26\"],[1.0,\"#f0f921\"]],\"type\":\"contour\"}],\"heatmapgl\":[{\"colorbar\":{\"outlinewidth\":0,\"ticks\":\"\"},\"colorscale\":[[0.0,\"#0d0887\"],[0.1111111111111111,\"#46039f\"],[0.2222222222222222,\"#7201a8\"],[0.3333333333333333,\"#9c179e\"],[0.4444444444444444,\"#bd3786\"],[0.5555555555555556,\"#d8576b\"],[0.6666666666666666,\"#ed7953\"],[0.7777777777777778,\"#fb9f3a\"],[0.8888888888888888,\"#fdca26\"],[1.0,\"#f0f921\"]],\"type\":\"heatmapgl\"}],\"heatmap\":[{\"colorbar\":{\"outlinewidth\":0,\"ticks\":\"\"},\"colorscale\":[[0.0,\"#0d0887\"],[0.1111111111111111,\"#46039f\"],[0.2222222222222222,\"#7201a8\"],[0.3333333333333333,\"#9c179e\"],[0.4444444444444444,\"#bd3786\"],[0.5555555555555556,\"#d8576b\"],[0.6666666666666666,\"#ed7953\"],[0.7777777777777778,\"#fb9f3a\"],[0.8888888888888888,\"#fdca26\"],[1.0,\"#f0f921\"]],\"type\":\"heatmap\"}],\"histogram2dcontour\":[{\"colorbar\":{\"outlinewidth\":0,\"ticks\":\"\"},\"colorscale\":[[0.0,\"#0d0887\"],[0.1111111111111111,\"#46039f\"],[0.2222222222222222,\"#7201a8\"],[0.3333333333333333,\"#9c179e\"],[0.4444444444444444,\"#bd3786\"],[0.5555555555555556,\"#d8576b\"],[0.6666666666666666,\"#ed7953\"],[0.7777777777777778,\"#fb9f3a\"],[0.8888888888888888,\"#fdca26\"],[1.0,\"#f0f921\"]],\"type\":\"histogram2dcontour\"}],\"histogram2d\":[{\"colorbar\":{\"outlinewidth\":0,\"ticks\":\"\"},\"colorscale\":[[0.0,\"#0d0887\"],[0.1111111111111111,\"#46039f\"],[0.2222222222222222,\"#7201a8\"],[0.3333333333333333,\"#9c179e\"],[0.4444444444444444,\"#bd3786\"],[0.5555555555555556,\"#d8576b\"],[0.6666666666666666,\"#ed7953\"],[0.7777777777777778,\"#fb9f3a\"],[0.8888888888888888,\"#fdca26\"],[1.0,\"#f0f921\"]],\"type\":\"histogram2d\"}],\"histogram\":[{\"marker\":{\"pattern\":{\"fillmode\":\"overlay\",\"size\":10,\"solidity\":0.2}},\"type\":\"histogram\"}],\"mesh3d\":[{\"colorbar\":{\"outlinewidth\":0,\"ticks\":\"\"},\"type\":\"mesh3d\"}],\"parcoords\":[{\"line\":{\"colorbar\":{\"outlinewidth\":0,\"ticks\":\"\"}},\"type\":\"parcoords\"}],\"pie\":[{\"automargin\":true,\"type\":\"pie\"}],\"scatter3d\":[{\"line\":{\"colorbar\":{\"outlinewidth\":0,\"ticks\":\"\"}},\"marker\":{\"colorbar\":{\"outlinewidth\":0,\"ticks\":\"\"}},\"type\":\"scatter3d\"}],\"scattercarpet\":[{\"marker\":{\"colorbar\":{\"outlinewidth\":0,\"ticks\":\"\"}},\"type\":\"scattercarpet\"}],\"scattergeo\":[{\"marker\":{\"colorbar\":{\"outlinewidth\":0,\"ticks\":\"\"}},\"type\":\"scattergeo\"}],\"scattergl\":[{\"marker\":{\"colorbar\":{\"outlinewidth\":0,\"ticks\":\"\"}},\"type\":\"scattergl\"}],\"scattermapbox\":[{\"marker\":{\"colorbar\":{\"outlinewidth\":0,\"ticks\":\"\"}},\"type\":\"scattermapbox\"}],\"scatterpolargl\":[{\"marker\":{\"colorbar\":{\"outlinewidth\":0,\"ticks\":\"\"}},\"type\":\"scatterpolargl\"}],\"scatterpolar\":[{\"marker\":{\"colorbar\":{\"outlinewidth\":0,\"ticks\":\"\"}},\"type\":\"scatterpolar\"}],\"scatter\":[{\"fillpattern\":{\"fillmode\":\"overlay\",\"size\":10,\"solidity\":0.2},\"type\":\"scatter\"}],\"scatterternary\":[{\"marker\":{\"colorbar\":{\"outlinewidth\":0,\"ticks\":\"\"}},\"type\":\"scatterternary\"}],\"surface\":[{\"colorbar\":{\"outlinewidth\":0,\"ticks\":\"\"},\"colorscale\":[[0.0,\"#0d0887\"],[0.1111111111111111,\"#46039f\"],[0.2222222222222222,\"#7201a8\"],[0.3333333333333333,\"#9c179e\"],[0.4444444444444444,\"#bd3786\"],[0.5555555555555556,\"#d8576b\"],[0.6666666666666666,\"#ed7953\"],[0.7777777777777778,\"#fb9f3a\"],[0.8888888888888888,\"#fdca26\"],[1.0,\"#f0f921\"]],\"type\":\"surface\"}],\"table\":[{\"cells\":{\"fill\":{\"color\":\"#EBF0F8\"},\"line\":{\"color\":\"white\"}},\"header\":{\"fill\":{\"color\":\"#C8D4E3\"},\"line\":{\"color\":\"white\"}},\"type\":\"table\"}]},\"layout\":{\"annotationdefaults\":{\"arrowcolor\":\"#2a3f5f\",\"arrowhead\":0,\"arrowwidth\":1},\"autotypenumbers\":\"strict\",\"coloraxis\":{\"colorbar\":{\"outlinewidth\":0,\"ticks\":\"\"}},\"colorscale\":{\"diverging\":[[0,\"#8e0152\"],[0.1,\"#c51b7d\"],[0.2,\"#de77ae\"],[0.3,\"#f1b6da\"],[0.4,\"#fde0ef\"],[0.5,\"#f7f7f7\"],[0.6,\"#e6f5d0\"],[0.7,\"#b8e186\"],[0.8,\"#7fbc41\"],[0.9,\"#4d9221\"],[1,\"#276419\"]],\"sequential\":[[0.0,\"#0d0887\"],[0.1111111111111111,\"#46039f\"],[0.2222222222222222,\"#7201a8\"],[0.3333333333333333,\"#9c179e\"],[0.4444444444444444,\"#bd3786\"],[0.5555555555555556,\"#d8576b\"],[0.6666666666666666,\"#ed7953\"],[0.7777777777777778,\"#fb9f3a\"],[0.8888888888888888,\"#fdca26\"],[1.0,\"#f0f921\"]],\"sequentialminus\":[[0.0,\"#0d0887\"],[0.1111111111111111,\"#46039f\"],[0.2222222222222222,\"#7201a8\"],[0.3333333333333333,\"#9c179e\"],[0.4444444444444444,\"#bd3786\"],[0.5555555555555556,\"#d8576b\"],[0.6666666666666666,\"#ed7953\"],[0.7777777777777778,\"#fb9f3a\"],[0.8888888888888888,\"#fdca26\"],[1.0,\"#f0f921\"]]},\"colorway\":[\"#636efa\",\"#EF553B\",\"#00cc96\",\"#ab63fa\",\"#FFA15A\",\"#19d3f3\",\"#FF6692\",\"#B6E880\",\"#FF97FF\",\"#FECB52\"],\"font\":{\"color\":\"#2a3f5f\"},\"geo\":{\"bgcolor\":\"white\",\"lakecolor\":\"white\",\"landcolor\":\"#E5ECF6\",\"showlakes\":true,\"showland\":true,\"subunitcolor\":\"white\"},\"hoverlabel\":{\"align\":\"left\"},\"hovermode\":\"closest\",\"mapbox\":{\"style\":\"light\"},\"paper_bgcolor\":\"white\",\"plot_bgcolor\":\"#E5ECF6\",\"polar\":{\"angularaxis\":{\"gridcolor\":\"white\",\"linecolor\":\"white\",\"ticks\":\"\"},\"bgcolor\":\"#E5ECF6\",\"radialaxis\":{\"gridcolor\":\"white\",\"linecolor\":\"white\",\"ticks\":\"\"}},\"scene\":{\"xaxis\":{\"backgroundcolor\":\"#E5ECF6\",\"gridcolor\":\"white\",\"gridwidth\":2,\"linecolor\":\"white\",\"showbackground\":true,\"ticks\":\"\",\"zerolinecolor\":\"white\"},\"yaxis\":{\"backgroundcolor\":\"#E5ECF6\",\"gridcolor\":\"white\",\"gridwidth\":2,\"linecolor\":\"white\",\"showbackground\":true,\"ticks\":\"\",\"zerolinecolor\":\"white\"},\"zaxis\":{\"backgroundcolor\":\"#E5ECF6\",\"gridcolor\":\"white\",\"gridwidth\":2,\"linecolor\":\"white\",\"showbackground\":true,\"ticks\":\"\",\"zerolinecolor\":\"white\"}},\"shapedefaults\":{\"line\":{\"color\":\"#2a3f5f\"}},\"ternary\":{\"aaxis\":{\"gridcolor\":\"white\",\"linecolor\":\"white\",\"ticks\":\"\"},\"baxis\":{\"gridcolor\":\"white\",\"linecolor\":\"white\",\"ticks\":\"\"},\"bgcolor\":\"#E5ECF6\",\"caxis\":{\"gridcolor\":\"white\",\"linecolor\":\"white\",\"ticks\":\"\"}},\"title\":{\"x\":0.05},\"xaxis\":{\"automargin\":true,\"gridcolor\":\"white\",\"linecolor\":\"white\",\"ticks\":\"\",\"title\":{\"standoff\":15},\"zerolinecolor\":\"white\",\"zerolinewidth\":2},\"yaxis\":{\"automargin\":true,\"gridcolor\":\"white\",\"linecolor\":\"white\",\"ticks\":\"\",\"title\":{\"standoff\":15},\"zerolinecolor\":\"white\",\"zerolinewidth\":2}}},\"title\":{\"text\":\"Segments\"},\"xaxis\":{\"title\":{\"text\":\"Recency\"}},\"yaxis\":{\"title\":{\"text\":\"Monetary\"}}},                        {\"responsive\": true}                    ).then(function(){\n",
              "                            \n",
              "var gd = document.getElementById('0762b663-0405-4aa7-bd59-55ee1c50be69');\n",
              "var x = new MutationObserver(function (mutations, observer) {{\n",
              "        var display = window.getComputedStyle(gd).display;\n",
              "        if (!display || display === 'none') {{\n",
              "            console.log([gd, 'removed!']);\n",
              "            Plotly.purge(gd);\n",
              "            observer.disconnect();\n",
              "        }}\n",
              "}});\n",
              "\n",
              "// Listen for the removal of the full notebook cells\n",
              "var notebookContainer = gd.closest('#notebook-container');\n",
              "if (notebookContainer) {{\n",
              "    x.observe(notebookContainer, {childList: true});\n",
              "}}\n",
              "\n",
              "// Listen for the clearing of the current output cell\n",
              "var outputEl = gd.closest('.output');\n",
              "if (outputEl) {{\n",
              "    x.observe(outputEl, {childList: true});\n",
              "}}\n",
              "\n",
              "                        })                };                            </script>        </div>\n",
              "</body>\n",
              "</html>"
            ]
          },
          "metadata": {}
        }
      ]
    },
    {
      "cell_type": "code",
      "source": [
        "# K-Means Clustering"
      ],
      "metadata": {
        "id": "z2sz2fYywb0g"
      },
      "execution_count": 63,
      "outputs": []
    },
    {
      "cell_type": "code",
      "source": [
        "len(RFMScores[RFMScores.Recency == 0])"
      ],
      "metadata": {
        "id": "0u0cl0gEwbtA",
        "colab": {
          "base_uri": "https://localhost:8080/"
        },
        "outputId": "bfa2cd69-01f7-4e32-e709-18fdcda65866"
      },
      "execution_count": 64,
      "outputs": [
        {
          "output_type": "execute_result",
          "data": {
            "text/plain": [
              "28"
            ]
          },
          "metadata": {},
          "execution_count": 64
        }
      ]
    },
    {
      "cell_type": "code",
      "source": [
        "len(RFMScores[RFMScores.Frequency == 0])"
      ],
      "metadata": {
        "colab": {
          "base_uri": "https://localhost:8080/"
        },
        "id": "lwrFhL91H6nf",
        "outputId": "0309e505-db7b-4bdd-ce53-00a7d6860b54"
      },
      "execution_count": 65,
      "outputs": [
        {
          "output_type": "execute_result",
          "data": {
            "text/plain": [
              "0"
            ]
          },
          "metadata": {},
          "execution_count": 65
        }
      ]
    },
    {
      "cell_type": "code",
      "source": [
        "len(RFMScores[RFMScores.Monetary == 0])"
      ],
      "metadata": {
        "colab": {
          "base_uri": "https://localhost:8080/"
        },
        "id": "vQB-F6fhH_px",
        "outputId": "90337a65-f6d4-47ad-8b47-3c5d305f241a"
      },
      "execution_count": 66,
      "outputs": [
        {
          "output_type": "execute_result",
          "data": {
            "text/plain": [
              "1"
            ]
          },
          "metadata": {},
          "execution_count": 66
        }
      ]
    },
    {
      "cell_type": "code",
      "source": [
        "bronze = RFMScores[RFMScores.RFM_Loyalty_Level == 'Bronze']\n",
        "bronze.RFMScore.unique()"
      ],
      "metadata": {
        "id": "EZBTFS5wwblc",
        "colab": {
          "base_uri": "https://localhost:8080/"
        },
        "outputId": "e904a4f7-012d-4bef-a0ae-42fa7d644f12"
      },
      "execution_count": 67,
      "outputs": [
        {
          "output_type": "execute_result",
          "data": {
            "text/plain": [
              "array([12, 11])"
            ]
          },
          "metadata": {},
          "execution_count": 67
        }
      ]
    },
    {
      "cell_type": "code",
      "source": [
        "silver = RFMScores[RFMScores.RFM_Loyalty_Level == 'Silver']\n",
        "silver.RFMScore.unique()"
      ],
      "metadata": {
        "colab": {
          "base_uri": "https://localhost:8080/"
        },
        "id": "CebG4lvsHLrq",
        "outputId": "f29dade2-9b05-4d68-eddc-939f38ff3e68"
      },
      "execution_count": 68,
      "outputs": [
        {
          "output_type": "execute_result",
          "data": {
            "text/plain": [
              "array([ 9, 10])"
            ]
          },
          "metadata": {},
          "execution_count": 68
        }
      ]
    },
    {
      "cell_type": "code",
      "source": [
        "# handle negative and zero values so as to handle infinite numbers during log transformations\n",
        "\n",
        "def handle_neg_n_zero(num):\n",
        "    if num <= 0:\n",
        "        return 1\n",
        "    else:\n",
        "        return num"
      ],
      "metadata": {
        "id": "BEFNfCWAHLln"
      },
      "execution_count": 69,
      "outputs": []
    },
    {
      "cell_type": "code",
      "source": [
        "# Apply handle_neg_n_zero function to Recency and Monetary columns\n",
        "\n",
        "RFMScores['Recency'] = [handle_neg_n_zero(x) for x in RFMScores.Recency]\n",
        "RFMScores['Monetary'] = [handle_neg_n_zero(x) for x in RFMScores.Monetary]"
      ],
      "metadata": {
        "id": "kxWZMxvBHLjH"
      },
      "execution_count": 70,
      "outputs": []
    },
    {
      "cell_type": "code",
      "source": [
        "# perform log transformation to bring data into normal or near normal distribution\n",
        "\n",
        "log_data = RFMScores[['Recency', 'Frequency', 'Monetary']].apply(np.log, axis = 1).round(3)"
      ],
      "metadata": {
        "id": "xfwh9hOfHLf2"
      },
      "execution_count": 71,
      "outputs": []
    },
    {
      "cell_type": "code",
      "source": [
        "log_data.reset_index().head()"
      ],
      "metadata": {
        "colab": {
          "base_uri": "https://localhost:8080/",
          "height": 206
        },
        "id": "3ugS7OwBHLcH",
        "outputId": "8edb9c26-f876-4aea-c991-470eb12710c0"
      },
      "execution_count": 72,
      "outputs": [
        {
          "output_type": "execute_result",
          "data": {
            "text/plain": [
              "   CustomerID  Recency  Frequency  Monetary\n",
              "0     12346.0    5.784      0.000    11.254\n",
              "1     12747.0    0.693      4.635     8.342\n",
              "2     12748.0    0.000      8.433    10.426\n",
              "3     12749.0    1.099      5.293     8.317\n",
              "4     12820.0    1.099      4.078     6.848"
            ],
            "text/html": [
              "\n",
              "  <div id=\"df-79f9365d-c04c-49f9-8b8f-11f26e69ea8a\">\n",
              "    <div class=\"colab-df-container\">\n",
              "      <div>\n",
              "<style scoped>\n",
              "    .dataframe tbody tr th:only-of-type {\n",
              "        vertical-align: middle;\n",
              "    }\n",
              "\n",
              "    .dataframe tbody tr th {\n",
              "        vertical-align: top;\n",
              "    }\n",
              "\n",
              "    .dataframe thead th {\n",
              "        text-align: right;\n",
              "    }\n",
              "</style>\n",
              "<table border=\"1\" class=\"dataframe\">\n",
              "  <thead>\n",
              "    <tr style=\"text-align: right;\">\n",
              "      <th></th>\n",
              "      <th>CustomerID</th>\n",
              "      <th>Recency</th>\n",
              "      <th>Frequency</th>\n",
              "      <th>Monetary</th>\n",
              "    </tr>\n",
              "  </thead>\n",
              "  <tbody>\n",
              "    <tr>\n",
              "      <th>0</th>\n",
              "      <td>12346.0</td>\n",
              "      <td>5.784</td>\n",
              "      <td>0.000</td>\n",
              "      <td>11.254</td>\n",
              "    </tr>\n",
              "    <tr>\n",
              "      <th>1</th>\n",
              "      <td>12747.0</td>\n",
              "      <td>0.693</td>\n",
              "      <td>4.635</td>\n",
              "      <td>8.342</td>\n",
              "    </tr>\n",
              "    <tr>\n",
              "      <th>2</th>\n",
              "      <td>12748.0</td>\n",
              "      <td>0.000</td>\n",
              "      <td>8.433</td>\n",
              "      <td>10.426</td>\n",
              "    </tr>\n",
              "    <tr>\n",
              "      <th>3</th>\n",
              "      <td>12749.0</td>\n",
              "      <td>1.099</td>\n",
              "      <td>5.293</td>\n",
              "      <td>8.317</td>\n",
              "    </tr>\n",
              "    <tr>\n",
              "      <th>4</th>\n",
              "      <td>12820.0</td>\n",
              "      <td>1.099</td>\n",
              "      <td>4.078</td>\n",
              "      <td>6.848</td>\n",
              "    </tr>\n",
              "  </tbody>\n",
              "</table>\n",
              "</div>\n",
              "      <button class=\"colab-df-convert\" onclick=\"convertToInteractive('df-79f9365d-c04c-49f9-8b8f-11f26e69ea8a')\"\n",
              "              title=\"Convert this dataframe to an interactive table.\"\n",
              "              style=\"display:none;\">\n",
              "        \n",
              "  <svg xmlns=\"http://www.w3.org/2000/svg\" height=\"24px\"viewBox=\"0 0 24 24\"\n",
              "       width=\"24px\">\n",
              "    <path d=\"M0 0h24v24H0V0z\" fill=\"none\"/>\n",
              "    <path d=\"M18.56 5.44l.94 2.06.94-2.06 2.06-.94-2.06-.94-.94-2.06-.94 2.06-2.06.94zm-11 1L8.5 8.5l.94-2.06 2.06-.94-2.06-.94L8.5 2.5l-.94 2.06-2.06.94zm10 10l.94 2.06.94-2.06 2.06-.94-2.06-.94-.94-2.06-.94 2.06-2.06.94z\"/><path d=\"M17.41 7.96l-1.37-1.37c-.4-.4-.92-.59-1.43-.59-.52 0-1.04.2-1.43.59L10.3 9.45l-7.72 7.72c-.78.78-.78 2.05 0 2.83L4 21.41c.39.39.9.59 1.41.59.51 0 1.02-.2 1.41-.59l7.78-7.78 2.81-2.81c.8-.78.8-2.07 0-2.86zM5.41 20L4 18.59l7.72-7.72 1.47 1.35L5.41 20z\"/>\n",
              "  </svg>\n",
              "      </button>\n",
              "      \n",
              "  <style>\n",
              "    .colab-df-container {\n",
              "      display:flex;\n",
              "      flex-wrap:wrap;\n",
              "      gap: 12px;\n",
              "    }\n",
              "\n",
              "    .colab-df-convert {\n",
              "      background-color: #E8F0FE;\n",
              "      border: none;\n",
              "      border-radius: 50%;\n",
              "      cursor: pointer;\n",
              "      display: none;\n",
              "      fill: #1967D2;\n",
              "      height: 32px;\n",
              "      padding: 0 0 0 0;\n",
              "      width: 32px;\n",
              "    }\n",
              "\n",
              "    .colab-df-convert:hover {\n",
              "      background-color: #E2EBFA;\n",
              "      box-shadow: 0px 1px 2px rgba(60, 64, 67, 0.3), 0px 1px 3px 1px rgba(60, 64, 67, 0.15);\n",
              "      fill: #174EA6;\n",
              "    }\n",
              "\n",
              "    [theme=dark] .colab-df-convert {\n",
              "      background-color: #3B4455;\n",
              "      fill: #D2E3FC;\n",
              "    }\n",
              "\n",
              "    [theme=dark] .colab-df-convert:hover {\n",
              "      background-color: #434B5C;\n",
              "      box-shadow: 0px 1px 3px 1px rgba(0, 0, 0, 0.15);\n",
              "      filter: drop-shadow(0px 1px 2px rgba(0, 0, 0, 0.3));\n",
              "      fill: #FFFFFF;\n",
              "    }\n",
              "  </style>\n",
              "\n",
              "      <script>\n",
              "        const buttonEl =\n",
              "          document.querySelector('#df-79f9365d-c04c-49f9-8b8f-11f26e69ea8a button.colab-df-convert');\n",
              "        buttonEl.style.display =\n",
              "          google.colab.kernel.accessAllowed ? 'block' : 'none';\n",
              "\n",
              "        async function convertToInteractive(key) {\n",
              "          const element = document.querySelector('#df-79f9365d-c04c-49f9-8b8f-11f26e69ea8a');\n",
              "          const dataTable =\n",
              "            await google.colab.kernel.invokeFunction('convertToInteractive',\n",
              "                                                     [key], {});\n",
              "          if (!dataTable) return;\n",
              "\n",
              "          const docLinkHtml = 'Like what you see? Visit the ' +\n",
              "            '<a target=\"_blank\" href=https://colab.research.google.com/notebooks/data_table.ipynb>data table notebook</a>'\n",
              "            + ' to learn more about interactive tables.';\n",
              "          element.innerHTML = '';\n",
              "          dataTable['output_type'] = 'display_data';\n",
              "          await google.colab.output.renderOutput(dataTable, element);\n",
              "          const docLink = document.createElement('div');\n",
              "          docLink.innerHTML = docLinkHtml;\n",
              "          element.appendChild(docLink);\n",
              "        }\n",
              "      </script>\n",
              "    </div>\n",
              "  </div>\n",
              "  "
            ]
          },
          "metadata": {},
          "execution_count": 72
        }
      ]
    },
    {
      "cell_type": "code",
      "source": [
        "# Data distribution after data normalization for Recency\n",
        "\n",
        "Recency_plot = log_data['Recency']\n",
        "sns.distplot(Recency_plot)"
      ],
      "metadata": {
        "colab": {
          "base_uri": "https://localhost:8080/",
          "height": 692
        },
        "id": "y153Mq-gHLYt",
        "outputId": "72ebfb1d-4b4f-4cc8-9fd2-dd2c2a7d432b"
      },
      "execution_count": 73,
      "outputs": [
        {
          "output_type": "stream",
          "name": "stderr",
          "text": [
            "<ipython-input-73-705b80033da6>:4: UserWarning:\n",
            "\n",
            "\n",
            "\n",
            "`distplot` is a deprecated function and will be removed in seaborn v0.14.0.\n",
            "\n",
            "Please adapt your code to use either `displot` (a figure-level function with\n",
            "similar flexibility) or `histplot` (an axes-level function for histograms).\n",
            "\n",
            "For a guide to updating your code to use the new functions, please see\n",
            "https://gist.github.com/mwaskom/de44147ed2974457ad6372750bbe5751\n",
            "\n",
            "\n"
          ]
        },
        {
          "output_type": "execute_result",
          "data": {
            "text/plain": [
              "<Axes: xlabel='Recency', ylabel='Density'>"
            ]
          },
          "metadata": {},
          "execution_count": 73
        },
        {
          "output_type": "display_data",
          "data": {
            "text/plain": [
              "<Figure size 640x480 with 1 Axes>"
            ],
            "image/png": "[encoded data removed]"
          },
          "metadata": {}
        }
      ]
    },
    {
      "cell_type": "code",
      "source": [
        "# Data Distribution after data normalization for Frequency\n",
        "\n",
        "Frequency_plot = log_data['Frequency']\n",
        "sns.distplot(Frequency_plot)"
      ],
      "metadata": {
        "colab": {
          "base_uri": "https://localhost:8080/",
          "height": 692
        },
        "id": "_rEwEJjUHLWN",
        "outputId": "873891e9-5380-4453-d6e4-1cb6413f4688"
      },
      "execution_count": 74,
      "outputs": [
        {
          "output_type": "stream",
          "name": "stderr",
          "text": [
            "<ipython-input-74-ac9841006ef0>:4: UserWarning:\n",
            "\n",
            "\n",
            "\n",
            "`distplot` is a deprecated function and will be removed in seaborn v0.14.0.\n",
            "\n",
            "Please adapt your code to use either `displot` (a figure-level function with\n",
            "similar flexibility) or `histplot` (an axes-level function for histograms).\n",
            "\n",
            "For a guide to updating your code to use the new functions, please see\n",
            "https://gist.github.com/mwaskom/de44147ed2974457ad6372750bbe5751\n",
            "\n",
            "\n"
          ]
        },
        {
          "output_type": "execute_result",
          "data": {
            "text/plain": [
              "<Axes: xlabel='Frequency', ylabel='Density'>"
            ]
          },
          "metadata": {},
          "execution_count": 74
        },
        {
          "output_type": "display_data",
          "data": {
            "text/plain": [
              "<Figure size 640x480 with 1 Axes>"
            ],
            "image/png": "[encoded data removed]"
          },
          "metadata": {}
        }
      ]
    },
    {
      "cell_type": "code",
      "source": [
        "# Data Distribution after data normalization for Monetary\n",
        "\n",
        "Monetary_plot = log_data['Monetary']\n",
        "sns.distplot(Monetary_plot)"
      ],
      "metadata": {
        "colab": {
          "base_uri": "https://localhost:8080/",
          "height": 692
        },
        "id": "wm1olRfxHLRr",
        "outputId": "e41eac30-3fb8-4923-fd1b-3e22c3c88d96"
      },
      "execution_count": 75,
      "outputs": [
        {
          "output_type": "stream",
          "name": "stderr",
          "text": [
            "<ipython-input-75-05fd949b9031>:4: UserWarning:\n",
            "\n",
            "\n",
            "\n",
            "`distplot` is a deprecated function and will be removed in seaborn v0.14.0.\n",
            "\n",
            "Please adapt your code to use either `displot` (a figure-level function with\n",
            "similar flexibility) or `histplot` (an axes-level function for histograms).\n",
            "\n",
            "For a guide to updating your code to use the new functions, please see\n",
            "https://gist.github.com/mwaskom/de44147ed2974457ad6372750bbe5751\n",
            "\n",
            "\n"
          ]
        },
        {
          "output_type": "execute_result",
          "data": {
            "text/plain": [
              "<Axes: xlabel='Monetary', ylabel='Density'>"
            ]
          },
          "metadata": {},
          "execution_count": 75
        },
        {
          "output_type": "display_data",
          "data": {
            "text/plain": [
              "<Figure size 640x480 with 1 Axes>"
            ],
            "image/png": "[encoded data removed]"
          },
          "metadata": {}
        }
      ]
    },
    {
      "cell_type": "code",
      "source": [
        "from sklearn.preprocessing import StandardScaler\n",
        "\n",
        "# Bring the data on same scale\n",
        "\n",
        "sc = StandardScaler()\n",
        "scaled_data = sc.fit_transform(log_data)"
      ],
      "metadata": {
        "id": "UH0VqOjnHLNt"
      },
      "execution_count": 76,
      "outputs": []
    },
    {
      "cell_type": "code",
      "source": [
        "# transform it back to dataframe\n",
        "\n",
        "scaled_data = pd.DataFrame(scaled_data, index = RFMScores.index, columns= log_data.columns)"
      ],
      "metadata": {
        "id": "iD5SajPdHLKa"
      },
      "execution_count": 77,
      "outputs": []
    },
    {
      "cell_type": "code",
      "source": [
        "scaled_data.head()"
      ],
      "metadata": {
        "colab": {
          "base_uri": "https://localhost:8080/",
          "height": 237
        },
        "id": "K2BBdXCSHLGv",
        "outputId": "19ae4597-6301-42e6-f82c-66b5ca02e6bf"
      },
      "execution_count": 78,
      "outputs": [
        {
          "output_type": "execute_result",
          "data": {
            "text/plain": [
              "             Recency  Frequency  Monetary\n",
              "CustomerID                               \n",
              "12346.0     1.389971  -2.733639  3.766415\n",
              "12747.0    -2.061189   0.726978  1.439009\n",
              "12748.0    -2.530970   3.562667  3.104639\n",
              "12749.0    -1.785964   1.218258  1.419028\n",
              "12820.0    -1.785964   0.311106  0.244935"
            ],
            "text/html": [
              "\n",
              "  <div id=\"df-571a4918-8c81-4f9e-a65f-22ca64a985df\">\n",
              "    <div class=\"colab-df-container\">\n",
              "      <div>\n",
              "<style scoped>\n",
              "    .dataframe tbody tr th:only-of-type {\n",
              "        vertical-align: middle;\n",
              "    }\n",
              "\n",
              "    .dataframe tbody tr th {\n",
              "        vertical-align: top;\n",
              "    }\n",
              "\n",
              "    .dataframe thead th {\n",
              "        text-align: right;\n",
              "    }\n",
              "</style>\n",
              "<table border=\"1\" class=\"dataframe\">\n",
              "  <thead>\n",
              "    <tr style=\"text-align: right;\">\n",
              "      <th></th>\n",
              "      <th>Recency</th>\n",
              "      <th>Frequency</th>\n",
              "      <th>Monetary</th>\n",
              "    </tr>\n",
              "    <tr>\n",
              "      <th>CustomerID</th>\n",
              "      <th></th>\n",
              "      <th></th>\n",
              "      <th></th>\n",
              "    </tr>\n",
              "  </thead>\n",
              "  <tbody>\n",
              "    <tr>\n",
              "      <th>12346.0</th>\n",
              "      <td>1.389971</td>\n",
              "      <td>-2.733639</td>\n",
              "      <td>3.766415</td>\n",
              "    </tr>\n",
              "    <tr>\n",
              "      <th>12747.0</th>\n",
              "      <td>-2.061189</td>\n",
              "      <td>0.726978</td>\n",
              "      <td>1.439009</td>\n",
              "    </tr>\n",
              "    <tr>\n",
              "      <th>12748.0</th>\n",
              "      <td>-2.530970</td>\n",
              "      <td>3.562667</td>\n",
              "      <td>3.104639</td>\n",
              "    </tr>\n",
              "    <tr>\n",
              "      <th>12749.0</th>\n",
              "      <td>-1.785964</td>\n",
              "      <td>1.218258</td>\n",
              "      <td>1.419028</td>\n",
              "    </tr>\n",
              "    <tr>\n",
              "      <th>12820.0</th>\n",
              "      <td>-1.785964</td>\n",
              "      <td>0.311106</td>\n",
              "      <td>0.244935</td>\n",
              "    </tr>\n",
              "  </tbody>\n",
              "</table>\n",
              "</div>\n",
              "      <button class=\"colab-df-convert\" onclick=\"convertToInteractive('df-571a4918-8c81-4f9e-a65f-22ca64a985df')\"\n",
              "              title=\"Convert this dataframe to an interactive table.\"\n",
              "              style=\"display:none;\">\n",
              "        \n",
              "  <svg xmlns=\"http://www.w3.org/2000/svg\" height=\"24px\"viewBox=\"0 0 24 24\"\n",
              "       width=\"24px\">\n",
              "    <path d=\"M0 0h24v24H0V0z\" fill=\"none\"/>\n",
              "    <path d=\"M18.56 5.44l.94 2.06.94-2.06 2.06-.94-2.06-.94-.94-2.06-.94 2.06-2.06.94zm-11 1L8.5 8.5l.94-2.06 2.06-.94-2.06-.94L8.5 2.5l-.94 2.06-2.06.94zm10 10l.94 2.06.94-2.06 2.06-.94-2.06-.94-.94-2.06-.94 2.06-2.06.94z\"/><path d=\"M17.41 7.96l-1.37-1.37c-.4-.4-.92-.59-1.43-.59-.52 0-1.04.2-1.43.59L10.3 9.45l-7.72 7.72c-.78.78-.78 2.05 0 2.83L4 21.41c.39.39.9.59 1.41.59.51 0 1.02-.2 1.41-.59l7.78-7.78 2.81-2.81c.8-.78.8-2.07 0-2.86zM5.41 20L4 18.59l7.72-7.72 1.47 1.35L5.41 20z\"/>\n",
              "  </svg>\n",
              "      </button>\n",
              "      \n",
              "  <style>\n",
              "    .colab-df-container {\n",
              "      display:flex;\n",
              "      flex-wrap:wrap;\n",
              "      gap: 12px;\n",
              "    }\n",
              "\n",
              "    .colab-df-convert {\n",
              "      background-color: #E8F0FE;\n",
              "      border: none;\n",
              "      border-radius: 50%;\n",
              "      cursor: pointer;\n",
              "      display: none;\n",
              "      fill: #1967D2;\n",
              "      height: 32px;\n",
              "      padding: 0 0 0 0;\n",
              "      width: 32px;\n",
              "    }\n",
              "\n",
              "    .colab-df-convert:hover {\n",
              "      background-color: #E2EBFA;\n",
              "      box-shadow: 0px 1px 2px rgba(60, 64, 67, 0.3), 0px 1px 3px 1px rgba(60, 64, 67, 0.15);\n",
              "      fill: #174EA6;\n",
              "    }\n",
              "\n",
              "    [theme=dark] .colab-df-convert {\n",
              "      background-color: #3B4455;\n",
              "      fill: #D2E3FC;\n",
              "    }\n",
              "\n",
              "    [theme=dark] .colab-df-convert:hover {\n",
              "      background-color: #434B5C;\n",
              "      box-shadow: 0px 1px 3px 1px rgba(0, 0, 0, 0.15);\n",
              "      filter: drop-shadow(0px 1px 2px rgba(0, 0, 0, 0.3));\n",
              "      fill: #FFFFFF;\n",
              "    }\n",
              "  </style>\n",
              "\n",
              "      <script>\n",
              "        const buttonEl =\n",
              "          document.querySelector('#df-571a4918-8c81-4f9e-a65f-22ca64a985df button.colab-df-convert');\n",
              "        buttonEl.style.display =\n",
              "          google.colab.kernel.accessAllowed ? 'block' : 'none';\n",
              "\n",
              "        async function convertToInteractive(key) {\n",
              "          const element = document.querySelector('#df-571a4918-8c81-4f9e-a65f-22ca64a985df');\n",
              "          const dataTable =\n",
              "            await google.colab.kernel.invokeFunction('convertToInteractive',\n",
              "                                                     [key], {});\n",
              "          if (!dataTable) return;\n",
              "\n",
              "          const docLinkHtml = 'Like what you see? Visit the ' +\n",
              "            '<a target=\"_blank\" href=https://colab.research.google.com/notebooks/data_table.ipynb>data table notebook</a>'\n",
              "            + ' to learn more about interactive tables.';\n",
              "          element.innerHTML = '';\n",
              "          dataTable['output_type'] = 'display_data';\n",
              "          await google.colab.output.renderOutput(dataTable, element);\n",
              "          const docLink = document.createElement('div');\n",
              "          docLink.innerHTML = docLinkHtml;\n",
              "          element.appendChild(docLink);\n",
              "        }\n",
              "      </script>\n",
              "    </div>\n",
              "  </div>\n",
              "  "
            ]
          },
          "metadata": {},
          "execution_count": 78
        }
      ]
    },
    {
      "cell_type": "code",
      "source": [
        "from sklearn.cluster import KMeans\n",
        "\n",
        "sum_of_sq_dist = {}\n",
        "for k in range(1,10):\n",
        "  km = KMeans(n_clusters= k, init = 'k-means++', max_iter=100)\n",
        "  km = km.fit(scaled_data)\n",
        "  sum_of_sq_dist[k] = km.inertia_\n",
        "\n",
        "# plot the graph for the sum of square distance values and number of clusters\n",
        "sns.pointplot(x= list(sum_of_sq_dist.keys()), y = list(sum_of_sq_dist.values()))\n",
        "plt.xlabel('Number of Clusters(k)')\n",
        "plt.ylabel('sum of square distances')\n",
        "plt.title('Elbow method for optimal k')\n",
        "plt.show()"
      ],
      "metadata": {
        "id": "PFqUT3XAHLDd",
        "colab": {
          "base_uri": "https://localhost:8080/",
          "height": 1000
        },
        "outputId": "1d3c1860-2b54-4671-ddcc-cc585dc109b1"
      },
      "execution_count": 80,
      "outputs": [
        {
          "output_type": "stream",
          "name": "stderr",
          "text": [
            "/usr/local/lib/python3.10/dist-packages/sklearn/cluster/_kmeans.py:870: FutureWarning:\n",
            "\n",
            "The default value of `n_init` will change from 10 to 'auto' in 1.4. Set the value of `n_init` explicitly to suppress the warning\n",
            "\n",
            "/usr/local/lib/python3.10/dist-packages/sklearn/cluster/_kmeans.py:870: FutureWarning:\n",
            "\n",
            "The default value of `n_init` will change from 10 to 'auto' in 1.4. Set the value of `n_init` explicitly to suppress the warning\n",
            "\n",
            "/usr/local/lib/python3.10/dist-packages/sklearn/cluster/_kmeans.py:870: FutureWarning:\n",
            "\n",
            "The default value of `n_init` will change from 10 to 'auto' in 1.4. Set the value of `n_init` explicitly to suppress the warning\n",
            "\n",
            "/usr/local/lib/python3.10/dist-packages/sklearn/cluster/_kmeans.py:870: FutureWarning:\n",
            "\n",
            "The default value of `n_init` will change from 10 to 'auto' in 1.4. Set the value of `n_init` explicitly to suppress the warning\n",
            "\n",
            "/usr/local/lib/python3.10/dist-packages/sklearn/cluster/_kmeans.py:870: FutureWarning:\n",
            "\n",
            "The default value of `n_init` will change from 10 to 'auto' in 1.4. Set the value of `n_init` explicitly to suppress the warning\n",
            "\n",
            "/usr/local/lib/python3.10/dist-packages/sklearn/cluster/_kmeans.py:870: FutureWarning:\n",
            "\n",
            "The default value of `n_init` will change from 10 to 'auto' in 1.4. Set the value of `n_init` explicitly to suppress the warning\n",
            "\n",
            "/usr/local/lib/python3.10/dist-packages/sklearn/cluster/_kmeans.py:870: FutureWarning:\n",
            "\n",
            "The default value of `n_init` will change from 10 to 'auto' in 1.4. Set the value of `n_init` explicitly to suppress the warning\n",
            "\n",
            "/usr/local/lib/python3.10/dist-packages/sklearn/cluster/_kmeans.py:870: FutureWarning:\n",
            "\n",
            "The default value of `n_init` will change from 10 to 'auto' in 1.4. Set the value of `n_init` explicitly to suppress the warning\n",
            "\n",
            "/usr/local/lib/python3.10/dist-packages/sklearn/cluster/_kmeans.py:870: FutureWarning:\n",
            "\n",
            "The default value of `n_init` will change from 10 to 'auto' in 1.4. Set the value of `n_init` explicitly to suppress the warning\n",
            "\n"
          ]
        },
        {
          "output_type": "display_data",
          "data": {
            "text/plain": [
              "<Figure size 640x480 with 1 Axes>"
            ],
            "image/png": "[encoded data removed]"
          },
          "metadata": {}
        }
      ]
    },
    {
      "cell_type": "code",
      "source": [
        "# perform k-mean clustering or build the k-means clustering model\n",
        "\n",
        "kmean_clust = KMeans(n_clusters = 3, init = 'k-means++', max_iter= 100)\n",
        "kmean_clust.fit(scaled_data)\n",
        "\n",
        "# find the clusters for the observation given in the dataset\n",
        "RFMScores['Cluster'] = kmean_clust.labels_\n",
        "RFMScores.head()"
      ],
      "metadata": {
        "id": "ssZ7G6hylq1T",
        "colab": {
          "base_uri": "https://localhost:8080/",
          "height": 307
        },
        "outputId": "a153ee41-de69-4e66-d4a3-4dedafeb205b"
      },
      "execution_count": 81,
      "outputs": [
        {
          "output_type": "stream",
          "name": "stderr",
          "text": [
            "/usr/local/lib/python3.10/dist-packages/sklearn/cluster/_kmeans.py:870: FutureWarning:\n",
            "\n",
            "The default value of `n_init` will change from 10 to 'auto' in 1.4. Set the value of `n_init` explicitly to suppress the warning\n",
            "\n"
          ]
        },
        {
          "output_type": "execute_result",
          "data": {
            "text/plain": [
              "            Recency  Frequency  Monetary  R  F  M RFMGroup  RFMScore  \\\n",
              "CustomerID                                                             \n",
              "12346.0         325          1  77183.60  4  4  1      441         9   \n",
              "12747.0           2        103   4196.01  1  1  1      111         3   \n",
              "12748.0           1       4596  33719.73  1  1  1      111         3   \n",
              "12749.0           3        199   4090.88  1  1  1      111         3   \n",
              "12820.0           3         59    942.34  1  2  2      122         5   \n",
              "\n",
              "           RFM_Loyalty_Level  Cluster  \n",
              "CustomerID                             \n",
              "12346.0               Silver        2  \n",
              "12747.0             Platinum        1  \n",
              "12748.0             Platinum        1  \n",
              "12749.0             Platinum        1  \n",
              "12820.0             Platinum        1  "
            ],
            "text/html": [
              "\n",
              "  <div id=\"df-654fc76e-43f8-4086-afe1-ee49f7a271a2\">\n",
              "    <div class=\"colab-df-container\">\n",
              "      <div>\n",
              "<style scoped>\n",
              "    .dataframe tbody tr th:only-of-type {\n",
              "        vertical-align: middle;\n",
              "    }\n",
              "\n",
              "    .dataframe tbody tr th {\n",
              "        vertical-align: top;\n",
              "    }\n",
              "\n",
              "    .dataframe thead th {\n",
              "        text-align: right;\n",
              "    }\n",
              "</style>\n",
              "<table border=\"1\" class=\"dataframe\">\n",
              "  <thead>\n",
              "    <tr style=\"text-align: right;\">\n",
              "      <th></th>\n",
              "      <th>Recency</th>\n",
              "      <th>Frequency</th>\n",
              "      <th>Monetary</th>\n",
              "      <th>R</th>\n",
              "      <th>F</th>\n",
              "      <th>M</th>\n",
              "      <th>RFMGroup</th>\n",
              "      <th>RFMScore</th>\n",
              "      <th>RFM_Loyalty_Level</th>\n",
              "      <th>Cluster</th>\n",
              "    </tr>\n",
              "    <tr>\n",
              "      <th>CustomerID</th>\n",
              "      <th></th>\n",
              "      <th></th>\n",
              "      <th></th>\n",
              "      <th></th>\n",
              "      <th></th>\n",
              "      <th></th>\n",
              "      <th></th>\n",
              "      <th></th>\n",
              "      <th></th>\n",
              "      <th></th>\n",
              "    </tr>\n",
              "  </thead>\n",
              "  <tbody>\n",
              "    <tr>\n",
              "      <th>12346.0</th>\n",
              "      <td>325</td>\n",
              "      <td>1</td>\n",
              "      <td>77183.60</td>\n",
              "      <td>4</td>\n",
              "      <td>4</td>\n",
              "      <td>1</td>\n",
              "      <td>441</td>\n",
              "      <td>9</td>\n",
              "      <td>Silver</td>\n",
              "      <td>2</td>\n",
              "    </tr>\n",
              "    <tr>\n",
              "      <th>12747.0</th>\n",
              "      <td>2</td>\n",
              "      <td>103</td>\n",
              "      <td>4196.01</td>\n",
              "      <td>1</td>\n",
              "      <td>1</td>\n",
              "      <td>1</td>\n",
              "      <td>111</td>\n",
              "      <td>3</td>\n",
              "      <td>Platinum</td>\n",
              "      <td>1</td>\n",
              "    </tr>\n",
              "    <tr>\n",
              "      <th>12748.0</th>\n",
              "      <td>1</td>\n",
              "      <td>4596</td>\n",
              "      <td>33719.73</td>\n",
              "      <td>1</td>\n",
              "      <td>1</td>\n",
              "      <td>1</td>\n",
              "      <td>111</td>\n",
              "      <td>3</td>\n",
              "      <td>Platinum</td>\n",
              "      <td>1</td>\n",
              "    </tr>\n",
              "    <tr>\n",
              "      <th>12749.0</th>\n",
              "      <td>3</td>\n",
              "      <td>199</td>\n",
              "      <td>4090.88</td>\n",
              "      <td>1</td>\n",
              "      <td>1</td>\n",
              "      <td>1</td>\n",
              "      <td>111</td>\n",
              "      <td>3</td>\n",
              "      <td>Platinum</td>\n",
              "      <td>1</td>\n",
              "    </tr>\n",
              "    <tr>\n",
              "      <th>12820.0</th>\n",
              "      <td>3</td>\n",
              "      <td>59</td>\n",
              "      <td>942.34</td>\n",
              "      <td>1</td>\n",
              "      <td>2</td>\n",
              "      <td>2</td>\n",
              "      <td>122</td>\n",
              "      <td>5</td>\n",
              "      <td>Platinum</td>\n",
              "      <td>1</td>\n",
              "    </tr>\n",
              "  </tbody>\n",
              "</table>\n",
              "</div>\n",
              "      <button class=\"colab-df-convert\" onclick=\"convertToInteractive('df-654fc76e-43f8-4086-afe1-ee49f7a271a2')\"\n",
              "              title=\"Convert this dataframe to an interactive table.\"\n",
              "              style=\"display:none;\">\n",
              "        \n",
              "  <svg xmlns=\"http://www.w3.org/2000/svg\" height=\"24px\"viewBox=\"0 0 24 24\"\n",
              "       width=\"24px\">\n",
              "    <path d=\"M0 0h24v24H0V0z\" fill=\"none\"/>\n",
              "    <path d=\"M18.56 5.44l.94 2.06.94-2.06 2.06-.94-2.06-.94-.94-2.06-.94 2.06-2.06.94zm-11 1L8.5 8.5l.94-2.06 2.06-.94-2.06-.94L8.5 2.5l-.94 2.06-2.06.94zm10 10l.94 2.06.94-2.06 2.06-.94-2.06-.94-.94-2.06-.94 2.06-2.06.94z\"/><path d=\"M17.41 7.96l-1.37-1.37c-.4-.4-.92-.59-1.43-.59-.52 0-1.04.2-1.43.59L10.3 9.45l-7.72 7.72c-.78.78-.78 2.05 0 2.83L4 21.41c.39.39.9.59 1.41.59.51 0 1.02-.2 1.41-.59l7.78-7.78 2.81-2.81c.8-.78.8-2.07 0-2.86zM5.41 20L4 18.59l7.72-7.72 1.47 1.35L5.41 20z\"/>\n",
              "  </svg>\n",
              "      </button>\n",
              "      \n",
              "  <style>\n",
              "    .colab-df-container {\n",
              "      display:flex;\n",
              "      flex-wrap:wrap;\n",
              "      gap: 12px;\n",
              "    }\n",
              "\n",
              "    .colab-df-convert {\n",
              "      background-color: #E8F0FE;\n",
              "      border: none;\n",
              "      border-radius: 50%;\n",
              "      cursor: pointer;\n",
              "      display: none;\n",
              "      fill: #1967D2;\n",
              "      height: 32px;\n",
              "      padding: 0 0 0 0;\n",
              "      width: 32px;\n",
              "    }\n",
              "\n",
              "    .colab-df-convert:hover {\n",
              "      background-color: #E2EBFA;\n",
              "      box-shadow: 0px 1px 2px rgba(60, 64, 67, 0.3), 0px 1px 3px 1px rgba(60, 64, 67, 0.15);\n",
              "      fill: #174EA6;\n",
              "    }\n",
              "\n",
              "    [theme=dark] .colab-df-convert {\n",
              "      background-color: #3B4455;\n",
              "      fill: #D2E3FC;\n",
              "    }\n",
              "\n",
              "    [theme=dark] .colab-df-convert:hover {\n",
              "      background-color: #434B5C;\n",
              "      box-shadow: 0px 1px 3px 1px rgba(0, 0, 0, 0.15);\n",
              "      filter: drop-shadow(0px 1px 2px rgba(0, 0, 0, 0.3));\n",
              "      fill: #FFFFFF;\n",
              "    }\n",
              "  </style>\n",
              "\n",
              "      <script>\n",
              "        const buttonEl =\n",
              "          document.querySelector('#df-654fc76e-43f8-4086-afe1-ee49f7a271a2 button.colab-df-convert');\n",
              "        buttonEl.style.display =\n",
              "          google.colab.kernel.accessAllowed ? 'block' : 'none';\n",
              "\n",
              "        async function convertToInteractive(key) {\n",
              "          const element = document.querySelector('#df-654fc76e-43f8-4086-afe1-ee49f7a271a2');\n",
              "          const dataTable =\n",
              "            await google.colab.kernel.invokeFunction('convertToInteractive',\n",
              "                                                     [key], {});\n",
              "          if (!dataTable) return;\n",
              "\n",
              "          const docLinkHtml = 'Like what you see? Visit the ' +\n",
              "            '<a target=\"_blank\" href=https://colab.research.google.com/notebooks/data_table.ipynb>data table notebook</a>'\n",
              "            + ' to learn more about interactive tables.';\n",
              "          element.innerHTML = '';\n",
              "          dataTable['output_type'] = 'display_data';\n",
              "          await google.colab.output.renderOutput(dataTable, element);\n",
              "          const docLink = document.createElement('div');\n",
              "          docLink.innerHTML = docLinkHtml;\n",
              "          element.appendChild(docLink);\n",
              "        }\n",
              "      </script>\n",
              "    </div>\n",
              "  </div>\n",
              "  "
            ]
          },
          "metadata": {},
          "execution_count": 81
        }
      ]
    },
    {
      "cell_type": "code",
      "source": [
        "from matplotlib import pyplot as plt\n",
        "\n",
        "plt.figure(figsize=(7,7))\n",
        "\n",
        "# scatter plot Frequency vs Recency\n",
        "\n",
        "colors = [\"red\", \"green\", \"blue\"]\n",
        "RFMScores['color'] = RFMScores['Cluster'].map(lambda p: colors[p])\n",
        "RFMScores.plot(kind = \"scatter\",\n",
        "               x = \"Recency\", y = \"Frequency\",\n",
        "               figsize = (10,8),\n",
        "               c = RFMScores['color'])"
      ],
      "metadata": {
        "id": "4vVK-l-BlqxM",
        "colab": {
          "base_uri": "https://localhost:8080/",
          "height": 731
        },
        "outputId": "83baaaa9-4ceb-4ef7-eb9f-a61ff0aff154"
      },
      "execution_count": 82,
      "outputs": [
        {
          "output_type": "execute_result",
          "data": {
            "text/plain": [
              "<Axes: xlabel='Recency', ylabel='Frequency'>"
            ]
          },
          "metadata": {},
          "execution_count": 82
        },
        {
          "output_type": "display_data",
          "data": {
            "text/plain": [
              "<Figure size 700x700 with 0 Axes>"
            ]
          },
          "metadata": {}
        },
        {
          "output_type": "display_data",
          "data": {
            "text/plain": [
              "<Figure size 1000x800 with 1 Axes>"
            ],
            "image/png": "[encoded data removed]"
          },
          "metadata": {}
        }
      ]
    },
    {
      "cell_type": "code",
      "source": [
        "RFMScores.head()"
      ],
      "metadata": {
        "id": "WQuJtMo4eg2G",
        "colab": {
          "base_uri": "https://localhost:8080/",
          "height": 237
        },
        "outputId": "4591fb7c-b294-469b-f533-bfec23ed48f9"
      },
      "execution_count": 83,
      "outputs": [
        {
          "output_type": "execute_result",
          "data": {
            "text/plain": [
              "            Recency  Frequency  Monetary  R  F  M RFMGroup  RFMScore  \\\n",
              "CustomerID                                                             \n",
              "12346.0         325          1  77183.60  4  4  1      441         9   \n",
              "12747.0           2        103   4196.01  1  1  1      111         3   \n",
              "12748.0           1       4596  33719.73  1  1  1      111         3   \n",
              "12749.0           3        199   4090.88  1  1  1      111         3   \n",
              "12820.0           3         59    942.34  1  2  2      122         5   \n",
              "\n",
              "           RFM_Loyalty_Level  Cluster  color  \n",
              "CustomerID                                    \n",
              "12346.0               Silver        2   blue  \n",
              "12747.0             Platinum        1  green  \n",
              "12748.0             Platinum        1  green  \n",
              "12749.0             Platinum        1  green  \n",
              "12820.0             Platinum        1  green  "
            ],
            "text/html": [
              "\n",
              "  <div id=\"df-d2fd6250-5856-42ed-984a-5b7550a6aa91\">\n",
              "    <div class=\"colab-df-container\">\n",
              "      <div>\n",
              "<style scoped>\n",
              "    .dataframe tbody tr th:only-of-type {\n",
              "        vertical-align: middle;\n",
              "    }\n",
              "\n",
              "    .dataframe tbody tr th {\n",
              "        vertical-align: top;\n",
              "    }\n",
              "\n",
              "    .dataframe thead th {\n",
              "        text-align: right;\n",
              "    }\n",
              "</style>\n",
              "<table border=\"1\" class=\"dataframe\">\n",
              "  <thead>\n",
              "    <tr style=\"text-align: right;\">\n",
              "      <th></th>\n",
              "      <th>Recency</th>\n",
              "      <th>Frequency</th>\n",
              "      <th>Monetary</th>\n",
              "      <th>R</th>\n",
              "      <th>F</th>\n",
              "      <th>M</th>\n",
              "      <th>RFMGroup</th>\n",
              "      <th>RFMScore</th>\n",
              "      <th>RFM_Loyalty_Level</th>\n",
              "      <th>Cluster</th>\n",
              "      <th>color</th>\n",
              "    </tr>\n",
              "    <tr>\n",
              "      <th>CustomerID</th>\n",
              "      <th></th>\n",
              "      <th></th>\n",
              "      <th></th>\n",
              "      <th></th>\n",
              "      <th></th>\n",
              "      <th></th>\n",
              "      <th></th>\n",
              "      <th></th>\n",
              "      <th></th>\n",
              "      <th></th>\n",
              "      <th></th>\n",
              "    </tr>\n",
              "  </thead>\n",
              "  <tbody>\n",
              "    <tr>\n",
              "      <th>12346.0</th>\n",
              "      <td>325</td>\n",
              "      <td>1</td>\n",
              "      <td>77183.60</td>\n",
              "      <td>4</td>\n",
              "      <td>4</td>\n",
              "      <td>1</td>\n",
              "      <td>441</td>\n",
              "      <td>9</td>\n",
              "      <td>Silver</td>\n",
              "      <td>2</td>\n",
              "      <td>blue</td>\n",
              "    </tr>\n",
              "    <tr>\n",
              "      <th>12747.0</th>\n",
              "      <td>2</td>\n",
              "      <td>103</td>\n",
              "      <td>4196.01</td>\n",
              "      <td>1</td>\n",
              "      <td>1</td>\n",
              "      <td>1</td>\n",
              "      <td>111</td>\n",
              "      <td>3</td>\n",
              "      <td>Platinum</td>\n",
              "      <td>1</td>\n",
              "      <td>green</td>\n",
              "    </tr>\n",
              "    <tr>\n",
              "      <th>12748.0</th>\n",
              "      <td>1</td>\n",
              "      <td>4596</td>\n",
              "      <td>33719.73</td>\n",
              "      <td>1</td>\n",
              "      <td>1</td>\n",
              "      <td>1</td>\n",
              "      <td>111</td>\n",
              "      <td>3</td>\n",
              "      <td>Platinum</td>\n",
              "      <td>1</td>\n",
              "      <td>green</td>\n",
              "    </tr>\n",
              "    <tr>\n",
              "      <th>12749.0</th>\n",
              "      <td>3</td>\n",
              "      <td>199</td>\n",
              "      <td>4090.88</td>\n",
              "      <td>1</td>\n",
              "      <td>1</td>\n",
              "      <td>1</td>\n",
              "      <td>111</td>\n",
              "      <td>3</td>\n",
              "      <td>Platinum</td>\n",
              "      <td>1</td>\n",
              "      <td>green</td>\n",
              "    </tr>\n",
              "    <tr>\n",
              "      <th>12820.0</th>\n",
              "      <td>3</td>\n",
              "      <td>59</td>\n",
              "      <td>942.34</td>\n",
              "      <td>1</td>\n",
              "      <td>2</td>\n",
              "      <td>2</td>\n",
              "      <td>122</td>\n",
              "      <td>5</td>\n",
              "      <td>Platinum</td>\n",
              "      <td>1</td>\n",
              "      <td>green</td>\n",
              "    </tr>\n",
              "  </tbody>\n",
              "</table>\n",
              "</div>\n",
              "      <button class=\"colab-df-convert\" onclick=\"convertToInteractive('df-d2fd6250-5856-42ed-984a-5b7550a6aa91')\"\n",
              "              title=\"Convert this dataframe to an interactive table.\"\n",
              "              style=\"display:none;\">\n",
              "        \n",
              "  <svg xmlns=\"http://www.w3.org/2000/svg\" height=\"24px\"viewBox=\"0 0 24 24\"\n",
              "       width=\"24px\">\n",
              "    <path d=\"M0 0h24v24H0V0z\" fill=\"none\"/>\n",
              "    <path d=\"M18.56 5.44l.94 2.06.94-2.06 2.06-.94-2.06-.94-.94-2.06-.94 2.06-2.06.94zm-11 1L8.5 8.5l.94-2.06 2.06-.94-2.06-.94L8.5 2.5l-.94 2.06-2.06.94zm10 10l.94 2.06.94-2.06 2.06-.94-2.06-.94-.94-2.06-.94 2.06-2.06.94z\"/><path d=\"M17.41 7.96l-1.37-1.37c-.4-.4-.92-.59-1.43-.59-.52 0-1.04.2-1.43.59L10.3 9.45l-7.72 7.72c-.78.78-.78 2.05 0 2.83L4 21.41c.39.39.9.59 1.41.59.51 0 1.02-.2 1.41-.59l7.78-7.78 2.81-2.81c.8-.78.8-2.07 0-2.86zM5.41 20L4 18.59l7.72-7.72 1.47 1.35L5.41 20z\"/>\n",
              "  </svg>\n",
              "      </button>\n",
              "      \n",
              "  <style>\n",
              "    .colab-df-container {\n",
              "      display:flex;\n",
              "      flex-wrap:wrap;\n",
              "      gap: 12px;\n",
              "    }\n",
              "\n",
              "    .colab-df-convert {\n",
              "      background-color: #E8F0FE;\n",
              "      border: none;\n",
              "      border-radius: 50%;\n",
              "      cursor: pointer;\n",
              "      display: none;\n",
              "      fill: #1967D2;\n",
              "      height: 32px;\n",
              "      padding: 0 0 0 0;\n",
              "      width: 32px;\n",
              "    }\n",
              "\n",
              "    .colab-df-convert:hover {\n",
              "      background-color: #E2EBFA;\n",
              "      box-shadow: 0px 1px 2px rgba(60, 64, 67, 0.3), 0px 1px 3px 1px rgba(60, 64, 67, 0.15);\n",
              "      fill: #174EA6;\n",
              "    }\n",
              "\n",
              "    [theme=dark] .colab-df-convert {\n",
              "      background-color: #3B4455;\n",
              "      fill: #D2E3FC;\n",
              "    }\n",
              "\n",
              "    [theme=dark] .colab-df-convert:hover {\n",
              "      background-color: #434B5C;\n",
              "      box-shadow: 0px 1px 3px 1px rgba(0, 0, 0, 0.15);\n",
              "      filter: drop-shadow(0px 1px 2px rgba(0, 0, 0, 0.3));\n",
              "      fill: #FFFFFF;\n",
              "    }\n",
              "  </style>\n",
              "\n",
              "      <script>\n",
              "        const buttonEl =\n",
              "          document.querySelector('#df-d2fd6250-5856-42ed-984a-5b7550a6aa91 button.colab-df-convert');\n",
              "        buttonEl.style.display =\n",
              "          google.colab.kernel.accessAllowed ? 'block' : 'none';\n",
              "\n",
              "        async function convertToInteractive(key) {\n",
              "          const element = document.querySelector('#df-d2fd6250-5856-42ed-984a-5b7550a6aa91');\n",
              "          const dataTable =\n",
              "            await google.colab.kernel.invokeFunction('convertToInteractive',\n",
              "                                                     [key], {});\n",
              "          if (!dataTable) return;\n",
              "\n",
              "          const docLinkHtml = 'Like what you see? Visit the ' +\n",
              "            '<a target=\"_blank\" href=https://colab.research.google.com/notebooks/data_table.ipynb>data table notebook</a>'\n",
              "            + ' to learn more about interactive tables.';\n",
              "          element.innerHTML = '';\n",
              "          dataTable['output_type'] = 'display_data';\n",
              "          await google.colab.output.renderOutput(dataTable, element);\n",
              "          const docLink = document.createElement('div');\n",
              "          docLink.innerHTML = docLinkHtml;\n",
              "          element.appendChild(docLink);\n",
              "        }\n",
              "      </script>\n",
              "    </div>\n",
              "  </div>\n",
              "  "
            ]
          },
          "metadata": {},
          "execution_count": 83
        }
      ]
    },
    {
      "cell_type": "code",
      "source": [],
      "metadata": {
        "id": "E9mTrD8VisTx"
      },
      "execution_count": null,
      "outputs": []
    },
    {
      "cell_type": "code",
      "source": [],
      "metadata": {
        "id": "Txh8pQrDisQT"
      },
      "execution_count": null,
      "outputs": []
    },
    {
      "cell_type": "code",
      "source": [],
      "metadata": {
        "id": "ySpBC0jMo--W"
      },
      "execution_count": 79,
      "outputs": []
    },
    {
      "cell_type": "code",
      "source": [],
      "metadata": {
        "id": "nVk5tBbCfPvQ"
      },
      "execution_count": null,
      "outputs": []
    },
    {
      "cell_type": "code",
      "source": [],
      "metadata": {
        "id": "vjKta2EcfPrq"
      },
      "execution_count": null,
      "outputs": []
    },
    {
      "cell_type": "code",
      "source": [],
      "metadata": {
        "id": "z_Bb64TsfPoL"
      },
      "execution_count": null,
      "outputs": []
    },
    {
      "cell_type": "code",
      "source": [],
      "metadata": {
        "id": "tdiDYqpUfPi6"
      },
      "execution_count": null,
      "outputs": []
    },
    {
      "cell_type": "code",
      "source": [],
      "metadata": {
        "id": "t9dZWT6qfPer"
      },
      "execution_count": null,
      "outputs": []
    }
  ]
}